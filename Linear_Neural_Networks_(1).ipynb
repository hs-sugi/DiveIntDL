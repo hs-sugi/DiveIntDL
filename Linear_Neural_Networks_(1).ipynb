{
  "nbformat": 4,
  "nbformat_minor": 0,
  "metadata": {
    "colab": {
      "name": "Linear Neural Networks (1).ipynb",
      "provenance": [],
      "collapsed_sections": []
    },
    "kernelspec": {
      "name": "python3",
      "display_name": "Python 3"
    },
    "language_info": {
      "name": "python"
    }
  },
  "cells": [
    {
      "cell_type": "markdown",
      "source": [
        "# 3.1. Linear Regression"
      ],
      "metadata": {
        "id": "vrMY4NyaaWrE"
      }
    },
    {
      "cell_type": "markdown",
      "source": [
        "### Vectorization for Speed"
      ],
      "metadata": {
        "id": "s8lGjVdWaYIK"
      }
    },
    {
      "cell_type": "code",
      "source": [
        "!pip install d2l"
      ],
      "metadata": {
        "id": "M8Fu_THecILY"
      },
      "execution_count": null,
      "outputs": []
    },
    {
      "cell_type": "code",
      "execution_count": 2,
      "metadata": {
        "id": "LzpU5U_EA587"
      },
      "outputs": [],
      "source": [
        "%matplotlib inline\n",
        "import math\n",
        "import time\n",
        "import numpy as np\n",
        "import torch\n",
        "from d2l import torch as d2l"
      ]
    },
    {
      "cell_type": "code",
      "source": [
        "n = 10000\n",
        "a = torch.ones(n)\n",
        "b = torch.ones(n)"
      ],
      "metadata": {
        "id": "1nV77I6xb9c1"
      },
      "execution_count": 3,
      "outputs": []
    },
    {
      "cell_type": "code",
      "source": [
        "class Timer: #@save\n",
        "    \"\"\"Record multiple running times.\"\"\"\n",
        "    def __init__(self):\n",
        "        self.times = []\n",
        "        self.start()\n",
        "\n",
        "    def start(self):\n",
        "        \"\"\"Start the timer.\"\"\"\n",
        "        self.tik = time.time()\n",
        "    \n",
        "    def stop(self):\n",
        "        \"\"\"Stop the timer and record the time in a list.\"\"\"\n",
        "        self.times.append(time.time() - self.tik)\n",
        "        return self.times[-1]\n",
        "\n",
        "    def avg(self):\n",
        "        \"\"\"Return the average time.\"\"\"\n",
        "        return sum(self.times) / len(self.times)\n",
        "\n",
        "    def sum(self):\n",
        "        \"\"\"Return the sum of time.\"\"\"\n",
        "        return sum(self.times)\n",
        "\n",
        "    def cumsum(self):\n",
        "        \"\"\"Return the accumulated time.\"\"\"\n",
        "        return np.array(self.times).cumsum().tolist()"
      ],
      "metadata": {
        "id": "ooJZOh0VdrcM"
      },
      "execution_count": 4,
      "outputs": []
    },
    {
      "cell_type": "code",
      "source": [
        "c = torch.zeros(n)\n",
        "timer = Timer()\n",
        "for i in range(n):\n",
        "    c[i] = a[i] + b[i]\n",
        "f'{timer.stop():.5f} sec'"
      ],
      "metadata": {
        "colab": {
          "base_uri": "https://localhost:8080/",
          "height": 35
        },
        "id": "36pDEBu1hs7O",
        "outputId": "091b248f-767f-4e1f-9b2b-6e19063fa6e0"
      },
      "execution_count": 5,
      "outputs": [
        {
          "output_type": "execute_result",
          "data": {
            "application/vnd.google.colaboratory.intrinsic+json": {
              "type": "string"
            },
            "text/plain": [
              "'0.10587 sec'"
            ]
          },
          "metadata": {},
          "execution_count": 5
        }
      ]
    },
    {
      "cell_type": "code",
      "source": [
        "timer.start()\n",
        "d = a + b\n",
        "f'{timer.stop():.5f} sec'"
      ],
      "metadata": {
        "colab": {
          "base_uri": "https://localhost:8080/",
          "height": 35
        },
        "id": "eFF0XGnliA3c",
        "outputId": "bba2a9fb-f621-438a-8c6f-6da0db5255a4"
      },
      "execution_count": 6,
      "outputs": [
        {
          "output_type": "execute_result",
          "data": {
            "application/vnd.google.colaboratory.intrinsic+json": {
              "type": "string"
            },
            "text/plain": [
              "'0.00050 sec'"
            ]
          },
          "metadata": {},
          "execution_count": 6
        }
      ]
    },
    {
      "cell_type": "code",
      "source": [
        ""
      ],
      "metadata": {
        "id": "vf75mkgEiNGG"
      },
      "execution_count": null,
      "outputs": []
    },
    {
      "cell_type": "markdown",
      "source": [
        "### The Normal Distribution and Squared Loss"
      ],
      "metadata": {
        "id": "KJk960X1iPYc"
      }
    },
    {
      "cell_type": "code",
      "source": [
        "# normal distribution function\n",
        "\n",
        "def normal(x, mu, sigma):\n",
        "    p = 1 / math.sqrt(2 * math.pi * sigma**2)\n",
        "    return p * np.exp(-0.5 / sigma**2 * (x - mu)**2)"
      ],
      "metadata": {
        "id": "2wga51k9iTmx"
      },
      "execution_count": 7,
      "outputs": []
    },
    {
      "cell_type": "code",
      "source": [
        "# Use numpy again for visiualization\n",
        "\n",
        "x = np.arange(-7, 7, 0.01)\n",
        "\n",
        "# Mean and standard deviation pairs\n",
        "\n",
        "params = [(0,1), (0,2), (3,1)]\n",
        "d2l.plot(x, [normal(x, mu, sigma) for mu, sigma in params], xlabel = 'x',\n",
        "         ylabel = 'p(x)', figsize = (4.5, 2.5),\n",
        "         legend = [f'mean {mu}, std {sigma}' for mu, sigma in params])"
      ],
      "metadata": {
        "colab": {
          "base_uri": "https://localhost:8080/",
          "height": 261
        },
        "id": "hFPV1y7QnaGw",
        "outputId": "1c203f9b-1887-453c-dbcf-b46d2dd91ca3"
      },
      "execution_count": 8,
      "outputs": [
        {
          "output_type": "display_data",
          "data": {
            "text/plain": [
              "<Figure size 324x180 with 1 Axes>"
            ],
            "image/svg+xml": "<?xml version=\"1.0\" encoding=\"utf-8\" standalone=\"no\"?>\n<!DOCTYPE svg PUBLIC \"-//W3C//DTD SVG 1.1//EN\"\n  \"http://www.w3.org/Graphics/SVG/1.1/DTD/svg11.dtd\">\n<!-- Created with matplotlib (https://matplotlib.org/) -->\n<svg height=\"180.65625pt\" version=\"1.1\" viewBox=\"0 0 302.08125 180.65625\" width=\"302.08125pt\" xmlns=\"http://www.w3.org/2000/svg\" xmlns:xlink=\"http://www.w3.org/1999/xlink\">\n <metadata>\n  <rdf:RDF xmlns:cc=\"http://creativecommons.org/ns#\" xmlns:dc=\"http://purl.org/dc/elements/1.1/\" xmlns:rdf=\"http://www.w3.org/1999/02/22-rdf-syntax-ns#\">\n   <cc:Work>\n    <dc:type rdf:resource=\"http://purl.org/dc/dcmitype/StillImage\"/>\n    <dc:date>2022-01-30T06:16:37.918972</dc:date>\n    <dc:format>image/svg+xml</dc:format>\n    <dc:creator>\n     <cc:Agent>\n      <dc:title>Matplotlib v3.3.3, https://matplotlib.org/</dc:title>\n     </cc:Agent>\n    </dc:creator>\n   </cc:Work>\n  </rdf:RDF>\n </metadata>\n <defs>\n  <style type=\"text/css\">*{stroke-linecap:butt;stroke-linejoin:round;}</style>\n </defs>\n <g id=\"figure_1\">\n  <g id=\"patch_1\">\n   <path d=\"M 0 180.65625 \nL 302.08125 180.65625 \nL 302.08125 0 \nL 0 0 \nz\n\" style=\"fill:none;\"/>\n  </g>\n  <g id=\"axes_1\">\n   <g id=\"patch_2\">\n    <path d=\"M 43.78125 143.1 \nL 294.88125 143.1 \nL 294.88125 7.2 \nL 43.78125 7.2 \nz\n\" style=\"fill:#ffffff;\"/>\n   </g>\n   <g id=\"matplotlib.axis_1\">\n    <g id=\"xtick_1\">\n     <g id=\"line2d_1\">\n      <path clip-path=\"url(#pfec00c1215)\" d=\"M 71.511736 143.1 \nL 71.511736 7.2 \n\" style=\"fill:none;stroke:#b0b0b0;stroke-linecap:square;stroke-width:0.8;\"/>\n     </g>\n     <g id=\"line2d_2\">\n      <defs>\n       <path d=\"M 0 0 \nL 0 3.5 \n\" id=\"m7bbcc475f3\" style=\"stroke:#000000;stroke-width:0.8;\"/>\n      </defs>\n      <g>\n       <use style=\"stroke:#000000;stroke-width:0.8;\" x=\"71.511736\" xlink:href=\"#m7bbcc475f3\" y=\"143.1\"/>\n      </g>\n     </g>\n     <g id=\"text_1\">\n      <!-- −6 -->\n      <g transform=\"translate(64.140642 157.698438)scale(0.1 -0.1)\">\n       <defs>\n        <path d=\"M 10.59375 35.5 \nL 73.1875 35.5 \nL 73.1875 27.203125 \nL 10.59375 27.203125 \nz\n\" id=\"DejaVuSans-8722\"/>\n        <path d=\"M 33.015625 40.375 \nQ 26.375 40.375 22.484375 35.828125 \nQ 18.609375 31.296875 18.609375 23.390625 \nQ 18.609375 15.53125 22.484375 10.953125 \nQ 26.375 6.390625 33.015625 6.390625 \nQ 39.65625 6.390625 43.53125 10.953125 \nQ 47.40625 15.53125 47.40625 23.390625 \nQ 47.40625 31.296875 43.53125 35.828125 \nQ 39.65625 40.375 33.015625 40.375 \nz\nM 52.59375 71.296875 \nL 52.59375 62.3125 \nQ 48.875 64.0625 45.09375 64.984375 \nQ 41.3125 65.921875 37.59375 65.921875 \nQ 27.828125 65.921875 22.671875 59.328125 \nQ 17.53125 52.734375 16.796875 39.40625 \nQ 19.671875 43.65625 24.015625 45.921875 \nQ 28.375 48.1875 33.59375 48.1875 \nQ 44.578125 48.1875 50.953125 41.515625 \nQ 57.328125 34.859375 57.328125 23.390625 \nQ 57.328125 12.15625 50.6875 5.359375 \nQ 44.046875 -1.421875 33.015625 -1.421875 \nQ 20.359375 -1.421875 13.671875 8.265625 \nQ 6.984375 17.96875 6.984375 36.375 \nQ 6.984375 53.65625 15.1875 63.9375 \nQ 23.390625 74.21875 37.203125 74.21875 \nQ 40.921875 74.21875 44.703125 73.484375 \nQ 48.484375 72.75 52.59375 71.296875 \nz\n\" id=\"DejaVuSans-54\"/>\n       </defs>\n       <use xlink:href=\"#DejaVuSans-8722\"/>\n       <use x=\"83.789062\" xlink:href=\"#DejaVuSans-54\"/>\n      </g>\n     </g>\n    </g>\n    <g id=\"xtick_2\">\n     <g id=\"line2d_3\">\n      <path clip-path=\"url(#pfec00c1215)\" d=\"M 104.145435 143.1 \nL 104.145435 7.2 \n\" style=\"fill:none;stroke:#b0b0b0;stroke-linecap:square;stroke-width:0.8;\"/>\n     </g>\n     <g id=\"line2d_4\">\n      <g>\n       <use style=\"stroke:#000000;stroke-width:0.8;\" x=\"104.145435\" xlink:href=\"#m7bbcc475f3\" y=\"143.1\"/>\n      </g>\n     </g>\n     <g id=\"text_2\">\n      <!-- −4 -->\n      <g transform=\"translate(96.774342 157.698438)scale(0.1 -0.1)\">\n       <defs>\n        <path d=\"M 37.796875 64.3125 \nL 12.890625 25.390625 \nL 37.796875 25.390625 \nz\nM 35.203125 72.90625 \nL 47.609375 72.90625 \nL 47.609375 25.390625 \nL 58.015625 25.390625 \nL 58.015625 17.1875 \nL 47.609375 17.1875 \nL 47.609375 0 \nL 37.796875 0 \nL 37.796875 17.1875 \nL 4.890625 17.1875 \nL 4.890625 26.703125 \nz\n\" id=\"DejaVuSans-52\"/>\n       </defs>\n       <use xlink:href=\"#DejaVuSans-8722\"/>\n       <use x=\"83.789062\" xlink:href=\"#DejaVuSans-52\"/>\n      </g>\n     </g>\n    </g>\n    <g id=\"xtick_3\">\n     <g id=\"line2d_5\">\n      <path clip-path=\"url(#pfec00c1215)\" d=\"M 136.779135 143.1 \nL 136.779135 7.2 \n\" style=\"fill:none;stroke:#b0b0b0;stroke-linecap:square;stroke-width:0.8;\"/>\n     </g>\n     <g id=\"line2d_6\">\n      <g>\n       <use style=\"stroke:#000000;stroke-width:0.8;\" x=\"136.779135\" xlink:href=\"#m7bbcc475f3\" y=\"143.1\"/>\n      </g>\n     </g>\n     <g id=\"text_3\">\n      <!-- −2 -->\n      <g transform=\"translate(129.408041 157.698438)scale(0.1 -0.1)\">\n       <defs>\n        <path d=\"M 19.1875 8.296875 \nL 53.609375 8.296875 \nL 53.609375 0 \nL 7.328125 0 \nL 7.328125 8.296875 \nQ 12.9375 14.109375 22.625 23.890625 \nQ 32.328125 33.6875 34.8125 36.53125 \nQ 39.546875 41.84375 41.421875 45.53125 \nQ 43.3125 49.21875 43.3125 52.78125 \nQ 43.3125 58.59375 39.234375 62.25 \nQ 35.15625 65.921875 28.609375 65.921875 \nQ 23.96875 65.921875 18.8125 64.3125 \nQ 13.671875 62.703125 7.8125 59.421875 \nL 7.8125 69.390625 \nQ 13.765625 71.78125 18.9375 73 \nQ 24.125 74.21875 28.421875 74.21875 \nQ 39.75 74.21875 46.484375 68.546875 \nQ 53.21875 62.890625 53.21875 53.421875 \nQ 53.21875 48.921875 51.53125 44.890625 \nQ 49.859375 40.875 45.40625 35.40625 \nQ 44.1875 33.984375 37.640625 27.21875 \nQ 31.109375 20.453125 19.1875 8.296875 \nz\n\" id=\"DejaVuSans-50\"/>\n       </defs>\n       <use xlink:href=\"#DejaVuSans-8722\"/>\n       <use x=\"83.789062\" xlink:href=\"#DejaVuSans-50\"/>\n      </g>\n     </g>\n    </g>\n    <g id=\"xtick_4\">\n     <g id=\"line2d_7\">\n      <path clip-path=\"url(#pfec00c1215)\" d=\"M 169.412834 143.1 \nL 169.412834 7.2 \n\" style=\"fill:none;stroke:#b0b0b0;stroke-linecap:square;stroke-width:0.8;\"/>\n     </g>\n     <g id=\"line2d_8\">\n      <g>\n       <use style=\"stroke:#000000;stroke-width:0.8;\" x=\"169.412834\" xlink:href=\"#m7bbcc475f3\" y=\"143.1\"/>\n      </g>\n     </g>\n     <g id=\"text_4\">\n      <!-- 0 -->\n      <g transform=\"translate(166.231584 157.698438)scale(0.1 -0.1)\">\n       <defs>\n        <path d=\"M 31.78125 66.40625 \nQ 24.171875 66.40625 20.328125 58.90625 \nQ 16.5 51.421875 16.5 36.375 \nQ 16.5 21.390625 20.328125 13.890625 \nQ 24.171875 6.390625 31.78125 6.390625 \nQ 39.453125 6.390625 43.28125 13.890625 \nQ 47.125 21.390625 47.125 36.375 \nQ 47.125 51.421875 43.28125 58.90625 \nQ 39.453125 66.40625 31.78125 66.40625 \nz\nM 31.78125 74.21875 \nQ 44.046875 74.21875 50.515625 64.515625 \nQ 56.984375 54.828125 56.984375 36.375 \nQ 56.984375 17.96875 50.515625 8.265625 \nQ 44.046875 -1.421875 31.78125 -1.421875 \nQ 19.53125 -1.421875 13.0625 8.265625 \nQ 6.59375 17.96875 6.59375 36.375 \nQ 6.59375 54.828125 13.0625 64.515625 \nQ 19.53125 74.21875 31.78125 74.21875 \nz\n\" id=\"DejaVuSans-48\"/>\n       </defs>\n       <use xlink:href=\"#DejaVuSans-48\"/>\n      </g>\n     </g>\n    </g>\n    <g id=\"xtick_5\">\n     <g id=\"line2d_9\">\n      <path clip-path=\"url(#pfec00c1215)\" d=\"M 202.046534 143.1 \nL 202.046534 7.2 \n\" style=\"fill:none;stroke:#b0b0b0;stroke-linecap:square;stroke-width:0.8;\"/>\n     </g>\n     <g id=\"line2d_10\">\n      <g>\n       <use style=\"stroke:#000000;stroke-width:0.8;\" x=\"202.046534\" xlink:href=\"#m7bbcc475f3\" y=\"143.1\"/>\n      </g>\n     </g>\n     <g id=\"text_5\">\n      <!-- 2 -->\n      <g transform=\"translate(198.865284 157.698438)scale(0.1 -0.1)\">\n       <use xlink:href=\"#DejaVuSans-50\"/>\n      </g>\n     </g>\n    </g>\n    <g id=\"xtick_6\">\n     <g id=\"line2d_11\">\n      <path clip-path=\"url(#pfec00c1215)\" d=\"M 234.680233 143.1 \nL 234.680233 7.2 \n\" style=\"fill:none;stroke:#b0b0b0;stroke-linecap:square;stroke-width:0.8;\"/>\n     </g>\n     <g id=\"line2d_12\">\n      <g>\n       <use style=\"stroke:#000000;stroke-width:0.8;\" x=\"234.680233\" xlink:href=\"#m7bbcc475f3\" y=\"143.1\"/>\n      </g>\n     </g>\n     <g id=\"text_6\">\n      <!-- 4 -->\n      <g transform=\"translate(231.498983 157.698438)scale(0.1 -0.1)\">\n       <use xlink:href=\"#DejaVuSans-52\"/>\n      </g>\n     </g>\n    </g>\n    <g id=\"xtick_7\">\n     <g id=\"line2d_13\">\n      <path clip-path=\"url(#pfec00c1215)\" d=\"M 267.313932 143.1 \nL 267.313932 7.2 \n\" style=\"fill:none;stroke:#b0b0b0;stroke-linecap:square;stroke-width:0.8;\"/>\n     </g>\n     <g id=\"line2d_14\">\n      <g>\n       <use style=\"stroke:#000000;stroke-width:0.8;\" x=\"267.313932\" xlink:href=\"#m7bbcc475f3\" y=\"143.1\"/>\n      </g>\n     </g>\n     <g id=\"text_7\">\n      <!-- 6 -->\n      <g transform=\"translate(264.132682 157.698438)scale(0.1 -0.1)\">\n       <use xlink:href=\"#DejaVuSans-54\"/>\n      </g>\n     </g>\n    </g>\n    <g id=\"text_8\">\n     <!-- x -->\n     <g transform=\"translate(166.371875 171.376563)scale(0.1 -0.1)\">\n      <defs>\n       <path d=\"M 54.890625 54.6875 \nL 35.109375 28.078125 \nL 55.90625 0 \nL 45.3125 0 \nL 29.390625 21.484375 \nL 13.484375 0 \nL 2.875 0 \nL 24.125 28.609375 \nL 4.6875 54.6875 \nL 15.28125 54.6875 \nL 29.78125 35.203125 \nL 44.28125 54.6875 \nz\n\" id=\"DejaVuSans-120\"/>\n      </defs>\n      <use xlink:href=\"#DejaVuSans-120\"/>\n     </g>\n    </g>\n   </g>\n   <g id=\"matplotlib.axis_2\">\n    <g id=\"ytick_1\">\n     <g id=\"line2d_15\">\n      <path clip-path=\"url(#pfec00c1215)\" d=\"M 43.78125 136.922727 \nL 294.88125 136.922727 \n\" style=\"fill:none;stroke:#b0b0b0;stroke-linecap:square;stroke-width:0.8;\"/>\n     </g>\n     <g id=\"line2d_16\">\n      <defs>\n       <path d=\"M 0 0 \nL -3.5 0 \n\" id=\"mfdb911bd3f\" style=\"stroke:#000000;stroke-width:0.8;\"/>\n      </defs>\n      <g>\n       <use style=\"stroke:#000000;stroke-width:0.8;\" x=\"43.78125\" xlink:href=\"#mfdb911bd3f\" y=\"136.922727\"/>\n      </g>\n     </g>\n     <g id=\"text_9\">\n      <!-- 0.0 -->\n      <g transform=\"translate(20.878125 140.721946)scale(0.1 -0.1)\">\n       <defs>\n        <path d=\"M 10.6875 12.40625 \nL 21 12.40625 \nL 21 0 \nL 10.6875 0 \nz\n\" id=\"DejaVuSans-46\"/>\n       </defs>\n       <use xlink:href=\"#DejaVuSans-48\"/>\n       <use x=\"63.623047\" xlink:href=\"#DejaVuSans-46\"/>\n       <use x=\"95.410156\" xlink:href=\"#DejaVuSans-48\"/>\n      </g>\n     </g>\n    </g>\n    <g id=\"ytick_2\">\n     <g id=\"line2d_17\">\n      <path clip-path=\"url(#pfec00c1215)\" d=\"M 43.78125 105.954474 \nL 294.88125 105.954474 \n\" style=\"fill:none;stroke:#b0b0b0;stroke-linecap:square;stroke-width:0.8;\"/>\n     </g>\n     <g id=\"line2d_18\">\n      <g>\n       <use style=\"stroke:#000000;stroke-width:0.8;\" x=\"43.78125\" xlink:href=\"#mfdb911bd3f\" y=\"105.954474\"/>\n      </g>\n     </g>\n     <g id=\"text_10\">\n      <!-- 0.1 -->\n      <g transform=\"translate(20.878125 109.753693)scale(0.1 -0.1)\">\n       <defs>\n        <path d=\"M 12.40625 8.296875 \nL 28.515625 8.296875 \nL 28.515625 63.921875 \nL 10.984375 60.40625 \nL 10.984375 69.390625 \nL 28.421875 72.90625 \nL 38.28125 72.90625 \nL 38.28125 8.296875 \nL 54.390625 8.296875 \nL 54.390625 0 \nL 12.40625 0 \nz\n\" id=\"DejaVuSans-49\"/>\n       </defs>\n       <use xlink:href=\"#DejaVuSans-48\"/>\n       <use x=\"63.623047\" xlink:href=\"#DejaVuSans-46\"/>\n       <use x=\"95.410156\" xlink:href=\"#DejaVuSans-49\"/>\n      </g>\n     </g>\n    </g>\n    <g id=\"ytick_3\">\n     <g id=\"line2d_19\">\n      <path clip-path=\"url(#pfec00c1215)\" d=\"M 43.78125 74.986221 \nL 294.88125 74.986221 \n\" style=\"fill:none;stroke:#b0b0b0;stroke-linecap:square;stroke-width:0.8;\"/>\n     </g>\n     <g id=\"line2d_20\">\n      <g>\n       <use style=\"stroke:#000000;stroke-width:0.8;\" x=\"43.78125\" xlink:href=\"#mfdb911bd3f\" y=\"74.986221\"/>\n      </g>\n     </g>\n     <g id=\"text_11\">\n      <!-- 0.2 -->\n      <g transform=\"translate(20.878125 78.78544)scale(0.1 -0.1)\">\n       <use xlink:href=\"#DejaVuSans-48\"/>\n       <use x=\"63.623047\" xlink:href=\"#DejaVuSans-46\"/>\n       <use x=\"95.410156\" xlink:href=\"#DejaVuSans-50\"/>\n      </g>\n     </g>\n    </g>\n    <g id=\"ytick_4\">\n     <g id=\"line2d_21\">\n      <path clip-path=\"url(#pfec00c1215)\" d=\"M 43.78125 44.017968 \nL 294.88125 44.017968 \n\" style=\"fill:none;stroke:#b0b0b0;stroke-linecap:square;stroke-width:0.8;\"/>\n     </g>\n     <g id=\"line2d_22\">\n      <g>\n       <use style=\"stroke:#000000;stroke-width:0.8;\" x=\"43.78125\" xlink:href=\"#mfdb911bd3f\" y=\"44.017968\"/>\n      </g>\n     </g>\n     <g id=\"text_12\">\n      <!-- 0.3 -->\n      <g transform=\"translate(20.878125 47.817187)scale(0.1 -0.1)\">\n       <defs>\n        <path d=\"M 40.578125 39.3125 \nQ 47.65625 37.796875 51.625 33 \nQ 55.609375 28.21875 55.609375 21.1875 \nQ 55.609375 10.40625 48.1875 4.484375 \nQ 40.765625 -1.421875 27.09375 -1.421875 \nQ 22.515625 -1.421875 17.65625 -0.515625 \nQ 12.796875 0.390625 7.625 2.203125 \nL 7.625 11.71875 \nQ 11.71875 9.328125 16.59375 8.109375 \nQ 21.484375 6.890625 26.8125 6.890625 \nQ 36.078125 6.890625 40.9375 10.546875 \nQ 45.796875 14.203125 45.796875 21.1875 \nQ 45.796875 27.640625 41.28125 31.265625 \nQ 36.765625 34.90625 28.71875 34.90625 \nL 20.21875 34.90625 \nL 20.21875 43.015625 \nL 29.109375 43.015625 \nQ 36.375 43.015625 40.234375 45.921875 \nQ 44.09375 48.828125 44.09375 54.296875 \nQ 44.09375 59.90625 40.109375 62.90625 \nQ 36.140625 65.921875 28.71875 65.921875 \nQ 24.65625 65.921875 20.015625 65.03125 \nQ 15.375 64.15625 9.8125 62.3125 \nL 9.8125 71.09375 \nQ 15.4375 72.65625 20.34375 73.4375 \nQ 25.25 74.21875 29.59375 74.21875 \nQ 40.828125 74.21875 47.359375 69.109375 \nQ 53.90625 64.015625 53.90625 55.328125 \nQ 53.90625 49.265625 50.4375 45.09375 \nQ 46.96875 40.921875 40.578125 39.3125 \nz\n\" id=\"DejaVuSans-51\"/>\n       </defs>\n       <use xlink:href=\"#DejaVuSans-48\"/>\n       <use x=\"63.623047\" xlink:href=\"#DejaVuSans-46\"/>\n       <use x=\"95.410156\" xlink:href=\"#DejaVuSans-51\"/>\n      </g>\n     </g>\n    </g>\n    <g id=\"ytick_5\">\n     <g id=\"line2d_23\">\n      <path clip-path=\"url(#pfec00c1215)\" d=\"M 43.78125 13.049715 \nL 294.88125 13.049715 \n\" style=\"fill:none;stroke:#b0b0b0;stroke-linecap:square;stroke-width:0.8;\"/>\n     </g>\n     <g id=\"line2d_24\">\n      <g>\n       <use style=\"stroke:#000000;stroke-width:0.8;\" x=\"43.78125\" xlink:href=\"#mfdb911bd3f\" y=\"13.049715\"/>\n      </g>\n     </g>\n     <g id=\"text_13\">\n      <!-- 0.4 -->\n      <g transform=\"translate(20.878125 16.848934)scale(0.1 -0.1)\">\n       <use xlink:href=\"#DejaVuSans-48\"/>\n       <use x=\"63.623047\" xlink:href=\"#DejaVuSans-46\"/>\n       <use x=\"95.410156\" xlink:href=\"#DejaVuSans-52\"/>\n      </g>\n     </g>\n    </g>\n    <g id=\"text_14\">\n     <!-- p(x) -->\n     <g transform=\"translate(14.798438 85.185156)rotate(-90)scale(0.1 -0.1)\">\n      <defs>\n       <path d=\"M 18.109375 8.203125 \nL 18.109375 -20.796875 \nL 9.078125 -20.796875 \nL 9.078125 54.6875 \nL 18.109375 54.6875 \nL 18.109375 46.390625 \nQ 20.953125 51.265625 25.265625 53.625 \nQ 29.59375 56 35.59375 56 \nQ 45.5625 56 51.78125 48.09375 \nQ 58.015625 40.1875 58.015625 27.296875 \nQ 58.015625 14.40625 51.78125 6.484375 \nQ 45.5625 -1.421875 35.59375 -1.421875 \nQ 29.59375 -1.421875 25.265625 0.953125 \nQ 20.953125 3.328125 18.109375 8.203125 \nz\nM 48.6875 27.296875 \nQ 48.6875 37.203125 44.609375 42.84375 \nQ 40.53125 48.484375 33.40625 48.484375 \nQ 26.265625 48.484375 22.1875 42.84375 \nQ 18.109375 37.203125 18.109375 27.296875 \nQ 18.109375 17.390625 22.1875 11.75 \nQ 26.265625 6.109375 33.40625 6.109375 \nQ 40.53125 6.109375 44.609375 11.75 \nQ 48.6875 17.390625 48.6875 27.296875 \nz\n\" id=\"DejaVuSans-112\"/>\n       <path d=\"M 31 75.875 \nQ 24.46875 64.65625 21.28125 53.65625 \nQ 18.109375 42.671875 18.109375 31.390625 \nQ 18.109375 20.125 21.3125 9.0625 \nQ 24.515625 -2 31 -13.1875 \nL 23.1875 -13.1875 \nQ 15.875 -1.703125 12.234375 9.375 \nQ 8.59375 20.453125 8.59375 31.390625 \nQ 8.59375 42.28125 12.203125 53.3125 \nQ 15.828125 64.359375 23.1875 75.875 \nz\n\" id=\"DejaVuSans-40\"/>\n       <path d=\"M 8.015625 75.875 \nL 15.828125 75.875 \nQ 23.140625 64.359375 26.78125 53.3125 \nQ 30.421875 42.28125 30.421875 31.390625 \nQ 30.421875 20.453125 26.78125 9.375 \nQ 23.140625 -1.703125 15.828125 -13.1875 \nL 8.015625 -13.1875 \nQ 14.5 -2 17.703125 9.0625 \nQ 20.90625 20.125 20.90625 31.390625 \nQ 20.90625 42.671875 17.703125 53.65625 \nQ 14.5 64.65625 8.015625 75.875 \nz\n\" id=\"DejaVuSans-41\"/>\n      </defs>\n      <use xlink:href=\"#DejaVuSans-112\"/>\n      <use x=\"63.476562\" xlink:href=\"#DejaVuSans-40\"/>\n      <use x=\"102.490234\" xlink:href=\"#DejaVuSans-120\"/>\n      <use x=\"161.669922\" xlink:href=\"#DejaVuSans-41\"/>\n     </g>\n    </g>\n   </g>\n   <g id=\"line2d_25\">\n    <path clip-path=\"url(#pfec00c1215)\" d=\"M 55.194886 136.922727 \nL 108.224648 136.813535 \nL 113.609208 136.566288 \nL 117.198915 136.184417 \nL 119.97278 135.668952 \nL 122.257139 135.025186 \nL 124.215161 134.257847 \nL 126.010014 133.330368 \nL 127.804868 132.138334 \nL 129.436552 130.779445 \nL 131.068237 129.113085 \nL 132.699922 127.093512 \nL 134.331607 124.67477 \nL 135.963292 121.812692 \nL 137.594977 118.467288 \nL 139.226662 114.605495 \nL 141.021516 109.733818 \nL 142.816369 104.197078 \nL 144.774391 97.412516 \nL 146.895582 89.247632 \nL 149.506278 78.224523 \nL 153.259153 61.239305 \nL 157.501534 42.275258 \nL 159.785893 33.113056 \nL 161.580746 26.820515 \nL 163.049263 22.424523 \nL 164.354611 19.173268 \nL 165.49679 16.884633 \nL 166.475801 15.362585 \nL 167.454812 14.263605 \nL 168.270655 13.679589 \nL 169.086497 13.401979 \nL 169.739171 13.401979 \nL 170.391845 13.599455 \nL 171.207688 14.122466 \nL 172.02353 14.948577 \nL 173.002541 16.331186 \nL 173.981552 18.12656 \nL 175.123732 20.717347 \nL 176.42908 24.286979 \nL 177.897596 29.000684 \nL 179.69245 35.615359 \nL 181.81364 44.367165 \nL 184.913841 58.245076 \nL 190.46157 83.161144 \nL 192.909098 93.115047 \nL 195.030288 100.899673 \nL 196.98831 107.299489 \nL 198.783164 112.473243 \nL 200.578017 116.986089 \nL 202.209702 120.534567 \nL 203.841387 123.5855 \nL 205.473072 126.176453 \nL 207.104757 128.35023 \nL 208.736442 130.152334 \nL 210.368127 131.628806 \nL 211.999812 132.824481 \nL 213.794665 133.865803 \nL 215.752687 134.73293 \nL 217.873878 135.421686 \nL 220.321405 135.97206 \nL 223.258438 136.389278 \nL 227.011314 136.67952 \nL 232.395874 136.850878 \nL 243.001826 136.917995 \nL 283.467614 136.922727 \nL 283.467614 136.922727 \n\" style=\"fill:none;stroke:#1f77b4;stroke-linecap:square;stroke-width:1.5;\"/>\n   </g>\n   <g id=\"line2d_26\">\n    <path clip-path=\"url(#pfec00c1215)\" d=\"M 55.194886 136.7876 \nL 65.800839 136.522951 \nL 73.143421 136.126434 \nL 79.017487 135.590287 \nL 83.912542 134.926494 \nL 88.318091 134.105229 \nL 92.234135 133.153577 \nL 95.823842 132.06316 \nL 99.250381 130.798749 \nL 102.51375 129.367709 \nL 105.77712 127.695008 \nL 109.04049 125.764111 \nL 112.30386 123.563438 \nL 115.56723 121.087897 \nL 118.993769 118.196043 \nL 122.583476 114.860886 \nL 126.49952 110.903144 \nL 131.068237 105.948686 \nL 138.247651 97.770807 \nL 144.611223 90.644946 \nL 148.527267 86.589675 \nL 151.790637 83.530672 \nL 154.564501 81.224436 \nL 157.175197 79.344214 \nL 159.459556 77.957408 \nL 161.743915 76.832365 \nL 163.865105 76.036198 \nL 165.823127 75.522597 \nL 167.781149 75.227168 \nL 169.739171 75.153089 \nL 171.697193 75.301158 \nL 173.655215 75.66978 \nL 175.613237 76.254995 \nL 177.734428 77.126088 \nL 179.855618 78.233161 \nL 182.139977 79.673625 \nL 184.587504 81.48006 \nL 187.361369 83.820867 \nL 190.46157 86.751111 \nL 194.051277 90.469337 \nL 198.783164 95.721751 \nL 211.673475 110.215093 \nL 215.752687 114.383393 \nL 219.505563 117.90542 \nL 222.932101 120.82526 \nL 226.195471 123.328273 \nL 229.458841 125.556324 \nL 232.722211 127.513772 \nL 235.985581 129.211619 \nL 239.248951 130.665971 \nL 242.675489 131.95258 \nL 246.265196 133.063568 \nL 250.18124 134.034481 \nL 254.423621 134.846714 \nL 259.155508 135.514669 \nL 264.540068 136.040363 \nL 270.903639 136.432354 \nL 279.225233 136.707949 \nL 283.467614 136.785216 \nL 283.467614 136.785216 \n\" style=\"fill:none;stroke:#bf00bf;stroke-dasharray:5.55,2.4;stroke-dashoffset:0;stroke-width:1.5;\"/>\n   </g>\n   <g id=\"line2d_27\">\n    <path clip-path=\"url(#pfec00c1215)\" d=\"M 55.194886 136.922727 \nL 157.175197 136.813535 \nL 162.559757 136.566288 \nL 166.149464 136.184417 \nL 168.923329 135.668952 \nL 171.207688 135.025186 \nL 173.16571 134.257847 \nL 174.960563 133.330368 \nL 176.755417 132.138334 \nL 178.387102 130.779445 \nL 180.018787 129.113085 \nL 181.650472 127.093512 \nL 183.282156 124.67477 \nL 184.913841 121.812692 \nL 186.545526 118.467288 \nL 188.177211 114.605495 \nL 189.972065 109.733818 \nL 191.766918 104.197078 \nL 193.72494 97.412516 \nL 195.846131 89.247632 \nL 198.456827 78.224523 \nL 202.209702 61.239305 \nL 206.452083 42.275258 \nL 208.736442 33.113056 \nL 210.531295 26.820515 \nL 211.999812 22.424523 \nL 213.30516 19.173268 \nL 214.447339 16.884633 \nL 215.42635 15.362585 \nL 216.405361 14.263605 \nL 217.221204 13.679589 \nL 218.037046 13.401979 \nL 218.68972 13.401979 \nL 219.342394 13.599455 \nL 220.158237 14.122466 \nL 220.974079 14.948577 \nL 221.95309 16.331186 \nL 222.932101 18.12656 \nL 224.074281 20.717347 \nL 225.379629 24.286979 \nL 226.848145 29.000684 \nL 228.642999 35.615359 \nL 230.764189 44.367165 \nL 233.864391 58.245076 \nL 239.412119 83.161144 \nL 241.859647 93.115047 \nL 243.980837 100.899673 \nL 245.938859 107.299489 \nL 247.733713 112.473243 \nL 249.528566 116.986089 \nL 251.160251 120.534567 \nL 252.791936 123.5855 \nL 254.423621 126.176453 \nL 256.055306 128.35023 \nL 257.686991 130.152334 \nL 259.318676 131.628806 \nL 260.950361 132.824481 \nL 262.745215 133.865803 \nL 264.703236 134.73293 \nL 266.824427 135.421686 \nL 269.271954 135.97206 \nL 272.208987 136.389278 \nL 275.961863 136.67952 \nL 281.346423 136.850878 \nL 283.467614 136.879593 \nL 283.467614 136.879593 \n\" style=\"fill:none;stroke:#008000;stroke-dasharray:9.6,2.4,1.5,2.4;stroke-dashoffset:0;stroke-width:1.5;\"/>\n   </g>\n   <g id=\"patch_3\">\n    <path d=\"M 43.78125 143.1 \nL 43.78125 7.2 \n\" style=\"fill:none;stroke:#000000;stroke-linecap:square;stroke-linejoin:miter;stroke-width:0.8;\"/>\n   </g>\n   <g id=\"patch_4\">\n    <path d=\"M 294.88125 143.1 \nL 294.88125 7.2 \n\" style=\"fill:none;stroke:#000000;stroke-linecap:square;stroke-linejoin:miter;stroke-width:0.8;\"/>\n   </g>\n   <g id=\"patch_5\">\n    <path d=\"M 43.78125 143.1 \nL 294.88125 143.1 \n\" style=\"fill:none;stroke:#000000;stroke-linecap:square;stroke-linejoin:miter;stroke-width:0.8;\"/>\n   </g>\n   <g id=\"patch_6\">\n    <path d=\"M 43.78125 7.2 \nL 294.88125 7.2 \n\" style=\"fill:none;stroke:#000000;stroke-linecap:square;stroke-linejoin:miter;stroke-width:0.8;\"/>\n   </g>\n   <g id=\"legend_1\">\n    <g id=\"patch_7\">\n     <path d=\"M 50.78125 59.234375 \nL 152.05625 59.234375 \nQ 154.05625 59.234375 154.05625 57.234375 \nL 154.05625 14.2 \nQ 154.05625 12.2 152.05625 12.2 \nL 50.78125 12.2 \nQ 48.78125 12.2 48.78125 14.2 \nL 48.78125 57.234375 \nQ 48.78125 59.234375 50.78125 59.234375 \nz\n\" style=\"fill:#ffffff;opacity:0.8;stroke:#cccccc;stroke-linejoin:miter;\"/>\n    </g>\n    <g id=\"line2d_28\">\n     <path d=\"M 52.78125 20.298438 \nL 72.78125 20.298438 \n\" style=\"fill:none;stroke:#1f77b4;stroke-linecap:square;stroke-width:1.5;\"/>\n    </g>\n    <g id=\"line2d_29\"/>\n    <g id=\"text_15\">\n     <!-- mean 0, std 1 -->\n     <g transform=\"translate(80.78125 23.798438)scale(0.1 -0.1)\">\n      <defs>\n       <path d=\"M 52 44.1875 \nQ 55.375 50.25 60.0625 53.125 \nQ 64.75 56 71.09375 56 \nQ 79.640625 56 84.28125 50.015625 \nQ 88.921875 44.046875 88.921875 33.015625 \nL 88.921875 0 \nL 79.890625 0 \nL 79.890625 32.71875 \nQ 79.890625 40.578125 77.09375 44.375 \nQ 74.3125 48.1875 68.609375 48.1875 \nQ 61.625 48.1875 57.5625 43.546875 \nQ 53.515625 38.921875 53.515625 30.90625 \nL 53.515625 0 \nL 44.484375 0 \nL 44.484375 32.71875 \nQ 44.484375 40.625 41.703125 44.40625 \nQ 38.921875 48.1875 33.109375 48.1875 \nQ 26.21875 48.1875 22.15625 43.53125 \nQ 18.109375 38.875 18.109375 30.90625 \nL 18.109375 0 \nL 9.078125 0 \nL 9.078125 54.6875 \nL 18.109375 54.6875 \nL 18.109375 46.1875 \nQ 21.1875 51.21875 25.484375 53.609375 \nQ 29.78125 56 35.6875 56 \nQ 41.65625 56 45.828125 52.96875 \nQ 50 49.953125 52 44.1875 \nz\n\" id=\"DejaVuSans-109\"/>\n       <path d=\"M 56.203125 29.59375 \nL 56.203125 25.203125 \nL 14.890625 25.203125 \nQ 15.484375 15.921875 20.484375 11.0625 \nQ 25.484375 6.203125 34.421875 6.203125 \nQ 39.59375 6.203125 44.453125 7.46875 \nQ 49.3125 8.734375 54.109375 11.28125 \nL 54.109375 2.78125 \nQ 49.265625 0.734375 44.1875 -0.34375 \nQ 39.109375 -1.421875 33.890625 -1.421875 \nQ 20.796875 -1.421875 13.15625 6.1875 \nQ 5.515625 13.8125 5.515625 26.8125 \nQ 5.515625 40.234375 12.765625 48.109375 \nQ 20.015625 56 32.328125 56 \nQ 43.359375 56 49.78125 48.890625 \nQ 56.203125 41.796875 56.203125 29.59375 \nz\nM 47.21875 32.234375 \nQ 47.125 39.59375 43.09375 43.984375 \nQ 39.0625 48.390625 32.421875 48.390625 \nQ 24.90625 48.390625 20.390625 44.140625 \nQ 15.875 39.890625 15.1875 32.171875 \nz\n\" id=\"DejaVuSans-101\"/>\n       <path d=\"M 34.28125 27.484375 \nQ 23.390625 27.484375 19.1875 25 \nQ 14.984375 22.515625 14.984375 16.5 \nQ 14.984375 11.71875 18.140625 8.90625 \nQ 21.296875 6.109375 26.703125 6.109375 \nQ 34.1875 6.109375 38.703125 11.40625 \nQ 43.21875 16.703125 43.21875 25.484375 \nL 43.21875 27.484375 \nz\nM 52.203125 31.203125 \nL 52.203125 0 \nL 43.21875 0 \nL 43.21875 8.296875 \nQ 40.140625 3.328125 35.546875 0.953125 \nQ 30.953125 -1.421875 24.3125 -1.421875 \nQ 15.921875 -1.421875 10.953125 3.296875 \nQ 6 8.015625 6 15.921875 \nQ 6 25.140625 12.171875 29.828125 \nQ 18.359375 34.515625 30.609375 34.515625 \nL 43.21875 34.515625 \nL 43.21875 35.40625 \nQ 43.21875 41.609375 39.140625 45 \nQ 35.0625 48.390625 27.6875 48.390625 \nQ 23 48.390625 18.546875 47.265625 \nQ 14.109375 46.140625 10.015625 43.890625 \nL 10.015625 52.203125 \nQ 14.9375 54.109375 19.578125 55.046875 \nQ 24.21875 56 28.609375 56 \nQ 40.484375 56 46.34375 49.84375 \nQ 52.203125 43.703125 52.203125 31.203125 \nz\n\" id=\"DejaVuSans-97\"/>\n       <path d=\"M 54.890625 33.015625 \nL 54.890625 0 \nL 45.90625 0 \nL 45.90625 32.71875 \nQ 45.90625 40.484375 42.875 44.328125 \nQ 39.84375 48.1875 33.796875 48.1875 \nQ 26.515625 48.1875 22.3125 43.546875 \nQ 18.109375 38.921875 18.109375 30.90625 \nL 18.109375 0 \nL 9.078125 0 \nL 9.078125 54.6875 \nL 18.109375 54.6875 \nL 18.109375 46.1875 \nQ 21.34375 51.125 25.703125 53.5625 \nQ 30.078125 56 35.796875 56 \nQ 45.21875 56 50.046875 50.171875 \nQ 54.890625 44.34375 54.890625 33.015625 \nz\n\" id=\"DejaVuSans-110\"/>\n       <path id=\"DejaVuSans-32\"/>\n       <path d=\"M 11.71875 12.40625 \nL 22.015625 12.40625 \nL 22.015625 4 \nL 14.015625 -11.625 \nL 7.71875 -11.625 \nL 11.71875 4 \nz\n\" id=\"DejaVuSans-44\"/>\n       <path d=\"M 44.28125 53.078125 \nL 44.28125 44.578125 \nQ 40.484375 46.53125 36.375 47.5 \nQ 32.28125 48.484375 27.875 48.484375 \nQ 21.1875 48.484375 17.84375 46.4375 \nQ 14.5 44.390625 14.5 40.28125 \nQ 14.5 37.15625 16.890625 35.375 \nQ 19.28125 33.59375 26.515625 31.984375 \nL 29.59375 31.296875 \nQ 39.15625 29.25 43.1875 25.515625 \nQ 47.21875 21.78125 47.21875 15.09375 \nQ 47.21875 7.46875 41.1875 3.015625 \nQ 35.15625 -1.421875 24.609375 -1.421875 \nQ 20.21875 -1.421875 15.453125 -0.5625 \nQ 10.6875 0.296875 5.421875 2 \nL 5.421875 11.28125 \nQ 10.40625 8.6875 15.234375 7.390625 \nQ 20.0625 6.109375 24.8125 6.109375 \nQ 31.15625 6.109375 34.5625 8.28125 \nQ 37.984375 10.453125 37.984375 14.40625 \nQ 37.984375 18.0625 35.515625 20.015625 \nQ 33.0625 21.96875 24.703125 23.78125 \nL 21.578125 24.515625 \nQ 13.234375 26.265625 9.515625 29.90625 \nQ 5.8125 33.546875 5.8125 39.890625 \nQ 5.8125 47.609375 11.28125 51.796875 \nQ 16.75 56 26.8125 56 \nQ 31.78125 56 36.171875 55.265625 \nQ 40.578125 54.546875 44.28125 53.078125 \nz\n\" id=\"DejaVuSans-115\"/>\n       <path d=\"M 18.3125 70.21875 \nL 18.3125 54.6875 \nL 36.8125 54.6875 \nL 36.8125 47.703125 \nL 18.3125 47.703125 \nL 18.3125 18.015625 \nQ 18.3125 11.328125 20.140625 9.421875 \nQ 21.96875 7.515625 27.59375 7.515625 \nL 36.8125 7.515625 \nL 36.8125 0 \nL 27.59375 0 \nQ 17.1875 0 13.234375 3.875 \nQ 9.28125 7.765625 9.28125 18.015625 \nL 9.28125 47.703125 \nL 2.6875 47.703125 \nL 2.6875 54.6875 \nL 9.28125 54.6875 \nL 9.28125 70.21875 \nz\n\" id=\"DejaVuSans-116\"/>\n       <path d=\"M 45.40625 46.390625 \nL 45.40625 75.984375 \nL 54.390625 75.984375 \nL 54.390625 0 \nL 45.40625 0 \nL 45.40625 8.203125 \nQ 42.578125 3.328125 38.25 0.953125 \nQ 33.9375 -1.421875 27.875 -1.421875 \nQ 17.96875 -1.421875 11.734375 6.484375 \nQ 5.515625 14.40625 5.515625 27.296875 \nQ 5.515625 40.1875 11.734375 48.09375 \nQ 17.96875 56 27.875 56 \nQ 33.9375 56 38.25 53.625 \nQ 42.578125 51.265625 45.40625 46.390625 \nz\nM 14.796875 27.296875 \nQ 14.796875 17.390625 18.875 11.75 \nQ 22.953125 6.109375 30.078125 6.109375 \nQ 37.203125 6.109375 41.296875 11.75 \nQ 45.40625 17.390625 45.40625 27.296875 \nQ 45.40625 37.203125 41.296875 42.84375 \nQ 37.203125 48.484375 30.078125 48.484375 \nQ 22.953125 48.484375 18.875 42.84375 \nQ 14.796875 37.203125 14.796875 27.296875 \nz\n\" id=\"DejaVuSans-100\"/>\n      </defs>\n      <use xlink:href=\"#DejaVuSans-109\"/>\n      <use x=\"97.412109\" xlink:href=\"#DejaVuSans-101\"/>\n      <use x=\"158.935547\" xlink:href=\"#DejaVuSans-97\"/>\n      <use x=\"220.214844\" xlink:href=\"#DejaVuSans-110\"/>\n      <use x=\"283.59375\" xlink:href=\"#DejaVuSans-32\"/>\n      <use x=\"315.380859\" xlink:href=\"#DejaVuSans-48\"/>\n      <use x=\"379.003906\" xlink:href=\"#DejaVuSans-44\"/>\n      <use x=\"410.791016\" xlink:href=\"#DejaVuSans-32\"/>\n      <use x=\"442.578125\" xlink:href=\"#DejaVuSans-115\"/>\n      <use x=\"494.677734\" xlink:href=\"#DejaVuSans-116\"/>\n      <use x=\"533.886719\" xlink:href=\"#DejaVuSans-100\"/>\n      <use x=\"597.363281\" xlink:href=\"#DejaVuSans-32\"/>\n      <use x=\"629.150391\" xlink:href=\"#DejaVuSans-49\"/>\n     </g>\n    </g>\n    <g id=\"line2d_30\">\n     <path d=\"M 52.78125 34.976562 \nL 72.78125 34.976562 \n\" style=\"fill:none;stroke:#bf00bf;stroke-dasharray:5.55,2.4;stroke-dashoffset:0;stroke-width:1.5;\"/>\n    </g>\n    <g id=\"line2d_31\"/>\n    <g id=\"text_16\">\n     <!-- mean 0, std 2 -->\n     <g transform=\"translate(80.78125 38.476562)scale(0.1 -0.1)\">\n      <use xlink:href=\"#DejaVuSans-109\"/>\n      <use x=\"97.412109\" xlink:href=\"#DejaVuSans-101\"/>\n      <use x=\"158.935547\" xlink:href=\"#DejaVuSans-97\"/>\n      <use x=\"220.214844\" xlink:href=\"#DejaVuSans-110\"/>\n      <use x=\"283.59375\" xlink:href=\"#DejaVuSans-32\"/>\n      <use x=\"315.380859\" xlink:href=\"#DejaVuSans-48\"/>\n      <use x=\"379.003906\" xlink:href=\"#DejaVuSans-44\"/>\n      <use x=\"410.791016\" xlink:href=\"#DejaVuSans-32\"/>\n      <use x=\"442.578125\" xlink:href=\"#DejaVuSans-115\"/>\n      <use x=\"494.677734\" xlink:href=\"#DejaVuSans-116\"/>\n      <use x=\"533.886719\" xlink:href=\"#DejaVuSans-100\"/>\n      <use x=\"597.363281\" xlink:href=\"#DejaVuSans-32\"/>\n      <use x=\"629.150391\" xlink:href=\"#DejaVuSans-50\"/>\n     </g>\n    </g>\n    <g id=\"line2d_32\">\n     <path d=\"M 52.78125 49.654688 \nL 72.78125 49.654688 \n\" style=\"fill:none;stroke:#008000;stroke-dasharray:9.6,2.4,1.5,2.4;stroke-dashoffset:0;stroke-width:1.5;\"/>\n    </g>\n    <g id=\"line2d_33\"/>\n    <g id=\"text_17\">\n     <!-- mean 3, std 1 -->\n     <g transform=\"translate(80.78125 53.154688)scale(0.1 -0.1)\">\n      <use xlink:href=\"#DejaVuSans-109\"/>\n      <use x=\"97.412109\" xlink:href=\"#DejaVuSans-101\"/>\n      <use x=\"158.935547\" xlink:href=\"#DejaVuSans-97\"/>\n      <use x=\"220.214844\" xlink:href=\"#DejaVuSans-110\"/>\n      <use x=\"283.59375\" xlink:href=\"#DejaVuSans-32\"/>\n      <use x=\"315.380859\" xlink:href=\"#DejaVuSans-51\"/>\n      <use x=\"379.003906\" xlink:href=\"#DejaVuSans-44\"/>\n      <use x=\"410.791016\" xlink:href=\"#DejaVuSans-32\"/>\n      <use x=\"442.578125\" xlink:href=\"#DejaVuSans-115\"/>\n      <use x=\"494.677734\" xlink:href=\"#DejaVuSans-116\"/>\n      <use x=\"533.886719\" xlink:href=\"#DejaVuSans-100\"/>\n      <use x=\"597.363281\" xlink:href=\"#DejaVuSans-32\"/>\n      <use x=\"629.150391\" xlink:href=\"#DejaVuSans-49\"/>\n     </g>\n    </g>\n   </g>\n  </g>\n </g>\n <defs>\n  <clipPath id=\"pfec00c1215\">\n   <rect height=\"135.9\" width=\"251.1\" x=\"43.78125\" y=\"7.2\"/>\n  </clipPath>\n </defs>\n</svg>\n"
          },
          "metadata": {
            "needs_background": "light"
          }
        }
      ]
    },
    {
      "cell_type": "code",
      "source": [
        ""
      ],
      "metadata": {
        "id": "DPVWFOlFoNMs"
      },
      "execution_count": null,
      "outputs": []
    },
    {
      "cell_type": "markdown",
      "source": [
        "### Summary\n",
        "\n",
        "- Key ingredients in a machine learning model are training data, a loss function, an optimization algorithm, and quite obviously, the model itself.\n",
        "\n",
        "- Vectorizing makes everything better (mostly math) and faster (mostly code).\n",
        "\n",
        "- Minimizing an objective function and performing maximum likelihood estimation can mean the same thing.\n",
        "\n",
        "- Linear regression models are neural networks, too."
      ],
      "metadata": {
        "id": "Nq4Q-XjLoROZ"
      }
    },
    {
      "cell_type": "code",
      "source": [
        ""
      ],
      "metadata": {
        "id": "Hs9KAl6boXRl"
      },
      "execution_count": null,
      "outputs": []
    },
    {
      "cell_type": "markdown",
      "source": [
        "# 3.2. Linear Regression Implementation from Scratch"
      ],
      "metadata": {
        "id": "JFP1fC_boatV"
      }
    },
    {
      "cell_type": "code",
      "source": [
        "# import module\n",
        "%matplotlib inline\n",
        "import random\n",
        "import torch\n",
        "from d2l import torch as d2l"
      ],
      "metadata": {
        "id": "pb002BCRodRp"
      },
      "execution_count": 9,
      "outputs": []
    },
    {
      "cell_type": "markdown",
      "source": [
        "###  Generating the Dataset"
      ],
      "metadata": {
        "id": "J3i4k6BtomuG"
      }
    },
    {
      "cell_type": "code",
      "source": [
        "def synthetic_data(w, b, num_examples): #@save\n",
        "    \"\"\"Generate y = Xw + b + noise.\"\"\"\n",
        "    X = torch.normal(0, 1, (num_examples, len(w)))\n",
        "    y = torch.matmul(X, w) + b\n",
        "    y += torch.normal(0, 0.01, y.shape)\n",
        "    return X, y.reshape((-1, 1))\n",
        "    \n",
        "true_w = torch.tensor([2, -3.4])\n",
        "true_b = 4.2\n",
        "features, labels = synthetic_data(true_w, true_b, 1000)"
      ],
      "metadata": {
        "id": "6vyjDCtcokVB"
      },
      "execution_count": 11,
      "outputs": []
    },
    {
      "cell_type": "code",
      "source": [
        "print('features:', features[0], '\\nlabel:', labels[0])"
      ],
      "metadata": {
        "colab": {
          "base_uri": "https://localhost:8080/"
        },
        "id": "8CwqKFEtpuoq",
        "outputId": "bebf4f52-5a8b-40d3-8eeb-6175230626c8"
      },
      "execution_count": 12,
      "outputs": [
        {
          "output_type": "stream",
          "name": "stdout",
          "text": [
            "features: tensor([-0.5102, -1.3062]) \n",
            "label: tensor([7.6154])\n"
          ]
        }
      ]
    },
    {
      "cell_type": "code",
      "source": [
        "d2l.set_figsize()\n",
        "\n",
        "# The semicolon is for displaying the plot only\n",
        "\n",
        "d2l.plt.scatter(features[:, (1)].detach().numpy(), labels.detach().numpy(), 1);"
      ],
      "metadata": {
        "colab": {
          "base_uri": "https://localhost:8080/",
          "height": 243
        },
        "id": "5YFfs1byp7Ss",
        "outputId": "76b3a483-ca1f-4366-c2ea-63110085dd87"
      },
      "execution_count": 13,
      "outputs": [
        {
          "output_type": "display_data",
          "data": {
            "text/plain": [
              "<Figure size 252x180 with 1 Axes>"
            ],
            "image/svg+xml": "<?xml version=\"1.0\" encoding=\"utf-8\" standalone=\"no\"?>\n<!DOCTYPE svg PUBLIC \"-//W3C//DTD SVG 1.1//EN\"\n  \"http://www.w3.org/Graphics/SVG/1.1/DTD/svg11.dtd\">\n<!-- Created with matplotlib (https://matplotlib.org/) -->\n<svg height=\"166.978125pt\" version=\"1.1\" viewBox=\"0 0 231.442187 166.978125\" width=\"231.442187pt\" xmlns=\"http://www.w3.org/2000/svg\" xmlns:xlink=\"http://www.w3.org/1999/xlink\">\n <metadata>\n  <rdf:RDF xmlns:cc=\"http://creativecommons.org/ns#\" xmlns:dc=\"http://purl.org/dc/elements/1.1/\" xmlns:rdf=\"http://www.w3.org/1999/02/22-rdf-syntax-ns#\">\n   <cc:Work>\n    <dc:type rdf:resource=\"http://purl.org/dc/dcmitype/StillImage\"/>\n    <dc:date>2022-01-30T06:25:28.401798</dc:date>\n    <dc:format>image/svg+xml</dc:format>\n    <dc:creator>\n     <cc:Agent>\n      <dc:title>Matplotlib v3.3.3, https://matplotlib.org/</dc:title>\n     </cc:Agent>\n    </dc:creator>\n   </cc:Work>\n  </rdf:RDF>\n </metadata>\n <defs>\n  <style type=\"text/css\">*{stroke-linecap:butt;stroke-linejoin:round;}</style>\n </defs>\n <g id=\"figure_1\">\n  <g id=\"patch_1\">\n   <path d=\"M 0 166.978125 \nL 231.442187 166.978125 \nL 231.442187 0 \nL 0 0 \nz\n\" style=\"fill:none;\"/>\n  </g>\n  <g id=\"axes_1\">\n   <g id=\"patch_2\">\n    <path d=\"M 28.942188 143.1 \nL 224.242188 143.1 \nL 224.242188 7.2 \nL 28.942188 7.2 \nz\n\" style=\"fill:#ffffff;\"/>\n   </g>\n   <g id=\"PathCollection_1\">\n    <defs>\n     <path d=\"M 0 0.5 \nC 0.132602 0.5 0.25979 0.447317 0.353553 0.353553 \nC 0.447317 0.25979 0.5 0.132602 0.5 0 \nC 0.5 -0.132602 0.447317 -0.25979 0.353553 -0.353553 \nC 0.25979 -0.447317 0.132602 -0.5 0 -0.5 \nC -0.132602 -0.5 -0.25979 -0.447317 -0.353553 -0.353553 \nC -0.447317 -0.25979 -0.5 -0.132602 -0.5 0 \nC -0.5 0.132602 -0.447317 0.25979 -0.353553 0.353553 \nC -0.25979 0.447317 -0.132602 0.5 0 0.5 \nz\n\" id=\"m985c3f97b5\" style=\"stroke:#1f77b4;\"/>\n    </defs>\n    <g clip-path=\"url(#p75a5205f11)\">\n     <use style=\"fill:#1f77b4;stroke:#1f77b4;\" x=\"91.518249\" xlink:href=\"#m985c3f97b5\" y=\"58.869853\"/>\n     <use style=\"fill:#1f77b4;stroke:#1f77b4;\" x=\"149.470817\" xlink:href=\"#m985c3f97b5\" y=\"83.958275\"/>\n     <use style=\"fill:#1f77b4;stroke:#1f77b4;\" x=\"78.151065\" xlink:href=\"#m985c3f97b5\" y=\"37.82094\"/>\n     <use style=\"fill:#1f77b4;stroke:#1f77b4;\" x=\"108.404588\" xlink:href=\"#m985c3f97b5\" y=\"65.391772\"/>\n     <use style=\"fill:#1f77b4;stroke:#1f77b4;\" x=\"118.079063\" xlink:href=\"#m985c3f97b5\" y=\"81.615984\"/>\n     <use style=\"fill:#1f77b4;stroke:#1f77b4;\" x=\"102.837392\" xlink:href=\"#m985c3f97b5\" y=\"48.641305\"/>\n     <use style=\"fill:#1f77b4;stroke:#1f77b4;\" x=\"129.324796\" xlink:href=\"#m985c3f97b5\" y=\"75.69218\"/>\n     <use style=\"fill:#1f77b4;stroke:#1f77b4;\" x=\"144.058315\" xlink:href=\"#m985c3f97b5\" y=\"96.64561\"/>\n     <use style=\"fill:#1f77b4;stroke:#1f77b4;\" x=\"175.067058\" xlink:href=\"#m985c3f97b5\" y=\"94.049234\"/>\n     <use style=\"fill:#1f77b4;stroke:#1f77b4;\" x=\"187.148692\" xlink:href=\"#m985c3f97b5\" y=\"96.797875\"/>\n     <use style=\"fill:#1f77b4;stroke:#1f77b4;\" x=\"184.331013\" xlink:href=\"#m985c3f97b5\" y=\"108.469273\"/>\n     <use style=\"fill:#1f77b4;stroke:#1f77b4;\" x=\"95.053679\" xlink:href=\"#m985c3f97b5\" y=\"41.150656\"/>\n     <use style=\"fill:#1f77b4;stroke:#1f77b4;\" x=\"87.023363\" xlink:href=\"#m985c3f97b5\" y=\"59.328004\"/>\n     <use style=\"fill:#1f77b4;stroke:#1f77b4;\" x=\"144.828287\" xlink:href=\"#m985c3f97b5\" y=\"71.41171\"/>\n     <use style=\"fill:#1f77b4;stroke:#1f77b4;\" x=\"73.890152\" xlink:href=\"#m985c3f97b5\" y=\"35.824077\"/>\n     <use style=\"fill:#1f77b4;stroke:#1f77b4;\" x=\"62.931679\" xlink:href=\"#m985c3f97b5\" y=\"33.982678\"/>\n     <use style=\"fill:#1f77b4;stroke:#1f77b4;\" x=\"121.926971\" xlink:href=\"#m985c3f97b5\" y=\"67.371444\"/>\n     <use style=\"fill:#1f77b4;stroke:#1f77b4;\" x=\"129.697754\" xlink:href=\"#m985c3f97b5\" y=\"86.30717\"/>\n     <use style=\"fill:#1f77b4;stroke:#1f77b4;\" x=\"150.004282\" xlink:href=\"#m985c3f97b5\" y=\"99.23149\"/>\n     <use style=\"fill:#1f77b4;stroke:#1f77b4;\" x=\"157.244408\" xlink:href=\"#m985c3f97b5\" y=\"100.409505\"/>\n     <use style=\"fill:#1f77b4;stroke:#1f77b4;\" x=\"134.008428\" xlink:href=\"#m985c3f97b5\" y=\"90.866485\"/>\n     <use style=\"fill:#1f77b4;stroke:#1f77b4;\" x=\"133.675926\" xlink:href=\"#m985c3f97b5\" y=\"96.274904\"/>\n     <use style=\"fill:#1f77b4;stroke:#1f77b4;\" x=\"142.852827\" xlink:href=\"#m985c3f97b5\" y=\"73.374881\"/>\n     <use style=\"fill:#1f77b4;stroke:#1f77b4;\" x=\"117.892543\" xlink:href=\"#m985c3f97b5\" y=\"57.10605\"/>\n     <use style=\"fill:#1f77b4;stroke:#1f77b4;\" x=\"166.034712\" xlink:href=\"#m985c3f97b5\" y=\"102.605409\"/>\n     <use style=\"fill:#1f77b4;stroke:#1f77b4;\" x=\"115.225204\" xlink:href=\"#m985c3f97b5\" y=\"70.981963\"/>\n     <use style=\"fill:#1f77b4;stroke:#1f77b4;\" x=\"131.291428\" xlink:href=\"#m985c3f97b5\" y=\"106.563784\"/>\n     <use style=\"fill:#1f77b4;stroke:#1f77b4;\" x=\"110.031919\" xlink:href=\"#m985c3f97b5\" y=\"94.294263\"/>\n     <use style=\"fill:#1f77b4;stroke:#1f77b4;\" x=\"118.160725\" xlink:href=\"#m985c3f97b5\" y=\"66.002522\"/>\n     <use style=\"fill:#1f77b4;stroke:#1f77b4;\" x=\"176.531395\" xlink:href=\"#m985c3f97b5\" y=\"98.676767\"/>\n     <use style=\"fill:#1f77b4;stroke:#1f77b4;\" x=\"68.737709\" xlink:href=\"#m985c3f97b5\" y=\"27.629403\"/>\n     <use style=\"fill:#1f77b4;stroke:#1f77b4;\" x=\"141.831776\" xlink:href=\"#m985c3f97b5\" y=\"81.978627\"/>\n     <use style=\"fill:#1f77b4;stroke:#1f77b4;\" x=\"109.325755\" xlink:href=\"#m985c3f97b5\" y=\"49.799562\"/>\n     <use style=\"fill:#1f77b4;stroke:#1f77b4;\" x=\"137.648794\" xlink:href=\"#m985c3f97b5\" y=\"83.237314\"/>\n     <use style=\"fill:#1f77b4;stroke:#1f77b4;\" x=\"183.496849\" xlink:href=\"#m985c3f97b5\" y=\"124.52208\"/>\n     <use style=\"fill:#1f77b4;stroke:#1f77b4;\" x=\"101.646301\" xlink:href=\"#m985c3f97b5\" y=\"52.590995\"/>\n     <use style=\"fill:#1f77b4;stroke:#1f77b4;\" x=\"163.187385\" xlink:href=\"#m985c3f97b5\" y=\"107.942554\"/>\n     <use style=\"fill:#1f77b4;stroke:#1f77b4;\" x=\"140.611244\" xlink:href=\"#m985c3f97b5\" y=\"90.537757\"/>\n     <use style=\"fill:#1f77b4;stroke:#1f77b4;\" x=\"96.125954\" xlink:href=\"#m985c3f97b5\" y=\"71.715303\"/>\n     <use style=\"fill:#1f77b4;stroke:#1f77b4;\" x=\"127.337541\" xlink:href=\"#m985c3f97b5\" y=\"86.035273\"/>\n     <use style=\"fill:#1f77b4;stroke:#1f77b4;\" x=\"132.724501\" xlink:href=\"#m985c3f97b5\" y=\"91.194166\"/>\n     <use style=\"fill:#1f77b4;stroke:#1f77b4;\" x=\"110.960422\" xlink:href=\"#m985c3f97b5\" y=\"78.142678\"/>\n     <use style=\"fill:#1f77b4;stroke:#1f77b4;\" x=\"160.204958\" xlink:href=\"#m985c3f97b5\" y=\"109.115928\"/>\n     <use style=\"fill:#1f77b4;stroke:#1f77b4;\" x=\"106.01498\" xlink:href=\"#m985c3f97b5\" y=\"70.666996\"/>\n     <use style=\"fill:#1f77b4;stroke:#1f77b4;\" x=\"48.297792\" xlink:href=\"#m985c3f97b5\" y=\"21.81943\"/>\n     <use style=\"fill:#1f77b4;stroke:#1f77b4;\" x=\"151.293898\" xlink:href=\"#m985c3f97b5\" y=\"110.968201\"/>\n     <use style=\"fill:#1f77b4;stroke:#1f77b4;\" x=\"129.934707\" xlink:href=\"#m985c3f97b5\" y=\"61.353234\"/>\n     <use style=\"fill:#1f77b4;stroke:#1f77b4;\" x=\"145.298614\" xlink:href=\"#m985c3f97b5\" y=\"75.057052\"/>\n     <use style=\"fill:#1f77b4;stroke:#1f77b4;\" x=\"134.683607\" xlink:href=\"#m985c3f97b5\" y=\"67.024499\"/>\n     <use style=\"fill:#1f77b4;stroke:#1f77b4;\" x=\"181.520583\" xlink:href=\"#m985c3f97b5\" y=\"90.41941\"/>\n     <use style=\"fill:#1f77b4;stroke:#1f77b4;\" x=\"127.998451\" xlink:href=\"#m985c3f97b5\" y=\"80.61642\"/>\n     <use style=\"fill:#1f77b4;stroke:#1f77b4;\" x=\"206.425259\" xlink:href=\"#m985c3f97b5\" y=\"125.436096\"/>\n     <use style=\"fill:#1f77b4;stroke:#1f77b4;\" x=\"194.738278\" xlink:href=\"#m985c3f97b5\" y=\"113.246761\"/>\n     <use style=\"fill:#1f77b4;stroke:#1f77b4;\" x=\"150.388592\" xlink:href=\"#m985c3f97b5\" y=\"82.401684\"/>\n     <use style=\"fill:#1f77b4;stroke:#1f77b4;\" x=\"142.32097\" xlink:href=\"#m985c3f97b5\" y=\"78.236887\"/>\n     <use style=\"fill:#1f77b4;stroke:#1f77b4;\" x=\"150.773525\" xlink:href=\"#m985c3f97b5\" y=\"72.733577\"/>\n     <use style=\"fill:#1f77b4;stroke:#1f77b4;\" x=\"79.122302\" xlink:href=\"#m985c3f97b5\" y=\"38.634953\"/>\n     <use style=\"fill:#1f77b4;stroke:#1f77b4;\" x=\"93.330706\" xlink:href=\"#m985c3f97b5\" y=\"76.548861\"/>\n     <use style=\"fill:#1f77b4;stroke:#1f77b4;\" x=\"149.298267\" xlink:href=\"#m985c3f97b5\" y=\"95.556825\"/>\n     <use style=\"fill:#1f77b4;stroke:#1f77b4;\" x=\"102.649487\" xlink:href=\"#m985c3f97b5\" y=\"56.385897\"/>\n     <use style=\"fill:#1f77b4;stroke:#1f77b4;\" x=\"75.226252\" xlink:href=\"#m985c3f97b5\" y=\"65.630724\"/>\n     <use style=\"fill:#1f77b4;stroke:#1f77b4;\" x=\"177.701132\" xlink:href=\"#m985c3f97b5\" y=\"136.922727\"/>\n     <use style=\"fill:#1f77b4;stroke:#1f77b4;\" x=\"155.686272\" xlink:href=\"#m985c3f97b5\" y=\"109.268579\"/>\n     <use style=\"fill:#1f77b4;stroke:#1f77b4;\" x=\"110.525034\" xlink:href=\"#m985c3f97b5\" y=\"67.294117\"/>\n     <use style=\"fill:#1f77b4;stroke:#1f77b4;\" x=\"153.852441\" xlink:href=\"#m985c3f97b5\" y=\"88.41059\"/>\n     <use style=\"fill:#1f77b4;stroke:#1f77b4;\" x=\"161.086636\" xlink:href=\"#m985c3f97b5\" y=\"89.130955\"/>\n     <use style=\"fill:#1f77b4;stroke:#1f77b4;\" x=\"119.703951\" xlink:href=\"#m985c3f97b5\" y=\"87.272933\"/>\n     <use style=\"fill:#1f77b4;stroke:#1f77b4;\" x=\"150.459239\" xlink:href=\"#m985c3f97b5\" y=\"83.413909\"/>\n     <use style=\"fill:#1f77b4;stroke:#1f77b4;\" x=\"126.474492\" xlink:href=\"#m985c3f97b5\" y=\"91.120138\"/>\n     <use style=\"fill:#1f77b4;stroke:#1f77b4;\" x=\"93.500745\" xlink:href=\"#m985c3f97b5\" y=\"60.420195\"/>\n     <use style=\"fill:#1f77b4;stroke:#1f77b4;\" x=\"146.903131\" xlink:href=\"#m985c3f97b5\" y=\"78.545912\"/>\n     <use style=\"fill:#1f77b4;stroke:#1f77b4;\" x=\"143.916521\" xlink:href=\"#m985c3f97b5\" y=\"84.33558\"/>\n     <use style=\"fill:#1f77b4;stroke:#1f77b4;\" x=\"152.919315\" xlink:href=\"#m985c3f97b5\" y=\"90.690981\"/>\n     <use style=\"fill:#1f77b4;stroke:#1f77b4;\" x=\"147.633567\" xlink:href=\"#m985c3f97b5\" y=\"103.22423\"/>\n     <use style=\"fill:#1f77b4;stroke:#1f77b4;\" x=\"109.760774\" xlink:href=\"#m985c3f97b5\" y=\"65.705114\"/>\n     <use style=\"fill:#1f77b4;stroke:#1f77b4;\" x=\"158.829309\" xlink:href=\"#m985c3f97b5\" y=\"96.67281\"/>\n     <use style=\"fill:#1f77b4;stroke:#1f77b4;\" x=\"163.649219\" xlink:href=\"#m985c3f97b5\" y=\"104.452874\"/>\n     <use style=\"fill:#1f77b4;stroke:#1f77b4;\" x=\"141.307159\" xlink:href=\"#m985c3f97b5\" y=\"83.097398\"/>\n     <use style=\"fill:#1f77b4;stroke:#1f77b4;\" x=\"130.785852\" xlink:href=\"#m985c3f97b5\" y=\"82.083904\"/>\n     <use style=\"fill:#1f77b4;stroke:#1f77b4;\" x=\"116.379409\" xlink:href=\"#m985c3f97b5\" y=\"72.883888\"/>\n     <use style=\"fill:#1f77b4;stroke:#1f77b4;\" x=\"147.621229\" xlink:href=\"#m985c3f97b5\" y=\"94.221644\"/>\n     <use style=\"fill:#1f77b4;stroke:#1f77b4;\" x=\"136.149694\" xlink:href=\"#m985c3f97b5\" y=\"79.153071\"/>\n     <use style=\"fill:#1f77b4;stroke:#1f77b4;\" x=\"147.631698\" xlink:href=\"#m985c3f97b5\" y=\"89.899004\"/>\n     <use style=\"fill:#1f77b4;stroke:#1f77b4;\" x=\"125.831014\" xlink:href=\"#m985c3f97b5\" y=\"79.924656\"/>\n     <use style=\"fill:#1f77b4;stroke:#1f77b4;\" x=\"157.229855\" xlink:href=\"#m985c3f97b5\" y=\"108.234911\"/>\n     <use style=\"fill:#1f77b4;stroke:#1f77b4;\" x=\"192.431865\" xlink:href=\"#m985c3f97b5\" y=\"115.434391\"/>\n     <use style=\"fill:#1f77b4;stroke:#1f77b4;\" x=\"157.792163\" xlink:href=\"#m985c3f97b5\" y=\"96.328839\"/>\n     <use style=\"fill:#1f77b4;stroke:#1f77b4;\" x=\"138.689843\" xlink:href=\"#m985c3f97b5\" y=\"76.214612\"/>\n     <use style=\"fill:#1f77b4;stroke:#1f77b4;\" x=\"196.692549\" xlink:href=\"#m985c3f97b5\" y=\"108.046518\"/>\n     <use style=\"fill:#1f77b4;stroke:#1f77b4;\" x=\"116.858884\" xlink:href=\"#m985c3f97b5\" y=\"69.306301\"/>\n     <use style=\"fill:#1f77b4;stroke:#1f77b4;\" x=\"175.205383\" xlink:href=\"#m985c3f97b5\" y=\"96.362735\"/>\n     <use style=\"fill:#1f77b4;stroke:#1f77b4;\" x=\"127.533889\" xlink:href=\"#m985c3f97b5\" y=\"85.911662\"/>\n     <use style=\"fill:#1f77b4;stroke:#1f77b4;\" x=\"150.652573\" xlink:href=\"#m985c3f97b5\" y=\"91.790314\"/>\n     <use style=\"fill:#1f77b4;stroke:#1f77b4;\" x=\"148.878639\" xlink:href=\"#m985c3f97b5\" y=\"92.939087\"/>\n     <use style=\"fill:#1f77b4;stroke:#1f77b4;\" x=\"111.092742\" xlink:href=\"#m985c3f97b5\" y=\"67.898956\"/>\n     <use style=\"fill:#1f77b4;stroke:#1f77b4;\" x=\"187.242816\" xlink:href=\"#m985c3f97b5\" y=\"113.54334\"/>\n     <use style=\"fill:#1f77b4;stroke:#1f77b4;\" x=\"130.050111\" xlink:href=\"#m985c3f97b5\" y=\"67.287068\"/>\n     <use style=\"fill:#1f77b4;stroke:#1f77b4;\" x=\"131.721024\" xlink:href=\"#m985c3f97b5\" y=\"74.702945\"/>\n     <use style=\"fill:#1f77b4;stroke:#1f77b4;\" x=\"129.651048\" xlink:href=\"#m985c3f97b5\" y=\"71.419341\"/>\n     <use style=\"fill:#1f77b4;stroke:#1f77b4;\" x=\"106.594266\" xlink:href=\"#m985c3f97b5\" y=\"56.853597\"/>\n     <use style=\"fill:#1f77b4;stroke:#1f77b4;\" x=\"109.960271\" xlink:href=\"#m985c3f97b5\" y=\"72.074409\"/>\n     <use style=\"fill:#1f77b4;stroke:#1f77b4;\" x=\"99.351514\" xlink:href=\"#m985c3f97b5\" y=\"62.287692\"/>\n     <use style=\"fill:#1f77b4;stroke:#1f77b4;\" x=\"127.928551\" xlink:href=\"#m985c3f97b5\" y=\"88.879284\"/>\n     <use style=\"fill:#1f77b4;stroke:#1f77b4;\" x=\"151.30807\" xlink:href=\"#m985c3f97b5\" y=\"84.242084\"/>\n     <use style=\"fill:#1f77b4;stroke:#1f77b4;\" x=\"125.58307\" xlink:href=\"#m985c3f97b5\" y=\"62.007674\"/>\n     <use style=\"fill:#1f77b4;stroke:#1f77b4;\" x=\"133.10067\" xlink:href=\"#m985c3f97b5\" y=\"72.509343\"/>\n     <use style=\"fill:#1f77b4;stroke:#1f77b4;\" x=\"158.720052\" xlink:href=\"#m985c3f97b5\" y=\"104.930614\"/>\n     <use style=\"fill:#1f77b4;stroke:#1f77b4;\" x=\"141.002129\" xlink:href=\"#m985c3f97b5\" y=\"76.121117\"/>\n     <use style=\"fill:#1f77b4;stroke:#1f77b4;\" x=\"127.479678\" xlink:href=\"#m985c3f97b5\" y=\"72.279978\"/>\n     <use style=\"fill:#1f77b4;stroke:#1f77b4;\" x=\"147.870604\" xlink:href=\"#m985c3f97b5\" y=\"93.74461\"/>\n     <use style=\"fill:#1f77b4;stroke:#1f77b4;\" x=\"143.937294\" xlink:href=\"#m985c3f97b5\" y=\"78.148006\"/>\n     <use style=\"fill:#1f77b4;stroke:#1f77b4;\" x=\"131.34158\" xlink:href=\"#m985c3f97b5\" y=\"86.126483\"/>\n     <use style=\"fill:#1f77b4;stroke:#1f77b4;\" x=\"85.748548\" xlink:href=\"#m985c3f97b5\" y=\"50.116613\"/>\n     <use style=\"fill:#1f77b4;stroke:#1f77b4;\" x=\"199.113545\" xlink:href=\"#m985c3f97b5\" y=\"135.74848\"/>\n     <use style=\"fill:#1f77b4;stroke:#1f77b4;\" x=\"126.245029\" xlink:href=\"#m985c3f97b5\" y=\"77.007268\"/>\n     <use style=\"fill:#1f77b4;stroke:#1f77b4;\" x=\"139.206141\" xlink:href=\"#m985c3f97b5\" y=\"77.777038\"/>\n     <use style=\"fill:#1f77b4;stroke:#1f77b4;\" x=\"167.714812\" xlink:href=\"#m985c3f97b5\" y=\"92.524603\"/>\n     <use style=\"fill:#1f77b4;stroke:#1f77b4;\" x=\"180.069932\" xlink:href=\"#m985c3f97b5\" y=\"113.605564\"/>\n     <use style=\"fill:#1f77b4;stroke:#1f77b4;\" x=\"147.834818\" xlink:href=\"#m985c3f97b5\" y=\"75.325821\"/>\n     <use style=\"fill:#1f77b4;stroke:#1f77b4;\" x=\"119.996518\" xlink:href=\"#m985c3f97b5\" y=\"97.136008\"/>\n     <use style=\"fill:#1f77b4;stroke:#1f77b4;\" x=\"107.31502\" xlink:href=\"#m985c3f97b5\" y=\"75.448281\"/>\n     <use style=\"fill:#1f77b4;stroke:#1f77b4;\" x=\"107.993824\" xlink:href=\"#m985c3f97b5\" y=\"56.888053\"/>\n     <use style=\"fill:#1f77b4;stroke:#1f77b4;\" x=\"157.686885\" xlink:href=\"#m985c3f97b5\" y=\"78.110485\"/>\n     <use style=\"fill:#1f77b4;stroke:#1f77b4;\" x=\"109.277401\" xlink:href=\"#m985c3f97b5\" y=\"62.205058\"/>\n     <use style=\"fill:#1f77b4;stroke:#1f77b4;\" x=\"144.755837\" xlink:href=\"#m985c3f97b5\" y=\"80.809424\"/>\n     <use style=\"fill:#1f77b4;stroke:#1f77b4;\" x=\"111.854493\" xlink:href=\"#m985c3f97b5\" y=\"80.634995\"/>\n     <use style=\"fill:#1f77b4;stroke:#1f77b4;\" x=\"130.18984\" xlink:href=\"#m985c3f97b5\" y=\"55.058763\"/>\n     <use style=\"fill:#1f77b4;stroke:#1f77b4;\" x=\"110.48636\" xlink:href=\"#m985c3f97b5\" y=\"64.037491\"/>\n     <use style=\"fill:#1f77b4;stroke:#1f77b4;\" x=\"177.566916\" xlink:href=\"#m985c3f97b5\" y=\"121.209305\"/>\n     <use style=\"fill:#1f77b4;stroke:#1f77b4;\" x=\"141.41332\" xlink:href=\"#m985c3f97b5\" y=\"69.017184\"/>\n     <use style=\"fill:#1f77b4;stroke:#1f77b4;\" x=\"144.665625\" xlink:href=\"#m985c3f97b5\" y=\"55.999103\"/>\n     <use style=\"fill:#1f77b4;stroke:#1f77b4;\" x=\"102.582756\" xlink:href=\"#m985c3f97b5\" y=\"73.726406\"/>\n     <use style=\"fill:#1f77b4;stroke:#1f77b4;\" x=\"104.292664\" xlink:href=\"#m985c3f97b5\" y=\"76.988872\"/>\n     <use style=\"fill:#1f77b4;stroke:#1f77b4;\" x=\"187.412197\" xlink:href=\"#m985c3f97b5\" y=\"103.651971\"/>\n     <use style=\"fill:#1f77b4;stroke:#1f77b4;\" x=\"131.504678\" xlink:href=\"#m985c3f97b5\" y=\"76.457981\"/>\n     <use style=\"fill:#1f77b4;stroke:#1f77b4;\" x=\"126.017861\" xlink:href=\"#m985c3f97b5\" y=\"72.746695\"/>\n     <use style=\"fill:#1f77b4;stroke:#1f77b4;\" x=\"95.547732\" xlink:href=\"#m985c3f97b5\" y=\"56.420903\"/>\n     <use style=\"fill:#1f77b4;stroke:#1f77b4;\" x=\"156.628733\" xlink:href=\"#m985c3f97b5\" y=\"79.210183\"/>\n     <use style=\"fill:#1f77b4;stroke:#1f77b4;\" x=\"86.14974\" xlink:href=\"#m985c3f97b5\" y=\"39.463905\"/>\n     <use style=\"fill:#1f77b4;stroke:#1f77b4;\" x=\"124.93088\" xlink:href=\"#m985c3f97b5\" y=\"74.915665\"/>\n     <use style=\"fill:#1f77b4;stroke:#1f77b4;\" x=\"162.259701\" xlink:href=\"#m985c3f97b5\" y=\"92.825635\"/>\n     <use style=\"fill:#1f77b4;stroke:#1f77b4;\" x=\"131.683686\" xlink:href=\"#m985c3f97b5\" y=\"88.297024\"/>\n     <use style=\"fill:#1f77b4;stroke:#1f77b4;\" x=\"96.918207\" xlink:href=\"#m985c3f97b5\" y=\"67.978797\"/>\n     <use style=\"fill:#1f77b4;stroke:#1f77b4;\" x=\"136.24689\" xlink:href=\"#m985c3f97b5\" y=\"82.022443\"/>\n     <use style=\"fill:#1f77b4;stroke:#1f77b4;\" x=\"131.759035\" xlink:href=\"#m985c3f97b5\" y=\"87.988787\"/>\n     <use style=\"fill:#1f77b4;stroke:#1f77b4;\" x=\"130.363143\" xlink:href=\"#m985c3f97b5\" y=\"83.214922\"/>\n     <use style=\"fill:#1f77b4;stroke:#1f77b4;\" x=\"123.818098\" xlink:href=\"#m985c3f97b5\" y=\"69.159494\"/>\n     <use style=\"fill:#1f77b4;stroke:#1f77b4;\" x=\"135.115969\" xlink:href=\"#m985c3f97b5\" y=\"83.970229\"/>\n     <use style=\"fill:#1f77b4;stroke:#1f77b4;\" x=\"157.718998\" xlink:href=\"#m985c3f97b5\" y=\"91.377074\"/>\n     <use style=\"fill:#1f77b4;stroke:#1f77b4;\" x=\"162.634702\" xlink:href=\"#m985c3f97b5\" y=\"94.582629\"/>\n     <use style=\"fill:#1f77b4;stroke:#1f77b4;\" x=\"139.482803\" xlink:href=\"#m985c3f97b5\" y=\"68.98395\"/>\n     <use style=\"fill:#1f77b4;stroke:#1f77b4;\" x=\"93.461196\" xlink:href=\"#m985c3f97b5\" y=\"51.854588\"/>\n     <use style=\"fill:#1f77b4;stroke:#1f77b4;\" x=\"145.814442\" xlink:href=\"#m985c3f97b5\" y=\"87.098508\"/>\n     <use style=\"fill:#1f77b4;stroke:#1f77b4;\" x=\"94.762354\" xlink:href=\"#m985c3f97b5\" y=\"45.238701\"/>\n     <use style=\"fill:#1f77b4;stroke:#1f77b4;\" x=\"101.017739\" xlink:href=\"#m985c3f97b5\" y=\"62.107686\"/>\n     <use style=\"fill:#1f77b4;stroke:#1f77b4;\" x=\"174.830636\" xlink:href=\"#m985c3f97b5\" y=\"86.397881\"/>\n     <use style=\"fill:#1f77b4;stroke:#1f77b4;\" x=\"199.35694\" xlink:href=\"#m985c3f97b5\" y=\"118.357907\"/>\n     <use style=\"fill:#1f77b4;stroke:#1f77b4;\" x=\"135.627952\" xlink:href=\"#m985c3f97b5\" y=\"69.537809\"/>\n     <use style=\"fill:#1f77b4;stroke:#1f77b4;\" x=\"173.171696\" xlink:href=\"#m985c3f97b5\" y=\"107.866738\"/>\n     <use style=\"fill:#1f77b4;stroke:#1f77b4;\" x=\"131.548581\" xlink:href=\"#m985c3f97b5\" y=\"71.432013\"/>\n     <use style=\"fill:#1f77b4;stroke:#1f77b4;\" x=\"141.261996\" xlink:href=\"#m985c3f97b5\" y=\"70.857349\"/>\n     <use style=\"fill:#1f77b4;stroke:#1f77b4;\" x=\"141.93892\" xlink:href=\"#m985c3f97b5\" y=\"79.476709\"/>\n     <use style=\"fill:#1f77b4;stroke:#1f77b4;\" x=\"139.585243\" xlink:href=\"#m985c3f97b5\" y=\"78.860621\"/>\n     <use style=\"fill:#1f77b4;stroke:#1f77b4;\" x=\"57.678794\" xlink:href=\"#m985c3f97b5\" y=\"35.477439\"/>\n     <use style=\"fill:#1f77b4;stroke:#1f77b4;\" x=\"90.851187\" xlink:href=\"#m985c3f97b5\" y=\"53.800322\"/>\n     <use style=\"fill:#1f77b4;stroke:#1f77b4;\" x=\"153.924935\" xlink:href=\"#m985c3f97b5\" y=\"69.230254\"/>\n     <use style=\"fill:#1f77b4;stroke:#1f77b4;\" x=\"124.363983\" xlink:href=\"#m985c3f97b5\" y=\"61.801471\"/>\n     <use style=\"fill:#1f77b4;stroke:#1f77b4;\" x=\"130.910728\" xlink:href=\"#m985c3f97b5\" y=\"83.830451\"/>\n     <use style=\"fill:#1f77b4;stroke:#1f77b4;\" x=\"122.509013\" xlink:href=\"#m985c3f97b5\" y=\"86.884795\"/>\n     <use style=\"fill:#1f77b4;stroke:#1f77b4;\" x=\"164.759915\" xlink:href=\"#m985c3f97b5\" y=\"102.611736\"/>\n     <use style=\"fill:#1f77b4;stroke:#1f77b4;\" x=\"123.699424\" xlink:href=\"#m985c3f97b5\" y=\"77.470493\"/>\n     <use style=\"fill:#1f77b4;stroke:#1f77b4;\" x=\"132.795182\" xlink:href=\"#m985c3f97b5\" y=\"93.611771\"/>\n     <use style=\"fill:#1f77b4;stroke:#1f77b4;\" x=\"122.438921\" xlink:href=\"#m985c3f97b5\" y=\"84.961267\"/>\n     <use style=\"fill:#1f77b4;stroke:#1f77b4;\" x=\"149.811157\" xlink:href=\"#m985c3f97b5\" y=\"81.045777\"/>\n     <use style=\"fill:#1f77b4;stroke:#1f77b4;\" x=\"101.896296\" xlink:href=\"#m985c3f97b5\" y=\"69.707593\"/>\n     <use style=\"fill:#1f77b4;stroke:#1f77b4;\" x=\"156.477284\" xlink:href=\"#m985c3f97b5\" y=\"90.046331\"/>\n     <use style=\"fill:#1f77b4;stroke:#1f77b4;\" x=\"128.655031\" xlink:href=\"#m985c3f97b5\" y=\"88.259282\"/>\n     <use style=\"fill:#1f77b4;stroke:#1f77b4;\" x=\"103.155632\" xlink:href=\"#m985c3f97b5\" y=\"51.341593\"/>\n     <use style=\"fill:#1f77b4;stroke:#1f77b4;\" x=\"156.668683\" xlink:href=\"#m985c3f97b5\" y=\"83.615938\"/>\n     <use style=\"fill:#1f77b4;stroke:#1f77b4;\" x=\"129.688945\" xlink:href=\"#m985c3f97b5\" y=\"75.513189\"/>\n     <use style=\"fill:#1f77b4;stroke:#1f77b4;\" x=\"117.787755\" xlink:href=\"#m985c3f97b5\" y=\"74.287329\"/>\n     <use style=\"fill:#1f77b4;stroke:#1f77b4;\" x=\"161.229253\" xlink:href=\"#m985c3f97b5\" y=\"103.809902\"/>\n     <use style=\"fill:#1f77b4;stroke:#1f77b4;\" x=\"132.107799\" xlink:href=\"#m985c3f97b5\" y=\"66.958048\"/>\n     <use style=\"fill:#1f77b4;stroke:#1f77b4;\" x=\"158.498778\" xlink:href=\"#m985c3f97b5\" y=\"71.551607\"/>\n     <use style=\"fill:#1f77b4;stroke:#1f77b4;\" x=\"169.408185\" xlink:href=\"#m985c3f97b5\" y=\"124.965383\"/>\n     <use style=\"fill:#1f77b4;stroke:#1f77b4;\" x=\"125.228026\" xlink:href=\"#m985c3f97b5\" y=\"82.197254\"/>\n     <use style=\"fill:#1f77b4;stroke:#1f77b4;\" x=\"151.386458\" xlink:href=\"#m985c3f97b5\" y=\"99.096113\"/>\n     <use style=\"fill:#1f77b4;stroke:#1f77b4;\" x=\"60.5112\" xlink:href=\"#m985c3f97b5\" y=\"33.071225\"/>\n     <use style=\"fill:#1f77b4;stroke:#1f77b4;\" x=\"128.044577\" xlink:href=\"#m985c3f97b5\" y=\"45.689554\"/>\n     <use style=\"fill:#1f77b4;stroke:#1f77b4;\" x=\"82.190018\" xlink:href=\"#m985c3f97b5\" y=\"54.734977\"/>\n     <use style=\"fill:#1f77b4;stroke:#1f77b4;\" x=\"124.750829\" xlink:href=\"#m985c3f97b5\" y=\"81.391465\"/>\n     <use style=\"fill:#1f77b4;stroke:#1f77b4;\" x=\"169.48717\" xlink:href=\"#m985c3f97b5\" y=\"112.966432\"/>\n     <use style=\"fill:#1f77b4;stroke:#1f77b4;\" x=\"139.273247\" xlink:href=\"#m985c3f97b5\" y=\"79.188964\"/>\n     <use style=\"fill:#1f77b4;stroke:#1f77b4;\" x=\"117.196529\" xlink:href=\"#m985c3f97b5\" y=\"72.306957\"/>\n     <use style=\"fill:#1f77b4;stroke:#1f77b4;\" x=\"141.056246\" xlink:href=\"#m985c3f97b5\" y=\"62.506926\"/>\n     <use style=\"fill:#1f77b4;stroke:#1f77b4;\" x=\"109.243507\" xlink:href=\"#m985c3f97b5\" y=\"70.609918\"/>\n     <use style=\"fill:#1f77b4;stroke:#1f77b4;\" x=\"167.477647\" xlink:href=\"#m985c3f97b5\" y=\"82.24584\"/>\n     <use style=\"fill:#1f77b4;stroke:#1f77b4;\" x=\"106.405296\" xlink:href=\"#m985c3f97b5\" y=\"67.208921\"/>\n     <use style=\"fill:#1f77b4;stroke:#1f77b4;\" x=\"138.112594\" xlink:href=\"#m985c3f97b5\" y=\"71.293155\"/>\n     <use style=\"fill:#1f77b4;stroke:#1f77b4;\" x=\"116.713574\" xlink:href=\"#m985c3f97b5\" y=\"51.04187\"/>\n     <use style=\"fill:#1f77b4;stroke:#1f77b4;\" x=\"145.811865\" xlink:href=\"#m985c3f97b5\" y=\"90.063431\"/>\n     <use style=\"fill:#1f77b4;stroke:#1f77b4;\" x=\"116.385341\" xlink:href=\"#m985c3f97b5\" y=\"80.308607\"/>\n     <use style=\"fill:#1f77b4;stroke:#1f77b4;\" x=\"117.005606\" xlink:href=\"#m985c3f97b5\" y=\"58.454934\"/>\n     <use style=\"fill:#1f77b4;stroke:#1f77b4;\" x=\"178.834493\" xlink:href=\"#m985c3f97b5\" y=\"96.730681\"/>\n     <use style=\"fill:#1f77b4;stroke:#1f77b4;\" x=\"174.595403\" xlink:href=\"#m985c3f97b5\" y=\"100.711478\"/>\n     <use style=\"fill:#1f77b4;stroke:#1f77b4;\" x=\"70.045494\" xlink:href=\"#m985c3f97b5\" y=\"44.002168\"/>\n     <use style=\"fill:#1f77b4;stroke:#1f77b4;\" x=\"111.353772\" xlink:href=\"#m985c3f97b5\" y=\"59.842809\"/>\n     <use style=\"fill:#1f77b4;stroke:#1f77b4;\" x=\"158.566017\" xlink:href=\"#m985c3f97b5\" y=\"109.205432\"/>\n     <use style=\"fill:#1f77b4;stroke:#1f77b4;\" x=\"152.991528\" xlink:href=\"#m985c3f97b5\" y=\"89.596168\"/>\n     <use style=\"fill:#1f77b4;stroke:#1f77b4;\" x=\"122.374529\" xlink:href=\"#m985c3f97b5\" y=\"85.530438\"/>\n     <use style=\"fill:#1f77b4;stroke:#1f77b4;\" x=\"152.545996\" xlink:href=\"#m985c3f97b5\" y=\"83.507122\"/>\n     <use style=\"fill:#1f77b4;stroke:#1f77b4;\" x=\"107.695801\" xlink:href=\"#m985c3f97b5\" y=\"74.525764\"/>\n     <use style=\"fill:#1f77b4;stroke:#1f77b4;\" x=\"162.651639\" xlink:href=\"#m985c3f97b5\" y=\"99.398019\"/>\n     <use style=\"fill:#1f77b4;stroke:#1f77b4;\" x=\"124.282824\" xlink:href=\"#m985c3f97b5\" y=\"80.510762\"/>\n     <use style=\"fill:#1f77b4;stroke:#1f77b4;\" x=\"113.588723\" xlink:href=\"#m985c3f97b5\" y=\"93.767214\"/>\n     <use style=\"fill:#1f77b4;stroke:#1f77b4;\" x=\"121.387737\" xlink:href=\"#m985c3f97b5\" y=\"59.302307\"/>\n     <use style=\"fill:#1f77b4;stroke:#1f77b4;\" x=\"139.252802\" xlink:href=\"#m985c3f97b5\" y=\"90.851599\"/>\n     <use style=\"fill:#1f77b4;stroke:#1f77b4;\" x=\"155.284076\" xlink:href=\"#m985c3f97b5\" y=\"88.343795\"/>\n     <use style=\"fill:#1f77b4;stroke:#1f77b4;\" x=\"132.658462\" xlink:href=\"#m985c3f97b5\" y=\"57.92742\"/>\n     <use style=\"fill:#1f77b4;stroke:#1f77b4;\" x=\"83.291373\" xlink:href=\"#m985c3f97b5\" y=\"35.097479\"/>\n     <use style=\"fill:#1f77b4;stroke:#1f77b4;\" x=\"102.839723\" xlink:href=\"#m985c3f97b5\" y=\"64.994839\"/>\n     <use style=\"fill:#1f77b4;stroke:#1f77b4;\" x=\"154.635704\" xlink:href=\"#m985c3f97b5\" y=\"102.384561\"/>\n     <use style=\"fill:#1f77b4;stroke:#1f77b4;\" x=\"146.600609\" xlink:href=\"#m985c3f97b5\" y=\"73.141848\"/>\n     <use style=\"fill:#1f77b4;stroke:#1f77b4;\" x=\"180.213632\" xlink:href=\"#m985c3f97b5\" y=\"97.017971\"/>\n     <use style=\"fill:#1f77b4;stroke:#1f77b4;\" x=\"75.68309\" xlink:href=\"#m985c3f97b5\" y=\"42.183271\"/>\n     <use style=\"fill:#1f77b4;stroke:#1f77b4;\" x=\"142.786825\" xlink:href=\"#m985c3f97b5\" y=\"97.445054\"/>\n     <use style=\"fill:#1f77b4;stroke:#1f77b4;\" x=\"164.476323\" xlink:href=\"#m985c3f97b5\" y=\"99.493698\"/>\n     <use style=\"fill:#1f77b4;stroke:#1f77b4;\" x=\"120.919732\" xlink:href=\"#m985c3f97b5\" y=\"47.412265\"/>\n     <use style=\"fill:#1f77b4;stroke:#1f77b4;\" x=\"133.359069\" xlink:href=\"#m985c3f97b5\" y=\"97.355379\"/>\n     <use style=\"fill:#1f77b4;stroke:#1f77b4;\" x=\"150.147824\" xlink:href=\"#m985c3f97b5\" y=\"81.712079\"/>\n     <use style=\"fill:#1f77b4;stroke:#1f77b4;\" x=\"97.727677\" xlink:href=\"#m985c3f97b5\" y=\"37.142892\"/>\n     <use style=\"fill:#1f77b4;stroke:#1f77b4;\" x=\"104.903883\" xlink:href=\"#m985c3f97b5\" y=\"69.855343\"/>\n     <use style=\"fill:#1f77b4;stroke:#1f77b4;\" x=\"165.842751\" xlink:href=\"#m985c3f97b5\" y=\"83.048774\"/>\n     <use style=\"fill:#1f77b4;stroke:#1f77b4;\" x=\"115.382883\" xlink:href=\"#m985c3f97b5\" y=\"61.432535\"/>\n     <use style=\"fill:#1f77b4;stroke:#1f77b4;\" x=\"122.228159\" xlink:href=\"#m985c3f97b5\" y=\"67.299417\"/>\n     <use style=\"fill:#1f77b4;stroke:#1f77b4;\" x=\"125.277178\" xlink:href=\"#m985c3f97b5\" y=\"70.844203\"/>\n     <use style=\"fill:#1f77b4;stroke:#1f77b4;\" x=\"140.153324\" xlink:href=\"#m985c3f97b5\" y=\"86.222085\"/>\n     <use style=\"fill:#1f77b4;stroke:#1f77b4;\" x=\"123.872354\" xlink:href=\"#m985c3f97b5\" y=\"75.629934\"/>\n     <use style=\"fill:#1f77b4;stroke:#1f77b4;\" x=\"153.466018\" xlink:href=\"#m985c3f97b5\" y=\"91.136277\"/>\n     <use style=\"fill:#1f77b4;stroke:#1f77b4;\" x=\"142.483868\" xlink:href=\"#m985c3f97b5\" y=\"86.382841\"/>\n     <use style=\"fill:#1f77b4;stroke:#1f77b4;\" x=\"141.542738\" xlink:href=\"#m985c3f97b5\" y=\"100.010045\"/>\n     <use style=\"fill:#1f77b4;stroke:#1f77b4;\" x=\"120.204103\" xlink:href=\"#m985c3f97b5\" y=\"65.022701\"/>\n     <use style=\"fill:#1f77b4;stroke:#1f77b4;\" x=\"120.562738\" xlink:href=\"#m985c3f97b5\" y=\"62.695241\"/>\n     <use style=\"fill:#1f77b4;stroke:#1f77b4;\" x=\"186.743071\" xlink:href=\"#m985c3f97b5\" y=\"98.927264\"/>\n     <use style=\"fill:#1f77b4;stroke:#1f77b4;\" x=\"90.616307\" xlink:href=\"#m985c3f97b5\" y=\"59.185184\"/>\n     <use style=\"fill:#1f77b4;stroke:#1f77b4;\" x=\"89.524563\" xlink:href=\"#m985c3f97b5\" y=\"27.380434\"/>\n     <use style=\"fill:#1f77b4;stroke:#1f77b4;\" x=\"141.540283\" xlink:href=\"#m985c3f97b5\" y=\"79.64324\"/>\n     <use style=\"fill:#1f77b4;stroke:#1f77b4;\" x=\"110.343963\" xlink:href=\"#m985c3f97b5\" y=\"51.458455\"/>\n     <use style=\"fill:#1f77b4;stroke:#1f77b4;\" x=\"173.46241\" xlink:href=\"#m985c3f97b5\" y=\"88.223958\"/>\n     <use style=\"fill:#1f77b4;stroke:#1f77b4;\" x=\"88.431614\" xlink:href=\"#m985c3f97b5\" y=\"63.994881\"/>\n     <use style=\"fill:#1f77b4;stroke:#1f77b4;\" x=\"154.729366\" xlink:href=\"#m985c3f97b5\" y=\"95.072754\"/>\n     <use style=\"fill:#1f77b4;stroke:#1f77b4;\" x=\"119.782185\" xlink:href=\"#m985c3f97b5\" y=\"63.450603\"/>\n     <use style=\"fill:#1f77b4;stroke:#1f77b4;\" x=\"145.533498\" xlink:href=\"#m985c3f97b5\" y=\"66.34958\"/>\n     <use style=\"fill:#1f77b4;stroke:#1f77b4;\" x=\"133.582225\" xlink:href=\"#m985c3f97b5\" y=\"70.926751\"/>\n     <use style=\"fill:#1f77b4;stroke:#1f77b4;\" x=\"104.143976\" xlink:href=\"#m985c3f97b5\" y=\"59.240373\"/>\n     <use style=\"fill:#1f77b4;stroke:#1f77b4;\" x=\"74.684702\" xlink:href=\"#m985c3f97b5\" y=\"33.513368\"/>\n     <use style=\"fill:#1f77b4;stroke:#1f77b4;\" x=\"189.365671\" xlink:href=\"#m985c3f97b5\" y=\"125.261412\"/>\n     <use style=\"fill:#1f77b4;stroke:#1f77b4;\" x=\"102.613688\" xlink:href=\"#m985c3f97b5\" y=\"52.915726\"/>\n     <use style=\"fill:#1f77b4;stroke:#1f77b4;\" x=\"132.791208\" xlink:href=\"#m985c3f97b5\" y=\"60.114943\"/>\n     <use style=\"fill:#1f77b4;stroke:#1f77b4;\" x=\"99.63623\" xlink:href=\"#m985c3f97b5\" y=\"57.729296\"/>\n     <use style=\"fill:#1f77b4;stroke:#1f77b4;\" x=\"146.834836\" xlink:href=\"#m985c3f97b5\" y=\"88.77085\"/>\n     <use style=\"fill:#1f77b4;stroke:#1f77b4;\" x=\"133.429214\" xlink:href=\"#m985c3f97b5\" y=\"63.108465\"/>\n     <use style=\"fill:#1f77b4;stroke:#1f77b4;\" x=\"163.739162\" xlink:href=\"#m985c3f97b5\" y=\"88.322294\"/>\n     <use style=\"fill:#1f77b4;stroke:#1f77b4;\" x=\"170.12016\" xlink:href=\"#m985c3f97b5\" y=\"100.174211\"/>\n     <use style=\"fill:#1f77b4;stroke:#1f77b4;\" x=\"147.02713\" xlink:href=\"#m985c3f97b5\" y=\"83.568497\"/>\n     <use style=\"fill:#1f77b4;stroke:#1f77b4;\" x=\"100.05402\" xlink:href=\"#m985c3f97b5\" y=\"53.507848\"/>\n     <use style=\"fill:#1f77b4;stroke:#1f77b4;\" x=\"126.745115\" xlink:href=\"#m985c3f97b5\" y=\"60.783194\"/>\n     <use style=\"fill:#1f77b4;stroke:#1f77b4;\" x=\"159.547083\" xlink:href=\"#m985c3f97b5\" y=\"90.722583\"/>\n     <use style=\"fill:#1f77b4;stroke:#1f77b4;\" x=\"125.981035\" xlink:href=\"#m985c3f97b5\" y=\"70.707305\"/>\n     <use style=\"fill:#1f77b4;stroke:#1f77b4;\" x=\"132.842949\" xlink:href=\"#m985c3f97b5\" y=\"80.879165\"/>\n     <use style=\"fill:#1f77b4;stroke:#1f77b4;\" x=\"173.351022\" xlink:href=\"#m985c3f97b5\" y=\"82.994819\"/>\n     <use style=\"fill:#1f77b4;stroke:#1f77b4;\" x=\"169.572667\" xlink:href=\"#m985c3f97b5\" y=\"95.531966\"/>\n     <use style=\"fill:#1f77b4;stroke:#1f77b4;\" x=\"156.299926\" xlink:href=\"#m985c3f97b5\" y=\"91.937975\"/>\n     <use style=\"fill:#1f77b4;stroke:#1f77b4;\" x=\"132.357793\" xlink:href=\"#m985c3f97b5\" y=\"89.836717\"/>\n     <use style=\"fill:#1f77b4;stroke:#1f77b4;\" x=\"151.717945\" xlink:href=\"#m985c3f97b5\" y=\"83.54023\"/>\n     <use style=\"fill:#1f77b4;stroke:#1f77b4;\" x=\"106.59233\" xlink:href=\"#m985c3f97b5\" y=\"59.269683\"/>\n     <use style=\"fill:#1f77b4;stroke:#1f77b4;\" x=\"158.030171\" xlink:href=\"#m985c3f97b5\" y=\"100.920969\"/>\n     <use style=\"fill:#1f77b4;stroke:#1f77b4;\" x=\"137.142081\" xlink:href=\"#m985c3f97b5\" y=\"88.344756\"/>\n     <use style=\"fill:#1f77b4;stroke:#1f77b4;\" x=\"166.498736\" xlink:href=\"#m985c3f97b5\" y=\"88.350764\"/>\n     <use style=\"fill:#1f77b4;stroke:#1f77b4;\" x=\"121.888575\" xlink:href=\"#m985c3f97b5\" y=\"75.603554\"/>\n     <use style=\"fill:#1f77b4;stroke:#1f77b4;\" x=\"184.630613\" xlink:href=\"#m985c3f97b5\" y=\"118.321975\"/>\n     <use style=\"fill:#1f77b4;stroke:#1f77b4;\" x=\"139.976645\" xlink:href=\"#m985c3f97b5\" y=\"76.435808\"/>\n     <use style=\"fill:#1f77b4;stroke:#1f77b4;\" x=\"103.64905\" xlink:href=\"#m985c3f97b5\" y=\"65.746899\"/>\n     <use style=\"fill:#1f77b4;stroke:#1f77b4;\" x=\"142.750056\" xlink:href=\"#m985c3f97b5\" y=\"84.481952\"/>\n     <use style=\"fill:#1f77b4;stroke:#1f77b4;\" x=\"149.987897\" xlink:href=\"#m985c3f97b5\" y=\"82.803077\"/>\n     <use style=\"fill:#1f77b4;stroke:#1f77b4;\" x=\"130.112806\" xlink:href=\"#m985c3f97b5\" y=\"72.203288\"/>\n     <use style=\"fill:#1f77b4;stroke:#1f77b4;\" x=\"144.665442\" xlink:href=\"#m985c3f97b5\" y=\"86.339027\"/>\n     <use style=\"fill:#1f77b4;stroke:#1f77b4;\" x=\"126.079972\" xlink:href=\"#m985c3f97b5\" y=\"95.352896\"/>\n     <use style=\"fill:#1f77b4;stroke:#1f77b4;\" x=\"125.512929\" xlink:href=\"#m985c3f97b5\" y=\"58.260935\"/>\n     <use style=\"fill:#1f77b4;stroke:#1f77b4;\" x=\"115.780667\" xlink:href=\"#m985c3f97b5\" y=\"94.407604\"/>\n     <use style=\"fill:#1f77b4;stroke:#1f77b4;\" x=\"162.811488\" xlink:href=\"#m985c3f97b5\" y=\"119.495476\"/>\n     <use style=\"fill:#1f77b4;stroke:#1f77b4;\" x=\"106.936374\" xlink:href=\"#m985c3f97b5\" y=\"71.839882\"/>\n     <use style=\"fill:#1f77b4;stroke:#1f77b4;\" x=\"112.42013\" xlink:href=\"#m985c3f97b5\" y=\"66.655933\"/>\n     <use style=\"fill:#1f77b4;stroke:#1f77b4;\" x=\"154.335099\" xlink:href=\"#m985c3f97b5\" y=\"78.8302\"/>\n     <use style=\"fill:#1f77b4;stroke:#1f77b4;\" x=\"190.682095\" xlink:href=\"#m985c3f97b5\" y=\"127.767763\"/>\n     <use style=\"fill:#1f77b4;stroke:#1f77b4;\" x=\"127.374064\" xlink:href=\"#m985c3f97b5\" y=\"75.17174\"/>\n     <use style=\"fill:#1f77b4;stroke:#1f77b4;\" x=\"133.639308\" xlink:href=\"#m985c3f97b5\" y=\"80.766997\"/>\n     <use style=\"fill:#1f77b4;stroke:#1f77b4;\" x=\"95.83841\" xlink:href=\"#m985c3f97b5\" y=\"54.289975\"/>\n     <use style=\"fill:#1f77b4;stroke:#1f77b4;\" x=\"136.496747\" xlink:href=\"#m985c3f97b5\" y=\"82.090737\"/>\n     <use style=\"fill:#1f77b4;stroke:#1f77b4;\" x=\"128.845956\" xlink:href=\"#m985c3f97b5\" y=\"73.570488\"/>\n     <use style=\"fill:#1f77b4;stroke:#1f77b4;\" x=\"113.938717\" xlink:href=\"#m985c3f97b5\" y=\"52.011162\"/>\n     <use style=\"fill:#1f77b4;stroke:#1f77b4;\" x=\"128.747348\" xlink:href=\"#m985c3f97b5\" y=\"100.906672\"/>\n     <use style=\"fill:#1f77b4;stroke:#1f77b4;\" x=\"133.63692\" xlink:href=\"#m985c3f97b5\" y=\"96.454332\"/>\n     <use style=\"fill:#1f77b4;stroke:#1f77b4;\" x=\"151.57967\" xlink:href=\"#m985c3f97b5\" y=\"95.180237\"/>\n     <use style=\"fill:#1f77b4;stroke:#1f77b4;\" x=\"171.659611\" xlink:href=\"#m985c3f97b5\" y=\"92.985729\"/>\n     <use style=\"fill:#1f77b4;stroke:#1f77b4;\" x=\"148.257755\" xlink:href=\"#m985c3f97b5\" y=\"66.739924\"/>\n     <use style=\"fill:#1f77b4;stroke:#1f77b4;\" x=\"184.621177\" xlink:href=\"#m985c3f97b5\" y=\"107.86902\"/>\n     <use style=\"fill:#1f77b4;stroke:#1f77b4;\" x=\"175.694014\" xlink:href=\"#m985c3f97b5\" y=\"117.766664\"/>\n     <use style=\"fill:#1f77b4;stroke:#1f77b4;\" x=\"107.210126\" xlink:href=\"#m985c3f97b5\" y=\"95.970159\"/>\n     <use style=\"fill:#1f77b4;stroke:#1f77b4;\" x=\"136.668714\" xlink:href=\"#m985c3f97b5\" y=\"89.384729\"/>\n     <use style=\"fill:#1f77b4;stroke:#1f77b4;\" x=\"118.220708\" xlink:href=\"#m985c3f97b5\" y=\"60.05247\"/>\n     <use style=\"fill:#1f77b4;stroke:#1f77b4;\" x=\"133.640314\" xlink:href=\"#m985c3f97b5\" y=\"74.685779\"/>\n     <use style=\"fill:#1f77b4;stroke:#1f77b4;\" x=\"119.460903\" xlink:href=\"#m985c3f97b5\" y=\"69.606942\"/>\n     <use style=\"fill:#1f77b4;stroke:#1f77b4;\" x=\"140.611133\" xlink:href=\"#m985c3f97b5\" y=\"73.83435\"/>\n     <use style=\"fill:#1f77b4;stroke:#1f77b4;\" x=\"121.985815\" xlink:href=\"#m985c3f97b5\" y=\"76.653523\"/>\n     <use style=\"fill:#1f77b4;stroke:#1f77b4;\" x=\"144.890652\" xlink:href=\"#m985c3f97b5\" y=\"73.60079\"/>\n     <use style=\"fill:#1f77b4;stroke:#1f77b4;\" x=\"105.192817\" xlink:href=\"#m985c3f97b5\" y=\"74.289399\"/>\n     <use style=\"fill:#1f77b4;stroke:#1f77b4;\" x=\"190.792289\" xlink:href=\"#m985c3f97b5\" y=\"136.603174\"/>\n     <use style=\"fill:#1f77b4;stroke:#1f77b4;\" x=\"74.612419\" xlink:href=\"#m985c3f97b5\" y=\"37.001547\"/>\n     <use style=\"fill:#1f77b4;stroke:#1f77b4;\" x=\"112.422651\" xlink:href=\"#m985c3f97b5\" y=\"66.276393\"/>\n     <use style=\"fill:#1f77b4;stroke:#1f77b4;\" x=\"97.574861\" xlink:href=\"#m985c3f97b5\" y=\"70.946412\"/>\n     <use style=\"fill:#1f77b4;stroke:#1f77b4;\" x=\"115.035398\" xlink:href=\"#m985c3f97b5\" y=\"64.819995\"/>\n     <use style=\"fill:#1f77b4;stroke:#1f77b4;\" x=\"132.287295\" xlink:href=\"#m985c3f97b5\" y=\"83.842404\"/>\n     <use style=\"fill:#1f77b4;stroke:#1f77b4;\" x=\"189.632421\" xlink:href=\"#m985c3f97b5\" y=\"95.751042\"/>\n     <use style=\"fill:#1f77b4;stroke:#1f77b4;\" x=\"137.524403\" xlink:href=\"#m985c3f97b5\" y=\"88.422163\"/>\n     <use style=\"fill:#1f77b4;stroke:#1f77b4;\" x=\"82.636873\" xlink:href=\"#m985c3f97b5\" y=\"53.207\"/>\n     <use style=\"fill:#1f77b4;stroke:#1f77b4;\" x=\"135.534078\" xlink:href=\"#m985c3f97b5\" y=\"97.916095\"/>\n     <use style=\"fill:#1f77b4;stroke:#1f77b4;\" x=\"148.60851\" xlink:href=\"#m985c3f97b5\" y=\"95.511005\"/>\n     <use style=\"fill:#1f77b4;stroke:#1f77b4;\" x=\"118.558107\" xlink:href=\"#m985c3f97b5\" y=\"62.962363\"/>\n     <use style=\"fill:#1f77b4;stroke:#1f77b4;\" x=\"158.221818\" xlink:href=\"#m985c3f97b5\" y=\"84.823063\"/>\n     <use style=\"fill:#1f77b4;stroke:#1f77b4;\" x=\"150.012626\" xlink:href=\"#m985c3f97b5\" y=\"93.530658\"/>\n     <use style=\"fill:#1f77b4;stroke:#1f77b4;\" x=\"137.891723\" xlink:href=\"#m985c3f97b5\" y=\"81.394883\"/>\n     <use style=\"fill:#1f77b4;stroke:#1f77b4;\" x=\"138.738841\" xlink:href=\"#m985c3f97b5\" y=\"70.886391\"/>\n     <use style=\"fill:#1f77b4;stroke:#1f77b4;\" x=\"75.946707\" xlink:href=\"#m985c3f97b5\" y=\"30.380111\"/>\n     <use style=\"fill:#1f77b4;stroke:#1f77b4;\" x=\"131.020887\" xlink:href=\"#m985c3f97b5\" y=\"71.600067\"/>\n     <use style=\"fill:#1f77b4;stroke:#1f77b4;\" x=\"114.044284\" xlink:href=\"#m985c3f97b5\" y=\"77.7628\"/>\n     <use style=\"fill:#1f77b4;stroke:#1f77b4;\" x=\"145.930145\" xlink:href=\"#m985c3f97b5\" y=\"91.383333\"/>\n     <use style=\"fill:#1f77b4;stroke:#1f77b4;\" x=\"121.028171\" xlink:href=\"#m985c3f97b5\" y=\"71.752169\"/>\n     <use style=\"fill:#1f77b4;stroke:#1f77b4;\" x=\"86.833524\" xlink:href=\"#m985c3f97b5\" y=\"54.33353\"/>\n     <use style=\"fill:#1f77b4;stroke:#1f77b4;\" x=\"115.320873\" xlink:href=\"#m985c3f97b5\" y=\"65.228149\"/>\n     <use style=\"fill:#1f77b4;stroke:#1f77b4;\" x=\"148.180032\" xlink:href=\"#m985c3f97b5\" y=\"89.315187\"/>\n     <use style=\"fill:#1f77b4;stroke:#1f77b4;\" x=\"142.442815\" xlink:href=\"#m985c3f97b5\" y=\"73.975512\"/>\n     <use style=\"fill:#1f77b4;stroke:#1f77b4;\" x=\"69.99229\" xlink:href=\"#m985c3f97b5\" y=\"32.278409\"/>\n     <use style=\"fill:#1f77b4;stroke:#1f77b4;\" x=\"130.993066\" xlink:href=\"#m985c3f97b5\" y=\"72.728695\"/>\n     <use style=\"fill:#1f77b4;stroke:#1f77b4;\" x=\"113.713175\" xlink:href=\"#m985c3f97b5\" y=\"73.286273\"/>\n     <use style=\"fill:#1f77b4;stroke:#1f77b4;\" x=\"142.152766\" xlink:href=\"#m985c3f97b5\" y=\"91.159494\"/>\n     <use style=\"fill:#1f77b4;stroke:#1f77b4;\" x=\"173.251694\" xlink:href=\"#m985c3f97b5\" y=\"95.967313\"/>\n     <use style=\"fill:#1f77b4;stroke:#1f77b4;\" x=\"143.43113\" xlink:href=\"#m985c3f97b5\" y=\"89.480621\"/>\n     <use style=\"fill:#1f77b4;stroke:#1f77b4;\" x=\"92.473365\" xlink:href=\"#m985c3f97b5\" y=\"42.265367\"/>\n     <use style=\"fill:#1f77b4;stroke:#1f77b4;\" x=\"89.139707\" xlink:href=\"#m985c3f97b5\" y=\"49.918009\"/>\n     <use style=\"fill:#1f77b4;stroke:#1f77b4;\" x=\"186.332672\" xlink:href=\"#m985c3f97b5\" y=\"127.609602\"/>\n     <use style=\"fill:#1f77b4;stroke:#1f77b4;\" x=\"114.2126\" xlink:href=\"#m985c3f97b5\" y=\"68.123864\"/>\n     <use style=\"fill:#1f77b4;stroke:#1f77b4;\" x=\"101.245027\" xlink:href=\"#m985c3f97b5\" y=\"62.562528\"/>\n     <use style=\"fill:#1f77b4;stroke:#1f77b4;\" x=\"126.862461\" xlink:href=\"#m985c3f97b5\" y=\"80.90325\"/>\n     <use style=\"fill:#1f77b4;stroke:#1f77b4;\" x=\"186.010524\" xlink:href=\"#m985c3f97b5\" y=\"114.704162\"/>\n     <use style=\"fill:#1f77b4;stroke:#1f77b4;\" x=\"188.79131\" xlink:href=\"#m985c3f97b5\" y=\"123.871647\"/>\n     <use style=\"fill:#1f77b4;stroke:#1f77b4;\" x=\"193.816998\" xlink:href=\"#m985c3f97b5\" y=\"110.042627\"/>\n     <use style=\"fill:#1f77b4;stroke:#1f77b4;\" x=\"149.290794\" xlink:href=\"#m985c3f97b5\" y=\"92.279259\"/>\n     <use style=\"fill:#1f77b4;stroke:#1f77b4;\" x=\"116.494755\" xlink:href=\"#m985c3f97b5\" y=\"88.762888\"/>\n     <use style=\"fill:#1f77b4;stroke:#1f77b4;\" x=\"145.883424\" xlink:href=\"#m985c3f97b5\" y=\"73.204637\"/>\n     <use style=\"fill:#1f77b4;stroke:#1f77b4;\" x=\"118.992466\" xlink:href=\"#m985c3f97b5\" y=\"65.023471\"/>\n     <use style=\"fill:#1f77b4;stroke:#1f77b4;\" x=\"117.317487\" xlink:href=\"#m985c3f97b5\" y=\"50.014704\"/>\n     <use style=\"fill:#1f77b4;stroke:#1f77b4;\" x=\"146.323811\" xlink:href=\"#m985c3f97b5\" y=\"94.381929\"/>\n     <use style=\"fill:#1f77b4;stroke:#1f77b4;\" x=\"130.301234\" xlink:href=\"#m985c3f97b5\" y=\"83.278589\"/>\n     <use style=\"fill:#1f77b4;stroke:#1f77b4;\" x=\"107.369359\" xlink:href=\"#m985c3f97b5\" y=\"47.694445\"/>\n     <use style=\"fill:#1f77b4;stroke:#1f77b4;\" x=\"111.597289\" xlink:href=\"#m985c3f97b5\" y=\"55.807143\"/>\n     <use style=\"fill:#1f77b4;stroke:#1f77b4;\" x=\"147.896804\" xlink:href=\"#m985c3f97b5\" y=\"97.665038\"/>\n     <use style=\"fill:#1f77b4;stroke:#1f77b4;\" x=\"179.369598\" xlink:href=\"#m985c3f97b5\" y=\"95.513757\"/>\n     <use style=\"fill:#1f77b4;stroke:#1f77b4;\" x=\"112.60494\" xlink:href=\"#m985c3f97b5\" y=\"84.592284\"/>\n     <use style=\"fill:#1f77b4;stroke:#1f77b4;\" x=\"67.093406\" xlink:href=\"#m985c3f97b5\" y=\"35.014243\"/>\n     <use style=\"fill:#1f77b4;stroke:#1f77b4;\" x=\"136.306239\" xlink:href=\"#m985c3f97b5\" y=\"86.325916\"/>\n     <use style=\"fill:#1f77b4;stroke:#1f77b4;\" x=\"80.286922\" xlink:href=\"#m985c3f97b5\" y=\"50.718854\"/>\n     <use style=\"fill:#1f77b4;stroke:#1f77b4;\" x=\"74.208265\" xlink:href=\"#m985c3f97b5\" y=\"49.567336\"/>\n     <use style=\"fill:#1f77b4;stroke:#1f77b4;\" x=\"135.174244\" xlink:href=\"#m985c3f97b5\" y=\"76.218269\"/>\n     <use style=\"fill:#1f77b4;stroke:#1f77b4;\" x=\"156.11919\" xlink:href=\"#m985c3f97b5\" y=\"94.136471\"/>\n     <use style=\"fill:#1f77b4;stroke:#1f77b4;\" x=\"152.886243\" xlink:href=\"#m985c3f97b5\" y=\"86.383226\"/>\n     <use style=\"fill:#1f77b4;stroke:#1f77b4;\" x=\"136.713288\" xlink:href=\"#m985c3f97b5\" y=\"56.277198\"/>\n     <use style=\"fill:#1f77b4;stroke:#1f77b4;\" x=\"139.148442\" xlink:href=\"#m985c3f97b5\" y=\"88.244692\"/>\n     <use style=\"fill:#1f77b4;stroke:#1f77b4;\" x=\"132.099709\" xlink:href=\"#m985c3f97b5\" y=\"67.550943\"/>\n     <use style=\"fill:#1f77b4;stroke:#1f77b4;\" x=\"152.3233\" xlink:href=\"#m985c3f97b5\" y=\"108.967393\"/>\n     <use style=\"fill:#1f77b4;stroke:#1f77b4;\" x=\"153.091524\" xlink:href=\"#m985c3f97b5\" y=\"105.068877\"/>\n     <use style=\"fill:#1f77b4;stroke:#1f77b4;\" x=\"124.216808\" xlink:href=\"#m985c3f97b5\" y=\"75.799968\"/>\n     <use style=\"fill:#1f77b4;stroke:#1f77b4;\" x=\"132.545726\" xlink:href=\"#m985c3f97b5\" y=\"96.462312\"/>\n     <use style=\"fill:#1f77b4;stroke:#1f77b4;\" x=\"114.582687\" xlink:href=\"#m985c3f97b5\" y=\"70.241939\"/>\n     <use style=\"fill:#1f77b4;stroke:#1f77b4;\" x=\"140.911255\" xlink:href=\"#m985c3f97b5\" y=\"87.885588\"/>\n     <use style=\"fill:#1f77b4;stroke:#1f77b4;\" x=\"129.393828\" xlink:href=\"#m985c3f97b5\" y=\"74.632395\"/>\n     <use style=\"fill:#1f77b4;stroke:#1f77b4;\" x=\"122.878416\" xlink:href=\"#m985c3f97b5\" y=\"69.345637\"/>\n     <use style=\"fill:#1f77b4;stroke:#1f77b4;\" x=\"106.7365\" xlink:href=\"#m985c3f97b5\" y=\"69.089364\"/>\n     <use style=\"fill:#1f77b4;stroke:#1f77b4;\" x=\"141.972645\" xlink:href=\"#m985c3f97b5\" y=\"86.679683\"/>\n     <use style=\"fill:#1f77b4;stroke:#1f77b4;\" x=\"142.369688\" xlink:href=\"#m985c3f97b5\" y=\"60.188603\"/>\n     <use style=\"fill:#1f77b4;stroke:#1f77b4;\" x=\"117.089547\" xlink:href=\"#m985c3f97b5\" y=\"63.170806\"/>\n     <use style=\"fill:#1f77b4;stroke:#1f77b4;\" x=\"117.760162\" xlink:href=\"#m985c3f97b5\" y=\"82.282872\"/>\n     <use style=\"fill:#1f77b4;stroke:#1f77b4;\" x=\"207.748749\" xlink:href=\"#m985c3f97b5\" y=\"104.654568\"/>\n     <use style=\"fill:#1f77b4;stroke:#1f77b4;\" x=\"134.111106\" xlink:href=\"#m985c3f97b5\" y=\"77.985565\"/>\n     <use style=\"fill:#1f77b4;stroke:#1f77b4;\" x=\"165.014799\" xlink:href=\"#m985c3f97b5\" y=\"85.576981\"/>\n     <use style=\"fill:#1f77b4;stroke:#1f77b4;\" x=\"82.772846\" xlink:href=\"#m985c3f97b5\" y=\"35.307087\"/>\n     <use style=\"fill:#1f77b4;stroke:#1f77b4;\" x=\"126.834196\" xlink:href=\"#m985c3f97b5\" y=\"82.149824\"/>\n     <use style=\"fill:#1f77b4;stroke:#1f77b4;\" x=\"118.048939\" xlink:href=\"#m985c3f97b5\" y=\"59.085922\"/>\n     <use style=\"fill:#1f77b4;stroke:#1f77b4;\" x=\"116.797138\" xlink:href=\"#m985c3f97b5\" y=\"69.601205\"/>\n     <use style=\"fill:#1f77b4;stroke:#1f77b4;\" x=\"128.433306\" xlink:href=\"#m985c3f97b5\" y=\"62.18677\"/>\n     <use style=\"fill:#1f77b4;stroke:#1f77b4;\" x=\"205.964073\" xlink:href=\"#m985c3f97b5\" y=\"126.87289\"/>\n     <use style=\"fill:#1f77b4;stroke:#1f77b4;\" x=\"143.518209\" xlink:href=\"#m985c3f97b5\" y=\"91.758964\"/>\n     <use style=\"fill:#1f77b4;stroke:#1f77b4;\" x=\"124.938428\" xlink:href=\"#m985c3f97b5\" y=\"68.537193\"/>\n     <use style=\"fill:#1f77b4;stroke:#1f77b4;\" x=\"157.206837\" xlink:href=\"#m985c3f97b5\" y=\"87.872288\"/>\n     <use style=\"fill:#1f77b4;stroke:#1f77b4;\" x=\"98.199761\" xlink:href=\"#m985c3f97b5\" y=\"71.446314\"/>\n     <use style=\"fill:#1f77b4;stroke:#1f77b4;\" x=\"158.226424\" xlink:href=\"#m985c3f97b5\" y=\"96.566613\"/>\n     <use style=\"fill:#1f77b4;stroke:#1f77b4;\" x=\"141.162096\" xlink:href=\"#m985c3f97b5\" y=\"83.041509\"/>\n     <use style=\"fill:#1f77b4;stroke:#1f77b4;\" x=\"83.295696\" xlink:href=\"#m985c3f97b5\" y=\"43.51202\"/>\n     <use style=\"fill:#1f77b4;stroke:#1f77b4;\" x=\"133.901106\" xlink:href=\"#m985c3f97b5\" y=\"81.992197\"/>\n     <use style=\"fill:#1f77b4;stroke:#1f77b4;\" x=\"136.814397\" xlink:href=\"#m985c3f97b5\" y=\"96.511566\"/>\n     <use style=\"fill:#1f77b4;stroke:#1f77b4;\" x=\"100.975245\" xlink:href=\"#m985c3f97b5\" y=\"50.560506\"/>\n     <use style=\"fill:#1f77b4;stroke:#1f77b4;\" x=\"106.569365\" xlink:href=\"#m985c3f97b5\" y=\"82.133407\"/>\n     <use style=\"fill:#1f77b4;stroke:#1f77b4;\" x=\"126.787471\" xlink:href=\"#m985c3f97b5\" y=\"74.588017\"/>\n     <use style=\"fill:#1f77b4;stroke:#1f77b4;\" x=\"127.092487\" xlink:href=\"#m985c3f97b5\" y=\"68.013576\"/>\n     <use style=\"fill:#1f77b4;stroke:#1f77b4;\" x=\"178.15429\" xlink:href=\"#m985c3f97b5\" y=\"94.500667\"/>\n     <use style=\"fill:#1f77b4;stroke:#1f77b4;\" x=\"127.347151\" xlink:href=\"#m985c3f97b5\" y=\"62.252733\"/>\n     <use style=\"fill:#1f77b4;stroke:#1f77b4;\" x=\"178.560991\" xlink:href=\"#m985c3f97b5\" y=\"92.393187\"/>\n     <use style=\"fill:#1f77b4;stroke:#1f77b4;\" x=\"135.26824\" xlink:href=\"#m985c3f97b5\" y=\"63.174253\"/>\n     <use style=\"fill:#1f77b4;stroke:#1f77b4;\" x=\"117.8947\" xlink:href=\"#m985c3f97b5\" y=\"70.060806\"/>\n     <use style=\"fill:#1f77b4;stroke:#1f77b4;\" x=\"57.743984\" xlink:href=\"#m985c3f97b5\" y=\"23.576534\"/>\n     <use style=\"fill:#1f77b4;stroke:#1f77b4;\" x=\"112.637404\" xlink:href=\"#m985c3f97b5\" y=\"58.854069\"/>\n     <use style=\"fill:#1f77b4;stroke:#1f77b4;\" x=\"187.67188\" xlink:href=\"#m985c3f97b5\" y=\"107.825164\"/>\n     <use style=\"fill:#1f77b4;stroke:#1f77b4;\" x=\"158.402955\" xlink:href=\"#m985c3f97b5\" y=\"92.440134\"/>\n     <use style=\"fill:#1f77b4;stroke:#1f77b4;\" x=\"121.655704\" xlink:href=\"#m985c3f97b5\" y=\"76.312606\"/>\n     <use style=\"fill:#1f77b4;stroke:#1f77b4;\" x=\"139.395059\" xlink:href=\"#m985c3f97b5\" y=\"67.074878\"/>\n     <use style=\"fill:#1f77b4;stroke:#1f77b4;\" x=\"160.247657\" xlink:href=\"#m985c3f97b5\" y=\"106.119404\"/>\n     <use style=\"fill:#1f77b4;stroke:#1f77b4;\" x=\"149.766915\" xlink:href=\"#m985c3f97b5\" y=\"90.656809\"/>\n     <use style=\"fill:#1f77b4;stroke:#1f77b4;\" x=\"132.789569\" xlink:href=\"#m985c3f97b5\" y=\"85.090957\"/>\n     <use style=\"fill:#1f77b4;stroke:#1f77b4;\" x=\"156.126855\" xlink:href=\"#m985c3f97b5\" y=\"97.72462\"/>\n     <use style=\"fill:#1f77b4;stroke:#1f77b4;\" x=\"144.932467\" xlink:href=\"#m985c3f97b5\" y=\"95.548086\"/>\n     <use style=\"fill:#1f77b4;stroke:#1f77b4;\" x=\"138.843108\" xlink:href=\"#m985c3f97b5\" y=\"80.271959\"/>\n     <use style=\"fill:#1f77b4;stroke:#1f77b4;\" x=\"126.81064\" xlink:href=\"#m985c3f97b5\" y=\"55.720018\"/>\n     <use style=\"fill:#1f77b4;stroke:#1f77b4;\" x=\"151.749734\" xlink:href=\"#m985c3f97b5\" y=\"66.266747\"/>\n     <use style=\"fill:#1f77b4;stroke:#1f77b4;\" x=\"130.939818\" xlink:href=\"#m985c3f97b5\" y=\"61.258941\"/>\n     <use style=\"fill:#1f77b4;stroke:#1f77b4;\" x=\"137.172677\" xlink:href=\"#m985c3f97b5\" y=\"90.255538\"/>\n     <use style=\"fill:#1f77b4;stroke:#1f77b4;\" x=\"186.920253\" xlink:href=\"#m985c3f97b5\" y=\"121.745718\"/>\n     <use style=\"fill:#1f77b4;stroke:#1f77b4;\" x=\"88.069608\" xlink:href=\"#m985c3f97b5\" y=\"48.146252\"/>\n     <use style=\"fill:#1f77b4;stroke:#1f77b4;\" x=\"112.586601\" xlink:href=\"#m985c3f97b5\" y=\"46.889171\"/>\n     <use style=\"fill:#1f77b4;stroke:#1f77b4;\" x=\"141.624466\" xlink:href=\"#m985c3f97b5\" y=\"89.052527\"/>\n     <use style=\"fill:#1f77b4;stroke:#1f77b4;\" x=\"104.778093\" xlink:href=\"#m985c3f97b5\" y=\"67.443349\"/>\n     <use style=\"fill:#1f77b4;stroke:#1f77b4;\" x=\"130.241046\" xlink:href=\"#m985c3f97b5\" y=\"75.895191\"/>\n     <use style=\"fill:#1f77b4;stroke:#1f77b4;\" x=\"109.747827\" xlink:href=\"#m985c3f97b5\" y=\"70.158153\"/>\n     <use style=\"fill:#1f77b4;stroke:#1f77b4;\" x=\"92.797474\" xlink:href=\"#m985c3f97b5\" y=\"53.402694\"/>\n     <use style=\"fill:#1f77b4;stroke:#1f77b4;\" x=\"195.481243\" xlink:href=\"#m985c3f97b5\" y=\"128.326193\"/>\n     <use style=\"fill:#1f77b4;stroke:#1f77b4;\" x=\"68.006476\" xlink:href=\"#m985c3f97b5\" y=\"21.786914\"/>\n     <use style=\"fill:#1f77b4;stroke:#1f77b4;\" x=\"186.771023\" xlink:href=\"#m985c3f97b5\" y=\"97.746435\"/>\n     <use style=\"fill:#1f77b4;stroke:#1f77b4;\" x=\"129.17514\" xlink:href=\"#m985c3f97b5\" y=\"89.757924\"/>\n     <use style=\"fill:#1f77b4;stroke:#1f77b4;\" x=\"89.679114\" xlink:href=\"#m985c3f97b5\" y=\"50.226066\"/>\n     <use style=\"fill:#1f77b4;stroke:#1f77b4;\" x=\"180.475215\" xlink:href=\"#m985c3f97b5\" y=\"109.84162\"/>\n     <use style=\"fill:#1f77b4;stroke:#1f77b4;\" x=\"192.46593\" xlink:href=\"#m985c3f97b5\" y=\"123.118709\"/>\n     <use style=\"fill:#1f77b4;stroke:#1f77b4;\" x=\"99.876183\" xlink:href=\"#m985c3f97b5\" y=\"52.278693\"/>\n     <use style=\"fill:#1f77b4;stroke:#1f77b4;\" x=\"136.181531\" xlink:href=\"#m985c3f97b5\" y=\"73.522318\"/>\n     <use style=\"fill:#1f77b4;stroke:#1f77b4;\" x=\"129.617605\" xlink:href=\"#m985c3f97b5\" y=\"71.579172\"/>\n     <use style=\"fill:#1f77b4;stroke:#1f77b4;\" x=\"97.612038\" xlink:href=\"#m985c3f97b5\" y=\"57.039185\"/>\n     <use style=\"fill:#1f77b4;stroke:#1f77b4;\" x=\"106.399046\" xlink:href=\"#m985c3f97b5\" y=\"78.289224\"/>\n     <use style=\"fill:#1f77b4;stroke:#1f77b4;\" x=\"157.20339\" xlink:href=\"#m985c3f97b5\" y=\"63.140699\"/>\n     <use style=\"fill:#1f77b4;stroke:#1f77b4;\" x=\"191.805208\" xlink:href=\"#m985c3f97b5\" y=\"131.175571\"/>\n     <use style=\"fill:#1f77b4;stroke:#1f77b4;\" x=\"175.048626\" xlink:href=\"#m985c3f97b5\" y=\"117.787678\"/>\n     <use style=\"fill:#1f77b4;stroke:#1f77b4;\" x=\"111.649774\" xlink:href=\"#m985c3f97b5\" y=\"53.25414\"/>\n     <use style=\"fill:#1f77b4;stroke:#1f77b4;\" x=\"110.84023\" xlink:href=\"#m985c3f97b5\" y=\"73.706823\"/>\n     <use style=\"fill:#1f77b4;stroke:#1f77b4;\" x=\"152.713513\" xlink:href=\"#m985c3f97b5\" y=\"87.092248\"/>\n     <use style=\"fill:#1f77b4;stroke:#1f77b4;\" x=\"50.451098\" xlink:href=\"#m985c3f97b5\" y=\"35.65346\"/>\n     <use style=\"fill:#1f77b4;stroke:#1f77b4;\" x=\"159.757639\" xlink:href=\"#m985c3f97b5\" y=\"85.741588\"/>\n     <use style=\"fill:#1f77b4;stroke:#1f77b4;\" x=\"196.26723\" xlink:href=\"#m985c3f97b5\" y=\"109.556868\"/>\n     <use style=\"fill:#1f77b4;stroke:#1f77b4;\" x=\"164.479725\" xlink:href=\"#m985c3f97b5\" y=\"88.957047\"/>\n     <use style=\"fill:#1f77b4;stroke:#1f77b4;\" x=\"95.23866\" xlink:href=\"#m985c3f97b5\" y=\"41.429441\"/>\n     <use style=\"fill:#1f77b4;stroke:#1f77b4;\" x=\"138.949557\" xlink:href=\"#m985c3f97b5\" y=\"81.312061\"/>\n     <use style=\"fill:#1f77b4;stroke:#1f77b4;\" x=\"157.568421\" xlink:href=\"#m985c3f97b5\" y=\"114.467045\"/>\n     <use style=\"fill:#1f77b4;stroke:#1f77b4;\" x=\"142.886649\" xlink:href=\"#m985c3f97b5\" y=\"98.587682\"/>\n     <use style=\"fill:#1f77b4;stroke:#1f77b4;\" x=\"114.383439\" xlink:href=\"#m985c3f97b5\" y=\"86.436283\"/>\n     <use style=\"fill:#1f77b4;stroke:#1f77b4;\" x=\"142.590727\" xlink:href=\"#m985c3f97b5\" y=\"84.428333\"/>\n     <use style=\"fill:#1f77b4;stroke:#1f77b4;\" x=\"95.424317\" xlink:href=\"#m985c3f97b5\" y=\"40.002318\"/>\n     <use style=\"fill:#1f77b4;stroke:#1f77b4;\" x=\"150.809763\" xlink:href=\"#m985c3f97b5\" y=\"88.524987\"/>\n     <use style=\"fill:#1f77b4;stroke:#1f77b4;\" x=\"165.434659\" xlink:href=\"#m985c3f97b5\" y=\"107.688504\"/>\n     <use style=\"fill:#1f77b4;stroke:#1f77b4;\" x=\"85.798199\" xlink:href=\"#m985c3f97b5\" y=\"67.327644\"/>\n     <use style=\"fill:#1f77b4;stroke:#1f77b4;\" x=\"116.23638\" xlink:href=\"#m985c3f97b5\" y=\"66.630843\"/>\n     <use style=\"fill:#1f77b4;stroke:#1f77b4;\" x=\"148.828668\" xlink:href=\"#m985c3f97b5\" y=\"89.87256\"/>\n     <use style=\"fill:#1f77b4;stroke:#1f77b4;\" x=\"124.418083\" xlink:href=\"#m985c3f97b5\" y=\"78.476089\"/>\n     <use style=\"fill:#1f77b4;stroke:#1f77b4;\" x=\"83.531056\" xlink:href=\"#m985c3f97b5\" y=\"53.914354\"/>\n     <use style=\"fill:#1f77b4;stroke:#1f77b4;\" x=\"121.18627\" xlink:href=\"#m985c3f97b5\" y=\"64.203308\"/>\n     <use style=\"fill:#1f77b4;stroke:#1f77b4;\" x=\"135.685897\" xlink:href=\"#m985c3f97b5\" y=\"75.323774\"/>\n     <use style=\"fill:#1f77b4;stroke:#1f77b4;\" x=\"134.348658\" xlink:href=\"#m985c3f97b5\" y=\"74.031059\"/>\n     <use style=\"fill:#1f77b4;stroke:#1f77b4;\" x=\"134.989613\" xlink:href=\"#m985c3f97b5\" y=\"92.421112\"/>\n     <use style=\"fill:#1f77b4;stroke:#1f77b4;\" x=\"92.20752\" xlink:href=\"#m985c3f97b5\" y=\"71.739225\"/>\n     <use style=\"fill:#1f77b4;stroke:#1f77b4;\" x=\"123.384993\" xlink:href=\"#m985c3f97b5\" y=\"63.460527\"/>\n     <use style=\"fill:#1f77b4;stroke:#1f77b4;\" x=\"125.457156\" xlink:href=\"#m985c3f97b5\" y=\"78.13819\"/>\n     <use style=\"fill:#1f77b4;stroke:#1f77b4;\" x=\"169.035876\" xlink:href=\"#m985c3f97b5\" y=\"100.355094\"/>\n     <use style=\"fill:#1f77b4;stroke:#1f77b4;\" x=\"141.82659\" xlink:href=\"#m985c3f97b5\" y=\"82.350075\"/>\n     <use style=\"fill:#1f77b4;stroke:#1f77b4;\" x=\"180.279546\" xlink:href=\"#m985c3f97b5\" y=\"109.792017\"/>\n     <use style=\"fill:#1f77b4;stroke:#1f77b4;\" x=\"135.674137\" xlink:href=\"#m985c3f97b5\" y=\"82.005454\"/>\n     <use style=\"fill:#1f77b4;stroke:#1f77b4;\" x=\"131.813145\" xlink:href=\"#m985c3f97b5\" y=\"82.850844\"/>\n     <use style=\"fill:#1f77b4;stroke:#1f77b4;\" x=\"165.414932\" xlink:href=\"#m985c3f97b5\" y=\"104.243625\"/>\n     <use style=\"fill:#1f77b4;stroke:#1f77b4;\" x=\"96.266298\" xlink:href=\"#m985c3f97b5\" y=\"50.351583\"/>\n     <use style=\"fill:#1f77b4;stroke:#1f77b4;\" x=\"152.511545\" xlink:href=\"#m985c3f97b5\" y=\"94.771056\"/>\n     <use style=\"fill:#1f77b4;stroke:#1f77b4;\" x=\"126.642272\" xlink:href=\"#m985c3f97b5\" y=\"65.122121\"/>\n     <use style=\"fill:#1f77b4;stroke:#1f77b4;\" x=\"144.009357\" xlink:href=\"#m985c3f97b5\" y=\"92.841534\"/>\n     <use style=\"fill:#1f77b4;stroke:#1f77b4;\" x=\"145.430019\" xlink:href=\"#m985c3f97b5\" y=\"65.777449\"/>\n     <use style=\"fill:#1f77b4;stroke:#1f77b4;\" x=\"132.147005\" xlink:href=\"#m985c3f97b5\" y=\"86.553889\"/>\n     <use style=\"fill:#1f77b4;stroke:#1f77b4;\" x=\"146.387971\" xlink:href=\"#m985c3f97b5\" y=\"78.694856\"/>\n     <use style=\"fill:#1f77b4;stroke:#1f77b4;\" x=\"160.121822\" xlink:href=\"#m985c3f97b5\" y=\"91.957876\"/>\n     <use style=\"fill:#1f77b4;stroke:#1f77b4;\" x=\"84.215116\" xlink:href=\"#m985c3f97b5\" y=\"40.449425\"/>\n     <use style=\"fill:#1f77b4;stroke:#1f77b4;\" x=\"102.400153\" xlink:href=\"#m985c3f97b5\" y=\"40.0353\"/>\n     <use style=\"fill:#1f77b4;stroke:#1f77b4;\" x=\"117.05453\" xlink:href=\"#m985c3f97b5\" y=\"64.238637\"/>\n     <use style=\"fill:#1f77b4;stroke:#1f77b4;\" x=\"80.547949\" xlink:href=\"#m985c3f97b5\" y=\"50.501387\"/>\n     <use style=\"fill:#1f77b4;stroke:#1f77b4;\" x=\"117.751029\" xlink:href=\"#m985c3f97b5\" y=\"81.565868\"/>\n     <use style=\"fill:#1f77b4;stroke:#1f77b4;\" x=\"140.945183\" xlink:href=\"#m985c3f97b5\" y=\"111.561159\"/>\n     <use style=\"fill:#1f77b4;stroke:#1f77b4;\" x=\"114.422357\" xlink:href=\"#m985c3f97b5\" y=\"65.256649\"/>\n     <use style=\"fill:#1f77b4;stroke:#1f77b4;\" x=\"147.573177\" xlink:href=\"#m985c3f97b5\" y=\"90.673229\"/>\n     <use style=\"fill:#1f77b4;stroke:#1f77b4;\" x=\"159.567578\" xlink:href=\"#m985c3f97b5\" y=\"90.44615\"/>\n     <use style=\"fill:#1f77b4;stroke:#1f77b4;\" x=\"131.102951\" xlink:href=\"#m985c3f97b5\" y=\"71.922186\"/>\n     <use style=\"fill:#1f77b4;stroke:#1f77b4;\" x=\"115.587765\" xlink:href=\"#m985c3f97b5\" y=\"68.098212\"/>\n     <use style=\"fill:#1f77b4;stroke:#1f77b4;\" x=\"117.264504\" xlink:href=\"#m985c3f97b5\" y=\"74.862691\"/>\n     <use style=\"fill:#1f77b4;stroke:#1f77b4;\" x=\"123.068593\" xlink:href=\"#m985c3f97b5\" y=\"85.011966\"/>\n     <use style=\"fill:#1f77b4;stroke:#1f77b4;\" x=\"94.113767\" xlink:href=\"#m985c3f97b5\" y=\"65.068734\"/>\n     <use style=\"fill:#1f77b4;stroke:#1f77b4;\" x=\"129.15637\" xlink:href=\"#m985c3f97b5\" y=\"72.055924\"/>\n     <use style=\"fill:#1f77b4;stroke:#1f77b4;\" x=\"92.030735\" xlink:href=\"#m985c3f97b5\" y=\"61.320235\"/>\n     <use style=\"fill:#1f77b4;stroke:#1f77b4;\" x=\"114.152772\" xlink:href=\"#m985c3f97b5\" y=\"79.957055\"/>\n     <use style=\"fill:#1f77b4;stroke:#1f77b4;\" x=\"149.455786\" xlink:href=\"#m985c3f97b5\" y=\"84.635173\"/>\n     <use style=\"fill:#1f77b4;stroke:#1f77b4;\" x=\"123.331507\" xlink:href=\"#m985c3f97b5\" y=\"79.155686\"/>\n     <use style=\"fill:#1f77b4;stroke:#1f77b4;\" x=\"123.71218\" xlink:href=\"#m985c3f97b5\" y=\"93.49022\"/>\n     <use style=\"fill:#1f77b4;stroke:#1f77b4;\" x=\"141.152847\" xlink:href=\"#m985c3f97b5\" y=\"71.876228\"/>\n     <use style=\"fill:#1f77b4;stroke:#1f77b4;\" x=\"159.80744\" xlink:href=\"#m985c3f97b5\" y=\"87.756101\"/>\n     <use style=\"fill:#1f77b4;stroke:#1f77b4;\" x=\"107.313636\" xlink:href=\"#m985c3f97b5\" y=\"58.628293\"/>\n     <use style=\"fill:#1f77b4;stroke:#1f77b4;\" x=\"76.892317\" xlink:href=\"#m985c3f97b5\" y=\"38.134572\"/>\n     <use style=\"fill:#1f77b4;stroke:#1f77b4;\" x=\"108.762991\" xlink:href=\"#m985c3f97b5\" y=\"81.183987\"/>\n     <use style=\"fill:#1f77b4;stroke:#1f77b4;\" x=\"88.448641\" xlink:href=\"#m985c3f97b5\" y=\"41.544134\"/>\n     <use style=\"fill:#1f77b4;stroke:#1f77b4;\" x=\"160.942662\" xlink:href=\"#m985c3f97b5\" y=\"96.538463\"/>\n     <use style=\"fill:#1f77b4;stroke:#1f77b4;\" x=\"140.323081\" xlink:href=\"#m985c3f97b5\" y=\"61.619591\"/>\n     <use style=\"fill:#1f77b4;stroke:#1f77b4;\" x=\"169.981817\" xlink:href=\"#m985c3f97b5\" y=\"96.106498\"/>\n     <use style=\"fill:#1f77b4;stroke:#1f77b4;\" x=\"124.732598\" xlink:href=\"#m985c3f97b5\" y=\"85.249598\"/>\n     <use style=\"fill:#1f77b4;stroke:#1f77b4;\" x=\"136.887974\" xlink:href=\"#m985c3f97b5\" y=\"71.342217\"/>\n     <use style=\"fill:#1f77b4;stroke:#1f77b4;\" x=\"129.957294\" xlink:href=\"#m985c3f97b5\" y=\"70.839518\"/>\n     <use style=\"fill:#1f77b4;stroke:#1f77b4;\" x=\"152.37792\" xlink:href=\"#m985c3f97b5\" y=\"109.323778\"/>\n     <use style=\"fill:#1f77b4;stroke:#1f77b4;\" x=\"151.801718\" xlink:href=\"#m985c3f97b5\" y=\"94.273341\"/>\n     <use style=\"fill:#1f77b4;stroke:#1f77b4;\" x=\"160.880225\" xlink:href=\"#m985c3f97b5\" y=\"79.934084\"/>\n     <use style=\"fill:#1f77b4;stroke:#1f77b4;\" x=\"175.748393\" xlink:href=\"#m985c3f97b5\" y=\"129.449782\"/>\n     <use style=\"fill:#1f77b4;stroke:#1f77b4;\" x=\"150.990073\" xlink:href=\"#m985c3f97b5\" y=\"91.912425\"/>\n     <use style=\"fill:#1f77b4;stroke:#1f77b4;\" x=\"186.318036\" xlink:href=\"#m985c3f97b5\" y=\"119.610476\"/>\n     <use style=\"fill:#1f77b4;stroke:#1f77b4;\" x=\"99.015457\" xlink:href=\"#m985c3f97b5\" y=\"80.115221\"/>\n     <use style=\"fill:#1f77b4;stroke:#1f77b4;\" x=\"155.166125\" xlink:href=\"#m985c3f97b5\" y=\"87.726002\"/>\n     <use style=\"fill:#1f77b4;stroke:#1f77b4;\" x=\"100.246825\" xlink:href=\"#m985c3f97b5\" y=\"57.195003\"/>\n     <use style=\"fill:#1f77b4;stroke:#1f77b4;\" x=\"109.885021\" xlink:href=\"#m985c3f97b5\" y=\"71.246427\"/>\n     <use style=\"fill:#1f77b4;stroke:#1f77b4;\" x=\"126.066298\" xlink:href=\"#m985c3f97b5\" y=\"63.825309\"/>\n     <use style=\"fill:#1f77b4;stroke:#1f77b4;\" x=\"81.719148\" xlink:href=\"#m985c3f97b5\" y=\"54.825208\"/>\n     <use style=\"fill:#1f77b4;stroke:#1f77b4;\" x=\"139.793891\" xlink:href=\"#m985c3f97b5\" y=\"86.410942\"/>\n     <use style=\"fill:#1f77b4;stroke:#1f77b4;\" x=\"79.283898\" xlink:href=\"#m985c3f97b5\" y=\"45.641419\"/>\n     <use style=\"fill:#1f77b4;stroke:#1f77b4;\" x=\"156.538863\" xlink:href=\"#m985c3f97b5\" y=\"76.708217\"/>\n     <use style=\"fill:#1f77b4;stroke:#1f77b4;\" x=\"84.642968\" xlink:href=\"#m985c3f97b5\" y=\"48.791599\"/>\n     <use style=\"fill:#1f77b4;stroke:#1f77b4;\" x=\"141.638437\" xlink:href=\"#m985c3f97b5\" y=\"77.745012\"/>\n     <use style=\"fill:#1f77b4;stroke:#1f77b4;\" x=\"136.259437\" xlink:href=\"#m985c3f97b5\" y=\"73.288338\"/>\n     <use style=\"fill:#1f77b4;stroke:#1f77b4;\" x=\"186.287115\" xlink:href=\"#m985c3f97b5\" y=\"110.719655\"/>\n     <use style=\"fill:#1f77b4;stroke:#1f77b4;\" x=\"153.876208\" xlink:href=\"#m985c3f97b5\" y=\"76.212567\"/>\n     <use style=\"fill:#1f77b4;stroke:#1f77b4;\" x=\"109.44411\" xlink:href=\"#m985c3f97b5\" y=\"64.471755\"/>\n     <use style=\"fill:#1f77b4;stroke:#1f77b4;\" x=\"122.89345\" xlink:href=\"#m985c3f97b5\" y=\"77.149235\"/>\n     <use style=\"fill:#1f77b4;stroke:#1f77b4;\" x=\"73.785864\" xlink:href=\"#m985c3f97b5\" y=\"57.148761\"/>\n     <use style=\"fill:#1f77b4;stroke:#1f77b4;\" x=\"117.726957\" xlink:href=\"#m985c3f97b5\" y=\"72.4443\"/>\n     <use style=\"fill:#1f77b4;stroke:#1f77b4;\" x=\"168.913385\" xlink:href=\"#m985c3f97b5\" y=\"100.773285\"/>\n     <use style=\"fill:#1f77b4;stroke:#1f77b4;\" x=\"181.656043\" xlink:href=\"#m985c3f97b5\" y=\"114.615121\"/>\n     <use style=\"fill:#1f77b4;stroke:#1f77b4;\" x=\"106.272849\" xlink:href=\"#m985c3f97b5\" y=\"59.728564\"/>\n     <use style=\"fill:#1f77b4;stroke:#1f77b4;\" x=\"133.395293\" xlink:href=\"#m985c3f97b5\" y=\"68.041383\"/>\n     <use style=\"fill:#1f77b4;stroke:#1f77b4;\" x=\"148.781877\" xlink:href=\"#m985c3f97b5\" y=\"72.94245\"/>\n     <use style=\"fill:#1f77b4;stroke:#1f77b4;\" x=\"144.81616\" xlink:href=\"#m985c3f97b5\" y=\"100.49506\"/>\n     <use style=\"fill:#1f77b4;stroke:#1f77b4;\" x=\"111.526013\" xlink:href=\"#m985c3f97b5\" y=\"69.288868\"/>\n     <use style=\"fill:#1f77b4;stroke:#1f77b4;\" x=\"104.896994\" xlink:href=\"#m985c3f97b5\" y=\"53.886007\"/>\n     <use style=\"fill:#1f77b4;stroke:#1f77b4;\" x=\"170.884156\" xlink:href=\"#m985c3f97b5\" y=\"102.309492\"/>\n     <use style=\"fill:#1f77b4;stroke:#1f77b4;\" x=\"117.386055\" xlink:href=\"#m985c3f97b5\" y=\"86.608922\"/>\n     <use style=\"fill:#1f77b4;stroke:#1f77b4;\" x=\"115.828913\" xlink:href=\"#m985c3f97b5\" y=\"71.814867\"/>\n     <use style=\"fill:#1f77b4;stroke:#1f77b4;\" x=\"100.653287\" xlink:href=\"#m985c3f97b5\" y=\"69.079863\"/>\n     <use style=\"fill:#1f77b4;stroke:#1f77b4;\" x=\"97.895525\" xlink:href=\"#m985c3f97b5\" y=\"69.39121\"/>\n     <use style=\"fill:#1f77b4;stroke:#1f77b4;\" x=\"114.774289\" xlink:href=\"#m985c3f97b5\" y=\"78.736753\"/>\n     <use style=\"fill:#1f77b4;stroke:#1f77b4;\" x=\"107.983149\" xlink:href=\"#m985c3f97b5\" y=\"65.55597\"/>\n     <use style=\"fill:#1f77b4;stroke:#1f77b4;\" x=\"174.997945\" xlink:href=\"#m985c3f97b5\" y=\"92.413241\"/>\n     <use style=\"fill:#1f77b4;stroke:#1f77b4;\" x=\"144.357402\" xlink:href=\"#m985c3f97b5\" y=\"88.744809\"/>\n     <use style=\"fill:#1f77b4;stroke:#1f77b4;\" x=\"96.010818\" xlink:href=\"#m985c3f97b5\" y=\"46.682108\"/>\n     <use style=\"fill:#1f77b4;stroke:#1f77b4;\" x=\"160.420999\" xlink:href=\"#m985c3f97b5\" y=\"77.072551\"/>\n     <use style=\"fill:#1f77b4;stroke:#1f77b4;\" x=\"133.515875\" xlink:href=\"#m985c3f97b5\" y=\"93.298519\"/>\n     <use style=\"fill:#1f77b4;stroke:#1f77b4;\" x=\"105.569318\" xlink:href=\"#m985c3f97b5\" y=\"65.125828\"/>\n     <use style=\"fill:#1f77b4;stroke:#1f77b4;\" x=\"142.875002\" xlink:href=\"#m985c3f97b5\" y=\"86.676809\"/>\n     <use style=\"fill:#1f77b4;stroke:#1f77b4;\" x=\"138.560205\" xlink:href=\"#m985c3f97b5\" y=\"78.217829\"/>\n     <use style=\"fill:#1f77b4;stroke:#1f77b4;\" x=\"112.697254\" xlink:href=\"#m985c3f97b5\" y=\"74.567707\"/>\n     <use style=\"fill:#1f77b4;stroke:#1f77b4;\" x=\"107.876129\" xlink:href=\"#m985c3f97b5\" y=\"51.300982\"/>\n     <use style=\"fill:#1f77b4;stroke:#1f77b4;\" x=\"102.40131\" xlink:href=\"#m985c3f97b5\" y=\"62.219222\"/>\n     <use style=\"fill:#1f77b4;stroke:#1f77b4;\" x=\"127.987618\" xlink:href=\"#m985c3f97b5\" y=\"75.661226\"/>\n     <use style=\"fill:#1f77b4;stroke:#1f77b4;\" x=\"130.839375\" xlink:href=\"#m985c3f97b5\" y=\"60.639677\"/>\n     <use style=\"fill:#1f77b4;stroke:#1f77b4;\" x=\"100.762811\" xlink:href=\"#m985c3f97b5\" y=\"73.75843\"/>\n     <use style=\"fill:#1f77b4;stroke:#1f77b4;\" x=\"154.138182\" xlink:href=\"#m985c3f97b5\" y=\"114.629863\"/>\n     <use style=\"fill:#1f77b4;stroke:#1f77b4;\" x=\"124.669743\" xlink:href=\"#m985c3f97b5\" y=\"66.646471\"/>\n     <use style=\"fill:#1f77b4;stroke:#1f77b4;\" x=\"174.659891\" xlink:href=\"#m985c3f97b5\" y=\"99.129871\"/>\n     <use style=\"fill:#1f77b4;stroke:#1f77b4;\" x=\"182.737078\" xlink:href=\"#m985c3f97b5\" y=\"108.739793\"/>\n     <use style=\"fill:#1f77b4;stroke:#1f77b4;\" x=\"134.7291\" xlink:href=\"#m985c3f97b5\" y=\"76.290069\"/>\n     <use style=\"fill:#1f77b4;stroke:#1f77b4;\" x=\"115.50321\" xlink:href=\"#m985c3f97b5\" y=\"84.17196\"/>\n     <use style=\"fill:#1f77b4;stroke:#1f77b4;\" x=\"151.837368\" xlink:href=\"#m985c3f97b5\" y=\"97.617462\"/>\n     <use style=\"fill:#1f77b4;stroke:#1f77b4;\" x=\"127.20124\" xlink:href=\"#m985c3f97b5\" y=\"68.8424\"/>\n     <use style=\"fill:#1f77b4;stroke:#1f77b4;\" x=\"141.694483\" xlink:href=\"#m985c3f97b5\" y=\"81.174632\"/>\n     <use style=\"fill:#1f77b4;stroke:#1f77b4;\" x=\"166.592755\" xlink:href=\"#m985c3f97b5\" y=\"95.830955\"/>\n     <use style=\"fill:#1f77b4;stroke:#1f77b4;\" x=\"157.585768\" xlink:href=\"#m985c3f97b5\" y=\"85.539378\"/>\n     <use style=\"fill:#1f77b4;stroke:#1f77b4;\" x=\"155.215994\" xlink:href=\"#m985c3f97b5\" y=\"82.561512\"/>\n     <use style=\"fill:#1f77b4;stroke:#1f77b4;\" x=\"105.779925\" xlink:href=\"#m985c3f97b5\" y=\"77.239743\"/>\n     <use style=\"fill:#1f77b4;stroke:#1f77b4;\" x=\"144.473033\" xlink:href=\"#m985c3f97b5\" y=\"88.46524\"/>\n     <use style=\"fill:#1f77b4;stroke:#1f77b4;\" x=\"125.263098\" xlink:href=\"#m985c3f97b5\" y=\"69.233559\"/>\n     <use style=\"fill:#1f77b4;stroke:#1f77b4;\" x=\"121.431807\" xlink:href=\"#m985c3f97b5\" y=\"66.503184\"/>\n     <use style=\"fill:#1f77b4;stroke:#1f77b4;\" x=\"215.364915\" xlink:href=\"#m985c3f97b5\" y=\"129.296298\"/>\n     <use style=\"fill:#1f77b4;stroke:#1f77b4;\" x=\"107.701441\" xlink:href=\"#m985c3f97b5\" y=\"68.531901\"/>\n     <use style=\"fill:#1f77b4;stroke:#1f77b4;\" x=\"150.401709\" xlink:href=\"#m985c3f97b5\" y=\"91.081211\"/>\n     <use style=\"fill:#1f77b4;stroke:#1f77b4;\" x=\"77.30998\" xlink:href=\"#m985c3f97b5\" y=\"50.98794\"/>\n     <use style=\"fill:#1f77b4;stroke:#1f77b4;\" x=\"118.834904\" xlink:href=\"#m985c3f97b5\" y=\"90.495772\"/>\n     <use style=\"fill:#1f77b4;stroke:#1f77b4;\" x=\"145.885495\" xlink:href=\"#m985c3f97b5\" y=\"80.39218\"/>\n     <use style=\"fill:#1f77b4;stroke:#1f77b4;\" x=\"153.461975\" xlink:href=\"#m985c3f97b5\" y=\"88.371835\"/>\n     <use style=\"fill:#1f77b4;stroke:#1f77b4;\" x=\"151.325025\" xlink:href=\"#m985c3f97b5\" y=\"91.990252\"/>\n     <use style=\"fill:#1f77b4;stroke:#1f77b4;\" x=\"73.081178\" xlink:href=\"#m985c3f97b5\" y=\"57.863835\"/>\n     <use style=\"fill:#1f77b4;stroke:#1f77b4;\" x=\"170.013372\" xlink:href=\"#m985c3f97b5\" y=\"102.509591\"/>\n     <use style=\"fill:#1f77b4;stroke:#1f77b4;\" x=\"125.09596\" xlink:href=\"#m985c3f97b5\" y=\"64.715861\"/>\n     <use style=\"fill:#1f77b4;stroke:#1f77b4;\" x=\"153.122822\" xlink:href=\"#m985c3f97b5\" y=\"98.114654\"/>\n     <use style=\"fill:#1f77b4;stroke:#1f77b4;\" x=\"143.602606\" xlink:href=\"#m985c3f97b5\" y=\"91.610654\"/>\n     <use style=\"fill:#1f77b4;stroke:#1f77b4;\" x=\"162.247473\" xlink:href=\"#m985c3f97b5\" y=\"99.084905\"/>\n     <use style=\"fill:#1f77b4;stroke:#1f77b4;\" x=\"148.522393\" xlink:href=\"#m985c3f97b5\" y=\"93.511749\"/>\n     <use style=\"fill:#1f77b4;stroke:#1f77b4;\" x=\"155.681321\" xlink:href=\"#m985c3f97b5\" y=\"113.532846\"/>\n     <use style=\"fill:#1f77b4;stroke:#1f77b4;\" x=\"83.783076\" xlink:href=\"#m985c3f97b5\" y=\"44.192118\"/>\n     <use style=\"fill:#1f77b4;stroke:#1f77b4;\" x=\"152.311276\" xlink:href=\"#m985c3f97b5\" y=\"85.237228\"/>\n     <use style=\"fill:#1f77b4;stroke:#1f77b4;\" x=\"108.073512\" xlink:href=\"#m985c3f97b5\" y=\"43.314571\"/>\n     <use style=\"fill:#1f77b4;stroke:#1f77b4;\" x=\"154.205236\" xlink:href=\"#m985c3f97b5\" y=\"88.839736\"/>\n     <use style=\"fill:#1f77b4;stroke:#1f77b4;\" x=\"77.716587\" xlink:href=\"#m985c3f97b5\" y=\"42.201294\"/>\n     <use style=\"fill:#1f77b4;stroke:#1f77b4;\" x=\"140.2446\" xlink:href=\"#m985c3f97b5\" y=\"75.065689\"/>\n     <use style=\"fill:#1f77b4;stroke:#1f77b4;\" x=\"196.659645\" xlink:href=\"#m985c3f97b5\" y=\"118.680684\"/>\n     <use style=\"fill:#1f77b4;stroke:#1f77b4;\" x=\"146.406077\" xlink:href=\"#m985c3f97b5\" y=\"83.942338\"/>\n     <use style=\"fill:#1f77b4;stroke:#1f77b4;\" x=\"191.807238\" xlink:href=\"#m985c3f97b5\" y=\"117.47913\"/>\n     <use style=\"fill:#1f77b4;stroke:#1f77b4;\" x=\"137.099995\" xlink:href=\"#m985c3f97b5\" y=\"84.595517\"/>\n     <use style=\"fill:#1f77b4;stroke:#1f77b4;\" x=\"96.473754\" xlink:href=\"#m985c3f97b5\" y=\"56.648709\"/>\n     <use style=\"fill:#1f77b4;stroke:#1f77b4;\" x=\"138.191199\" xlink:href=\"#m985c3f97b5\" y=\"76.183943\"/>\n     <use style=\"fill:#1f77b4;stroke:#1f77b4;\" x=\"117.819914\" xlink:href=\"#m985c3f97b5\" y=\"60.775973\"/>\n     <use style=\"fill:#1f77b4;stroke:#1f77b4;\" x=\"83.001368\" xlink:href=\"#m985c3f97b5\" y=\"62.545922\"/>\n     <use style=\"fill:#1f77b4;stroke:#1f77b4;\" x=\"92.227892\" xlink:href=\"#m985c3f97b5\" y=\"40.890494\"/>\n     <use style=\"fill:#1f77b4;stroke:#1f77b4;\" x=\"163.663662\" xlink:href=\"#m985c3f97b5\" y=\"114.391272\"/>\n     <use style=\"fill:#1f77b4;stroke:#1f77b4;\" x=\"158.272341\" xlink:href=\"#m985c3f97b5\" y=\"102.224486\"/>\n     <use style=\"fill:#1f77b4;stroke:#1f77b4;\" x=\"111.619484\" xlink:href=\"#m985c3f97b5\" y=\"64.441603\"/>\n     <use style=\"fill:#1f77b4;stroke:#1f77b4;\" x=\"125.922192\" xlink:href=\"#m985c3f97b5\" y=\"72.177128\"/>\n     <use style=\"fill:#1f77b4;stroke:#1f77b4;\" x=\"111.793455\" xlink:href=\"#m985c3f97b5\" y=\"58.618807\"/>\n     <use style=\"fill:#1f77b4;stroke:#1f77b4;\" x=\"141.903264\" xlink:href=\"#m985c3f97b5\" y=\"64.341384\"/>\n     <use style=\"fill:#1f77b4;stroke:#1f77b4;\" x=\"137.783216\" xlink:href=\"#m985c3f97b5\" y=\"70.779337\"/>\n     <use style=\"fill:#1f77b4;stroke:#1f77b4;\" x=\"143.87559\" xlink:href=\"#m985c3f97b5\" y=\"85.851296\"/>\n     <use style=\"fill:#1f77b4;stroke:#1f77b4;\" x=\"140.612845\" xlink:href=\"#m985c3f97b5\" y=\"66.638005\"/>\n     <use style=\"fill:#1f77b4;stroke:#1f77b4;\" x=\"178.375232\" xlink:href=\"#m985c3f97b5\" y=\"90.1288\"/>\n     <use style=\"fill:#1f77b4;stroke:#1f77b4;\" x=\"136.746089\" xlink:href=\"#m985c3f97b5\" y=\"79.022245\"/>\n     <use style=\"fill:#1f77b4;stroke:#1f77b4;\" x=\"139.489602\" xlink:href=\"#m985c3f97b5\" y=\"72.81754\"/>\n     <use style=\"fill:#1f77b4;stroke:#1f77b4;\" x=\"182.382244\" xlink:href=\"#m985c3f97b5\" y=\"104.523748\"/>\n     <use style=\"fill:#1f77b4;stroke:#1f77b4;\" x=\"159.427229\" xlink:href=\"#m985c3f97b5\" y=\"74.291594\"/>\n     <use style=\"fill:#1f77b4;stroke:#1f77b4;\" x=\"135.726644\" xlink:href=\"#m985c3f97b5\" y=\"94.26793\"/>\n     <use style=\"fill:#1f77b4;stroke:#1f77b4;\" x=\"121.485216\" xlink:href=\"#m985c3f97b5\" y=\"61.545691\"/>\n     <use style=\"fill:#1f77b4;stroke:#1f77b4;\" x=\"176.040569\" xlink:href=\"#m985c3f97b5\" y=\"108.623557\"/>\n     <use style=\"fill:#1f77b4;stroke:#1f77b4;\" x=\"139.047258\" xlink:href=\"#m985c3f97b5\" y=\"76.747708\"/>\n     <use style=\"fill:#1f77b4;stroke:#1f77b4;\" x=\"99.88912\" xlink:href=\"#m985c3f97b5\" y=\"69.007008\"/>\n     <use style=\"fill:#1f77b4;stroke:#1f77b4;\" x=\"155.258309\" xlink:href=\"#m985c3f97b5\" y=\"91.049826\"/>\n     <use style=\"fill:#1f77b4;stroke:#1f77b4;\" x=\"149.71849\" xlink:href=\"#m985c3f97b5\" y=\"99.761975\"/>\n     <use style=\"fill:#1f77b4;stroke:#1f77b4;\" x=\"95.143349\" xlink:href=\"#m985c3f97b5\" y=\"39.503831\"/>\n     <use style=\"fill:#1f77b4;stroke:#1f77b4;\" x=\"130.698215\" xlink:href=\"#m985c3f97b5\" y=\"63.05904\"/>\n     <use style=\"fill:#1f77b4;stroke:#1f77b4;\" x=\"114.853352\" xlink:href=\"#m985c3f97b5\" y=\"58.176349\"/>\n     <use style=\"fill:#1f77b4;stroke:#1f77b4;\" x=\"174.063874\" xlink:href=\"#m985c3f97b5\" y=\"107.775994\"/>\n     <use style=\"fill:#1f77b4;stroke:#1f77b4;\" x=\"165.801335\" xlink:href=\"#m985c3f97b5\" y=\"92.68938\"/>\n     <use style=\"fill:#1f77b4;stroke:#1f77b4;\" x=\"173.510747\" xlink:href=\"#m985c3f97b5\" y=\"102.015086\"/>\n     <use style=\"fill:#1f77b4;stroke:#1f77b4;\" x=\"154.284675\" xlink:href=\"#m985c3f97b5\" y=\"94.146058\"/>\n     <use style=\"fill:#1f77b4;stroke:#1f77b4;\" x=\"143.791273\" xlink:href=\"#m985c3f97b5\" y=\"85.491705\"/>\n     <use style=\"fill:#1f77b4;stroke:#1f77b4;\" x=\"162.297591\" xlink:href=\"#m985c3f97b5\" y=\"91.40432\"/>\n     <use style=\"fill:#1f77b4;stroke:#1f77b4;\" x=\"105.844231\" xlink:href=\"#m985c3f97b5\" y=\"58.530804\"/>\n     <use style=\"fill:#1f77b4;stroke:#1f77b4;\" x=\"110.750676\" xlink:href=\"#m985c3f97b5\" y=\"68.588187\"/>\n     <use style=\"fill:#1f77b4;stroke:#1f77b4;\" x=\"170.764223\" xlink:href=\"#m985c3f97b5\" y=\"85.297863\"/>\n     <use style=\"fill:#1f77b4;stroke:#1f77b4;\" x=\"87.856311\" xlink:href=\"#m985c3f97b5\" y=\"32.938414\"/>\n     <use style=\"fill:#1f77b4;stroke:#1f77b4;\" x=\"178.842295\" xlink:href=\"#m985c3f97b5\" y=\"92.068949\"/>\n     <use style=\"fill:#1f77b4;stroke:#1f77b4;\" x=\"150.480247\" xlink:href=\"#m985c3f97b5\" y=\"84.532817\"/>\n     <use style=\"fill:#1f77b4;stroke:#1f77b4;\" x=\"155.344779\" xlink:href=\"#m985c3f97b5\" y=\"92.8468\"/>\n     <use style=\"fill:#1f77b4;stroke:#1f77b4;\" x=\"107.445217\" xlink:href=\"#m985c3f97b5\" y=\"58.663155\"/>\n     <use style=\"fill:#1f77b4;stroke:#1f77b4;\" x=\"172.300956\" xlink:href=\"#m985c3f97b5\" y=\"112.322999\"/>\n     <use style=\"fill:#1f77b4;stroke:#1f77b4;\" x=\"136.188759\" xlink:href=\"#m985c3f97b5\" y=\"70.012526\"/>\n     <use style=\"fill:#1f77b4;stroke:#1f77b4;\" x=\"155.999143\" xlink:href=\"#m985c3f97b5\" y=\"91.225098\"/>\n     <use style=\"fill:#1f77b4;stroke:#1f77b4;\" x=\"153.993961\" xlink:href=\"#m985c3f97b5\" y=\"67.133125\"/>\n     <use style=\"fill:#1f77b4;stroke:#1f77b4;\" x=\"212.136695\" xlink:href=\"#m985c3f97b5\" y=\"121.70158\"/>\n     <use style=\"fill:#1f77b4;stroke:#1f77b4;\" x=\"117.982886\" xlink:href=\"#m985c3f97b5\" y=\"75.00605\"/>\n     <use style=\"fill:#1f77b4;stroke:#1f77b4;\" x=\"136.058462\" xlink:href=\"#m985c3f97b5\" y=\"78.371053\"/>\n     <use style=\"fill:#1f77b4;stroke:#1f77b4;\" x=\"114.931531\" xlink:href=\"#m985c3f97b5\" y=\"67.880533\"/>\n     <use style=\"fill:#1f77b4;stroke:#1f77b4;\" x=\"115.307097\" xlink:href=\"#m985c3f97b5\" y=\"59.435485\"/>\n     <use style=\"fill:#1f77b4;stroke:#1f77b4;\" x=\"101.112747\" xlink:href=\"#m985c3f97b5\" y=\"55.999768\"/>\n     <use style=\"fill:#1f77b4;stroke:#1f77b4;\" x=\"146.848919\" xlink:href=\"#m985c3f97b5\" y=\"91.587614\"/>\n     <use style=\"fill:#1f77b4;stroke:#1f77b4;\" x=\"159.089477\" xlink:href=\"#m985c3f97b5\" y=\"108.692943\"/>\n     <use style=\"fill:#1f77b4;stroke:#1f77b4;\" x=\"130.888657\" xlink:href=\"#m985c3f97b5\" y=\"75.776221\"/>\n     <use style=\"fill:#1f77b4;stroke:#1f77b4;\" x=\"113.1588\" xlink:href=\"#m985c3f97b5\" y=\"65.089597\"/>\n     <use style=\"fill:#1f77b4;stroke:#1f77b4;\" x=\"99.739485\" xlink:href=\"#m985c3f97b5\" y=\"53.650532\"/>\n     <use style=\"fill:#1f77b4;stroke:#1f77b4;\" x=\"102.451793\" xlink:href=\"#m985c3f97b5\" y=\"71.640008\"/>\n     <use style=\"fill:#1f77b4;stroke:#1f77b4;\" x=\"62.964532\" xlink:href=\"#m985c3f97b5\" y=\"29.509383\"/>\n     <use style=\"fill:#1f77b4;stroke:#1f77b4;\" x=\"121.811475\" xlink:href=\"#m985c3f97b5\" y=\"64.032452\"/>\n     <use style=\"fill:#1f77b4;stroke:#1f77b4;\" x=\"141.038635\" xlink:href=\"#m985c3f97b5\" y=\"92.486208\"/>\n     <use style=\"fill:#1f77b4;stroke:#1f77b4;\" x=\"143.290313\" xlink:href=\"#m985c3f97b5\" y=\"95.992895\"/>\n     <use style=\"fill:#1f77b4;stroke:#1f77b4;\" x=\"150.047976\" xlink:href=\"#m985c3f97b5\" y=\"87.387823\"/>\n     <use style=\"fill:#1f77b4;stroke:#1f77b4;\" x=\"118.622794\" xlink:href=\"#m985c3f97b5\" y=\"63.651877\"/>\n     <use style=\"fill:#1f77b4;stroke:#1f77b4;\" x=\"126.267051\" xlink:href=\"#m985c3f97b5\" y=\"72.773253\"/>\n     <use style=\"fill:#1f77b4;stroke:#1f77b4;\" x=\"174.094151\" xlink:href=\"#m985c3f97b5\" y=\"100.868073\"/>\n     <use style=\"fill:#1f77b4;stroke:#1f77b4;\" x=\"173.975339\" xlink:href=\"#m985c3f97b5\" y=\"98.38093\"/>\n     <use style=\"fill:#1f77b4;stroke:#1f77b4;\" x=\"110.932889\" xlink:href=\"#m985c3f97b5\" y=\"49.785163\"/>\n     <use style=\"fill:#1f77b4;stroke:#1f77b4;\" x=\"131.077515\" xlink:href=\"#m985c3f97b5\" y=\"93.025946\"/>\n     <use style=\"fill:#1f77b4;stroke:#1f77b4;\" x=\"129.001988\" xlink:href=\"#m985c3f97b5\" y=\"69.354303\"/>\n     <use style=\"fill:#1f77b4;stroke:#1f77b4;\" x=\"167.26756\" xlink:href=\"#m985c3f97b5\" y=\"100.876794\"/>\n     <use style=\"fill:#1f77b4;stroke:#1f77b4;\" x=\"196.983223\" xlink:href=\"#m985c3f97b5\" y=\"119.627333\"/>\n     <use style=\"fill:#1f77b4;stroke:#1f77b4;\" x=\"201.645321\" xlink:href=\"#m985c3f97b5\" y=\"101.650251\"/>\n     <use style=\"fill:#1f77b4;stroke:#1f77b4;\" x=\"173.390338\" xlink:href=\"#m985c3f97b5\" y=\"83.33418\"/>\n     <use style=\"fill:#1f77b4;stroke:#1f77b4;\" x=\"114.558347\" xlink:href=\"#m985c3f97b5\" y=\"80.62948\"/>\n     <use style=\"fill:#1f77b4;stroke:#1f77b4;\" x=\"125.056994\" xlink:href=\"#m985c3f97b5\" y=\"66.156523\"/>\n     <use style=\"fill:#1f77b4;stroke:#1f77b4;\" x=\"134.401892\" xlink:href=\"#m985c3f97b5\" y=\"87.024703\"/>\n     <use style=\"fill:#1f77b4;stroke:#1f77b4;\" x=\"91.78504\" xlink:href=\"#m985c3f97b5\" y=\"75.968396\"/>\n     <use style=\"fill:#1f77b4;stroke:#1f77b4;\" x=\"112.280039\" xlink:href=\"#m985c3f97b5\" y=\"63.121623\"/>\n     <use style=\"fill:#1f77b4;stroke:#1f77b4;\" x=\"160.823619\" xlink:href=\"#m985c3f97b5\" y=\"99.802502\"/>\n     <use style=\"fill:#1f77b4;stroke:#1f77b4;\" x=\"157.324555\" xlink:href=\"#m985c3f97b5\" y=\"103.073809\"/>\n     <use style=\"fill:#1f77b4;stroke:#1f77b4;\" x=\"137.76618\" xlink:href=\"#m985c3f97b5\" y=\"67.913292\"/>\n     <use style=\"fill:#1f77b4;stroke:#1f77b4;\" x=\"119.036721\" xlink:href=\"#m985c3f97b5\" y=\"75.349956\"/>\n     <use style=\"fill:#1f77b4;stroke:#1f77b4;\" x=\"108.974362\" xlink:href=\"#m985c3f97b5\" y=\"30.71742\"/>\n     <use style=\"fill:#1f77b4;stroke:#1f77b4;\" x=\"142.931603\" xlink:href=\"#m985c3f97b5\" y=\"88.471808\"/>\n     <use style=\"fill:#1f77b4;stroke:#1f77b4;\" x=\"79.869282\" xlink:href=\"#m985c3f97b5\" y=\"45.790263\"/>\n     <use style=\"fill:#1f77b4;stroke:#1f77b4;\" x=\"130.407711\" xlink:href=\"#m985c3f97b5\" y=\"79.59586\"/>\n     <use style=\"fill:#1f77b4;stroke:#1f77b4;\" x=\"80.763574\" xlink:href=\"#m985c3f97b5\" y=\"56.421258\"/>\n     <use style=\"fill:#1f77b4;stroke:#1f77b4;\" x=\"81.028651\" xlink:href=\"#m985c3f97b5\" y=\"29.892582\"/>\n     <use style=\"fill:#1f77b4;stroke:#1f77b4;\" x=\"110.488372\" xlink:href=\"#m985c3f97b5\" y=\"69.522408\"/>\n     <use style=\"fill:#1f77b4;stroke:#1f77b4;\" x=\"136.076657\" xlink:href=\"#m985c3f97b5\" y=\"82.976188\"/>\n     <use style=\"fill:#1f77b4;stroke:#1f77b4;\" x=\"130.318897\" xlink:href=\"#m985c3f97b5\" y=\"79.201228\"/>\n     <use style=\"fill:#1f77b4;stroke:#1f77b4;\" x=\"136.094313\" xlink:href=\"#m985c3f97b5\" y=\"86.591761\"/>\n     <use style=\"fill:#1f77b4;stroke:#1f77b4;\" x=\"134.00999\" xlink:href=\"#m985c3f97b5\" y=\"97.302965\"/>\n     <use style=\"fill:#1f77b4;stroke:#1f77b4;\" x=\"147.520443\" xlink:href=\"#m985c3f97b5\" y=\"84.564496\"/>\n     <use style=\"fill:#1f77b4;stroke:#1f77b4;\" x=\"96.691956\" xlink:href=\"#m985c3f97b5\" y=\"59.707146\"/>\n     <use style=\"fill:#1f77b4;stroke:#1f77b4;\" x=\"127.48208\" xlink:href=\"#m985c3f97b5\" y=\"71.166388\"/>\n     <use style=\"fill:#1f77b4;stroke:#1f77b4;\" x=\"88.621643\" xlink:href=\"#m985c3f97b5\" y=\"66.621551\"/>\n     <use style=\"fill:#1f77b4;stroke:#1f77b4;\" x=\"112.702793\" xlink:href=\"#m985c3f97b5\" y=\"60.429787\"/>\n     <use style=\"fill:#1f77b4;stroke:#1f77b4;\" x=\"122.060672\" xlink:href=\"#m985c3f97b5\" y=\"54.642957\"/>\n     <use style=\"fill:#1f77b4;stroke:#1f77b4;\" x=\"133.643173\" xlink:href=\"#m985c3f97b5\" y=\"72.501544\"/>\n     <use style=\"fill:#1f77b4;stroke:#1f77b4;\" x=\"203.964321\" xlink:href=\"#m985c3f97b5\" y=\"108.245973\"/>\n     <use style=\"fill:#1f77b4;stroke:#1f77b4;\" x=\"127.302106\" xlink:href=\"#m985c3f97b5\" y=\"69.74364\"/>\n     <use style=\"fill:#1f77b4;stroke:#1f77b4;\" x=\"135.352854\" xlink:href=\"#m985c3f97b5\" y=\"87.628635\"/>\n     <use style=\"fill:#1f77b4;stroke:#1f77b4;\" x=\"122.422079\" xlink:href=\"#m985c3f97b5\" y=\"65.451796\"/>\n     <use style=\"fill:#1f77b4;stroke:#1f77b4;\" x=\"140.841311\" xlink:href=\"#m985c3f97b5\" y=\"69.709976\"/>\n     <use style=\"fill:#1f77b4;stroke:#1f77b4;\" x=\"96.06723\" xlink:href=\"#m985c3f97b5\" y=\"53.605062\"/>\n     <use style=\"fill:#1f77b4;stroke:#1f77b4;\" x=\"132.092979\" xlink:href=\"#m985c3f97b5\" y=\"63.113057\"/>\n     <use style=\"fill:#1f77b4;stroke:#1f77b4;\" x=\"76.00546\" xlink:href=\"#m985c3f97b5\" y=\"28.722117\"/>\n     <use style=\"fill:#1f77b4;stroke:#1f77b4;\" x=\"146.566323\" xlink:href=\"#m985c3f97b5\" y=\"90.736459\"/>\n     <use style=\"fill:#1f77b4;stroke:#1f77b4;\" x=\"70.260671\" xlink:href=\"#m985c3f97b5\" y=\"35.464885\"/>\n     <use style=\"fill:#1f77b4;stroke:#1f77b4;\" x=\"117.528438\" xlink:href=\"#m985c3f97b5\" y=\"79.187971\"/>\n     <use style=\"fill:#1f77b4;stroke:#1f77b4;\" x=\"129.554507\" xlink:href=\"#m985c3f97b5\" y=\"86.161168\"/>\n     <use style=\"fill:#1f77b4;stroke:#1f77b4;\" x=\"151.286855\" xlink:href=\"#m985c3f97b5\" y=\"93.028931\"/>\n     <use style=\"fill:#1f77b4;stroke:#1f77b4;\" x=\"123.089656\" xlink:href=\"#m985c3f97b5\" y=\"60.276281\"/>\n     <use style=\"fill:#1f77b4;stroke:#1f77b4;\" x=\"194.992772\" xlink:href=\"#m985c3f97b5\" y=\"119.555706\"/>\n     <use style=\"fill:#1f77b4;stroke:#1f77b4;\" x=\"145.26751\" xlink:href=\"#m985c3f97b5\" y=\"75.02811\"/>\n     <use style=\"fill:#1f77b4;stroke:#1f77b4;\" x=\"174.34215\" xlink:href=\"#m985c3f97b5\" y=\"103.14899\"/>\n     <use style=\"fill:#1f77b4;stroke:#1f77b4;\" x=\"143.179352\" xlink:href=\"#m985c3f97b5\" y=\"104.01198\"/>\n     <use style=\"fill:#1f77b4;stroke:#1f77b4;\" x=\"120.786221\" xlink:href=\"#m985c3f97b5\" y=\"94.475224\"/>\n     <use style=\"fill:#1f77b4;stroke:#1f77b4;\" x=\"109.789667\" xlink:href=\"#m985c3f97b5\" y=\"94.52724\"/>\n     <use style=\"fill:#1f77b4;stroke:#1f77b4;\" x=\"179.070428\" xlink:href=\"#m985c3f97b5\" y=\"127.190999\"/>\n     <use style=\"fill:#1f77b4;stroke:#1f77b4;\" x=\"139.574561\" xlink:href=\"#m985c3f97b5\" y=\"75.515796\"/>\n     <use style=\"fill:#1f77b4;stroke:#1f77b4;\" x=\"157.284962\" xlink:href=\"#m985c3f97b5\" y=\"78.06822\"/>\n     <use style=\"fill:#1f77b4;stroke:#1f77b4;\" x=\"83.657106\" xlink:href=\"#m985c3f97b5\" y=\"47.18329\"/>\n     <use style=\"fill:#1f77b4;stroke:#1f77b4;\" x=\"134.815616\" xlink:href=\"#m985c3f97b5\" y=\"78.228772\"/>\n     <use style=\"fill:#1f77b4;stroke:#1f77b4;\" x=\"154.272749\" xlink:href=\"#m985c3f97b5\" y=\"105.616331\"/>\n     <use style=\"fill:#1f77b4;stroke:#1f77b4;\" x=\"160.726298\" xlink:href=\"#m985c3f97b5\" y=\"75.818351\"/>\n     <use style=\"fill:#1f77b4;stroke:#1f77b4;\" x=\"172.587648\" xlink:href=\"#m985c3f97b5\" y=\"94.409164\"/>\n     <use style=\"fill:#1f77b4;stroke:#1f77b4;\" x=\"128.515489\" xlink:href=\"#m985c3f97b5\" y=\"66.820565\"/>\n     <use style=\"fill:#1f77b4;stroke:#1f77b4;\" x=\"80.456044\" xlink:href=\"#m985c3f97b5\" y=\"34.669155\"/>\n     <use style=\"fill:#1f77b4;stroke:#1f77b4;\" x=\"82.634347\" xlink:href=\"#m985c3f97b5\" y=\"36.857617\"/>\n     <use style=\"fill:#1f77b4;stroke:#1f77b4;\" x=\"169.822914\" xlink:href=\"#m985c3f97b5\" y=\"99.204034\"/>\n     <use style=\"fill:#1f77b4;stroke:#1f77b4;\" x=\"155.292364\" xlink:href=\"#m985c3f97b5\" y=\"95.376889\"/>\n     <use style=\"fill:#1f77b4;stroke:#1f77b4;\" x=\"93.131973\" xlink:href=\"#m985c3f97b5\" y=\"67.55115\"/>\n     <use style=\"fill:#1f77b4;stroke:#1f77b4;\" x=\"134.081928\" xlink:href=\"#m985c3f97b5\" y=\"72.624841\"/>\n     <use style=\"fill:#1f77b4;stroke:#1f77b4;\" x=\"178.127066\" xlink:href=\"#m985c3f97b5\" y=\"92.105645\"/>\n     <use style=\"fill:#1f77b4;stroke:#1f77b4;\" x=\"123.068678\" xlink:href=\"#m985c3f97b5\" y=\"74.260012\"/>\n     <use style=\"fill:#1f77b4;stroke:#1f77b4;\" x=\"174.571367\" xlink:href=\"#m985c3f97b5\" y=\"73.838647\"/>\n     <use style=\"fill:#1f77b4;stroke:#1f77b4;\" x=\"153.131448\" xlink:href=\"#m985c3f97b5\" y=\"72.651361\"/>\n     <use style=\"fill:#1f77b4;stroke:#1f77b4;\" x=\"120.903706\" xlink:href=\"#m985c3f97b5\" y=\"53.396419\"/>\n     <use style=\"fill:#1f77b4;stroke:#1f77b4;\" x=\"187.687899\" xlink:href=\"#m985c3f97b5\" y=\"111.712473\"/>\n     <use style=\"fill:#1f77b4;stroke:#1f77b4;\" x=\"93.059101\" xlink:href=\"#m985c3f97b5\" y=\"50.04755\"/>\n     <use style=\"fill:#1f77b4;stroke:#1f77b4;\" x=\"124.327234\" xlink:href=\"#m985c3f97b5\" y=\"75.402778\"/>\n     <use style=\"fill:#1f77b4;stroke:#1f77b4;\" x=\"117.338052\" xlink:href=\"#m985c3f97b5\" y=\"68.628981\"/>\n     <use style=\"fill:#1f77b4;stroke:#1f77b4;\" x=\"108.633971\" xlink:href=\"#m985c3f97b5\" y=\"58.285322\"/>\n     <use style=\"fill:#1f77b4;stroke:#1f77b4;\" x=\"138.571186\" xlink:href=\"#m985c3f97b5\" y=\"66.032252\"/>\n     <use style=\"fill:#1f77b4;stroke:#1f77b4;\" x=\"136.498341\" xlink:href=\"#m985c3f97b5\" y=\"111.91183\"/>\n     <use style=\"fill:#1f77b4;stroke:#1f77b4;\" x=\"124.979383\" xlink:href=\"#m985c3f97b5\" y=\"61.15788\"/>\n     <use style=\"fill:#1f77b4;stroke:#1f77b4;\" x=\"194.312675\" xlink:href=\"#m985c3f97b5\" y=\"122.633573\"/>\n     <use style=\"fill:#1f77b4;stroke:#1f77b4;\" x=\"140.406598\" xlink:href=\"#m985c3f97b5\" y=\"87.780735\"/>\n     <use style=\"fill:#1f77b4;stroke:#1f77b4;\" x=\"164.458033\" xlink:href=\"#m985c3f97b5\" y=\"93.658883\"/>\n     <use style=\"fill:#1f77b4;stroke:#1f77b4;\" x=\"127.412188\" xlink:href=\"#m985c3f97b5\" y=\"92.281361\"/>\n     <use style=\"fill:#1f77b4;stroke:#1f77b4;\" x=\"168.320614\" xlink:href=\"#m985c3f97b5\" y=\"113.17079\"/>\n     <use style=\"fill:#1f77b4;stroke:#1f77b4;\" x=\"96.758954\" xlink:href=\"#m985c3f97b5\" y=\"44.233603\"/>\n     <use style=\"fill:#1f77b4;stroke:#1f77b4;\" x=\"104.087776\" xlink:href=\"#m985c3f97b5\" y=\"61.981897\"/>\n     <use style=\"fill:#1f77b4;stroke:#1f77b4;\" x=\"149.112724\" xlink:href=\"#m985c3f97b5\" y=\"98.582367\"/>\n     <use style=\"fill:#1f77b4;stroke:#1f77b4;\" x=\"108.680944\" xlink:href=\"#m985c3f97b5\" y=\"59.86041\"/>\n     <use style=\"fill:#1f77b4;stroke:#1f77b4;\" x=\"131.736314\" xlink:href=\"#m985c3f97b5\" y=\"66.725603\"/>\n     <use style=\"fill:#1f77b4;stroke:#1f77b4;\" x=\"62.785905\" xlink:href=\"#m985c3f97b5\" y=\"47.899234\"/>\n     <use style=\"fill:#1f77b4;stroke:#1f77b4;\" x=\"140.088269\" xlink:href=\"#m985c3f97b5\" y=\"69.43668\"/>\n     <use style=\"fill:#1f77b4;stroke:#1f77b4;\" x=\"111.260929\" xlink:href=\"#m985c3f97b5\" y=\"63.457893\"/>\n     <use style=\"fill:#1f77b4;stroke:#1f77b4;\" x=\"161.581385\" xlink:href=\"#m985c3f97b5\" y=\"88.191144\"/>\n     <use style=\"fill:#1f77b4;stroke:#1f77b4;\" x=\"145.222484\" xlink:href=\"#m985c3f97b5\" y=\"88.915246\"/>\n     <use style=\"fill:#1f77b4;stroke:#1f77b4;\" x=\"107.882192\" xlink:href=\"#m985c3f97b5\" y=\"76.567024\"/>\n     <use style=\"fill:#1f77b4;stroke:#1f77b4;\" x=\"171.662686\" xlink:href=\"#m985c3f97b5\" y=\"124.034177\"/>\n     <use style=\"fill:#1f77b4;stroke:#1f77b4;\" x=\"71.060828\" xlink:href=\"#m985c3f97b5\" y=\"45.984617\"/>\n     <use style=\"fill:#1f77b4;stroke:#1f77b4;\" x=\"90.942429\" xlink:href=\"#m985c3f97b5\" y=\"58.63775\"/>\n     <use style=\"fill:#1f77b4;stroke:#1f77b4;\" x=\"92.453536\" xlink:href=\"#m985c3f97b5\" y=\"43.866592\"/>\n     <use style=\"fill:#1f77b4;stroke:#1f77b4;\" x=\"122.188092\" xlink:href=\"#m985c3f97b5\" y=\"74.566257\"/>\n     <use style=\"fill:#1f77b4;stroke:#1f77b4;\" x=\"127.206667\" xlink:href=\"#m985c3f97b5\" y=\"68.648336\"/>\n     <use style=\"fill:#1f77b4;stroke:#1f77b4;\" x=\"159.227777\" xlink:href=\"#m985c3f97b5\" y=\"113.161228\"/>\n     <use style=\"fill:#1f77b4;stroke:#1f77b4;\" x=\"132.238069\" xlink:href=\"#m985c3f97b5\" y=\"58.401568\"/>\n     <use style=\"fill:#1f77b4;stroke:#1f77b4;\" x=\"138.693846\" xlink:href=\"#m985c3f97b5\" y=\"71.781893\"/>\n     <use style=\"fill:#1f77b4;stroke:#1f77b4;\" x=\"113.647164\" xlink:href=\"#m985c3f97b5\" y=\"56.25959\"/>\n     <use style=\"fill:#1f77b4;stroke:#1f77b4;\" x=\"194.172258\" xlink:href=\"#m985c3f97b5\" y=\"111.315604\"/>\n     <use style=\"fill:#1f77b4;stroke:#1f77b4;\" x=\"126.919461\" xlink:href=\"#m985c3f97b5\" y=\"61.469569\"/>\n     <use style=\"fill:#1f77b4;stroke:#1f77b4;\" x=\"71.297277\" xlink:href=\"#m985c3f97b5\" y=\"45.737743\"/>\n     <use style=\"fill:#1f77b4;stroke:#1f77b4;\" x=\"72.837353\" xlink:href=\"#m985c3f97b5\" y=\"48.329338\"/>\n     <use style=\"fill:#1f77b4;stroke:#1f77b4;\" x=\"137.962467\" xlink:href=\"#m985c3f97b5\" y=\"102.876474\"/>\n     <use style=\"fill:#1f77b4;stroke:#1f77b4;\" x=\"105.028279\" xlink:href=\"#m985c3f97b5\" y=\"57.279419\"/>\n     <use style=\"fill:#1f77b4;stroke:#1f77b4;\" x=\"99.298558\" xlink:href=\"#m985c3f97b5\" y=\"61.686646\"/>\n     <use style=\"fill:#1f77b4;stroke:#1f77b4;\" x=\"116.282573\" xlink:href=\"#m985c3f97b5\" y=\"72.251491\"/>\n     <use style=\"fill:#1f77b4;stroke:#1f77b4;\" x=\"128.524306\" xlink:href=\"#m985c3f97b5\" y=\"92.624888\"/>\n     <use style=\"fill:#1f77b4;stroke:#1f77b4;\" x=\"104.070525\" xlink:href=\"#m985c3f97b5\" y=\"67.624507\"/>\n     <use style=\"fill:#1f77b4;stroke:#1f77b4;\" x=\"181.274197\" xlink:href=\"#m985c3f97b5\" y=\"108.249029\"/>\n     <use style=\"fill:#1f77b4;stroke:#1f77b4;\" x=\"162.104462\" xlink:href=\"#m985c3f97b5\" y=\"99.458045\"/>\n     <use style=\"fill:#1f77b4;stroke:#1f77b4;\" x=\"166.397974\" xlink:href=\"#m985c3f97b5\" y=\"99.114528\"/>\n     <use style=\"fill:#1f77b4;stroke:#1f77b4;\" x=\"138.67705\" xlink:href=\"#m985c3f97b5\" y=\"59.360301\"/>\n     <use style=\"fill:#1f77b4;stroke:#1f77b4;\" x=\"118.684914\" xlink:href=\"#m985c3f97b5\" y=\"84.03244\"/>\n     <use style=\"fill:#1f77b4;stroke:#1f77b4;\" x=\"103.497809\" xlink:href=\"#m985c3f97b5\" y=\"55.805118\"/>\n     <use style=\"fill:#1f77b4;stroke:#1f77b4;\" x=\"143.247095\" xlink:href=\"#m985c3f97b5\" y=\"87.915974\"/>\n     <use style=\"fill:#1f77b4;stroke:#1f77b4;\" x=\"132.845086\" xlink:href=\"#m985c3f97b5\" y=\"90.163624\"/>\n     <use style=\"fill:#1f77b4;stroke:#1f77b4;\" x=\"132.366331\" xlink:href=\"#m985c3f97b5\" y=\"92.980724\"/>\n     <use style=\"fill:#1f77b4;stroke:#1f77b4;\" x=\"105.36503\" xlink:href=\"#m985c3f97b5\" y=\"70.633498\"/>\n     <use style=\"fill:#1f77b4;stroke:#1f77b4;\" x=\"148.434475\" xlink:href=\"#m985c3f97b5\" y=\"109.848172\"/>\n     <use style=\"fill:#1f77b4;stroke:#1f77b4;\" x=\"138.379867\" xlink:href=\"#m985c3f97b5\" y=\"93.159974\"/>\n     <use style=\"fill:#1f77b4;stroke:#1f77b4;\" x=\"65.302281\" xlink:href=\"#m985c3f97b5\" y=\"41.077464\"/>\n     <use style=\"fill:#1f77b4;stroke:#1f77b4;\" x=\"107.623063\" xlink:href=\"#m985c3f97b5\" y=\"79.813236\"/>\n     <use style=\"fill:#1f77b4;stroke:#1f77b4;\" x=\"104.140986\" xlink:href=\"#m985c3f97b5\" y=\"64.093448\"/>\n     <use style=\"fill:#1f77b4;stroke:#1f77b4;\" x=\"45.053531\" xlink:href=\"#m985c3f97b5\" y=\"25.272868\"/>\n     <use style=\"fill:#1f77b4;stroke:#1f77b4;\" x=\"135.268756\" xlink:href=\"#m985c3f97b5\" y=\"73.123563\"/>\n     <use style=\"fill:#1f77b4;stroke:#1f77b4;\" x=\"91.019155\" xlink:href=\"#m985c3f97b5\" y=\"62.680095\"/>\n     <use style=\"fill:#1f77b4;stroke:#1f77b4;\" x=\"175.686445\" xlink:href=\"#m985c3f97b5\" y=\"92.466922\"/>\n     <use style=\"fill:#1f77b4;stroke:#1f77b4;\" x=\"103.401196\" xlink:href=\"#m985c3f97b5\" y=\"48.430852\"/>\n     <use style=\"fill:#1f77b4;stroke:#1f77b4;\" x=\"144.245707\" xlink:href=\"#m985c3f97b5\" y=\"89.581428\"/>\n     <use style=\"fill:#1f77b4;stroke:#1f77b4;\" x=\"94.16276\" xlink:href=\"#m985c3f97b5\" y=\"66.888196\"/>\n     <use style=\"fill:#1f77b4;stroke:#1f77b4;\" x=\"155.930486\" xlink:href=\"#m985c3f97b5\" y=\"92.658735\"/>\n     <use style=\"fill:#1f77b4;stroke:#1f77b4;\" x=\"168.251243\" xlink:href=\"#m985c3f97b5\" y=\"95.016318\"/>\n     <use style=\"fill:#1f77b4;stroke:#1f77b4;\" x=\"144.148715\" xlink:href=\"#m985c3f97b5\" y=\"73.588893\"/>\n     <use style=\"fill:#1f77b4;stroke:#1f77b4;\" x=\"175.116986\" xlink:href=\"#m985c3f97b5\" y=\"118.519536\"/>\n     <use style=\"fill:#1f77b4;stroke:#1f77b4;\" x=\"175.969367\" xlink:href=\"#m985c3f97b5\" y=\"99.957928\"/>\n     <use style=\"fill:#1f77b4;stroke:#1f77b4;\" x=\"130.477843\" xlink:href=\"#m985c3f97b5\" y=\"68.512865\"/>\n     <use style=\"fill:#1f77b4;stroke:#1f77b4;\" x=\"108.263275\" xlink:href=\"#m985c3f97b5\" y=\"75.592081\"/>\n     <use style=\"fill:#1f77b4;stroke:#1f77b4;\" x=\"123.427582\" xlink:href=\"#m985c3f97b5\" y=\"82.772412\"/>\n     <use style=\"fill:#1f77b4;stroke:#1f77b4;\" x=\"139.689817\" xlink:href=\"#m985c3f97b5\" y=\"80.973615\"/>\n     <use style=\"fill:#1f77b4;stroke:#1f77b4;\" x=\"81.276384\" xlink:href=\"#m985c3f97b5\" y=\"49.431751\"/>\n     <use style=\"fill:#1f77b4;stroke:#1f77b4;\" x=\"136.730303\" xlink:href=\"#m985c3f97b5\" y=\"82.202664\"/>\n     <use style=\"fill:#1f77b4;stroke:#1f77b4;\" x=\"139.08775\" xlink:href=\"#m985c3f97b5\" y=\"65.715528\"/>\n     <use style=\"fill:#1f77b4;stroke:#1f77b4;\" x=\"124.075844\" xlink:href=\"#m985c3f97b5\" y=\"62.166717\"/>\n     <use style=\"fill:#1f77b4;stroke:#1f77b4;\" x=\"65.619753\" xlink:href=\"#m985c3f97b5\" y=\"56.300466\"/>\n     <use style=\"fill:#1f77b4;stroke:#1f77b4;\" x=\"81.276289\" xlink:href=\"#m985c3f97b5\" y=\"50.877537\"/>\n     <use style=\"fill:#1f77b4;stroke:#1f77b4;\" x=\"104.884481\" xlink:href=\"#m985c3f97b5\" y=\"52.433247\"/>\n     <use style=\"fill:#1f77b4;stroke:#1f77b4;\" x=\"105.652051\" xlink:href=\"#m985c3f97b5\" y=\"65.776196\"/>\n     <use style=\"fill:#1f77b4;stroke:#1f77b4;\" x=\"148.622657\" xlink:href=\"#m985c3f97b5\" y=\"85.293311\"/>\n     <use style=\"fill:#1f77b4;stroke:#1f77b4;\" x=\"66.694586\" xlink:href=\"#m985c3f97b5\" y=\"41.332067\"/>\n     <use style=\"fill:#1f77b4;stroke:#1f77b4;\" x=\"122.763418\" xlink:href=\"#m985c3f97b5\" y=\"84.136635\"/>\n     <use style=\"fill:#1f77b4;stroke:#1f77b4;\" x=\"121.35298\" xlink:href=\"#m985c3f97b5\" y=\"79.094218\"/>\n     <use style=\"fill:#1f77b4;stroke:#1f77b4;\" x=\"124.645303\" xlink:href=\"#m985c3f97b5\" y=\"76.11116\"/>\n     <use style=\"fill:#1f77b4;stroke:#1f77b4;\" x=\"129.435796\" xlink:href=\"#m985c3f97b5\" y=\"61.818154\"/>\n     <use style=\"fill:#1f77b4;stroke:#1f77b4;\" x=\"102.975094\" xlink:href=\"#m985c3f97b5\" y=\"71.577237\"/>\n     <use style=\"fill:#1f77b4;stroke:#1f77b4;\" x=\"113.100542\" xlink:href=\"#m985c3f97b5\" y=\"78.243525\"/>\n     <use style=\"fill:#1f77b4;stroke:#1f77b4;\" x=\"125.684781\" xlink:href=\"#m985c3f97b5\" y=\"83.11018\"/>\n     <use style=\"fill:#1f77b4;stroke:#1f77b4;\" x=\"132.695201\" xlink:href=\"#m985c3f97b5\" y=\"56.547295\"/>\n     <use style=\"fill:#1f77b4;stroke:#1f77b4;\" x=\"81.275015\" xlink:href=\"#m985c3f97b5\" y=\"26.187826\"/>\n     <use style=\"fill:#1f77b4;stroke:#1f77b4;\" x=\"169.170579\" xlink:href=\"#m985c3f97b5\" y=\"111.478202\"/>\n     <use style=\"fill:#1f77b4;stroke:#1f77b4;\" x=\"128.485439\" xlink:href=\"#m985c3f97b5\" y=\"76.934275\"/>\n     <use style=\"fill:#1f77b4;stroke:#1f77b4;\" x=\"120.283654\" xlink:href=\"#m985c3f97b5\" y=\"76.943877\"/>\n     <use style=\"fill:#1f77b4;stroke:#1f77b4;\" x=\"130.502601\" xlink:href=\"#m985c3f97b5\" y=\"50.057804\"/>\n     <use style=\"fill:#1f77b4;stroke:#1f77b4;\" x=\"138.070283\" xlink:href=\"#m985c3f97b5\" y=\"58.097435\"/>\n     <use style=\"fill:#1f77b4;stroke:#1f77b4;\" x=\"109.4891\" xlink:href=\"#m985c3f97b5\" y=\"70.006679\"/>\n     <use style=\"fill:#1f77b4;stroke:#1f77b4;\" x=\"105.196935\" xlink:href=\"#m985c3f97b5\" y=\"61.559994\"/>\n     <use style=\"fill:#1f77b4;stroke:#1f77b4;\" x=\"154.735609\" xlink:href=\"#m985c3f97b5\" y=\"95.435223\"/>\n     <use style=\"fill:#1f77b4;stroke:#1f77b4;\" x=\"144.233219\" xlink:href=\"#m985c3f97b5\" y=\"109.580169\"/>\n     <use style=\"fill:#1f77b4;stroke:#1f77b4;\" x=\"94.215115\" xlink:href=\"#m985c3f97b5\" y=\"47.474429\"/>\n     <use style=\"fill:#1f77b4;stroke:#1f77b4;\" x=\"101.868146\" xlink:href=\"#m985c3f97b5\" y=\"48.810007\"/>\n     <use style=\"fill:#1f77b4;stroke:#1f77b4;\" x=\"149.749258\" xlink:href=\"#m985c3f97b5\" y=\"93.703769\"/>\n     <use style=\"fill:#1f77b4;stroke:#1f77b4;\" x=\"141.221634\" xlink:href=\"#m985c3f97b5\" y=\"78.466136\"/>\n     <use style=\"fill:#1f77b4;stroke:#1f77b4;\" x=\"127.961779\" xlink:href=\"#m985c3f97b5\" y=\"59.145533\"/>\n     <use style=\"fill:#1f77b4;stroke:#1f77b4;\" x=\"118.486112\" xlink:href=\"#m985c3f97b5\" y=\"67.733696\"/>\n     <use style=\"fill:#1f77b4;stroke:#1f77b4;\" x=\"129.354343\" xlink:href=\"#m985c3f97b5\" y=\"58.396011\"/>\n     <use style=\"fill:#1f77b4;stroke:#1f77b4;\" x=\"200.173378\" xlink:href=\"#m985c3f97b5\" y=\"107.870537\"/>\n     <use style=\"fill:#1f77b4;stroke:#1f77b4;\" x=\"105.839073\" xlink:href=\"#m985c3f97b5\" y=\"51.881061\"/>\n     <use style=\"fill:#1f77b4;stroke:#1f77b4;\" x=\"109.666146\" xlink:href=\"#m985c3f97b5\" y=\"64.200159\"/>\n     <use style=\"fill:#1f77b4;stroke:#1f77b4;\" x=\"126.278698\" xlink:href=\"#m985c3f97b5\" y=\"58.295349\"/>\n     <use style=\"fill:#1f77b4;stroke:#1f77b4;\" x=\"78.616294\" xlink:href=\"#m985c3f97b5\" y=\"61.641986\"/>\n     <use style=\"fill:#1f77b4;stroke:#1f77b4;\" x=\"160.486587\" xlink:href=\"#m985c3f97b5\" y=\"102.605174\"/>\n     <use style=\"fill:#1f77b4;stroke:#1f77b4;\" x=\"164.594622\" xlink:href=\"#m985c3f97b5\" y=\"110.615507\"/>\n     <use style=\"fill:#1f77b4;stroke:#1f77b4;\" x=\"118.438842\" xlink:href=\"#m985c3f97b5\" y=\"72.154578\"/>\n     <use style=\"fill:#1f77b4;stroke:#1f77b4;\" x=\"112.582553\" xlink:href=\"#m985c3f97b5\" y=\"54.180841\"/>\n     <use style=\"fill:#1f77b4;stroke:#1f77b4;\" x=\"94.288679\" xlink:href=\"#m985c3f97b5\" y=\"45.499004\"/>\n     <use style=\"fill:#1f77b4;stroke:#1f77b4;\" x=\"103.166565\" xlink:href=\"#m985c3f97b5\" y=\"54.018948\"/>\n     <use style=\"fill:#1f77b4;stroke:#1f77b4;\" x=\"133.730367\" xlink:href=\"#m985c3f97b5\" y=\"89.507567\"/>\n     <use style=\"fill:#1f77b4;stroke:#1f77b4;\" x=\"69.258372\" xlink:href=\"#m985c3f97b5\" y=\"30.298364\"/>\n     <use style=\"fill:#1f77b4;stroke:#1f77b4;\" x=\"112.872442\" xlink:href=\"#m985c3f97b5\" y=\"52.107986\"/>\n     <use style=\"fill:#1f77b4;stroke:#1f77b4;\" x=\"161.536342\" xlink:href=\"#m985c3f97b5\" y=\"79.030975\"/>\n     <use style=\"fill:#1f77b4;stroke:#1f77b4;\" x=\"116.660945\" xlink:href=\"#m985c3f97b5\" y=\"67.275449\"/>\n     <use style=\"fill:#1f77b4;stroke:#1f77b4;\" x=\"122.687563\" xlink:href=\"#m985c3f97b5\" y=\"63.277934\"/>\n     <use style=\"fill:#1f77b4;stroke:#1f77b4;\" x=\"144.937614\" xlink:href=\"#m985c3f97b5\" y=\"101.786881\"/>\n     <use style=\"fill:#1f77b4;stroke:#1f77b4;\" x=\"129.731195\" xlink:href=\"#m985c3f97b5\" y=\"69.768097\"/>\n     <use style=\"fill:#1f77b4;stroke:#1f77b4;\" x=\"118.730677\" xlink:href=\"#m985c3f97b5\" y=\"45.431811\"/>\n     <use style=\"fill:#1f77b4;stroke:#1f77b4;\" x=\"120.579912\" xlink:href=\"#m985c3f97b5\" y=\"75.539596\"/>\n     <use style=\"fill:#1f77b4;stroke:#1f77b4;\" x=\"148.825995\" xlink:href=\"#m985c3f97b5\" y=\"85.86561\"/>\n     <use style=\"fill:#1f77b4;stroke:#1f77b4;\" x=\"169.368144\" xlink:href=\"#m985c3f97b5\" y=\"73.709573\"/>\n     <use style=\"fill:#1f77b4;stroke:#1f77b4;\" x=\"169.951955\" xlink:href=\"#m985c3f97b5\" y=\"101.192484\"/>\n     <use style=\"fill:#1f77b4;stroke:#1f77b4;\" x=\"116.082369\" xlink:href=\"#m985c3f97b5\" y=\"43.412886\"/>\n     <use style=\"fill:#1f77b4;stroke:#1f77b4;\" x=\"115.820953\" xlink:href=\"#m985c3f97b5\" y=\"79.217573\"/>\n     <use style=\"fill:#1f77b4;stroke:#1f77b4;\" x=\"105.244607\" xlink:href=\"#m985c3f97b5\" y=\"58.415636\"/>\n     <use style=\"fill:#1f77b4;stroke:#1f77b4;\" x=\"171.155677\" xlink:href=\"#m985c3f97b5\" y=\"108.881962\"/>\n     <use style=\"fill:#1f77b4;stroke:#1f77b4;\" x=\"145.714767\" xlink:href=\"#m985c3f97b5\" y=\"93.241442\"/>\n     <use style=\"fill:#1f77b4;stroke:#1f77b4;\" x=\"168.665859\" xlink:href=\"#m985c3f97b5\" y=\"94.597837\"/>\n     <use style=\"fill:#1f77b4;stroke:#1f77b4;\" x=\"166.206104\" xlink:href=\"#m985c3f97b5\" y=\"118.771336\"/>\n     <use style=\"fill:#1f77b4;stroke:#1f77b4;\" x=\"98.731945\" xlink:href=\"#m985c3f97b5\" y=\"45.29649\"/>\n     <use style=\"fill:#1f77b4;stroke:#1f77b4;\" x=\"128.887585\" xlink:href=\"#m985c3f97b5\" y=\"67.544051\"/>\n     <use style=\"fill:#1f77b4;stroke:#1f77b4;\" x=\"104.990238\" xlink:href=\"#m985c3f97b5\" y=\"57.294545\"/>\n     <use style=\"fill:#1f77b4;stroke:#1f77b4;\" x=\"158.384366\" xlink:href=\"#m985c3f97b5\" y=\"92.946445\"/>\n     <use style=\"fill:#1f77b4;stroke:#1f77b4;\" x=\"85.552068\" xlink:href=\"#m985c3f97b5\" y=\"57.733079\"/>\n     <use style=\"fill:#1f77b4;stroke:#1f77b4;\" x=\"156.399265\" xlink:href=\"#m985c3f97b5\" y=\"90.124299\"/>\n     <use style=\"fill:#1f77b4;stroke:#1f77b4;\" x=\"162.460955\" xlink:href=\"#m985c3f97b5\" y=\"100.237882\"/>\n     <use style=\"fill:#1f77b4;stroke:#1f77b4;\" x=\"64.125998\" xlink:href=\"#m985c3f97b5\" y=\"34.379656\"/>\n     <use style=\"fill:#1f77b4;stroke:#1f77b4;\" x=\"134.453689\" xlink:href=\"#m985c3f97b5\" y=\"75.412087\"/>\n     <use style=\"fill:#1f77b4;stroke:#1f77b4;\" x=\"158.493476\" xlink:href=\"#m985c3f97b5\" y=\"100.970666\"/>\n     <use style=\"fill:#1f77b4;stroke:#1f77b4;\" x=\"121.735418\" xlink:href=\"#m985c3f97b5\" y=\"64.225144\"/>\n     <use style=\"fill:#1f77b4;stroke:#1f77b4;\" x=\"147.607602\" xlink:href=\"#m985c3f97b5\" y=\"100.404947\"/>\n     <use style=\"fill:#1f77b4;stroke:#1f77b4;\" x=\"153.443602\" xlink:href=\"#m985c3f97b5\" y=\"80.789986\"/>\n     <use style=\"fill:#1f77b4;stroke:#1f77b4;\" x=\"140.409944\" xlink:href=\"#m985c3f97b5\" y=\"83.395854\"/>\n     <use style=\"fill:#1f77b4;stroke:#1f77b4;\" x=\"45.830275\" xlink:href=\"#m985c3f97b5\" y=\"13.377273\"/>\n     <use style=\"fill:#1f77b4;stroke:#1f77b4;\" x=\"166.805119\" xlink:href=\"#m985c3f97b5\" y=\"113.047417\"/>\n     <use style=\"fill:#1f77b4;stroke:#1f77b4;\" x=\"147.726441\" xlink:href=\"#m985c3f97b5\" y=\"90.14783\"/>\n     <use style=\"fill:#1f77b4;stroke:#1f77b4;\" x=\"140.285431\" xlink:href=\"#m985c3f97b5\" y=\"96.627049\"/>\n     <use style=\"fill:#1f77b4;stroke:#1f77b4;\" x=\"162.45669\" xlink:href=\"#m985c3f97b5\" y=\"105.75806\"/>\n     <use style=\"fill:#1f77b4;stroke:#1f77b4;\" x=\"113.738525\" xlink:href=\"#m985c3f97b5\" y=\"69.660486\"/>\n     <use style=\"fill:#1f77b4;stroke:#1f77b4;\" x=\"140.76168\" xlink:href=\"#m985c3f97b5\" y=\"103.880921\"/>\n     <use style=\"fill:#1f77b4;stroke:#1f77b4;\" x=\"121.036932\" xlink:href=\"#m985c3f97b5\" y=\"69.631374\"/>\n     <use style=\"fill:#1f77b4;stroke:#1f77b4;\" x=\"184.123248\" xlink:href=\"#m985c3f97b5\" y=\"102.581922\"/>\n     <use style=\"fill:#1f77b4;stroke:#1f77b4;\" x=\"127.432427\" xlink:href=\"#m985c3f97b5\" y=\"88.329244\"/>\n     <use style=\"fill:#1f77b4;stroke:#1f77b4;\" x=\"190.853713\" xlink:href=\"#m985c3f97b5\" y=\"120.470918\"/>\n     <use style=\"fill:#1f77b4;stroke:#1f77b4;\" x=\"116.057305\" xlink:href=\"#m985c3f97b5\" y=\"58.56944\"/>\n     <use style=\"fill:#1f77b4;stroke:#1f77b4;\" x=\"117.667541\" xlink:href=\"#m985c3f97b5\" y=\"87.112139\"/>\n     <use style=\"fill:#1f77b4;stroke:#1f77b4;\" x=\"131.723559\" xlink:href=\"#m985c3f97b5\" y=\"88.68137\"/>\n     <use style=\"fill:#1f77b4;stroke:#1f77b4;\" x=\"164.436461\" xlink:href=\"#m985c3f97b5\" y=\"103.772826\"/>\n     <use style=\"fill:#1f77b4;stroke:#1f77b4;\" x=\"102.417188\" xlink:href=\"#m985c3f97b5\" y=\"32.78855\"/>\n     <use style=\"fill:#1f77b4;stroke:#1f77b4;\" x=\"156.576871\" xlink:href=\"#m985c3f97b5\" y=\"116.300744\"/>\n     <use style=\"fill:#1f77b4;stroke:#1f77b4;\" x=\"174.54383\" xlink:href=\"#m985c3f97b5\" y=\"91.697381\"/>\n     <use style=\"fill:#1f77b4;stroke:#1f77b4;\" x=\"147.449723\" xlink:href=\"#m985c3f97b5\" y=\"121.671271\"/>\n     <use style=\"fill:#1f77b4;stroke:#1f77b4;\" x=\"119.969101\" xlink:href=\"#m985c3f97b5\" y=\"64.013701\"/>\n     <use style=\"fill:#1f77b4;stroke:#1f77b4;\" x=\"127.269481\" xlink:href=\"#m985c3f97b5\" y=\"60.9466\"/>\n     <use style=\"fill:#1f77b4;stroke:#1f77b4;\" x=\"123.777599\" xlink:href=\"#m985c3f97b5\" y=\"66.188315\"/>\n     <use style=\"fill:#1f77b4;stroke:#1f77b4;\" x=\"181.810343\" xlink:href=\"#m985c3f97b5\" y=\"115.1155\"/>\n     <use style=\"fill:#1f77b4;stroke:#1f77b4;\" x=\"127.458306\" xlink:href=\"#m985c3f97b5\" y=\"64.774778\"/>\n     <use style=\"fill:#1f77b4;stroke:#1f77b4;\" x=\"120.056487\" xlink:href=\"#m985c3f97b5\" y=\"69.935497\"/>\n     <use style=\"fill:#1f77b4;stroke:#1f77b4;\" x=\"128.772256\" xlink:href=\"#m985c3f97b5\" y=\"85.532007\"/>\n     <use style=\"fill:#1f77b4;stroke:#1f77b4;\" x=\"114.48658\" xlink:href=\"#m985c3f97b5\" y=\"73.057197\"/>\n     <use style=\"fill:#1f77b4;stroke:#1f77b4;\" x=\"178.963406\" xlink:href=\"#m985c3f97b5\" y=\"119.296951\"/>\n     <use style=\"fill:#1f77b4;stroke:#1f77b4;\" x=\"95.123505\" xlink:href=\"#m985c3f97b5\" y=\"38.752096\"/>\n     <use style=\"fill:#1f77b4;stroke:#1f77b4;\" x=\"165.016127\" xlink:href=\"#m985c3f97b5\" y=\"99.815911\"/>\n     <use style=\"fill:#1f77b4;stroke:#1f77b4;\" x=\"123.163823\" xlink:href=\"#m985c3f97b5\" y=\"61.06314\"/>\n     <use style=\"fill:#1f77b4;stroke:#1f77b4;\" x=\"181.001722\" xlink:href=\"#m985c3f97b5\" y=\"106.188439\"/>\n     <use style=\"fill:#1f77b4;stroke:#1f77b4;\" x=\"79.178169\" xlink:href=\"#m985c3f97b5\" y=\"47.270071\"/>\n     <use style=\"fill:#1f77b4;stroke:#1f77b4;\" x=\"177.959607\" xlink:href=\"#m985c3f97b5\" y=\"87.530765\"/>\n     <use style=\"fill:#1f77b4;stroke:#1f77b4;\" x=\"105.672959\" xlink:href=\"#m985c3f97b5\" y=\"69.886502\"/>\n     <use style=\"fill:#1f77b4;stroke:#1f77b4;\" x=\"137.810433\" xlink:href=\"#m985c3f97b5\" y=\"88.489512\"/>\n     <use style=\"fill:#1f77b4;stroke:#1f77b4;\" x=\"117.899246\" xlink:href=\"#m985c3f97b5\" y=\"70.088288\"/>\n     <use style=\"fill:#1f77b4;stroke:#1f77b4;\" x=\"60.596827\" xlink:href=\"#m985c3f97b5\" y=\"26.724849\"/>\n     <use style=\"fill:#1f77b4;stroke:#1f77b4;\" x=\"112.146733\" xlink:href=\"#m985c3f97b5\" y=\"58.643047\"/>\n     <use style=\"fill:#1f77b4;stroke:#1f77b4;\" x=\"107.022562\" xlink:href=\"#m985c3f97b5\" y=\"53.847767\"/>\n     <use style=\"fill:#1f77b4;stroke:#1f77b4;\" x=\"97.649262\" xlink:href=\"#m985c3f97b5\" y=\"54.379165\"/>\n     <use style=\"fill:#1f77b4;stroke:#1f77b4;\" x=\"152.452943\" xlink:href=\"#m985c3f97b5\" y=\"78.393449\"/>\n     <use style=\"fill:#1f77b4;stroke:#1f77b4;\" x=\"125.568024\" xlink:href=\"#m985c3f97b5\" y=\"71.832855\"/>\n     <use style=\"fill:#1f77b4;stroke:#1f77b4;\" x=\"129.333557\" xlink:href=\"#m985c3f97b5\" y=\"83.047628\"/>\n     <use style=\"fill:#1f77b4;stroke:#1f77b4;\" x=\"98.070196\" xlink:href=\"#m985c3f97b5\" y=\"44.3146\"/>\n     <use style=\"fill:#1f77b4;stroke:#1f77b4;\" x=\"163.686705\" xlink:href=\"#m985c3f97b5\" y=\"84.497669\"/>\n     <use style=\"fill:#1f77b4;stroke:#1f77b4;\" x=\"190.827035\" xlink:href=\"#m985c3f97b5\" y=\"93.481171\"/>\n     <use style=\"fill:#1f77b4;stroke:#1f77b4;\" x=\"140.451049\" xlink:href=\"#m985c3f97b5\" y=\"88.852907\"/>\n     <use style=\"fill:#1f77b4;stroke:#1f77b4;\" x=\"146.56366\" xlink:href=\"#m985c3f97b5\" y=\"91.705587\"/>\n     <use style=\"fill:#1f77b4;stroke:#1f77b4;\" x=\"129.46795\" xlink:href=\"#m985c3f97b5\" y=\"87.335712\"/>\n     <use style=\"fill:#1f77b4;stroke:#1f77b4;\" x=\"186.067348\" xlink:href=\"#m985c3f97b5\" y=\"110.799782\"/>\n     <use style=\"fill:#1f77b4;stroke:#1f77b4;\" x=\"148.775952\" xlink:href=\"#m985c3f97b5\" y=\"91.055098\"/>\n     <use style=\"fill:#1f77b4;stroke:#1f77b4;\" x=\"139.995741\" xlink:href=\"#m985c3f97b5\" y=\"89.14312\"/>\n     <use style=\"fill:#1f77b4;stroke:#1f77b4;\" x=\"119.592266\" xlink:href=\"#m985c3f97b5\" y=\"77.301726\"/>\n     <use style=\"fill:#1f77b4;stroke:#1f77b4;\" x=\"162.818475\" xlink:href=\"#m985c3f97b5\" y=\"93.906184\"/>\n     <use style=\"fill:#1f77b4;stroke:#1f77b4;\" x=\"72.223589\" xlink:href=\"#m985c3f97b5\" y=\"39.998143\"/>\n     <use style=\"fill:#1f77b4;stroke:#1f77b4;\" x=\"109.97123\" xlink:href=\"#m985c3f97b5\" y=\"50.676454\"/>\n     <use style=\"fill:#1f77b4;stroke:#1f77b4;\" x=\"37.81946\" xlink:href=\"#m985c3f97b5\" y=\"25.20712\"/>\n     <use style=\"fill:#1f77b4;stroke:#1f77b4;\" x=\"128.484038\" xlink:href=\"#m985c3f97b5\" y=\"77.521965\"/>\n     <use style=\"fill:#1f77b4;stroke:#1f77b4;\" x=\"114.234221\" xlink:href=\"#m985c3f97b5\" y=\"80.264535\"/>\n     <use style=\"fill:#1f77b4;stroke:#1f77b4;\" x=\"163.086834\" xlink:href=\"#m985c3f97b5\" y=\"93.090022\"/>\n     <use style=\"fill:#1f77b4;stroke:#1f77b4;\" x=\"136.787875\" xlink:href=\"#m985c3f97b5\" y=\"90.442822\"/>\n     <use style=\"fill:#1f77b4;stroke:#1f77b4;\" x=\"120.394593\" xlink:href=\"#m985c3f97b5\" y=\"77.940471\"/>\n     <use style=\"fill:#1f77b4;stroke:#1f77b4;\" x=\"150.251973\" xlink:href=\"#m985c3f97b5\" y=\"75.742695\"/>\n     <use style=\"fill:#1f77b4;stroke:#1f77b4;\" x=\"128.690445\" xlink:href=\"#m985c3f97b5\" y=\"72.437698\"/>\n     <use style=\"fill:#1f77b4;stroke:#1f77b4;\" x=\"155.166589\" xlink:href=\"#m985c3f97b5\" y=\"107.263741\"/>\n     <use style=\"fill:#1f77b4;stroke:#1f77b4;\" x=\"131.818032\" xlink:href=\"#m985c3f97b5\" y=\"69.426191\"/>\n     <use style=\"fill:#1f77b4;stroke:#1f77b4;\" x=\"189.892582\" xlink:href=\"#m985c3f97b5\" y=\"97.613505\"/>\n     <use style=\"fill:#1f77b4;stroke:#1f77b4;\" x=\"142.880407\" xlink:href=\"#m985c3f97b5\" y=\"86.07801\"/>\n     <use style=\"fill:#1f77b4;stroke:#1f77b4;\" x=\"163.51164\" xlink:href=\"#m985c3f97b5\" y=\"77.832031\"/>\n     <use style=\"fill:#1f77b4;stroke:#1f77b4;\" x=\"147.409233\" xlink:href=\"#m985c3f97b5\" y=\"104.364168\"/>\n     <use style=\"fill:#1f77b4;stroke:#1f77b4;\" x=\"124.818948\" xlink:href=\"#m985c3f97b5\" y=\"60.994242\"/>\n     <use style=\"fill:#1f77b4;stroke:#1f77b4;\" x=\"146.051095\" xlink:href=\"#m985c3f97b5\" y=\"89.199534\"/>\n     <use style=\"fill:#1f77b4;stroke:#1f77b4;\" x=\"118.190247\" xlink:href=\"#m985c3f97b5\" y=\"70.058321\"/>\n     <use style=\"fill:#1f77b4;stroke:#1f77b4;\" x=\"99.794111\" xlink:href=\"#m985c3f97b5\" y=\"34.365242\"/>\n     <use style=\"fill:#1f77b4;stroke:#1f77b4;\" x=\"115.889833\" xlink:href=\"#m985c3f97b5\" y=\"67.963651\"/>\n    </g>\n   </g>\n   <g id=\"matplotlib.axis_1\">\n    <g id=\"xtick_1\">\n     <g id=\"line2d_1\">\n      <defs>\n       <path d=\"M 0 0 \nL 0 3.5 \n\" id=\"m7782147f4c\" style=\"stroke:#000000;stroke-width:0.8;\"/>\n      </defs>\n      <g>\n       <use style=\"stroke:#000000;stroke-width:0.8;\" x=\"70.339246\" xlink:href=\"#m7782147f4c\" y=\"143.1\"/>\n      </g>\n     </g>\n     <g id=\"text_1\">\n      <!-- −2 -->\n      <g transform=\"translate(62.968152 157.698438)scale(0.1 -0.1)\">\n       <defs>\n        <path d=\"M 10.59375 35.5 \nL 73.1875 35.5 \nL 73.1875 27.203125 \nL 10.59375 27.203125 \nz\n\" id=\"DejaVuSans-8722\"/>\n        <path d=\"M 19.1875 8.296875 \nL 53.609375 8.296875 \nL 53.609375 0 \nL 7.328125 0 \nL 7.328125 8.296875 \nQ 12.9375 14.109375 22.625 23.890625 \nQ 32.328125 33.6875 34.8125 36.53125 \nQ 39.546875 41.84375 41.421875 45.53125 \nQ 43.3125 49.21875 43.3125 52.78125 \nQ 43.3125 58.59375 39.234375 62.25 \nQ 35.15625 65.921875 28.609375 65.921875 \nQ 23.96875 65.921875 18.8125 64.3125 \nQ 13.671875 62.703125 7.8125 59.421875 \nL 7.8125 69.390625 \nQ 13.765625 71.78125 18.9375 73 \nQ 24.125 74.21875 28.421875 74.21875 \nQ 39.75 74.21875 46.484375 68.546875 \nQ 53.21875 62.890625 53.21875 53.421875 \nQ 53.21875 48.921875 51.53125 44.890625 \nQ 49.859375 40.875 45.40625 35.40625 \nQ 44.1875 33.984375 37.640625 27.21875 \nQ 31.109375 20.453125 19.1875 8.296875 \nz\n\" id=\"DejaVuSans-50\"/>\n       </defs>\n       <use xlink:href=\"#DejaVuSans-8722\"/>\n       <use x=\"83.789062\" xlink:href=\"#DejaVuSans-50\"/>\n      </g>\n     </g>\n    </g>\n    <g id=\"xtick_2\">\n     <g id=\"line2d_2\">\n      <g>\n       <use style=\"stroke:#000000;stroke-width:0.8;\" x=\"131.392588\" xlink:href=\"#m7782147f4c\" y=\"143.1\"/>\n      </g>\n     </g>\n     <g id=\"text_2\">\n      <!-- 0 -->\n      <g transform=\"translate(128.211338 157.698438)scale(0.1 -0.1)\">\n       <defs>\n        <path d=\"M 31.78125 66.40625 \nQ 24.171875 66.40625 20.328125 58.90625 \nQ 16.5 51.421875 16.5 36.375 \nQ 16.5 21.390625 20.328125 13.890625 \nQ 24.171875 6.390625 31.78125 6.390625 \nQ 39.453125 6.390625 43.28125 13.890625 \nQ 47.125 21.390625 47.125 36.375 \nQ 47.125 51.421875 43.28125 58.90625 \nQ 39.453125 66.40625 31.78125 66.40625 \nz\nM 31.78125 74.21875 \nQ 44.046875 74.21875 50.515625 64.515625 \nQ 56.984375 54.828125 56.984375 36.375 \nQ 56.984375 17.96875 50.515625 8.265625 \nQ 44.046875 -1.421875 31.78125 -1.421875 \nQ 19.53125 -1.421875 13.0625 8.265625 \nQ 6.59375 17.96875 6.59375 36.375 \nQ 6.59375 54.828125 13.0625 64.515625 \nQ 19.53125 74.21875 31.78125 74.21875 \nz\n\" id=\"DejaVuSans-48\"/>\n       </defs>\n       <use xlink:href=\"#DejaVuSans-48\"/>\n      </g>\n     </g>\n    </g>\n    <g id=\"xtick_3\">\n     <g id=\"line2d_3\">\n      <g>\n       <use style=\"stroke:#000000;stroke-width:0.8;\" x=\"192.44593\" xlink:href=\"#m7782147f4c\" y=\"143.1\"/>\n      </g>\n     </g>\n     <g id=\"text_3\">\n      <!-- 2 -->\n      <g transform=\"translate(189.26468 157.698438)scale(0.1 -0.1)\">\n       <use xlink:href=\"#DejaVuSans-50\"/>\n      </g>\n     </g>\n    </g>\n   </g>\n   <g id=\"matplotlib.axis_2\">\n    <g id=\"ytick_1\">\n     <g id=\"line2d_4\">\n      <defs>\n       <path d=\"M 0 0 \nL -3.5 0 \n\" id=\"m5b27554700\" style=\"stroke:#000000;stroke-width:0.8;\"/>\n      </defs>\n      <g>\n       <use style=\"stroke:#000000;stroke-width:0.8;\" x=\"28.942188\" xlink:href=\"#m5b27554700\" y=\"125.003879\"/>\n      </g>\n     </g>\n     <g id=\"text_4\">\n      <!-- −5 -->\n      <g transform=\"translate(7.2 128.803098)scale(0.1 -0.1)\">\n       <defs>\n        <path d=\"M 10.796875 72.90625 \nL 49.515625 72.90625 \nL 49.515625 64.59375 \nL 19.828125 64.59375 \nL 19.828125 46.734375 \nQ 21.96875 47.46875 24.109375 47.828125 \nQ 26.265625 48.1875 28.421875 48.1875 \nQ 40.625 48.1875 47.75 41.5 \nQ 54.890625 34.8125 54.890625 23.390625 \nQ 54.890625 11.625 47.5625 5.09375 \nQ 40.234375 -1.421875 26.90625 -1.421875 \nQ 22.3125 -1.421875 17.546875 -0.640625 \nQ 12.796875 0.140625 7.71875 1.703125 \nL 7.71875 11.625 \nQ 12.109375 9.234375 16.796875 8.0625 \nQ 21.484375 6.890625 26.703125 6.890625 \nQ 35.15625 6.890625 40.078125 11.328125 \nQ 45.015625 15.765625 45.015625 23.390625 \nQ 45.015625 31 40.078125 35.4375 \nQ 35.15625 39.890625 26.703125 39.890625 \nQ 22.75 39.890625 18.8125 39.015625 \nQ 14.890625 38.140625 10.796875 36.28125 \nz\n\" id=\"DejaVuSans-53\"/>\n       </defs>\n       <use xlink:href=\"#DejaVuSans-8722\"/>\n       <use x=\"83.789062\" xlink:href=\"#DejaVuSans-53\"/>\n      </g>\n     </g>\n    </g>\n    <g id=\"ytick_2\">\n     <g id=\"line2d_5\">\n      <g>\n       <use style=\"stroke:#000000;stroke-width:0.8;\" x=\"28.942188\" xlink:href=\"#m5b27554700\" y=\"98.792265\"/>\n      </g>\n     </g>\n     <g id=\"text_5\">\n      <!-- 0 -->\n      <g transform=\"translate(15.579688 102.591484)scale(0.1 -0.1)\">\n       <use xlink:href=\"#DejaVuSans-48\"/>\n      </g>\n     </g>\n    </g>\n    <g id=\"ytick_3\">\n     <g id=\"line2d_6\">\n      <g>\n       <use style=\"stroke:#000000;stroke-width:0.8;\" x=\"28.942188\" xlink:href=\"#m5b27554700\" y=\"72.580651\"/>\n      </g>\n     </g>\n     <g id=\"text_6\">\n      <!-- 5 -->\n      <g transform=\"translate(15.579688 76.379869)scale(0.1 -0.1)\">\n       <use xlink:href=\"#DejaVuSans-53\"/>\n      </g>\n     </g>\n    </g>\n    <g id=\"ytick_4\">\n     <g id=\"line2d_7\">\n      <g>\n       <use style=\"stroke:#000000;stroke-width:0.8;\" x=\"28.942188\" xlink:href=\"#m5b27554700\" y=\"46.369036\"/>\n      </g>\n     </g>\n     <g id=\"text_7\">\n      <!-- 10 -->\n      <g transform=\"translate(9.217188 50.168255)scale(0.1 -0.1)\">\n       <defs>\n        <path d=\"M 12.40625 8.296875 \nL 28.515625 8.296875 \nL 28.515625 63.921875 \nL 10.984375 60.40625 \nL 10.984375 69.390625 \nL 28.421875 72.90625 \nL 38.28125 72.90625 \nL 38.28125 8.296875 \nL 54.390625 8.296875 \nL 54.390625 0 \nL 12.40625 0 \nz\n\" id=\"DejaVuSans-49\"/>\n       </defs>\n       <use xlink:href=\"#DejaVuSans-49\"/>\n       <use x=\"63.623047\" xlink:href=\"#DejaVuSans-48\"/>\n      </g>\n     </g>\n    </g>\n    <g id=\"ytick_5\">\n     <g id=\"line2d_8\">\n      <g>\n       <use style=\"stroke:#000000;stroke-width:0.8;\" x=\"28.942188\" xlink:href=\"#m5b27554700\" y=\"20.157422\"/>\n      </g>\n     </g>\n     <g id=\"text_8\">\n      <!-- 15 -->\n      <g transform=\"translate(9.217188 23.956641)scale(0.1 -0.1)\">\n       <use xlink:href=\"#DejaVuSans-49\"/>\n       <use x=\"63.623047\" xlink:href=\"#DejaVuSans-53\"/>\n      </g>\n     </g>\n    </g>\n   </g>\n   <g id=\"patch_3\">\n    <path d=\"M 28.942188 143.1 \nL 28.942188 7.2 \n\" style=\"fill:none;stroke:#000000;stroke-linecap:square;stroke-linejoin:miter;stroke-width:0.8;\"/>\n   </g>\n   <g id=\"patch_4\">\n    <path d=\"M 224.242188 143.1 \nL 224.242188 7.2 \n\" style=\"fill:none;stroke:#000000;stroke-linecap:square;stroke-linejoin:miter;stroke-width:0.8;\"/>\n   </g>\n   <g id=\"patch_5\">\n    <path d=\"M 28.942187 143.1 \nL 224.242188 143.1 \n\" style=\"fill:none;stroke:#000000;stroke-linecap:square;stroke-linejoin:miter;stroke-width:0.8;\"/>\n   </g>\n   <g id=\"patch_6\">\n    <path d=\"M 28.942187 7.2 \nL 224.242188 7.2 \n\" style=\"fill:none;stroke:#000000;stroke-linecap:square;stroke-linejoin:miter;stroke-width:0.8;\"/>\n   </g>\n  </g>\n </g>\n <defs>\n  <clipPath id=\"p75a5205f11\">\n   <rect height=\"135.9\" width=\"195.3\" x=\"28.942188\" y=\"7.2\"/>\n  </clipPath>\n </defs>\n</svg>\n"
          },
          "metadata": {
            "needs_background": "light"
          }
        }
      ]
    },
    {
      "cell_type": "code",
      "source": [
        ""
      ],
      "metadata": {
        "id": "2hQOAKjsqOtF"
      },
      "execution_count": null,
      "outputs": []
    },
    {
      "cell_type": "markdown",
      "source": [
        "### Reading the Dataset"
      ],
      "metadata": {
        "id": "HZdKklLeqRpi"
      }
    },
    {
      "cell_type": "code",
      "source": [
        "# The function takes a batch size, a matrix of features, and a vector of labels, yielding minibatches of the size batch_size.\n",
        "\n",
        "def data_iter(batch_size, features, labels):\n",
        "    num_examples = len(features)\n",
        "    indices = list(range(num_examples))\n",
        "\n",
        "    # The examples are read at random, in no particular order\n",
        "    \n",
        "    random.shuffle(indices)\n",
        "    for i in range(0, num_examples, batch_size):\n",
        "        batch_indices = torch.tensor(\n",
        "            indices[i: min(i + batch_size, num_examples)])\n",
        "        yield features[batch_indices], labels[batch_indices]"
      ],
      "metadata": {
        "id": "IAm7mFcyqSVm"
      },
      "execution_count": 14,
      "outputs": []
    },
    {
      "cell_type": "code",
      "source": [
        "batch_size = 10\n",
        "\n",
        "for X, y in data_iter(batch_size, features, labels):\n",
        "    print(X, '\\n', y)\n",
        "    break"
      ],
      "metadata": {
        "colab": {
          "base_uri": "https://localhost:8080/"
        },
        "id": "Ru6scGr7qiTq",
        "outputId": "834368a8-bdd4-425d-e421-656face47a99"
      },
      "execution_count": 15,
      "outputs": [
        {
          "output_type": "stream",
          "name": "stdout",
          "text": [
            "tensor([[ 0.3883, -0.7845],\n",
            "        [ 1.1389,  1.5309],\n",
            "        [ 0.1569, -0.7245],\n",
            "        [ 1.9381,  0.2925],\n",
            "        [-0.4234,  0.5300],\n",
            "        [ 0.9701, -2.0354],\n",
            "        [ 1.1716, -1.0699],\n",
            "        [-0.3866,  0.4530],\n",
            "        [-2.4786,  1.2453],\n",
            "        [-0.1933,  1.7910]]) \n",
            " tensor([[ 7.6548],\n",
            "        [ 1.2755],\n",
            "        [ 6.9792],\n",
            "        [ 7.0909],\n",
            "        [ 1.5487],\n",
            "        [13.0656],\n",
            "        [10.2046],\n",
            "        [ 1.8841],\n",
            "        [-4.9927],\n",
            "        [-2.2905]])\n"
          ]
        }
      ]
    },
    {
      "cell_type": "code",
      "source": [
        ""
      ],
      "metadata": {
        "id": "qHlqHC9kqvT_"
      },
      "execution_count": null,
      "outputs": []
    },
    {
      "cell_type": "markdown",
      "source": [
        "### Initializing Model Parameters"
      ],
      "metadata": {
        "id": "fglRGy0VqywP"
      }
    },
    {
      "cell_type": "code",
      "source": [
        "# we initialize weights by sampling random numbers from a normal distribution with mean 0 and a standard deviation of 0.01, and setting the bias to 0.\n",
        "\n",
        "w =  torch.normal(0, 0.01, size = (2,1), requires_grad = True)\n",
        "b = torch.zeros(1, requires_grad = True)"
      ],
      "metadata": {
        "id": "ixNV1ZTYqzk_"
      },
      "execution_count": 16,
      "outputs": []
    },
    {
      "cell_type": "code",
      "source": [
        ""
      ],
      "metadata": {
        "id": "TkgguNNnrPzn"
      },
      "execution_count": null,
      "outputs": []
    },
    {
      "cell_type": "markdown",
      "source": [
        "### Defining the Model"
      ],
      "metadata": {
        "id": "aWu5kUz5rh8x"
      }
    },
    {
      "cell_type": "code",
      "source": [
        "def linreg(X, w, b): #@save\n",
        "    \"\"\"The linear regression model.\"\"\"\n",
        "    return torch.matmul(X, w) + b"
      ],
      "metadata": {
        "id": "InQObtKLriqP"
      },
      "execution_count": 17,
      "outputs": []
    },
    {
      "cell_type": "code",
      "source": [
        ""
      ],
      "metadata": {
        "id": "N6DqvFyjruhi"
      },
      "execution_count": null,
      "outputs": []
    },
    {
      "cell_type": "markdown",
      "source": [
        "### Defining the Loss Function"
      ],
      "metadata": {
        "id": "0ajYEZkor18w"
      }
    },
    {
      "cell_type": "code",
      "source": [
        "# use the squared loss function\n",
        "# we need to transform the true value y into the predicted value’s shape y_hat.\n",
        "\n",
        "def squared_loss(y_hat, y): #@save\n",
        "    \"\"\"Squared loss.\"\"\"\n",
        "    return (y_hat - y.reshape(y_hat.shape)) ** 2 / 2"
      ],
      "metadata": {
        "id": "fmcr-8m9r252"
      },
      "execution_count": 18,
      "outputs": []
    },
    {
      "cell_type": "code",
      "source": [
        ""
      ],
      "metadata": {
        "id": "-myjXIljsUhk"
      },
      "execution_count": null,
      "outputs": []
    },
    {
      "cell_type": "markdown",
      "source": [
        "### Defining the Optimization Algorithm"
      ],
      "metadata": {
        "id": "4oYyQS6DsVSI"
      }
    },
    {
      "cell_type": "code",
      "source": [
        "# we normalize our step size by the batch size (batch_size), \n",
        "# so that the magnitude of a typical step size does not depend heavily on our choice of the batch size.\n",
        "\n",
        "def sgd(params, lr, batch_size): #@save\n",
        "    \"\"\"Minibatch stochastic gradient descent.\"\"\"\n",
        "    with torch.no_grad(): # with as 구문을 빠져나가게 되면 자동으로 close() 함수를 호출하여 파일을 닫음\n",
        "        for param in params:\n",
        "            param -= lr * param.grad / batch_size\n",
        "            param.grad.zero_()"
      ],
      "metadata": {
        "id": "vZzrPOHcsWpI"
      },
      "execution_count": 19,
      "outputs": []
    },
    {
      "cell_type": "code",
      "source": [
        ""
      ],
      "metadata": {
        "id": "9IDKgrZ9tYXc"
      },
      "execution_count": null,
      "outputs": []
    },
    {
      "cell_type": "markdown",
      "source": [
        "### Training"
      ],
      "metadata": {
        "id": "LZgC1z9NtZyh"
      }
    },
    {
      "cell_type": "code",
      "source": [
        "lr = 0.03\n",
        "num_epochs = 3\n",
        "net = linreg\n",
        "loss = squared_loss\n",
        "\n",
        "for epoch in range(num_epochs):\n",
        "    for X, y in data_iter(batch_size, features, labels):\n",
        "        l = loss(net(X, w, b), y)  # Minibatch loss in `X` and `y`\n",
        "\n",
        "        # Compute gradient on `l` with respect to [`w`, `b`]\n",
        "\n",
        "        l.sum().backward()\n",
        "        sgd([w, b], lr, batch_size)  # Update parameters using their gradient\n",
        "        \n",
        "    with torch.no_grad():\n",
        "        train_l = loss(net(features, w, b), labels)\n",
        "        print(f'epoch {epoch + 1}, loss {float(train_l.mean()):f}')"
      ],
      "metadata": {
        "colab": {
          "base_uri": "https://localhost:8080/"
        },
        "id": "jH5jzNdstbTe",
        "outputId": "94a5045e-4b3f-4625-a049-ff336658b8d6"
      },
      "execution_count": 20,
      "outputs": [
        {
          "output_type": "stream",
          "name": "stdout",
          "text": [
            "epoch 1, loss 0.046204\n",
            "epoch 2, loss 0.000175\n",
            "epoch 3, loss 0.000046\n"
          ]
        }
      ]
    },
    {
      "cell_type": "code",
      "source": [
        "print(f'error in estimating w: {true_w - w.reshape(true_w.shape)}')\n",
        "print(f'error in estimating b: {true_b - b}')"
      ],
      "metadata": {
        "colab": {
          "base_uri": "https://localhost:8080/"
        },
        "id": "aqI2Rz5ItovH",
        "outputId": "1fdd3319-dbd4-456a-b15d-550b1ab742c1"
      },
      "execution_count": 21,
      "outputs": [
        {
          "output_type": "stream",
          "name": "stdout",
          "text": [
            "error in estimating w: tensor([0.0002, 0.0003], grad_fn=<SubBackward0>)\n",
            "error in estimating b: tensor([0.0006], grad_fn=<RsubBackward1>)\n"
          ]
        }
      ]
    },
    {
      "cell_type": "code",
      "source": [
        ""
      ],
      "metadata": {
        "id": "kPqFBhaBt2Bx"
      },
      "execution_count": null,
      "outputs": []
    },
    {
      "cell_type": "markdown",
      "source": [
        "### Summary\n",
        "\n",
        "- We saw how a deep network can be implemented and optimized from scratch, using just tensors and auto differentiation, without any need for defining layers or fancy optimizers.\n",
        "\n",
        "- This section only scratches the surface of what is possible. In the following sections, we will describe additional models based on the concepts that we have just introduced and learn how to implement them more concisely."
      ],
      "metadata": {
        "id": "L53-9BKSt1ot"
      }
    },
    {
      "cell_type": "code",
      "source": [
        ""
      ],
      "metadata": {
        "id": "tyUZ3pXqt6fc"
      },
      "execution_count": null,
      "outputs": []
    },
    {
      "cell_type": "markdown",
      "source": [
        "# 3.3. Concise Implementation of Linear Regression"
      ],
      "metadata": {
        "id": "dah2zqBwuCqX"
      }
    },
    {
      "cell_type": "markdown",
      "source": [
        "### Generating the Dataset"
      ],
      "metadata": {
        "id": "vvkn4cUDuOAH"
      }
    },
    {
      "cell_type": "code",
      "source": [
        "# import module\n",
        "\n",
        "import numpy as np\n",
        "import torch\n",
        "from torch.utils import data\n",
        "from d2l import torch as d2l"
      ],
      "metadata": {
        "id": "L0piTYvwuEzC"
      },
      "execution_count": 22,
      "outputs": []
    },
    {
      "cell_type": "code",
      "source": [
        "# generate the same dataset as in Section 3.2\n",
        "\n",
        "true_w = torch.tensor([2, -3.4])\n",
        "true_b = 4.2\n",
        "features, labels = d2l.synthetic_data(true_w, true_b, 1000)"
      ],
      "metadata": {
        "id": "ovoc85ZZuTdL"
      },
      "execution_count": 23,
      "outputs": []
    },
    {
      "cell_type": "code",
      "source": [
        ""
      ],
      "metadata": {
        "id": "xracFuiWuX7L"
      },
      "execution_count": null,
      "outputs": []
    },
    {
      "cell_type": "markdown",
      "source": [
        "### Reading the Dataset"
      ],
      "metadata": {
        "id": "XdNj7ma9uaGE"
      }
    },
    {
      "cell_type": "code",
      "source": [
        "# call upon the existing API in a framework to read data.\n",
        "\n",
        "def load_array(data_arrays, batch_size, is_train = True): #@save\n",
        "    \"\"\"Construct a PyTorch data iterator.\"\"\"\n",
        "    dataset = data.TensorDataset(*data_arrays)\n",
        "    return data.DataLoader(dataset, batch_size, shuffle=is_train)\n",
        "\n",
        "batch_size = 10\n",
        "data_iter = load_array((features, labels), batch_size)"
      ],
      "metadata": {
        "id": "QV2mwcJOuauX"
      },
      "execution_count": 24,
      "outputs": []
    },
    {
      "cell_type": "code",
      "source": [
        "next(iter(data_iter))"
      ],
      "metadata": {
        "colab": {
          "base_uri": "https://localhost:8080/"
        },
        "id": "7xzaqPsBu338",
        "outputId": "7eeb607f-cd05-4aed-ff29-372f0b992213"
      },
      "execution_count": 25,
      "outputs": [
        {
          "output_type": "execute_result",
          "data": {
            "text/plain": [
              "[tensor([[ 1.6704, -1.7717],\n",
              "         [-0.1945, -0.8624],\n",
              "         [ 1.0191,  0.8787],\n",
              "         [ 0.5145, -0.1622],\n",
              "         [-0.1779,  1.5337],\n",
              "         [ 1.2000,  0.2536],\n",
              "         [-0.3299, -0.6591],\n",
              "         [ 0.2238,  0.4701],\n",
              "         [ 0.8786, -0.7199],\n",
              "         [-0.5355,  0.4286]]), tensor([[13.5535],\n",
              "         [ 6.7526],\n",
              "         [ 3.2437],\n",
              "         [ 5.7858],\n",
              "         [-1.3739],\n",
              "         [ 5.7282],\n",
              "         [ 5.7781],\n",
              "         [ 3.0459],\n",
              "         [ 8.4302],\n",
              "         [ 1.6800]])]"
            ]
          },
          "metadata": {},
          "execution_count": 25
        }
      ]
    },
    {
      "cell_type": "code",
      "source": [
        ""
      ],
      "metadata": {
        "id": "CdttEtSfvDHG"
      },
      "execution_count": null,
      "outputs": []
    },
    {
      "cell_type": "markdown",
      "source": [
        "### Defining the Model"
      ],
      "metadata": {
        "id": "NVp9E8JvvF0M"
      }
    },
    {
      "cell_type": "code",
      "source": [
        "# `nn` is an abbreviation for neural networks\n",
        "\n",
        "from torch import nn\n",
        "\n",
        "net = nn.Sequential(nn.Linear(2,1))\n",
        "\n",
        "# The first one specifies the input feature dimension, which is 2, \n",
        "# and the second one is the output feature dimension, which is a single scalar and therefore 1."
      ],
      "metadata": {
        "id": "_Cj0MlMnvGqm"
      },
      "execution_count": 26,
      "outputs": []
    },
    {
      "cell_type": "code",
      "source": [
        ""
      ],
      "metadata": {
        "id": "lAGxcEfKvTT5"
      },
      "execution_count": null,
      "outputs": []
    },
    {
      "cell_type": "markdown",
      "source": [
        "### Initializing Model Parameters"
      ],
      "metadata": {
        "id": "Kh4EiTjcvU_I"
      }
    },
    {
      "cell_type": "code",
      "source": [
        "# As we have specified the input and output dimensions when constructing nn.Linear, \n",
        "# now we can access the parameters directly to specify their initial values. \n",
        "# We first locate the layer by net[0], which is the first layer in the network, \n",
        "# and then use the weight.data and bias.data methods to access the parameters. \n",
        "# Next we use the replace methods normal_ and fill_ to overwrite parameter values.\n",
        "\n",
        "net[0].weight.data.normal_(0, 0.01)\n",
        "net[0].bias.data.fill_(0)"
      ],
      "metadata": {
        "colab": {
          "base_uri": "https://localhost:8080/"
        },
        "id": "Z6KBZoMAvVnC",
        "outputId": "13b568e5-e2f2-46ef-8b6f-1689bd480b09"
      },
      "execution_count": 27,
      "outputs": [
        {
          "output_type": "execute_result",
          "data": {
            "text/plain": [
              "tensor([0.])"
            ]
          },
          "metadata": {},
          "execution_count": 27
        }
      ]
    },
    {
      "cell_type": "code",
      "source": [
        ""
      ],
      "metadata": {
        "id": "Bwl00WmGwQpm"
      },
      "execution_count": null,
      "outputs": []
    },
    {
      "cell_type": "markdown",
      "source": [
        "### Defining the Loss Function"
      ],
      "metadata": {
        "id": "yDB0G7jMwQ0i"
      }
    },
    {
      "cell_type": "code",
      "source": [
        "# The MSELoss class computes the mean squared error\n",
        "\n",
        "loss = nn.MSELoss()"
      ],
      "metadata": {
        "id": "s12I3pzOwSyJ"
      },
      "execution_count": 28,
      "outputs": []
    },
    {
      "cell_type": "code",
      "source": [
        ""
      ],
      "metadata": {
        "id": "8R8sxVB-wkPD"
      },
      "execution_count": null,
      "outputs": []
    },
    {
      "cell_type": "markdown",
      "source": [
        "### Defining the Optimization Algorithm"
      ],
      "metadata": {
        "id": "k69k8L4gwkcH"
      }
    },
    {
      "cell_type": "code",
      "source": [
        "# optim module\n",
        "\n",
        "trainer = torch.optim.SGD(net.parameters(), lr=0.03)"
      ],
      "metadata": {
        "id": "s2FSA1aKwlKZ"
      },
      "execution_count": 29,
      "outputs": []
    },
    {
      "cell_type": "code",
      "source": [
        ""
      ],
      "metadata": {
        "id": "ylsTYceXxhC8"
      },
      "execution_count": null,
      "outputs": []
    },
    {
      "cell_type": "markdown",
      "source": [
        "### Training"
      ],
      "metadata": {
        "id": "sOPQ185FxhPQ"
      }
    },
    {
      "cell_type": "code",
      "source": [
        "# Generate predictions by calling net(X) and calculate the loss l (the forward propagation).\n",
        "# Calculate gradients by running the backpropagation.\n",
        "# Update the model parameters by invoking our optimizer.\n",
        "\n",
        "num_epochs = 3\n",
        "\n",
        "for epoch in range(num_epochs):\n",
        "    for X, y in data_iter:\n",
        "        l = loss(net(X) ,y)\n",
        "        trainer.zero_grad() ###\n",
        "        l.backward() ###\n",
        "        trainer.step() ###\n",
        "    l = loss(net(features), labels)\n",
        "    print(f'epoch {epoch + 1}, loss {l:f}')"
      ],
      "metadata": {
        "colab": {
          "base_uri": "https://localhost:8080/"
        },
        "id": "V8MKn470xiX7",
        "outputId": "f8029aa7-c57b-4629-f146-d4b7a4c770f5"
      },
      "execution_count": 30,
      "outputs": [
        {
          "output_type": "stream",
          "name": "stdout",
          "text": [
            "epoch 1, loss 0.000310\n",
            "epoch 2, loss 0.000103\n",
            "epoch 3, loss 0.000103\n"
          ]
        }
      ]
    },
    {
      "cell_type": "code",
      "source": [
        "# compare the model parameters learned by training on finite data and the actual parameters that generated our dataset.\n",
        "# our estimated parameters are close to their ground-truth counterparts\n",
        "\n",
        "w = net[0].weight.data\n",
        "print('error in estimating w:', true_w - w.reshape(true_w.shape))\n",
        "\n",
        "b = net[0].bias.data\n",
        "print('error in estimating b:', true_b - b)"
      ],
      "metadata": {
        "colab": {
          "base_uri": "https://localhost:8080/"
        },
        "id": "Nl6TwE95yIVO",
        "outputId": "9ad78bab-4f43-462d-f36a-a7b8d231d8d1"
      },
      "execution_count": 33,
      "outputs": [
        {
          "output_type": "stream",
          "name": "stdout",
          "text": [
            "error in estimating w: tensor([ 0.0002, -0.0003])\n",
            "error in estimating b: tensor([0.0001])\n"
          ]
        }
      ]
    },
    {
      "cell_type": "markdown",
      "source": [
        "### Summary\n",
        "\n",
        "- Using PyTorch’s high-level APIs, we can implement models much more concisely.\n",
        "\n",
        "- In PyTorch, the data module provides tools for data processing, the nn module defines a large number of neural network layers and common loss functions.\n",
        "\n",
        "- We can initialize the parameters by replacing their values with methods ending with _."
      ],
      "metadata": {
        "id": "I46DwJ9ryH5W"
      }
    },
    {
      "cell_type": "code",
      "source": [
        ""
      ],
      "metadata": {
        "id": "ivJcFrwKyjVN"
      },
      "execution_count": null,
      "outputs": []
    }
  ]
}