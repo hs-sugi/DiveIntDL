{
  "nbformat": 4,
  "nbformat_minor": 0,
  "metadata": {
    "colab": {
      "name": "preliminary.ipynb",
      "provenance": [],
      "collapsed_sections": []
    },
    "kernelspec": {
      "name": "python3",
      "display_name": "Python 3"
    },
    "language_info": {
      "name": "python"
    }
  },
  "cells": [
    {
      "cell_type": "markdown",
      "source": [
        "# 2.1 Data Manipulation"
      ],
      "metadata": {
        "id": "s15YDV_27Fba"
      }
    },
    {
      "cell_type": "markdown",
      "source": [
        "### Getting Started"
      ],
      "metadata": {
        "id": "R7FzFmPZDKEM"
      }
    },
    {
      "cell_type": "code",
      "source": [
        "import torch"
      ],
      "metadata": {
        "id": "8z_oNos17KIU"
      },
      "execution_count": 1,
      "outputs": []
    },
    {
      "cell_type": "code",
      "source": [
        "x = torch.arange(12, dtype=torch.float32)\n",
        "x"
      ],
      "metadata": {
        "colab": {
          "base_uri": "https://localhost:8080/"
        },
        "id": "FIUAv5d67aIm",
        "outputId": "2075b63f-86b0-49bf-a96d-5c7dc3ae58ed"
      },
      "execution_count": 2,
      "outputs": [
        {
          "output_type": "execute_result",
          "data": {
            "text/plain": [
              "tensor([ 0.,  1.,  2.,  3.,  4.,  5.,  6.,  7.,  8.,  9., 10., 11.])"
            ]
          },
          "metadata": {},
          "execution_count": 2
        }
      ]
    },
    {
      "cell_type": "code",
      "source": [
        "x.shape #the length along each axis"
      ],
      "metadata": {
        "colab": {
          "base_uri": "https://localhost:8080/"
        },
        "id": "ZJPp00z382t-",
        "outputId": "1d8fa6da-27db-4b81-d6c2-373acf355d74"
      },
      "execution_count": 3,
      "outputs": [
        {
          "output_type": "execute_result",
          "data": {
            "text/plain": [
              "torch.Size([12])"
            ]
          },
          "metadata": {},
          "execution_count": 3
        }
      ]
    },
    {
      "cell_type": "code",
      "source": [
        "x.numel() #the total number of elements"
      ],
      "metadata": {
        "colab": {
          "base_uri": "https://localhost:8080/"
        },
        "id": "CzMm2HZW87wg",
        "outputId": "d9bd06dc-2d56-43f5-bd16-caad3f2aac22"
      },
      "execution_count": 4,
      "outputs": [
        {
          "output_type": "execute_result",
          "data": {
            "text/plain": [
              "12"
            ]
          },
          "metadata": {},
          "execution_count": 4
        }
      ]
    },
    {
      "cell_type": "code",
      "source": [
        "X = x.reshape(3,4) #3 rows and 4 columns\n",
        "X"
      ],
      "metadata": {
        "colab": {
          "base_uri": "https://localhost:8080/"
        },
        "id": "vDTaEEh0_t1N",
        "outputId": "242442cd-51e2-4d79-c010-d4ceec670c88"
      },
      "execution_count": 5,
      "outputs": [
        {
          "output_type": "execute_result",
          "data": {
            "text/plain": [
              "tensor([[ 0.,  1.,  2.,  3.],\n",
              "        [ 4.,  5.,  6.,  7.],\n",
              "        [ 8.,  9., 10., 11.]])"
            ]
          },
          "metadata": {},
          "execution_count": 5
        }
      ]
    },
    {
      "cell_type": "code",
      "source": [
        "#automatically \n",
        "print(x.reshape(-1, 4))\n",
        "print()\n",
        "print(x.reshape(3, -1))"
      ],
      "metadata": {
        "colab": {
          "base_uri": "https://localhost:8080/"
        },
        "id": "x8R3tCd1AGSh",
        "outputId": "a73405f6-63a6-4867-bf01-dca5bdad7637"
      },
      "execution_count": 6,
      "outputs": [
        {
          "output_type": "stream",
          "name": "stdout",
          "text": [
            "tensor([[ 0.,  1.,  2.,  3.],\n",
            "        [ 4.,  5.,  6.,  7.],\n",
            "        [ 8.,  9., 10., 11.]])\n",
            "\n",
            "tensor([[ 0.,  1.,  2.,  3.],\n",
            "        [ 4.,  5.,  6.,  7.],\n",
            "        [ 8.,  9., 10., 11.]])\n"
          ]
        }
      ]
    },
    {
      "cell_type": "code",
      "source": [
        "#zero matrices \n",
        "torch.zeros((2,3,4))"
      ],
      "metadata": {
        "colab": {
          "base_uri": "https://localhost:8080/"
        },
        "id": "VrpKjxglBElr",
        "outputId": "7204b852-e986-4f65-eabf-faefe801dd47"
      },
      "execution_count": 7,
      "outputs": [
        {
          "output_type": "execute_result",
          "data": {
            "text/plain": [
              "tensor([[[0., 0., 0., 0.],\n",
              "         [0., 0., 0., 0.],\n",
              "         [0., 0., 0., 0.]],\n",
              "\n",
              "        [[0., 0., 0., 0.],\n",
              "         [0., 0., 0., 0.],\n",
              "         [0., 0., 0., 0.]]])"
            ]
          },
          "metadata": {},
          "execution_count": 7
        }
      ]
    },
    {
      "cell_type": "code",
      "source": [
        "#one martices\n",
        "torch.ones((2,3,4))"
      ],
      "metadata": {
        "colab": {
          "base_uri": "https://localhost:8080/"
        },
        "id": "ms8odAqKBNQX",
        "outputId": "d275ad2d-6284-45ee-aff5-1e29ab34fb78"
      },
      "execution_count": 8,
      "outputs": [
        {
          "output_type": "execute_result",
          "data": {
            "text/plain": [
              "tensor([[[1., 1., 1., 1.],\n",
              "         [1., 1., 1., 1.],\n",
              "         [1., 1., 1., 1.]],\n",
              "\n",
              "        [[1., 1., 1., 1.],\n",
              "         [1., 1., 1., 1.],\n",
              "         [1., 1., 1., 1.]]])"
            ]
          },
          "metadata": {},
          "execution_count": 8
        }
      ]
    },
    {
      "cell_type": "code",
      "source": [
        "#randomly sampled from a standard Gaussian (normal) distribution with a mean of 0 and a standard deviation of 1\n",
        "torch.randn(3,4) "
      ],
      "metadata": {
        "colab": {
          "base_uri": "https://localhost:8080/"
        },
        "id": "In85WwH1B8Sg",
        "outputId": "c5a1ff8f-fe96-4806-8756-98b69ec62103"
      },
      "execution_count": 9,
      "outputs": [
        {
          "output_type": "execute_result",
          "data": {
            "text/plain": [
              "tensor([[-0.2187,  0.0122, -0.4260, -0.3359],\n",
              "        [-0.4538,  1.5760,  2.1322,  0.4223],\n",
              "        [-0.2582, -0.0321, -0.2613,  1.1563]])"
            ]
          },
          "metadata": {},
          "execution_count": 9
        }
      ]
    },
    {
      "cell_type": "code",
      "source": [
        "torch.tensor([[2, 1, 4, 3], [1, 2, 3, 4], [4, 3, 2, 1]])"
      ],
      "metadata": {
        "colab": {
          "base_uri": "https://localhost:8080/"
        },
        "id": "fFsM_zm8CaXw",
        "outputId": "2e0442b2-882a-49c0-ce10-c05e62e3f332"
      },
      "execution_count": 10,
      "outputs": [
        {
          "output_type": "execute_result",
          "data": {
            "text/plain": [
              "tensor([[2, 1, 4, 3],\n",
              "        [1, 2, 3, 4],\n",
              "        [4, 3, 2, 1]])"
            ]
          },
          "metadata": {},
          "execution_count": 10
        }
      ]
    },
    {
      "cell_type": "code",
      "source": [
        ""
      ],
      "metadata": {
        "id": "4L2jQjmqCr80"
      },
      "execution_count": null,
      "outputs": []
    },
    {
      "cell_type": "markdown",
      "source": [
        "### Operations"
      ],
      "metadata": {
        "id": "Rn8glJceDBOW"
      }
    },
    {
      "cell_type": "code",
      "source": [
        "x = torch.tensor([1.0,2,4,8])\n",
        "y = torch.tensor([2,2,2,2])\n",
        "x+y, x-y, x*y, x/y, x**y #The ** operator is exponentiation"
      ],
      "metadata": {
        "colab": {
          "base_uri": "https://localhost:8080/"
        },
        "id": "jlFrp33GDD-9",
        "outputId": "ed6a0deb-02be-4db3-987f-7f7def1993da"
      },
      "execution_count": 11,
      "outputs": [
        {
          "output_type": "execute_result",
          "data": {
            "text/plain": [
              "(tensor([ 3.,  4.,  6., 10.]),\n",
              " tensor([-1.,  0.,  2.,  6.]),\n",
              " tensor([ 2.,  4.,  8., 16.]),\n",
              " tensor([0.5000, 1.0000, 2.0000, 4.0000]),\n",
              " tensor([ 1.,  4., 16., 64.]))"
            ]
          },
          "metadata": {},
          "execution_count": 11
        }
      ]
    },
    {
      "cell_type": "code",
      "source": [
        "torch.exp(x) #e^1.0, e^2, e^4, e^8"
      ],
      "metadata": {
        "colab": {
          "base_uri": "https://localhost:8080/"
        },
        "id": "J_7HIqp1D8GX",
        "outputId": "b8e326ae-c991-46a0-8e92-357c1a62a58d"
      },
      "execution_count": 12,
      "outputs": [
        {
          "output_type": "execute_result",
          "data": {
            "text/plain": [
              "tensor([2.7183e+00, 7.3891e+00, 5.4598e+01, 2.9810e+03])"
            ]
          },
          "metadata": {},
          "execution_count": 12
        }
      ]
    },
    {
      "cell_type": "code",
      "source": [
        "X = torch.arange(12, dtype=torch.float32).reshape((3,4))\n",
        "Y = torch.tensor([[2.0,1,4,3], [1,2,3,4], [4,3,2,1]])\n",
        "torch.cat((X, Y), dim=0), torch.cat((X, Y), dim=1) #concatenate"
      ],
      "metadata": {
        "colab": {
          "base_uri": "https://localhost:8080/"
        },
        "id": "OguqZ4v4Eubx",
        "outputId": "2339006d-ba25-41a7-d260-4f57c1e71106"
      },
      "execution_count": 13,
      "outputs": [
        {
          "output_type": "execute_result",
          "data": {
            "text/plain": [
              "(tensor([[ 0.,  1.,  2.,  3.],\n",
              "         [ 4.,  5.,  6.,  7.],\n",
              "         [ 8.,  9., 10., 11.],\n",
              "         [ 2.,  1.,  4.,  3.],\n",
              "         [ 1.,  2.,  3.,  4.],\n",
              "         [ 4.,  3.,  2.,  1.]]),\n",
              " tensor([[ 0.,  1.,  2.,  3.,  2.,  1.,  4.,  3.],\n",
              "         [ 4.,  5.,  6.,  7.,  1.,  2.,  3.,  4.],\n",
              "         [ 8.,  9., 10., 11.,  4.,  3.,  2.,  1.]]))"
            ]
          },
          "metadata": {},
          "execution_count": 13
        }
      ]
    },
    {
      "cell_type": "code",
      "source": [
        "#logical statements\n",
        "X == Y"
      ],
      "metadata": {
        "colab": {
          "base_uri": "https://localhost:8080/"
        },
        "id": "oZiqlL17E7yY",
        "outputId": "4c8a4eb2-a0fa-4341-a706-0f16423b832a"
      },
      "execution_count": 14,
      "outputs": [
        {
          "output_type": "execute_result",
          "data": {
            "text/plain": [
              "tensor([[False,  True, False,  True],\n",
              "        [False, False, False, False],\n",
              "        [False, False, False, False]])"
            ]
          },
          "metadata": {},
          "execution_count": 14
        }
      ]
    },
    {
      "cell_type": "code",
      "source": [
        "X.sum()"
      ],
      "metadata": {
        "colab": {
          "base_uri": "https://localhost:8080/"
        },
        "id": "72FMAj2hFMsq",
        "outputId": "89799dfc-716f-485d-95c3-b099606f62d6"
      },
      "execution_count": 15,
      "outputs": [
        {
          "output_type": "execute_result",
          "data": {
            "text/plain": [
              "tensor(66.)"
            ]
          },
          "metadata": {},
          "execution_count": 15
        }
      ]
    },
    {
      "cell_type": "code",
      "source": [
        ""
      ],
      "metadata": {
        "id": "GXn_tEw1FQ4W"
      },
      "execution_count": null,
      "outputs": []
    },
    {
      "cell_type": "markdown",
      "source": [
        "### Broadcasting Mechanism"
      ],
      "metadata": {
        "id": "7gzchb7hFYjN"
      }
    },
    {
      "cell_type": "code",
      "source": [
        "a = torch.arange(3).reshape((3,1))\n",
        "b = torch.arange(2).reshape((1,2))\n",
        "a, b"
      ],
      "metadata": {
        "colab": {
          "base_uri": "https://localhost:8080/"
        },
        "id": "6MPj4sqZFZiz",
        "outputId": "cbe91005-4442-4f43-ce6c-968920e537c3"
      },
      "execution_count": 16,
      "outputs": [
        {
          "output_type": "execute_result",
          "data": {
            "text/plain": [
              "(tensor([[0],\n",
              "         [1],\n",
              "         [2]]), tensor([[0, 1]]))"
            ]
          },
          "metadata": {},
          "execution_count": 16
        }
      ]
    },
    {
      "cell_type": "code",
      "source": [
        "a + b"
      ],
      "metadata": {
        "colab": {
          "base_uri": "https://localhost:8080/"
        },
        "id": "v5GPEYE_FdqY",
        "outputId": "d384a6f8-e273-44ec-ce7d-7181eceae67e"
      },
      "execution_count": 17,
      "outputs": [
        {
          "output_type": "execute_result",
          "data": {
            "text/plain": [
              "tensor([[0, 1],\n",
              "        [1, 2],\n",
              "        [2, 3]])"
            ]
          },
          "metadata": {},
          "execution_count": 17
        }
      ]
    },
    {
      "cell_type": "code",
      "source": [
        ""
      ],
      "metadata": {
        "id": "Gtln_MmHFiTr"
      },
      "execution_count": null,
      "outputs": []
    },
    {
      "cell_type": "markdown",
      "source": [
        "### Indexing and Slicing"
      ],
      "metadata": {
        "id": "arz4ojfUF2bP"
      }
    },
    {
      "cell_type": "code",
      "source": [
        "X"
      ],
      "metadata": {
        "colab": {
          "base_uri": "https://localhost:8080/"
        },
        "id": "zGS0XeskF34c",
        "outputId": "08da2df8-dba2-4c71-aea1-db339b1f8748"
      },
      "execution_count": 18,
      "outputs": [
        {
          "output_type": "execute_result",
          "data": {
            "text/plain": [
              "tensor([[ 0.,  1.,  2.,  3.],\n",
              "        [ 4.,  5.,  6.,  7.],\n",
              "        [ 8.,  9., 10., 11.]])"
            ]
          },
          "metadata": {},
          "execution_count": 18
        }
      ]
    },
    {
      "cell_type": "code",
      "source": [
        "X[-1]"
      ],
      "metadata": {
        "colab": {
          "base_uri": "https://localhost:8080/"
        },
        "id": "h9hZPQQGF7Cz",
        "outputId": "de1bd339-18f0-46d8-a02c-b42924646913"
      },
      "execution_count": 19,
      "outputs": [
        {
          "output_type": "execute_result",
          "data": {
            "text/plain": [
              "tensor([ 8.,  9., 10., 11.])"
            ]
          },
          "metadata": {},
          "execution_count": 19
        }
      ]
    },
    {
      "cell_type": "code",
      "source": [
        "X[1:3]"
      ],
      "metadata": {
        "colab": {
          "base_uri": "https://localhost:8080/"
        },
        "id": "FxSw43X_F8rm",
        "outputId": "8c7bad1f-77d9-432d-eb60-97c380f8489d"
      },
      "execution_count": 20,
      "outputs": [
        {
          "output_type": "execute_result",
          "data": {
            "text/plain": [
              "tensor([[ 4.,  5.,  6.,  7.],\n",
              "        [ 8.,  9., 10., 11.]])"
            ]
          },
          "metadata": {},
          "execution_count": 20
        }
      ]
    },
    {
      "cell_type": "code",
      "source": [
        "X[1,2] = 9\n",
        "X"
      ],
      "metadata": {
        "colab": {
          "base_uri": "https://localhost:8080/"
        },
        "id": "BvxcYok_F9zM",
        "outputId": "dcde7878-25a0-444d-8941-16ec08a1d036"
      },
      "execution_count": 21,
      "outputs": [
        {
          "output_type": "execute_result",
          "data": {
            "text/plain": [
              "tensor([[ 0.,  1.,  2.,  3.],\n",
              "        [ 4.,  5.,  9.,  7.],\n",
              "        [ 8.,  9., 10., 11.]])"
            ]
          },
          "metadata": {},
          "execution_count": 21
        }
      ]
    },
    {
      "cell_type": "code",
      "source": [
        "X[0:2, :]"
      ],
      "metadata": {
        "colab": {
          "base_uri": "https://localhost:8080/"
        },
        "id": "pkAV8bOnGA2h",
        "outputId": "db2183b8-7d49-4222-b9b4-9e17c894d32a"
      },
      "execution_count": 22,
      "outputs": [
        {
          "output_type": "execute_result",
          "data": {
            "text/plain": [
              "tensor([[0., 1., 2., 3.],\n",
              "        [4., 5., 9., 7.]])"
            ]
          },
          "metadata": {},
          "execution_count": 22
        }
      ]
    },
    {
      "cell_type": "code",
      "source": [
        "X[0:2, :] =12\n",
        "X"
      ],
      "metadata": {
        "colab": {
          "base_uri": "https://localhost:8080/"
        },
        "id": "c7MPU1p2GId4",
        "outputId": "38bdc4bd-c2a4-4e42-c229-0a4778e4d908"
      },
      "execution_count": 23,
      "outputs": [
        {
          "output_type": "execute_result",
          "data": {
            "text/plain": [
              "tensor([[12., 12., 12., 12.],\n",
              "        [12., 12., 12., 12.],\n",
              "        [ 8.,  9., 10., 11.]])"
            ]
          },
          "metadata": {},
          "execution_count": 23
        }
      ]
    },
    {
      "cell_type": "code",
      "source": [
        ""
      ],
      "metadata": {
        "id": "QfjFU6ibGKRO"
      },
      "execution_count": null,
      "outputs": []
    },
    {
      "cell_type": "markdown",
      "source": [
        "### Saving Memory"
      ],
      "metadata": {
        "id": "t_WoT6PsGMK9"
      }
    },
    {
      "cell_type": "code",
      "source": [
        "Y"
      ],
      "metadata": {
        "colab": {
          "base_uri": "https://localhost:8080/"
        },
        "id": "D6JMASzOGNAQ",
        "outputId": "ba6f1d04-5eed-419c-ed6d-ec734f2d72ec"
      },
      "execution_count": 24,
      "outputs": [
        {
          "output_type": "execute_result",
          "data": {
            "text/plain": [
              "tensor([[2., 1., 4., 3.],\n",
              "        [1., 2., 3., 4.],\n",
              "        [4., 3., 2., 1.]])"
            ]
          },
          "metadata": {},
          "execution_count": 24
        }
      ]
    },
    {
      "cell_type": "code",
      "source": [
        "id(Y) #allocated memory location"
      ],
      "metadata": {
        "colab": {
          "base_uri": "https://localhost:8080/"
        },
        "id": "t7pLVhmiGyWH",
        "outputId": "1a33683d-6149-408c-8f31-f596a9f36363"
      },
      "execution_count": 25,
      "outputs": [
        {
          "output_type": "execute_result",
          "data": {
            "text/plain": [
              "140450949268688"
            ]
          },
          "metadata": {},
          "execution_count": 25
        }
      ]
    },
    {
      "cell_type": "code",
      "source": [
        "before = id(Y)\n",
        "Y = Y + X\n",
        "id(Y) == before"
      ],
      "metadata": {
        "colab": {
          "base_uri": "https://localhost:8080/"
        },
        "id": "9UYH1x6xGzVk",
        "outputId": "bf5129f5-d7c5-444a-e4a6-14c31fc9526d"
      },
      "execution_count": 26,
      "outputs": [
        {
          "output_type": "execute_result",
          "data": {
            "text/plain": [
              "False"
            ]
          },
          "metadata": {},
          "execution_count": 26
        }
      ]
    },
    {
      "cell_type": "code",
      "source": [
        "id(Y) #new location in memory"
      ],
      "metadata": {
        "colab": {
          "base_uri": "https://localhost:8080/"
        },
        "id": "fgJDDxgZG_sg",
        "outputId": "963084ca-1e66-4f3b-ce4c-352b09444b3a"
      },
      "execution_count": 27,
      "outputs": [
        {
          "output_type": "execute_result",
          "data": {
            "text/plain": [
              "140450948979216"
            ]
          },
          "metadata": {},
          "execution_count": 27
        }
      ]
    },
    {
      "cell_type": "code",
      "source": [
        "Z = torch.zeros_like(Y)\n",
        "print(Z)\n",
        "print('id(Z):', id(Z))"
      ],
      "metadata": {
        "colab": {
          "base_uri": "https://localhost:8080/"
        },
        "id": "11GsbnCLHCV7",
        "outputId": "fb77e9cf-86a3-4bf4-9aa8-a91dc46dc0e8"
      },
      "execution_count": 28,
      "outputs": [
        {
          "output_type": "stream",
          "name": "stdout",
          "text": [
            "tensor([[0., 0., 0., 0.],\n",
            "        [0., 0., 0., 0.],\n",
            "        [0., 0., 0., 0.]])\n",
            "id(Z): 140450948978640\n"
          ]
        }
      ]
    },
    {
      "cell_type": "code",
      "source": [
        "Z[:] = X + Y\n",
        "print(Z[:], Z)\n",
        "print('id(Z):', id(Z))"
      ],
      "metadata": {
        "colab": {
          "base_uri": "https://localhost:8080/"
        },
        "id": "7ZBPEmboHMib",
        "outputId": "fc751696-eb1c-4e47-b721-3a73ee5f769b"
      },
      "execution_count": 29,
      "outputs": [
        {
          "output_type": "stream",
          "name": "stdout",
          "text": [
            "tensor([[26., 25., 28., 27.],\n",
            "        [25., 26., 27., 28.],\n",
            "        [20., 21., 22., 23.]]) tensor([[26., 25., 28., 27.],\n",
            "        [25., 26., 27., 28.],\n",
            "        [20., 21., 22., 23.]])\n",
            "id(Z): 140450948978640\n"
          ]
        }
      ]
    },
    {
      "cell_type": "code",
      "source": [
        "before = id(X)\n",
        "X += Y\n",
        "id(X) == before"
      ],
      "metadata": {
        "colab": {
          "base_uri": "https://localhost:8080/"
        },
        "id": "1zR889aZHSMF",
        "outputId": "67d4e995-a3fa-4d04-cf04-0415a4444de3"
      },
      "execution_count": 30,
      "outputs": [
        {
          "output_type": "execute_result",
          "data": {
            "text/plain": [
              "True"
            ]
          },
          "metadata": {},
          "execution_count": 30
        }
      ]
    },
    {
      "cell_type": "code",
      "source": [
        ""
      ],
      "metadata": {
        "id": "lKASq_XmHhcT"
      },
      "execution_count": null,
      "outputs": []
    },
    {
      "cell_type": "markdown",
      "source": [
        "### Conversion to Other Python Objects"
      ],
      "metadata": {
        "id": "W7NP_Dy9Hhrp"
      }
    },
    {
      "cell_type": "code",
      "source": [
        "A = X.numpy()\n",
        "B = torch.from_numpy(A)\n",
        "type(A), type(B)"
      ],
      "metadata": {
        "colab": {
          "base_uri": "https://localhost:8080/"
        },
        "id": "F_zAs3eWHkEM",
        "outputId": "059ca7e1-611e-4dc4-b549-d8e3d8c4d286"
      },
      "execution_count": 31,
      "outputs": [
        {
          "output_type": "execute_result",
          "data": {
            "text/plain": [
              "(numpy.ndarray, torch.Tensor)"
            ]
          },
          "metadata": {},
          "execution_count": 31
        }
      ]
    },
    {
      "cell_type": "code",
      "source": [
        "#To convert a size-1 tensor to a Python scalar\n",
        "a = torch.tensor([3.5])\n",
        "a, a.item(), float(a), int(a)"
      ],
      "metadata": {
        "colab": {
          "base_uri": "https://localhost:8080/"
        },
        "id": "yTLhRFZoJbhy",
        "outputId": "f3210a61-d496-41a7-befa-815d71d32d91"
      },
      "execution_count": 32,
      "outputs": [
        {
          "output_type": "execute_result",
          "data": {
            "text/plain": [
              "(tensor([3.5000]), 3.5, 3.5, 3)"
            ]
          },
          "metadata": {},
          "execution_count": 32
        }
      ]
    },
    {
      "cell_type": "markdown",
      "source": [
        "### Summary\n",
        "- The main interface to store and manipulate data for deep learning is the tensor ( n-dimensional array).\n",
        "-  It provides a variety of functionalities including basic mathematics operations, broadcasting, indexing, slicing, memory saving, and conversion to other Python objects."
      ],
      "metadata": {
        "id": "BcVKmEREKIJf"
      }
    },
    {
      "cell_type": "markdown",
      "source": [
        "### Exercises\n"
      ],
      "metadata": {
        "id": "xxsdom6PKRrW"
      }
    },
    {
      "cell_type": "markdown",
      "source": [
        "1. Run the code in this section. Change the conditional statement X == Y in this section to X < Y or X > Y, and then see what kind of tensor you can get."
      ],
      "metadata": {
        "id": "UW2bi4veKmuL"
      }
    },
    {
      "cell_type": "code",
      "source": [
        "X = torch.arange(12, dtype=torch.float32).reshape((3,4))\n",
        "Y = torch.tensor([[2.0,1,4,3], [1,2,3,4], [4,3,2,1]])\n",
        "\n",
        "print(X)\n",
        "print()\n",
        "print(Y)"
      ],
      "metadata": {
        "colab": {
          "base_uri": "https://localhost:8080/"
        },
        "id": "N5o_9SRvKmCR",
        "outputId": "d5dd1a02-a754-48a5-b7ca-c8c20ff9f480"
      },
      "execution_count": 33,
      "outputs": [
        {
          "output_type": "stream",
          "name": "stdout",
          "text": [
            "tensor([[ 0.,  1.,  2.,  3.],\n",
            "        [ 4.,  5.,  6.,  7.],\n",
            "        [ 8.,  9., 10., 11.]])\n",
            "\n",
            "tensor([[2., 1., 4., 3.],\n",
            "        [1., 2., 3., 4.],\n",
            "        [4., 3., 2., 1.]])\n"
          ]
        }
      ]
    },
    {
      "cell_type": "code",
      "source": [
        "X == Y"
      ],
      "metadata": {
        "colab": {
          "base_uri": "https://localhost:8080/"
        },
        "id": "vtcXWiUXKsx_",
        "outputId": "c30d7d1d-e257-447f-a259-b5c4f7dd68e6"
      },
      "execution_count": 34,
      "outputs": [
        {
          "output_type": "execute_result",
          "data": {
            "text/plain": [
              "tensor([[False,  True, False,  True],\n",
              "        [False, False, False, False],\n",
              "        [False, False, False, False]])"
            ]
          },
          "metadata": {},
          "execution_count": 34
        }
      ]
    },
    {
      "cell_type": "code",
      "source": [
        "X < Y"
      ],
      "metadata": {
        "colab": {
          "base_uri": "https://localhost:8080/"
        },
        "id": "9hK6lkXOKvsm",
        "outputId": "4f6f6827-158c-42cf-b37f-b57e5d154d67"
      },
      "execution_count": 35,
      "outputs": [
        {
          "output_type": "execute_result",
          "data": {
            "text/plain": [
              "tensor([[ True, False,  True, False],\n",
              "        [False, False, False, False],\n",
              "        [False, False, False, False]])"
            ]
          },
          "metadata": {},
          "execution_count": 35
        }
      ]
    },
    {
      "cell_type": "code",
      "source": [
        "X > Y"
      ],
      "metadata": {
        "colab": {
          "base_uri": "https://localhost:8080/"
        },
        "id": "JcFMeEQNKwjo",
        "outputId": "958c8b6d-9f01-4547-8c31-2f952474e43a"
      },
      "execution_count": 36,
      "outputs": [
        {
          "output_type": "execute_result",
          "data": {
            "text/plain": [
              "tensor([[False, False, False, False],\n",
              "        [ True,  True,  True,  True],\n",
              "        [ True,  True,  True,  True]])"
            ]
          },
          "metadata": {},
          "execution_count": 36
        }
      ]
    },
    {
      "cell_type": "code",
      "source": [
        ""
      ],
      "metadata": {
        "id": "r3mD3nYvKxjN"
      },
      "execution_count": null,
      "outputs": []
    },
    {
      "cell_type": "markdown",
      "source": [
        "2. Replace the two tensors that operate by element in the broadcasting mechanism with other shapes, e.g., 3-dimensional tensors. Is the result the same as expected?"
      ],
      "metadata": {
        "id": "vLJUrU-hKy-V"
      }
    },
    {
      "cell_type": "code",
      "source": [
        "a = torch.arange(1, 6, dtype =torch.float32).reshape((5, 1))\n",
        "b = torch.arange(1, 3).reshape((1, 2))\n",
        "\n",
        "print(a)\n",
        "print()\n",
        "print(b)"
      ],
      "metadata": {
        "colab": {
          "base_uri": "https://localhost:8080/"
        },
        "id": "SewK7KnzK00u",
        "outputId": "6e3e9640-98ca-4a13-99f0-fdb45c7eaa1c"
      },
      "execution_count": 38,
      "outputs": [
        {
          "output_type": "stream",
          "name": "stdout",
          "text": [
            "tensor([[1.],\n",
            "        [2.],\n",
            "        [3.],\n",
            "        [4.],\n",
            "        [5.]])\n",
            "\n",
            "tensor([[1, 2]])\n"
          ]
        }
      ]
    },
    {
      "cell_type": "code",
      "source": [
        "a + b"
      ],
      "metadata": {
        "colab": {
          "base_uri": "https://localhost:8080/"
        },
        "id": "3W59woiLL4DD",
        "outputId": "b2e5a1e8-8f7d-4bac-b8b6-25f7cc7a9c00"
      },
      "execution_count": 39,
      "outputs": [
        {
          "output_type": "execute_result",
          "data": {
            "text/plain": [
              "tensor([[2., 3.],\n",
              "        [3., 4.],\n",
              "        [4., 5.],\n",
              "        [5., 6.],\n",
              "        [6., 7.]])"
            ]
          },
          "metadata": {},
          "execution_count": 39
        }
      ]
    },
    {
      "cell_type": "code",
      "source": [
        "a - b"
      ],
      "metadata": {
        "colab": {
          "base_uri": "https://localhost:8080/"
        },
        "id": "erXwmScqL5-9",
        "outputId": "77f8618b-856f-43b9-d88f-ab6fa3d79baa"
      },
      "execution_count": 40,
      "outputs": [
        {
          "output_type": "execute_result",
          "data": {
            "text/plain": [
              "tensor([[ 0., -1.],\n",
              "        [ 1.,  0.],\n",
              "        [ 2.,  1.],\n",
              "        [ 3.,  2.],\n",
              "        [ 4.,  3.]])"
            ]
          },
          "metadata": {},
          "execution_count": 40
        }
      ]
    },
    {
      "cell_type": "code",
      "source": [
        "a * b"
      ],
      "metadata": {
        "colab": {
          "base_uri": "https://localhost:8080/"
        },
        "id": "aFm1G8sAL6m_",
        "outputId": "4d569cb4-ca82-4a65-b1f8-7516a891b213"
      },
      "execution_count": 41,
      "outputs": [
        {
          "output_type": "execute_result",
          "data": {
            "text/plain": [
              "tensor([[ 1.,  2.],\n",
              "        [ 2.,  4.],\n",
              "        [ 3.,  6.],\n",
              "        [ 4.,  8.],\n",
              "        [ 5., 10.]])"
            ]
          },
          "metadata": {},
          "execution_count": 41
        }
      ]
    },
    {
      "cell_type": "code",
      "source": [
        "a / b"
      ],
      "metadata": {
        "colab": {
          "base_uri": "https://localhost:8080/"
        },
        "id": "mnnbSP9CL7j-",
        "outputId": "96a7b215-c600-4459-9fd1-2ae8a91f1e91"
      },
      "execution_count": 42,
      "outputs": [
        {
          "output_type": "execute_result",
          "data": {
            "text/plain": [
              "tensor([[1.0000, 0.5000],\n",
              "        [2.0000, 1.0000],\n",
              "        [3.0000, 1.5000],\n",
              "        [4.0000, 2.0000],\n",
              "        [5.0000, 2.5000]])"
            ]
          },
          "metadata": {},
          "execution_count": 42
        }
      ]
    },
    {
      "cell_type": "code",
      "source": [
        "a // b"
      ],
      "metadata": {
        "colab": {
          "base_uri": "https://localhost:8080/"
        },
        "id": "FcnlYmcJL8sR",
        "outputId": "6664de26-2be7-4666-b272-c9562fbc9d3b"
      },
      "execution_count": 43,
      "outputs": [
        {
          "output_type": "stream",
          "name": "stderr",
          "text": [
            "/usr/local/lib/python3.7/dist-packages/ipykernel_launcher.py:1: UserWarning: __floordiv__ is deprecated, and its behavior will change in a future version of pytorch. It currently rounds toward 0 (like the 'trunc' function NOT 'floor'). This results in incorrect rounding for negative values. To keep the current behavior, use torch.div(a, b, rounding_mode='trunc'), or for actual floor division, use torch.div(a, b, rounding_mode='floor').\n",
            "  \"\"\"Entry point for launching an IPython kernel.\n"
          ]
        },
        {
          "output_type": "execute_result",
          "data": {
            "text/plain": [
              "tensor([[1., 0.],\n",
              "        [2., 1.],\n",
              "        [3., 1.],\n",
              "        [4., 2.],\n",
              "        [5., 2.]])"
            ]
          },
          "metadata": {},
          "execution_count": 43
        }
      ]
    },
    {
      "cell_type": "code",
      "source": [
        "a ** b"
      ],
      "metadata": {
        "colab": {
          "base_uri": "https://localhost:8080/"
        },
        "id": "oc33gGb4L-Y-",
        "outputId": "7125ebcd-7be0-4b8d-a049-6a597afb3d6e"
      },
      "execution_count": 44,
      "outputs": [
        {
          "output_type": "execute_result",
          "data": {
            "text/plain": [
              "tensor([[ 1.,  1.],\n",
              "        [ 2.,  4.],\n",
              "        [ 3.,  9.],\n",
              "        [ 4., 16.],\n",
              "        [ 5., 25.]])"
            ]
          },
          "metadata": {},
          "execution_count": 44
        }
      ]
    },
    {
      "cell_type": "code",
      "source": [
        "a % b"
      ],
      "metadata": {
        "colab": {
          "base_uri": "https://localhost:8080/"
        },
        "id": "JVMMID_9MKQM",
        "outputId": "f2012762-ced3-40d7-dd3a-d24828d15420"
      },
      "execution_count": 45,
      "outputs": [
        {
          "output_type": "execute_result",
          "data": {
            "text/plain": [
              "tensor([[0., 1.],\n",
              "        [0., 0.],\n",
              "        [0., 1.],\n",
              "        [0., 0.],\n",
              "        [0., 1.]])"
            ]
          },
          "metadata": {},
          "execution_count": 45
        }
      ]
    },
    {
      "cell_type": "code",
      "source": [
        ""
      ],
      "metadata": {
        "id": "oki1odNzMMtm"
      },
      "execution_count": null,
      "outputs": []
    },
    {
      "cell_type": "markdown",
      "source": [
        "# 2.2 Data Preprocessing"
      ],
      "metadata": {
        "id": "16l5lJlvMM84"
      }
    },
    {
      "cell_type": "markdown",
      "source": [
        "### Reading the Dataset"
      ],
      "metadata": {
        "id": "bxIZE-PjMQCe"
      }
    },
    {
      "cell_type": "code",
      "source": [
        "#마운트\n",
        "from google.colab import drive\n",
        "drive.mount('/content/drive')"
      ],
      "metadata": {
        "colab": {
          "base_uri": "https://localhost:8080/"
        },
        "id": "NlQ9gssrMXxj",
        "outputId": "254ba3bb-98ff-409d-c283-613d09621da2"
      },
      "execution_count": 46,
      "outputs": [
        {
          "output_type": "stream",
          "name": "stdout",
          "text": [
            "Mounted at /content/drive\n"
          ]
        }
      ]
    },
    {
      "cell_type": "code",
      "source": [
        "#데이터 로드 경로 지정\n",
        "import os\n",
        "path = '/content/drive/MyDrive/Colab Notebooks/data/' # 폴더 경로\n",
        "os.chdir(path) # 해당 폴더로 이동"
      ],
      "metadata": {
        "id": "UZByr1LUNiAG"
      },
      "execution_count": 47,
      "outputs": []
    },
    {
      "cell_type": "code",
      "source": [
        "#we write the dataset row by row into a csv file.\n",
        "os.makedirs(os.path.join('..', 'data'), exist_ok=True)\n",
        "data_file = os.path.join('..', 'data', 'house_tiny.csv')\n",
        "with open(data_file, 'w') as f:\n",
        "    f.write('NumRooms,Alley,Price\\n')  # Column names\n",
        "    f.write('NA,Pave,127500\\n')  # Each row represents a data example\n",
        "    f.write('2,NA,106000\\n')\n",
        "    f.write('4,NA,178100\\n')\n",
        "    f.write('NA,NA,140000\\n')"
      ],
      "metadata": {
        "id": "wfQgD4ULNys1"
      },
      "execution_count": 48,
      "outputs": []
    },
    {
      "cell_type": "code",
      "source": [
        "import pandas as pd\n",
        "# If pandas is not installed, just uncomment the following line:\n",
        "# !pip install pandas\n",
        "\n",
        "data = pd.read_csv(data_file)\n",
        "print(data)"
      ],
      "metadata": {
        "colab": {
          "base_uri": "https://localhost:8080/"
        },
        "id": "dqMCiA-sN5yz",
        "outputId": "d3a70a4c-0729-4628-c391-98ca5ee92098"
      },
      "execution_count": 49,
      "outputs": [
        {
          "output_type": "stream",
          "name": "stdout",
          "text": [
            "   NumRooms Alley   Price\n",
            "0       NaN  Pave  127500\n",
            "1       2.0   NaN  106000\n",
            "2       4.0   NaN  178100\n",
            "3       NaN   NaN  140000\n"
          ]
        }
      ]
    },
    {
      "cell_type": "code",
      "source": [
        ""
      ],
      "metadata": {
        "id": "A8uTnIHHOA_x"
      },
      "execution_count": null,
      "outputs": []
    },
    {
      "cell_type": "markdown",
      "source": [
        "### Handling Missing Data"
      ],
      "metadata": {
        "id": "zbYvsPB0ODrP"
      }
    },
    {
      "cell_type": "code",
      "source": [
        "inputs, outputs = data.iloc[:, 0:2], data.iloc[:, 2]\n",
        "print(inputs)\n",
        "print()\n",
        "print(outputs)"
      ],
      "metadata": {
        "colab": {
          "base_uri": "https://localhost:8080/"
        },
        "id": "tiBOOJLOOOJE",
        "outputId": "8f2d0a25-93bb-4ed4-9098-447b0dcdd662"
      },
      "execution_count": 50,
      "outputs": [
        {
          "output_type": "stream",
          "name": "stdout",
          "text": [
            "   NumRooms Alley\n",
            "0       NaN  Pave\n",
            "1       2.0   NaN\n",
            "2       4.0   NaN\n",
            "3       NaN   NaN\n",
            "\n",
            "0    127500\n",
            "1    106000\n",
            "2    178100\n",
            "3    140000\n",
            "Name: Price, dtype: int64\n"
          ]
        }
      ]
    },
    {
      "cell_type": "code",
      "source": [
        "inputs = inputs.fillna(inputs.mean())\n",
        "print(inputs)"
      ],
      "metadata": {
        "colab": {
          "base_uri": "https://localhost:8080/"
        },
        "id": "ntu2YS8MSOSe",
        "outputId": "6a619c6d-91c1-4bc5-cc1d-e2fb04e4fa17"
      },
      "execution_count": 51,
      "outputs": [
        {
          "output_type": "stream",
          "name": "stdout",
          "text": [
            "   NumRooms Alley\n",
            "0       3.0  Pave\n",
            "1       2.0   NaN\n",
            "2       4.0   NaN\n",
            "3       3.0   NaN\n"
          ]
        }
      ]
    },
    {
      "cell_type": "code",
      "source": [
        "inputs = pd.get_dummies(inputs, dummy_na=True)\n",
        "print(inputs)"
      ],
      "metadata": {
        "colab": {
          "base_uri": "https://localhost:8080/"
        },
        "id": "FBOuqUaLSPRk",
        "outputId": "0d531e21-4e91-4070-a978-9420ab3e6bce"
      },
      "execution_count": 53,
      "outputs": [
        {
          "output_type": "stream",
          "name": "stdout",
          "text": [
            "   NumRooms  Alley_Pave  Alley_nan\n",
            "0       3.0           1          0\n",
            "1       2.0           0          1\n",
            "2       4.0           0          1\n",
            "3       3.0           0          1\n"
          ]
        }
      ]
    },
    {
      "cell_type": "code",
      "source": [
        ""
      ],
      "metadata": {
        "id": "1aPNaXs7SaOU"
      },
      "execution_count": null,
      "outputs": []
    },
    {
      "cell_type": "markdown",
      "source": [
        "### Conversion to the Tensor Format"
      ],
      "metadata": {
        "id": "aQKCbuQ2Sfbd"
      }
    },
    {
      "cell_type": "code",
      "source": [
        "inputs.values"
      ],
      "metadata": {
        "colab": {
          "base_uri": "https://localhost:8080/"
        },
        "id": "pGNTQnqlSxT_",
        "outputId": "58d5cedc-ba37-49bb-a7ee-75bd8fb1246b"
      },
      "execution_count": 55,
      "outputs": [
        {
          "output_type": "execute_result",
          "data": {
            "text/plain": [
              "array([[3., 1., 0.],\n",
              "       [2., 0., 1.],\n",
              "       [4., 0., 1.],\n",
              "       [3., 0., 1.]])"
            ]
          },
          "metadata": {},
          "execution_count": 55
        }
      ]
    },
    {
      "cell_type": "code",
      "source": [
        "outputs.values"
      ],
      "metadata": {
        "colab": {
          "base_uri": "https://localhost:8080/"
        },
        "id": "GVQlWOlESyvh",
        "outputId": "3a3e6bdd-d872-4b90-f7fb-087e5ade093b"
      },
      "execution_count": 56,
      "outputs": [
        {
          "output_type": "execute_result",
          "data": {
            "text/plain": [
              "array([127500, 106000, 178100, 140000])"
            ]
          },
          "metadata": {},
          "execution_count": 56
        }
      ]
    },
    {
      "cell_type": "code",
      "source": [
        "import torch\n",
        "\n",
        "X, y = torch.tensor(inputs.values), torch.tensor(outputs.values)\n",
        "X, y"
      ],
      "metadata": {
        "colab": {
          "base_uri": "https://localhost:8080/"
        },
        "id": "Ibfb8vz2ShMZ",
        "outputId": "358cd6a5-4191-4f10-b4dd-4276ad0c5cb1"
      },
      "execution_count": 54,
      "outputs": [
        {
          "output_type": "execute_result",
          "data": {
            "text/plain": [
              "(tensor([[3., 1., 0.],\n",
              "         [2., 0., 1.],\n",
              "         [4., 0., 1.],\n",
              "         [3., 0., 1.]], dtype=torch.float64),\n",
              " tensor([127500, 106000, 178100, 140000]))"
            ]
          },
          "metadata": {},
          "execution_count": 54
        }
      ]
    },
    {
      "cell_type": "code",
      "source": [
        ""
      ],
      "metadata": {
        "id": "rEajIMSgSu1F"
      },
      "execution_count": null,
      "outputs": []
    },
    {
      "cell_type": "markdown",
      "source": [
        "### Summary\n",
        "- Like many other extension packages in the vast ecosystem of Python, pandas can work together with tensors.\n",
        "- Imputation and deletion can be used to handle missing data.\n",
        "\n"
      ],
      "metadata": {
        "id": "zBbRuPU6S1Qm"
      }
    },
    {
      "cell_type": "markdown",
      "source": [
        "### Exercises\n",
        "Create a raw dataset with more rows and columns.\n",
        "\n",
        "1. Delete the column with the most missing values."
      ],
      "metadata": {
        "id": "MO2DN0a-TELt"
      }
    },
    {
      "cell_type": "code",
      "source": [
        "data"
      ],
      "metadata": {
        "colab": {
          "base_uri": "https://localhost:8080/",
          "height": 175
        },
        "id": "X6NriKMQTK5z",
        "outputId": "379cea00-b564-4abc-dbea-1cdac865a27e"
      },
      "execution_count": 57,
      "outputs": [
        {
          "output_type": "execute_result",
          "data": {
            "text/html": [
              "\n",
              "  <div id=\"df-bd35e8e6-0840-4d5f-a345-c67a1cb435e5\">\n",
              "    <div class=\"colab-df-container\">\n",
              "      <div>\n",
              "<style scoped>\n",
              "    .dataframe tbody tr th:only-of-type {\n",
              "        vertical-align: middle;\n",
              "    }\n",
              "\n",
              "    .dataframe tbody tr th {\n",
              "        vertical-align: top;\n",
              "    }\n",
              "\n",
              "    .dataframe thead th {\n",
              "        text-align: right;\n",
              "    }\n",
              "</style>\n",
              "<table border=\"1\" class=\"dataframe\">\n",
              "  <thead>\n",
              "    <tr style=\"text-align: right;\">\n",
              "      <th></th>\n",
              "      <th>NumRooms</th>\n",
              "      <th>Alley</th>\n",
              "      <th>Price</th>\n",
              "    </tr>\n",
              "  </thead>\n",
              "  <tbody>\n",
              "    <tr>\n",
              "      <th>0</th>\n",
              "      <td>NaN</td>\n",
              "      <td>Pave</td>\n",
              "      <td>127500</td>\n",
              "    </tr>\n",
              "    <tr>\n",
              "      <th>1</th>\n",
              "      <td>2.0</td>\n",
              "      <td>NaN</td>\n",
              "      <td>106000</td>\n",
              "    </tr>\n",
              "    <tr>\n",
              "      <th>2</th>\n",
              "      <td>4.0</td>\n",
              "      <td>NaN</td>\n",
              "      <td>178100</td>\n",
              "    </tr>\n",
              "    <tr>\n",
              "      <th>3</th>\n",
              "      <td>NaN</td>\n",
              "      <td>NaN</td>\n",
              "      <td>140000</td>\n",
              "    </tr>\n",
              "  </tbody>\n",
              "</table>\n",
              "</div>\n",
              "      <button class=\"colab-df-convert\" onclick=\"convertToInteractive('df-bd35e8e6-0840-4d5f-a345-c67a1cb435e5')\"\n",
              "              title=\"Convert this dataframe to an interactive table.\"\n",
              "              style=\"display:none;\">\n",
              "        \n",
              "  <svg xmlns=\"http://www.w3.org/2000/svg\" height=\"24px\"viewBox=\"0 0 24 24\"\n",
              "       width=\"24px\">\n",
              "    <path d=\"M0 0h24v24H0V0z\" fill=\"none\"/>\n",
              "    <path d=\"M18.56 5.44l.94 2.06.94-2.06 2.06-.94-2.06-.94-.94-2.06-.94 2.06-2.06.94zm-11 1L8.5 8.5l.94-2.06 2.06-.94-2.06-.94L8.5 2.5l-.94 2.06-2.06.94zm10 10l.94 2.06.94-2.06 2.06-.94-2.06-.94-.94-2.06-.94 2.06-2.06.94z\"/><path d=\"M17.41 7.96l-1.37-1.37c-.4-.4-.92-.59-1.43-.59-.52 0-1.04.2-1.43.59L10.3 9.45l-7.72 7.72c-.78.78-.78 2.05 0 2.83L4 21.41c.39.39.9.59 1.41.59.51 0 1.02-.2 1.41-.59l7.78-7.78 2.81-2.81c.8-.78.8-2.07 0-2.86zM5.41 20L4 18.59l7.72-7.72 1.47 1.35L5.41 20z\"/>\n",
              "  </svg>\n",
              "      </button>\n",
              "      \n",
              "  <style>\n",
              "    .colab-df-container {\n",
              "      display:flex;\n",
              "      flex-wrap:wrap;\n",
              "      gap: 12px;\n",
              "    }\n",
              "\n",
              "    .colab-df-convert {\n",
              "      background-color: #E8F0FE;\n",
              "      border: none;\n",
              "      border-radius: 50%;\n",
              "      cursor: pointer;\n",
              "      display: none;\n",
              "      fill: #1967D2;\n",
              "      height: 32px;\n",
              "      padding: 0 0 0 0;\n",
              "      width: 32px;\n",
              "    }\n",
              "\n",
              "    .colab-df-convert:hover {\n",
              "      background-color: #E2EBFA;\n",
              "      box-shadow: 0px 1px 2px rgba(60, 64, 67, 0.3), 0px 1px 3px 1px rgba(60, 64, 67, 0.15);\n",
              "      fill: #174EA6;\n",
              "    }\n",
              "\n",
              "    [theme=dark] .colab-df-convert {\n",
              "      background-color: #3B4455;\n",
              "      fill: #D2E3FC;\n",
              "    }\n",
              "\n",
              "    [theme=dark] .colab-df-convert:hover {\n",
              "      background-color: #434B5C;\n",
              "      box-shadow: 0px 1px 3px 1px rgba(0, 0, 0, 0.15);\n",
              "      filter: drop-shadow(0px 1px 2px rgba(0, 0, 0, 0.3));\n",
              "      fill: #FFFFFF;\n",
              "    }\n",
              "  </style>\n",
              "\n",
              "      <script>\n",
              "        const buttonEl =\n",
              "          document.querySelector('#df-bd35e8e6-0840-4d5f-a345-c67a1cb435e5 button.colab-df-convert');\n",
              "        buttonEl.style.display =\n",
              "          google.colab.kernel.accessAllowed ? 'block' : 'none';\n",
              "\n",
              "        async function convertToInteractive(key) {\n",
              "          const element = document.querySelector('#df-bd35e8e6-0840-4d5f-a345-c67a1cb435e5');\n",
              "          const dataTable =\n",
              "            await google.colab.kernel.invokeFunction('convertToInteractive',\n",
              "                                                     [key], {});\n",
              "          if (!dataTable) return;\n",
              "\n",
              "          const docLinkHtml = 'Like what you see? Visit the ' +\n",
              "            '<a target=\"_blank\" href=https://colab.research.google.com/notebooks/data_table.ipynb>data table notebook</a>'\n",
              "            + ' to learn more about interactive tables.';\n",
              "          element.innerHTML = '';\n",
              "          dataTable['output_type'] = 'display_data';\n",
              "          await google.colab.output.renderOutput(dataTable, element);\n",
              "          const docLink = document.createElement('div');\n",
              "          docLink.innerHTML = docLinkHtml;\n",
              "          element.appendChild(docLink);\n",
              "        }\n",
              "      </script>\n",
              "    </div>\n",
              "  </div>\n",
              "  "
            ],
            "text/plain": [
              "   NumRooms Alley   Price\n",
              "0       NaN  Pave  127500\n",
              "1       2.0   NaN  106000\n",
              "2       4.0   NaN  178100\n",
              "3       NaN   NaN  140000"
            ]
          },
          "metadata": {},
          "execution_count": 57
        }
      ]
    },
    {
      "cell_type": "code",
      "source": [
        "null_count = data.isnull().sum()\n",
        "null_count"
      ],
      "metadata": {
        "colab": {
          "base_uri": "https://localhost:8080/"
        },
        "id": "q55nFFgnTckx",
        "outputId": "d3b820bc-3b3a-4d50-a4dc-b1f25d350593"
      },
      "execution_count": 59,
      "outputs": [
        {
          "output_type": "execute_result",
          "data": {
            "text/plain": [
              "NumRooms    2\n",
              "Alley       3\n",
              "Price       0\n",
              "dtype: int64"
            ]
          },
          "metadata": {},
          "execution_count": 59
        }
      ]
    },
    {
      "cell_type": "code",
      "source": [
        "#.reset_index() --> series를 data frame으로 변환\n",
        "data_null_count = null_count.reset_index()\n",
        "data_null_count"
      ],
      "metadata": {
        "colab": {
          "base_uri": "https://localhost:8080/",
          "height": 143
        },
        "id": "6HZwr5GPUFbi",
        "outputId": "99521910-e056-4640-e96c-d7d15a3f827d"
      },
      "execution_count": 60,
      "outputs": [
        {
          "output_type": "execute_result",
          "data": {
            "text/html": [
              "\n",
              "  <div id=\"df-9479024a-0899-4f5c-ae47-06d2a802d43c\">\n",
              "    <div class=\"colab-df-container\">\n",
              "      <div>\n",
              "<style scoped>\n",
              "    .dataframe tbody tr th:only-of-type {\n",
              "        vertical-align: middle;\n",
              "    }\n",
              "\n",
              "    .dataframe tbody tr th {\n",
              "        vertical-align: top;\n",
              "    }\n",
              "\n",
              "    .dataframe thead th {\n",
              "        text-align: right;\n",
              "    }\n",
              "</style>\n",
              "<table border=\"1\" class=\"dataframe\">\n",
              "  <thead>\n",
              "    <tr style=\"text-align: right;\">\n",
              "      <th></th>\n",
              "      <th>index</th>\n",
              "      <th>0</th>\n",
              "    </tr>\n",
              "  </thead>\n",
              "  <tbody>\n",
              "    <tr>\n",
              "      <th>0</th>\n",
              "      <td>NumRooms</td>\n",
              "      <td>2</td>\n",
              "    </tr>\n",
              "    <tr>\n",
              "      <th>1</th>\n",
              "      <td>Alley</td>\n",
              "      <td>3</td>\n",
              "    </tr>\n",
              "    <tr>\n",
              "      <th>2</th>\n",
              "      <td>Price</td>\n",
              "      <td>0</td>\n",
              "    </tr>\n",
              "  </tbody>\n",
              "</table>\n",
              "</div>\n",
              "      <button class=\"colab-df-convert\" onclick=\"convertToInteractive('df-9479024a-0899-4f5c-ae47-06d2a802d43c')\"\n",
              "              title=\"Convert this dataframe to an interactive table.\"\n",
              "              style=\"display:none;\">\n",
              "        \n",
              "  <svg xmlns=\"http://www.w3.org/2000/svg\" height=\"24px\"viewBox=\"0 0 24 24\"\n",
              "       width=\"24px\">\n",
              "    <path d=\"M0 0h24v24H0V0z\" fill=\"none\"/>\n",
              "    <path d=\"M18.56 5.44l.94 2.06.94-2.06 2.06-.94-2.06-.94-.94-2.06-.94 2.06-2.06.94zm-11 1L8.5 8.5l.94-2.06 2.06-.94-2.06-.94L8.5 2.5l-.94 2.06-2.06.94zm10 10l.94 2.06.94-2.06 2.06-.94-2.06-.94-.94-2.06-.94 2.06-2.06.94z\"/><path d=\"M17.41 7.96l-1.37-1.37c-.4-.4-.92-.59-1.43-.59-.52 0-1.04.2-1.43.59L10.3 9.45l-7.72 7.72c-.78.78-.78 2.05 0 2.83L4 21.41c.39.39.9.59 1.41.59.51 0 1.02-.2 1.41-.59l7.78-7.78 2.81-2.81c.8-.78.8-2.07 0-2.86zM5.41 20L4 18.59l7.72-7.72 1.47 1.35L5.41 20z\"/>\n",
              "  </svg>\n",
              "      </button>\n",
              "      \n",
              "  <style>\n",
              "    .colab-df-container {\n",
              "      display:flex;\n",
              "      flex-wrap:wrap;\n",
              "      gap: 12px;\n",
              "    }\n",
              "\n",
              "    .colab-df-convert {\n",
              "      background-color: #E8F0FE;\n",
              "      border: none;\n",
              "      border-radius: 50%;\n",
              "      cursor: pointer;\n",
              "      display: none;\n",
              "      fill: #1967D2;\n",
              "      height: 32px;\n",
              "      padding: 0 0 0 0;\n",
              "      width: 32px;\n",
              "    }\n",
              "\n",
              "    .colab-df-convert:hover {\n",
              "      background-color: #E2EBFA;\n",
              "      box-shadow: 0px 1px 2px rgba(60, 64, 67, 0.3), 0px 1px 3px 1px rgba(60, 64, 67, 0.15);\n",
              "      fill: #174EA6;\n",
              "    }\n",
              "\n",
              "    [theme=dark] .colab-df-convert {\n",
              "      background-color: #3B4455;\n",
              "      fill: #D2E3FC;\n",
              "    }\n",
              "\n",
              "    [theme=dark] .colab-df-convert:hover {\n",
              "      background-color: #434B5C;\n",
              "      box-shadow: 0px 1px 3px 1px rgba(0, 0, 0, 0.15);\n",
              "      filter: drop-shadow(0px 1px 2px rgba(0, 0, 0, 0.3));\n",
              "      fill: #FFFFFF;\n",
              "    }\n",
              "  </style>\n",
              "\n",
              "      <script>\n",
              "        const buttonEl =\n",
              "          document.querySelector('#df-9479024a-0899-4f5c-ae47-06d2a802d43c button.colab-df-convert');\n",
              "        buttonEl.style.display =\n",
              "          google.colab.kernel.accessAllowed ? 'block' : 'none';\n",
              "\n",
              "        async function convertToInteractive(key) {\n",
              "          const element = document.querySelector('#df-9479024a-0899-4f5c-ae47-06d2a802d43c');\n",
              "          const dataTable =\n",
              "            await google.colab.kernel.invokeFunction('convertToInteractive',\n",
              "                                                     [key], {});\n",
              "          if (!dataTable) return;\n",
              "\n",
              "          const docLinkHtml = 'Like what you see? Visit the ' +\n",
              "            '<a target=\"_blank\" href=https://colab.research.google.com/notebooks/data_table.ipynb>data table notebook</a>'\n",
              "            + ' to learn more about interactive tables.';\n",
              "          element.innerHTML = '';\n",
              "          dataTable['output_type'] = 'display_data';\n",
              "          await google.colab.output.renderOutput(dataTable, element);\n",
              "          const docLink = document.createElement('div');\n",
              "          docLink.innerHTML = docLinkHtml;\n",
              "          element.appendChild(docLink);\n",
              "        }\n",
              "      </script>\n",
              "    </div>\n",
              "  </div>\n",
              "  "
            ],
            "text/plain": [
              "      index  0\n",
              "0  NumRooms  2\n",
              "1     Alley  3\n",
              "2     Price  0"
            ]
          },
          "metadata": {},
          "execution_count": 60
        }
      ]
    },
    {
      "cell_type": "code",
      "source": [
        "data_null_count.columns = [\"컬럼명\", \"결측치수\"]"
      ],
      "metadata": {
        "id": "4H4C7yqSUc8h"
      },
      "execution_count": 61,
      "outputs": []
    },
    {
      "cell_type": "code",
      "source": [
        "data_null_count_top1 = data_null_count.sort_values(by=\"결측치수\", ascending=False).head(1) #결측치가 가장 많은 top1\n",
        "data_null_count_top1"
      ],
      "metadata": {
        "colab": {
          "base_uri": "https://localhost:8080/",
          "height": 81
        },
        "id": "ib1S9h4oU5CG",
        "outputId": "65ae86ec-4e1f-4487-fcce-f3c8dc4c49bf"
      },
      "execution_count": 67,
      "outputs": [
        {
          "output_type": "execute_result",
          "data": {
            "text/html": [
              "\n",
              "  <div id=\"df-341cb41a-ea37-485e-a743-454e40328e09\">\n",
              "    <div class=\"colab-df-container\">\n",
              "      <div>\n",
              "<style scoped>\n",
              "    .dataframe tbody tr th:only-of-type {\n",
              "        vertical-align: middle;\n",
              "    }\n",
              "\n",
              "    .dataframe tbody tr th {\n",
              "        vertical-align: top;\n",
              "    }\n",
              "\n",
              "    .dataframe thead th {\n",
              "        text-align: right;\n",
              "    }\n",
              "</style>\n",
              "<table border=\"1\" class=\"dataframe\">\n",
              "  <thead>\n",
              "    <tr style=\"text-align: right;\">\n",
              "      <th></th>\n",
              "      <th>컬럼명</th>\n",
              "      <th>결측치수</th>\n",
              "    </tr>\n",
              "  </thead>\n",
              "  <tbody>\n",
              "    <tr>\n",
              "      <th>1</th>\n",
              "      <td>Alley</td>\n",
              "      <td>3</td>\n",
              "    </tr>\n",
              "  </tbody>\n",
              "</table>\n",
              "</div>\n",
              "      <button class=\"colab-df-convert\" onclick=\"convertToInteractive('df-341cb41a-ea37-485e-a743-454e40328e09')\"\n",
              "              title=\"Convert this dataframe to an interactive table.\"\n",
              "              style=\"display:none;\">\n",
              "        \n",
              "  <svg xmlns=\"http://www.w3.org/2000/svg\" height=\"24px\"viewBox=\"0 0 24 24\"\n",
              "       width=\"24px\">\n",
              "    <path d=\"M0 0h24v24H0V0z\" fill=\"none\"/>\n",
              "    <path d=\"M18.56 5.44l.94 2.06.94-2.06 2.06-.94-2.06-.94-.94-2.06-.94 2.06-2.06.94zm-11 1L8.5 8.5l.94-2.06 2.06-.94-2.06-.94L8.5 2.5l-.94 2.06-2.06.94zm10 10l.94 2.06.94-2.06 2.06-.94-2.06-.94-.94-2.06-.94 2.06-2.06.94z\"/><path d=\"M17.41 7.96l-1.37-1.37c-.4-.4-.92-.59-1.43-.59-.52 0-1.04.2-1.43.59L10.3 9.45l-7.72 7.72c-.78.78-.78 2.05 0 2.83L4 21.41c.39.39.9.59 1.41.59.51 0 1.02-.2 1.41-.59l7.78-7.78 2.81-2.81c.8-.78.8-2.07 0-2.86zM5.41 20L4 18.59l7.72-7.72 1.47 1.35L5.41 20z\"/>\n",
              "  </svg>\n",
              "      </button>\n",
              "      \n",
              "  <style>\n",
              "    .colab-df-container {\n",
              "      display:flex;\n",
              "      flex-wrap:wrap;\n",
              "      gap: 12px;\n",
              "    }\n",
              "\n",
              "    .colab-df-convert {\n",
              "      background-color: #E8F0FE;\n",
              "      border: none;\n",
              "      border-radius: 50%;\n",
              "      cursor: pointer;\n",
              "      display: none;\n",
              "      fill: #1967D2;\n",
              "      height: 32px;\n",
              "      padding: 0 0 0 0;\n",
              "      width: 32px;\n",
              "    }\n",
              "\n",
              "    .colab-df-convert:hover {\n",
              "      background-color: #E2EBFA;\n",
              "      box-shadow: 0px 1px 2px rgba(60, 64, 67, 0.3), 0px 1px 3px 1px rgba(60, 64, 67, 0.15);\n",
              "      fill: #174EA6;\n",
              "    }\n",
              "\n",
              "    [theme=dark] .colab-df-convert {\n",
              "      background-color: #3B4455;\n",
              "      fill: #D2E3FC;\n",
              "    }\n",
              "\n",
              "    [theme=dark] .colab-df-convert:hover {\n",
              "      background-color: #434B5C;\n",
              "      box-shadow: 0px 1px 3px 1px rgba(0, 0, 0, 0.15);\n",
              "      filter: drop-shadow(0px 1px 2px rgba(0, 0, 0, 0.3));\n",
              "      fill: #FFFFFF;\n",
              "    }\n",
              "  </style>\n",
              "\n",
              "      <script>\n",
              "        const buttonEl =\n",
              "          document.querySelector('#df-341cb41a-ea37-485e-a743-454e40328e09 button.colab-df-convert');\n",
              "        buttonEl.style.display =\n",
              "          google.colab.kernel.accessAllowed ? 'block' : 'none';\n",
              "\n",
              "        async function convertToInteractive(key) {\n",
              "          const element = document.querySelector('#df-341cb41a-ea37-485e-a743-454e40328e09');\n",
              "          const dataTable =\n",
              "            await google.colab.kernel.invokeFunction('convertToInteractive',\n",
              "                                                     [key], {});\n",
              "          if (!dataTable) return;\n",
              "\n",
              "          const docLinkHtml = 'Like what you see? Visit the ' +\n",
              "            '<a target=\"_blank\" href=https://colab.research.google.com/notebooks/data_table.ipynb>data table notebook</a>'\n",
              "            + ' to learn more about interactive tables.';\n",
              "          element.innerHTML = '';\n",
              "          dataTable['output_type'] = 'display_data';\n",
              "          await google.colab.output.renderOutput(dataTable, element);\n",
              "          const docLink = document.createElement('div');\n",
              "          docLink.innerHTML = docLinkHtml;\n",
              "          element.appendChild(docLink);\n",
              "        }\n",
              "      </script>\n",
              "    </div>\n",
              "  </div>\n",
              "  "
            ],
            "text/plain": [
              "     컬럼명  결측치수\n",
              "1  Alley     3"
            ]
          },
          "metadata": {},
          "execution_count": 67
        }
      ]
    },
    {
      "cell_type": "code",
      "source": [
        "drop_cloumns = data_null_count_top1[\"컬럼명\"]\n",
        "print(drop_cloumns)\n",
        "\n",
        "data_drop = data.drop(drop_cloumns, axis=1)\n",
        "print(data_drop)"
      ],
      "metadata": {
        "colab": {
          "base_uri": "https://localhost:8080/"
        },
        "id": "ypCFAFstU5oh",
        "outputId": "223a83fc-3695-49d0-f588-9a79caab6e52"
      },
      "execution_count": 68,
      "outputs": [
        {
          "output_type": "stream",
          "name": "stdout",
          "text": [
            "1    Alley\n",
            "Name: 컬럼명, dtype: object\n",
            "   NumRooms   Price\n",
            "0       NaN  127500\n",
            "1       2.0  106000\n",
            "2       4.0  178100\n",
            "3       NaN  140000\n"
          ]
        }
      ]
    },
    {
      "cell_type": "code",
      "source": [
        "#Some Other Way\n",
        "\n",
        "# calculate the max of the NaN numbers of all columns \n",
        "m = max(data.isnull().sum(axis = 0))\n",
        "print(m)\n",
        "print(len(data))\n",
        "data_dropmaxnan = data.dropna(axis = 1, thresh = len(data)+1-m)\n",
        "print(data_dropmaxnan)"
      ],
      "metadata": {
        "colab": {
          "base_uri": "https://localhost:8080/"
        },
        "id": "Msgd6RFQVkqP",
        "outputId": "1f210758-33bd-4372-b40c-805682101e0e"
      },
      "execution_count": 72,
      "outputs": [
        {
          "output_type": "stream",
          "name": "stdout",
          "text": [
            "3\n",
            "4\n",
            "   NumRooms   Price\n",
            "0       NaN  127500\n",
            "1       2.0  106000\n",
            "2       4.0  178100\n",
            "3       NaN  140000\n"
          ]
        }
      ]
    },
    {
      "cell_type": "code",
      "source": [
        ""
      ],
      "metadata": {
        "id": "cw2XQMoVV-i-"
      },
      "execution_count": null,
      "outputs": []
    },
    {
      "cell_type": "markdown",
      "source": [
        "2. Convert the preprocessed dataset to the tensor format."
      ],
      "metadata": {
        "id": "f9CNa-0FV6WO"
      }
    },
    {
      "cell_type": "code",
      "source": [
        "inputs, outputs = data_dropmaxnan.iloc[:, 0:-1], data_dropmaxnan.iloc[:, -1]\n",
        "inputs = inputs.fillna(inputs.mean())\n",
        "X, y = torch.tensor(inputs.values), torch.tensor(outputs.values)"
      ],
      "metadata": {
        "id": "UoYoZkoWV39w"
      },
      "execution_count": 76,
      "outputs": []
    },
    {
      "cell_type": "code",
      "source": [
        "X, y"
      ],
      "metadata": {
        "colab": {
          "base_uri": "https://localhost:8080/"
        },
        "id": "gjjymZ-eW6IS",
        "outputId": "23858a6e-f315-4d79-c632-3378561ba12d"
      },
      "execution_count": 77,
      "outputs": [
        {
          "output_type": "execute_result",
          "data": {
            "text/plain": [
              "(tensor([[3.],\n",
              "         [2.],\n",
              "         [4.],\n",
              "         [3.]], dtype=torch.float64), tensor([127500, 106000, 178100, 140000]))"
            ]
          },
          "metadata": {},
          "execution_count": 77
        }
      ]
    },
    {
      "cell_type": "code",
      "source": [
        ""
      ],
      "metadata": {
        "id": "6pXZ84Z_Yov4"
      },
      "execution_count": null,
      "outputs": []
    },
    {
      "cell_type": "markdown",
      "source": [
        "# 2.3. Linear Algebra"
      ],
      "metadata": {
        "id": "eE-sm1mfYnbb"
      }
    },
    {
      "cell_type": "markdown",
      "source": [
        "### Scalars"
      ],
      "metadata": {
        "id": "2lVw68moYoL1"
      }
    },
    {
      "cell_type": "code",
      "source": [
        "import torch\n",
        "\n",
        "x = torch.tensor(3.0)\n",
        "y = torch.tensor(2.0)\n",
        "\n",
        "x + y, x * y, x / y, x**y"
      ],
      "metadata": {
        "colab": {
          "base_uri": "https://localhost:8080/"
        },
        "id": "Ed9UDOYPYs8M",
        "outputId": "98decb01-d97c-4955-aff5-6c6b1f744c81"
      },
      "execution_count": 79,
      "outputs": [
        {
          "output_type": "execute_result",
          "data": {
            "text/plain": [
              "(tensor(5.), tensor(6.), tensor(1.5000), tensor(9.))"
            ]
          },
          "metadata": {},
          "execution_count": 79
        }
      ]
    },
    {
      "cell_type": "markdown",
      "source": [
        "### Vectors"
      ],
      "metadata": {
        "id": "XML1rNvgY6V8"
      }
    },
    {
      "cell_type": "code",
      "source": [
        "x = torch.arange(4)\n",
        "x"
      ],
      "metadata": {
        "colab": {
          "base_uri": "https://localhost:8080/"
        },
        "id": "VzsrsPDMY5MW",
        "outputId": "590527be-ec59-4fac-e887-491216797fba"
      },
      "execution_count": 80,
      "outputs": [
        {
          "output_type": "execute_result",
          "data": {
            "text/plain": [
              "tensor([0, 1, 2, 3])"
            ]
          },
          "metadata": {},
          "execution_count": 80
        }
      ]
    },
    {
      "cell_type": "code",
      "source": [
        "x[3]"
      ],
      "metadata": {
        "colab": {
          "base_uri": "https://localhost:8080/"
        },
        "id": "YeGgGec-ZEwv",
        "outputId": "c0cdb354-4858-4dd9-bd7e-30ca4ce1e7eb"
      },
      "execution_count": 81,
      "outputs": [
        {
          "output_type": "execute_result",
          "data": {
            "text/plain": [
              "tensor(3)"
            ]
          },
          "metadata": {},
          "execution_count": 81
        }
      ]
    },
    {
      "cell_type": "markdown",
      "source": [
        "### Length, Dimensionality, and Shape"
      ],
      "metadata": {
        "id": "eE44k59mZUxf"
      }
    },
    {
      "cell_type": "code",
      "source": [
        "len(x)"
      ],
      "metadata": {
        "colab": {
          "base_uri": "https://localhost:8080/"
        },
        "id": "YnQnUrBvZV2-",
        "outputId": "3b824b85-cf1b-4f5d-ff9f-1c98e72c3ed7"
      },
      "execution_count": 82,
      "outputs": [
        {
          "output_type": "execute_result",
          "data": {
            "text/plain": [
              "4"
            ]
          },
          "metadata": {},
          "execution_count": 82
        }
      ]
    },
    {
      "cell_type": "code",
      "source": [
        "x.shape"
      ],
      "metadata": {
        "colab": {
          "base_uri": "https://localhost:8080/"
        },
        "id": "zjLeLBlUZfOP",
        "outputId": "36242470-2a49-4c9e-fdda-37443892f594"
      },
      "execution_count": 83,
      "outputs": [
        {
          "output_type": "execute_result",
          "data": {
            "text/plain": [
              "torch.Size([4])"
            ]
          },
          "metadata": {},
          "execution_count": 83
        }
      ]
    },
    {
      "cell_type": "markdown",
      "source": [
        "### Matrices"
      ],
      "metadata": {
        "id": "PpQEC9_BZ0RM"
      }
    },
    {
      "cell_type": "code",
      "source": [
        "A = torch.arange(20).reshape(5, 4)\n",
        "A"
      ],
      "metadata": {
        "colab": {
          "base_uri": "https://localhost:8080/"
        },
        "id": "aHhfLOlQZ1yn",
        "outputId": "0ac0b54d-1f65-461a-f38d-da9d91d0ccdc"
      },
      "execution_count": 84,
      "outputs": [
        {
          "output_type": "execute_result",
          "data": {
            "text/plain": [
              "tensor([[ 0,  1,  2,  3],\n",
              "        [ 4,  5,  6,  7],\n",
              "        [ 8,  9, 10, 11],\n",
              "        [12, 13, 14, 15],\n",
              "        [16, 17, 18, 19]])"
            ]
          },
          "metadata": {},
          "execution_count": 84
        }
      ]
    },
    {
      "cell_type": "code",
      "source": [
        "# matrix’s transpose\n",
        "A.T"
      ],
      "metadata": {
        "colab": {
          "base_uri": "https://localhost:8080/"
        },
        "id": "6_YZqV91Z6IU",
        "outputId": "399040f2-053a-4654-e210-9c7305a66ac0"
      },
      "execution_count": 85,
      "outputs": [
        {
          "output_type": "execute_result",
          "data": {
            "text/plain": [
              "tensor([[ 0,  4,  8, 12, 16],\n",
              "        [ 1,  5,  9, 13, 17],\n",
              "        [ 2,  6, 10, 14, 18],\n",
              "        [ 3,  7, 11, 15, 19]])"
            ]
          },
          "metadata": {},
          "execution_count": 85
        }
      ]
    },
    {
      "cell_type": "code",
      "source": [
        "B = torch.tensor([[1,2,3], [2,0,4], [3,4,5]])\n",
        "B"
      ],
      "metadata": {
        "colab": {
          "base_uri": "https://localhost:8080/"
        },
        "id": "gSZSkWRdZ_zh",
        "outputId": "e7a4fdcc-1329-4af8-afc2-6357360dd11f"
      },
      "execution_count": 86,
      "outputs": [
        {
          "output_type": "execute_result",
          "data": {
            "text/plain": [
              "tensor([[1, 2, 3],\n",
              "        [2, 0, 4],\n",
              "        [3, 4, 5]])"
            ]
          },
          "metadata": {},
          "execution_count": 86
        }
      ]
    },
    {
      "cell_type": "code",
      "source": [
        "B == B.T"
      ],
      "metadata": {
        "colab": {
          "base_uri": "https://localhost:8080/"
        },
        "id": "pHSKVDzkaM4K",
        "outputId": "58019782-de3f-4031-ede5-03d35ea50ee4"
      },
      "execution_count": 87,
      "outputs": [
        {
          "output_type": "execute_result",
          "data": {
            "text/plain": [
              "tensor([[True, True, True],\n",
              "        [True, True, True],\n",
              "        [True, True, True]])"
            ]
          },
          "metadata": {},
          "execution_count": 87
        }
      ]
    },
    {
      "cell_type": "markdown",
      "source": [
        "### Tensors"
      ],
      "metadata": {
        "id": "x5W-SlpqaUcc"
      }
    },
    {
      "cell_type": "code",
      "source": [
        "X = torch.arange(24).reshape(2,3,4)\n",
        "X"
      ],
      "metadata": {
        "colab": {
          "base_uri": "https://localhost:8080/"
        },
        "id": "hlDSEkrWaPrE",
        "outputId": "659226e8-839f-4a85-a080-26a92aecaf6a"
      },
      "execution_count": 88,
      "outputs": [
        {
          "output_type": "execute_result",
          "data": {
            "text/plain": [
              "tensor([[[ 0,  1,  2,  3],\n",
              "         [ 4,  5,  6,  7],\n",
              "         [ 8,  9, 10, 11]],\n",
              "\n",
              "        [[12, 13, 14, 15],\n",
              "         [16, 17, 18, 19],\n",
              "         [20, 21, 22, 23]]])"
            ]
          },
          "metadata": {},
          "execution_count": 88
        }
      ]
    },
    {
      "cell_type": "markdown",
      "source": [
        "### Basic Properties of Tensor Arithmetic"
      ],
      "metadata": {
        "id": "Ry4QJjK2afWW"
      }
    },
    {
      "cell_type": "code",
      "source": [
        "A = torch.arange(20, dtype=torch.float32).reshape(5,4)\n",
        "B = A.clone() #Assign a copy of `A` to `B` by allocating new memory\n",
        "print(A)\n",
        "print()\n",
        "print(A+B)"
      ],
      "metadata": {
        "colab": {
          "base_uri": "https://localhost:8080/"
        },
        "id": "9QtRV4Bjaasa",
        "outputId": "72249133-fcc7-4164-f9e4-044e9610e4ea"
      },
      "execution_count": 89,
      "outputs": [
        {
          "output_type": "stream",
          "name": "stdout",
          "text": [
            "tensor([[ 0.,  1.,  2.,  3.],\n",
            "        [ 4.,  5.,  6.,  7.],\n",
            "        [ 8.,  9., 10., 11.],\n",
            "        [12., 13., 14., 15.],\n",
            "        [16., 17., 18., 19.]])\n",
            "\n",
            "tensor([[ 0.,  2.,  4.,  6.],\n",
            "        [ 8., 10., 12., 14.],\n",
            "        [16., 18., 20., 22.],\n",
            "        [24., 26., 28., 30.],\n",
            "        [32., 34., 36., 38.]])\n"
          ]
        }
      ]
    },
    {
      "cell_type": "code",
      "source": [
        "A * B"
      ],
      "metadata": {
        "colab": {
          "base_uri": "https://localhost:8080/"
        },
        "id": "HwPrcIXeaxLu",
        "outputId": "6f725542-e388-4a93-9f1a-bb81e8317704"
      },
      "execution_count": 90,
      "outputs": [
        {
          "output_type": "execute_result",
          "data": {
            "text/plain": [
              "tensor([[  0.,   1.,   4.,   9.],\n",
              "        [ 16.,  25.,  36.,  49.],\n",
              "        [ 64.,  81., 100., 121.],\n",
              "        [144., 169., 196., 225.],\n",
              "        [256., 289., 324., 361.]])"
            ]
          },
          "metadata": {},
          "execution_count": 90
        }
      ]
    },
    {
      "cell_type": "code",
      "source": [
        "a = 2\n",
        "X = torch.arange(24).reshape(2,3,4)\n",
        "print(X)\n",
        "\n",
        "print()\n",
        "print(a + X)\n",
        "print()\n",
        "print((a*X).shape)"
      ],
      "metadata": {
        "colab": {
          "base_uri": "https://localhost:8080/"
        },
        "id": "3PYY3lSOazms",
        "outputId": "adcd51c9-4177-4e33-d642-b2579e9b4aa9"
      },
      "execution_count": 92,
      "outputs": [
        {
          "output_type": "stream",
          "name": "stdout",
          "text": [
            "tensor([[[ 0,  1,  2,  3],\n",
            "         [ 4,  5,  6,  7],\n",
            "         [ 8,  9, 10, 11]],\n",
            "\n",
            "        [[12, 13, 14, 15],\n",
            "         [16, 17, 18, 19],\n",
            "         [20, 21, 22, 23]]])\n",
            "\n",
            "tensor([[[ 2,  3,  4,  5],\n",
            "         [ 6,  7,  8,  9],\n",
            "         [10, 11, 12, 13]],\n",
            "\n",
            "        [[14, 15, 16, 17],\n",
            "         [18, 19, 20, 21],\n",
            "         [22, 23, 24, 25]]])\n",
            "\n",
            "torch.Size([2, 3, 4])\n"
          ]
        }
      ]
    },
    {
      "cell_type": "markdown",
      "source": [
        "### Reduction"
      ],
      "metadata": {
        "id": "yyUIXRsubPhy"
      }
    },
    {
      "cell_type": "code",
      "source": [
        "x = torch.arange(4, dtype=torch.float32)\n",
        "\n",
        "print(x)\n",
        "print()\n",
        "print(x.sum())"
      ],
      "metadata": {
        "colab": {
          "base_uri": "https://localhost:8080/"
        },
        "id": "g7Y5KAoYbHSa",
        "outputId": "8aff6e57-39ef-47bd-a132-07b413e2aaf6"
      },
      "execution_count": 94,
      "outputs": [
        {
          "output_type": "stream",
          "name": "stdout",
          "text": [
            "tensor([0., 1., 2., 3.])\n",
            "\n",
            "tensor(6.)\n"
          ]
        }
      ]
    },
    {
      "cell_type": "code",
      "source": [
        "A"
      ],
      "metadata": {
        "colab": {
          "base_uri": "https://localhost:8080/"
        },
        "id": "meBQlJE8blmY",
        "outputId": "0121c9e0-c15d-4e43-f292-d5969f4e3ab6"
      },
      "execution_count": 96,
      "outputs": [
        {
          "output_type": "execute_result",
          "data": {
            "text/plain": [
              "tensor([[ 0.,  1.,  2.,  3.],\n",
              "        [ 4.,  5.,  6.,  7.],\n",
              "        [ 8.,  9., 10., 11.],\n",
              "        [12., 13., 14., 15.],\n",
              "        [16., 17., 18., 19.]])"
            ]
          },
          "metadata": {},
          "execution_count": 96
        }
      ]
    },
    {
      "cell_type": "code",
      "source": [
        "A.shape, A.sum()"
      ],
      "metadata": {
        "colab": {
          "base_uri": "https://localhost:8080/"
        },
        "id": "v_iX2YcObOt7",
        "outputId": "d801836f-bafc-4929-e296-8d5d977c2f20"
      },
      "execution_count": 95,
      "outputs": [
        {
          "output_type": "execute_result",
          "data": {
            "text/plain": [
              "(torch.Size([5, 4]), tensor(190.))"
            ]
          },
          "metadata": {},
          "execution_count": 95
        }
      ]
    },
    {
      "cell_type": "code",
      "source": [
        "#To reduce the row dimension (axis 0) by summing up elements of all the rows, we specify axis=0 when invoking the function\n",
        "\n",
        "A_sum_axis0 = A.sum(axis=0)\n",
        "A_sum_axis0, A_sum_axis0.shape #the dimension of axis 0 of the input is lost in the output shape"
      ],
      "metadata": {
        "colab": {
          "base_uri": "https://localhost:8080/"
        },
        "id": "-skiXEA0b25H",
        "outputId": "6e395b02-02ec-49a2-d6b6-44eccdd108a8"
      },
      "execution_count": 97,
      "outputs": [
        {
          "output_type": "execute_result",
          "data": {
            "text/plain": [
              "(tensor([40., 45., 50., 55.]), torch.Size([4]))"
            ]
          },
          "metadata": {},
          "execution_count": 97
        }
      ]
    },
    {
      "cell_type": "code",
      "source": [
        "#Specifying axis=1 will reduce the column dimension (axis 1) by summing up elements of all the columns. \n",
        "A_sum_axis1 = A.sum(axis=1)\n",
        "A_sum_axis1, A_sum_axis1.shape #the dimension of axis 1 of the input is lost in the output shape"
      ],
      "metadata": {
        "colab": {
          "base_uri": "https://localhost:8080/"
        },
        "id": "1CJ_6sgSch4g",
        "outputId": "fff246c9-fd14-4d58-b798-bdf074251d39"
      },
      "execution_count": 98,
      "outputs": [
        {
          "output_type": "execute_result",
          "data": {
            "text/plain": [
              "(tensor([ 6., 22., 38., 54., 70.]), torch.Size([5]))"
            ]
          },
          "metadata": {},
          "execution_count": 98
        }
      ]
    },
    {
      "cell_type": "code",
      "source": [
        "#Reducing a matrix along both rows and columns via summation is equivalent to summing up all the elements of the matrix.\n",
        "\n",
        "A.sum(axis=[0, 1])  # Same as `A.sum()`"
      ],
      "metadata": {
        "colab": {
          "base_uri": "https://localhost:8080/"
        },
        "id": "rKRtgs3lctgo",
        "outputId": "2487304d-18e3-4406-e6fc-ab4dd3cf4a51"
      },
      "execution_count": 99,
      "outputs": [
        {
          "output_type": "execute_result",
          "data": {
            "text/plain": [
              "tensor(190.)"
            ]
          },
          "metadata": {},
          "execution_count": 99
        }
      ]
    },
    {
      "cell_type": "code",
      "source": [
        "A.mean()"
      ],
      "metadata": {
        "colab": {
          "base_uri": "https://localhost:8080/"
        },
        "id": "O5ZXW5xLcx1w",
        "outputId": "079b192e-d936-44b5-96de-c11856ef8aee"
      },
      "execution_count": 100,
      "outputs": [
        {
          "output_type": "execute_result",
          "data": {
            "text/plain": [
              "tensor(9.5000)"
            ]
          },
          "metadata": {},
          "execution_count": 100
        }
      ]
    },
    {
      "cell_type": "code",
      "source": [
        "A.sum() / A.numel()"
      ],
      "metadata": {
        "colab": {
          "base_uri": "https://localhost:8080/"
        },
        "id": "NSXzQ3Q1cxyW",
        "outputId": "6ec721c0-f794-4870-d10a-ff62a1f547db"
      },
      "execution_count": 101,
      "outputs": [
        {
          "output_type": "execute_result",
          "data": {
            "text/plain": [
              "tensor(9.5000)"
            ]
          },
          "metadata": {},
          "execution_count": 101
        }
      ]
    },
    {
      "cell_type": "code",
      "source": [
        "#along the specified axes\n",
        "\n",
        "A.mean(axis=0)"
      ],
      "metadata": {
        "colab": {
          "base_uri": "https://localhost:8080/"
        },
        "id": "ylbpU40lcxvZ",
        "outputId": "d4267a58-fca9-4d8f-93b0-d4140acb3f15"
      },
      "execution_count": 102,
      "outputs": [
        {
          "output_type": "execute_result",
          "data": {
            "text/plain": [
              "tensor([ 8.,  9., 10., 11.])"
            ]
          },
          "metadata": {},
          "execution_count": 102
        }
      ]
    },
    {
      "cell_type": "code",
      "source": [
        "A.sum(axis=0) / A.shape[0]"
      ],
      "metadata": {
        "colab": {
          "base_uri": "https://localhost:8080/"
        },
        "id": "aUMg6tOvc5Cc",
        "outputId": "cee03949-5fa7-492d-bc98-db3b35c8d756"
      },
      "execution_count": 103,
      "outputs": [
        {
          "output_type": "execute_result",
          "data": {
            "text/plain": [
              "tensor([ 8.,  9., 10., 11.])"
            ]
          },
          "metadata": {},
          "execution_count": 103
        }
      ]
    },
    {
      "cell_type": "markdown",
      "source": [
        "### Non-Reduction Sum"
      ],
      "metadata": {
        "id": "FHOIBahobcrW"
      }
    },
    {
      "cell_type": "code",
      "source": [
        "A"
      ],
      "metadata": {
        "colab": {
          "base_uri": "https://localhost:8080/"
        },
        "id": "LJW471E9fl1I",
        "outputId": "ab233fec-f9a0-4153-80e6-cc08713c5326"
      },
      "execution_count": 105,
      "outputs": [
        {
          "output_type": "execute_result",
          "data": {
            "text/plain": [
              "tensor([[ 0.,  1.,  2.,  3.],\n",
              "        [ 4.,  5.,  6.,  7.],\n",
              "        [ 8.,  9., 10., 11.],\n",
              "        [12., 13., 14., 15.],\n",
              "        [16., 17., 18., 19.]])"
            ]
          },
          "metadata": {},
          "execution_count": 105
        }
      ]
    },
    {
      "cell_type": "code",
      "source": [
        "sum_A = A.sum(axis=1, keepdims=True)\n",
        "sum_A"
      ],
      "metadata": {
        "colab": {
          "base_uri": "https://localhost:8080/"
        },
        "id": "DXmxtuLpdDrR",
        "outputId": "4384a2ec-b73f-42cf-d0a5-94fee9ff8164"
      },
      "execution_count": 104,
      "outputs": [
        {
          "output_type": "execute_result",
          "data": {
            "text/plain": [
              "tensor([[ 6.],\n",
              "        [22.],\n",
              "        [38.],\n",
              "        [54.],\n",
              "        [70.]])"
            ]
          },
          "metadata": {},
          "execution_count": 104
        }
      ]
    },
    {
      "cell_type": "code",
      "source": [
        "A / sum_A"
      ],
      "metadata": {
        "colab": {
          "base_uri": "https://localhost:8080/"
        },
        "id": "eC4gZZnJfn-W",
        "outputId": "fc35374e-3f94-4f31-f958-20d23006c6da"
      },
      "execution_count": 106,
      "outputs": [
        {
          "output_type": "execute_result",
          "data": {
            "text/plain": [
              "tensor([[0.0000, 0.1667, 0.3333, 0.5000],\n",
              "        [0.1818, 0.2273, 0.2727, 0.3182],\n",
              "        [0.2105, 0.2368, 0.2632, 0.2895],\n",
              "        [0.2222, 0.2407, 0.2593, 0.2778],\n",
              "        [0.2286, 0.2429, 0.2571, 0.2714]])"
            ]
          },
          "metadata": {},
          "execution_count": 106
        }
      ]
    },
    {
      "cell_type": "code",
      "source": [
        "A.cumsum(axis=0)"
      ],
      "metadata": {
        "colab": {
          "base_uri": "https://localhost:8080/"
        },
        "id": "Moib-JZ-fqie",
        "outputId": "0060cb31-45ff-4dae-a089-77e3159695cb"
      },
      "execution_count": 107,
      "outputs": [
        {
          "output_type": "execute_result",
          "data": {
            "text/plain": [
              "tensor([[ 0.,  1.,  2.,  3.],\n",
              "        [ 4.,  6.,  8., 10.],\n",
              "        [12., 15., 18., 21.],\n",
              "        [24., 28., 32., 36.],\n",
              "        [40., 45., 50., 55.]])"
            ]
          },
          "metadata": {},
          "execution_count": 107
        }
      ]
    },
    {
      "cell_type": "markdown",
      "source": [
        "###  Dot Products"
      ],
      "metadata": {
        "id": "TnB9ERhMft_O"
      }
    },
    {
      "cell_type": "code",
      "source": [
        "y = torch.ones(4, dtype = torch.float32)\n",
        "x, y, torch.dot(x, y) #내적"
      ],
      "metadata": {
        "colab": {
          "base_uri": "https://localhost:8080/"
        },
        "id": "me9G9FCkf0lY",
        "outputId": "a8291258-113f-4df8-c0b0-5dcc273b4a1a"
      },
      "execution_count": 109,
      "outputs": [
        {
          "output_type": "execute_result",
          "data": {
            "text/plain": [
              "(tensor([0., 1., 2., 3.]), tensor([1., 1., 1., 1.]), tensor(6.))"
            ]
          },
          "metadata": {},
          "execution_count": 109
        }
      ]
    },
    {
      "cell_type": "code",
      "source": [
        "#can express the dot product of two vectors equivalently by performing an elementwise multiplication and then a sum\n",
        "\n",
        "torch.sum(x*y)"
      ],
      "metadata": {
        "colab": {
          "base_uri": "https://localhost:8080/"
        },
        "id": "wwIjnb96hXZe",
        "outputId": "8ec2894e-1033-4d9c-ff1a-51de185b697c"
      },
      "execution_count": 110,
      "outputs": [
        {
          "output_type": "execute_result",
          "data": {
            "text/plain": [
              "tensor(6.)"
            ]
          },
          "metadata": {},
          "execution_count": 110
        }
      ]
    },
    {
      "cell_type": "markdown",
      "source": [
        "### Matrix-Vector Products"
      ],
      "metadata": {
        "id": "x0sgrt5miEa6"
      }
    },
    {
      "cell_type": "code",
      "source": [
        "print(A)\n",
        "print()\n",
        "print(x)"
      ],
      "metadata": {
        "colab": {
          "base_uri": "https://localhost:8080/"
        },
        "id": "T3bCN9_kho54",
        "outputId": "c80bbd8c-69a5-4b16-f892-af8d4a00627f"
      },
      "execution_count": 111,
      "outputs": [
        {
          "output_type": "stream",
          "name": "stdout",
          "text": [
            "tensor([[ 0.,  1.,  2.,  3.],\n",
            "        [ 4.,  5.,  6.,  7.],\n",
            "        [ 8.,  9., 10., 11.],\n",
            "        [12., 13., 14., 15.],\n",
            "        [16., 17., 18., 19.]])\n",
            "\n",
            "tensor([0., 1., 2., 3.])\n"
          ]
        }
      ]
    },
    {
      "cell_type": "code",
      "source": [
        "A.shape, x.shape, torch.mv(A, x) #expressin matrix-vector products in code with tensors, we use the mv function\n",
        "\n",
        "#note that the column dimension of A (its length along axis 1) must be the same as the dimension of x (its length)"
      ],
      "metadata": {
        "colab": {
          "base_uri": "https://localhost:8080/"
        },
        "id": "FQr4IGWpiJ3H",
        "outputId": "dba7819b-39f8-4dcb-d8c3-30dbd0eef384"
      },
      "execution_count": 112,
      "outputs": [
        {
          "output_type": "execute_result",
          "data": {
            "text/plain": [
              "(torch.Size([5, 4]), torch.Size([4]), tensor([ 14.,  38.,  62.,  86., 110.]))"
            ]
          },
          "metadata": {},
          "execution_count": 112
        }
      ]
    },
    {
      "cell_type": "markdown",
      "source": [
        "### Matrix-Matrix Multiplication"
      ],
      "metadata": {
        "id": "HqkApebHiMAb"
      }
    },
    {
      "cell_type": "code",
      "source": [
        "#expression matrix-matrix products in code with tensors, we use the mm function\n",
        "\n",
        "B = torch.ones(4, 3)\n",
        "torch.mm(A, B)"
      ],
      "metadata": {
        "colab": {
          "base_uri": "https://localhost:8080/"
        },
        "id": "GTvXEfo_ijQu",
        "outputId": "a133d099-426f-4d9f-90d2-9c423b8fe73c"
      },
      "execution_count": 113,
      "outputs": [
        {
          "output_type": "execute_result",
          "data": {
            "text/plain": [
              "tensor([[ 6.,  6.,  6.],\n",
              "        [22., 22., 22.],\n",
              "        [38., 38., 38.],\n",
              "        [54., 54., 54.],\n",
              "        [70., 70., 70.]])"
            ]
          },
          "metadata": {},
          "execution_count": 113
        }
      ]
    },
    {
      "cell_type": "markdown",
      "source": [
        "### Norms"
      ],
      "metadata": {
        "id": "_gTcmhXsjKvK"
      }
    },
    {
      "cell_type": "markdown",
      "source": [
        "Informally, the norm of a vector tells us how big a vector is. The notion of size under consideration here concerns not dimensionality but rather the magnitude of the components.\n",
        "\n",
        "![image.png](data:image/png;base64,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)\n",
        "\n",
        "\n",
        "In fact, the Euclidean distance is a norm: specifically it is the  L2  norm\n",
        "\n",
        "The L2 norm of x is the square root of the sum of the squares of the vector elements"
      ],
      "metadata": {
        "id": "Ce8oZLifj2rP"
      }
    },
    {
      "cell_type": "markdown",
      "source": [
        "이미지 출처: http://d2l.ai/chapter_preliminaries/linear-algebra.html"
      ],
      "metadata": {
        "id": "mPt4sEnWko_G"
      }
    },
    {
      "cell_type": "code",
      "source": [
        "u = torch.tensor([3.0, -4.0])\n",
        "torch.norm(u) #L2 norm of a vector"
      ],
      "metadata": {
        "colab": {
          "base_uri": "https://localhost:8080/"
        },
        "id": "4At6flPuimbE",
        "outputId": "755e953b-f5e3-467f-87a7-eff11182b751"
      },
      "execution_count": 114,
      "outputs": [
        {
          "output_type": "execute_result",
          "data": {
            "text/plain": [
              "tensor(5.)"
            ]
          },
          "metadata": {},
          "execution_count": 114
        }
      ]
    },
    {
      "cell_type": "code",
      "source": [
        "#L1 norm, which is expressed as the sum of the absolute values of the vector elements\n",
        "\n",
        "torch.abs(u).sum() #L1 norm of a vector"
      ],
      "metadata": {
        "colab": {
          "base_uri": "https://localhost:8080/"
        },
        "id": "5AHT8RUzk155",
        "outputId": "e15afe72-1b9e-4e62-f3e8-53d40dd79fe8"
      },
      "execution_count": 115,
      "outputs": [
        {
          "output_type": "execute_result",
          "data": {
            "text/plain": [
              "tensor(7.)"
            ]
          },
          "metadata": {},
          "execution_count": 115
        }
      ]
    },
    {
      "cell_type": "code",
      "source": [
        "torch.norm(torch.ones((4, 9))) #Frobenius norm"
      ],
      "metadata": {
        "colab": {
          "base_uri": "https://localhost:8080/"
        },
        "id": "F-mstyvQlFWa",
        "outputId": "d7f8f27f-a8e2-437b-b5de-39c0e3a5957d"
      },
      "execution_count": 116,
      "outputs": [
        {
          "output_type": "execute_result",
          "data": {
            "text/plain": [
              "tensor(6.)"
            ]
          },
          "metadata": {},
          "execution_count": 116
        }
      ]
    },
    {
      "cell_type": "markdown",
      "source": [
        "### Summary\n",
        "- Scalars, vectors, matrices, and tensors are basic mathematical objects in linear algebra.\n",
        "\n",
        "- Vectors generalize scalars, and matrices generalize vectors.\n",
        "\n",
        "- Scalars, vectors, matrices, and tensors have zero, one, two, and an arbitrary number of axes, respectively.\n",
        "\n",
        "- A tensor can be reduced along the specified axes by sum and mean.\n",
        "\n",
        "- Elementwise multiplication of two matrices is called their Hadamard product. It is different from matrix multiplication.\n",
        "\n",
        "- In deep learning, we often work with norms such as the  L1  norm, the  L2  norm, and the Frobenius norm.\n",
        "\n",
        "- We can perform a variety of operations over scalars, vectors, matrices, and tensors."
      ],
      "metadata": {
        "id": "Fgotckizljt-"
      }
    },
    {
      "cell_type": "markdown",
      "source": [
        "# 2.4 Calculus"
      ],
      "metadata": {
        "id": "rj99rezRm7nZ"
      }
    },
    {
      "cell_type": "markdown",
      "source": [
        "### Derivatives and Differentiation"
      ],
      "metadata": {
        "id": "JKBVV_UOm-Es"
      }
    },
    {
      "cell_type": "code",
      "source": [
        "%matplotlib inline\n",
        "import numpy as np\n",
        "from IPython import display\n",
        "!pip install d2l\n",
        "from d2l import torch as d2l\n",
        "\n",
        "def f(x):\n",
        "    return 3*x**2-4*x"
      ],
      "metadata": {
        "id": "oJCcndcPnBFw"
      },
      "execution_count": null,
      "outputs": []
    },
    {
      "cell_type": "code",
      "source": [
        "def numerical_lim(f, x, h):\n",
        "    return (f(x + h) - f(x)) / h\n",
        "\n",
        "h = 0.1\n",
        "for i in range(5):\n",
        "    print(f'h={h:.5f}, numerical limit={numerical_lim(f, 1, h):.5f}')\n",
        "    h *= 0.1"
      ],
      "metadata": {
        "colab": {
          "base_uri": "https://localhost:8080/"
        },
        "id": "HehNbyIRp6iR",
        "outputId": "8a86fbc8-87de-4886-d13e-7e76b35b6644"
      },
      "execution_count": 2,
      "outputs": [
        {
          "output_type": "stream",
          "name": "stdout",
          "text": [
            "h=0.10000, numerical limit=2.30000\n",
            "h=0.01000, numerical limit=2.03000\n",
            "h=0.00100, numerical limit=2.00300\n",
            "h=0.00010, numerical limit=2.00030\n",
            "h=0.00001, numerical limit=2.00003\n"
          ]
        }
      ]
    },
    {
      "cell_type": "code",
      "source": [
        "def use_svg_display():  #@save\n",
        "    \"\"\"Use the svg format to display a plot in Jupyter.\"\"\"\n",
        "    display.set_matplotlib_formats('svg')"
      ],
      "metadata": {
        "id": "_xlI_ZDjqqgV"
      },
      "execution_count": 3,
      "outputs": []
    },
    {
      "cell_type": "code",
      "source": [
        "def set_figsize(figsize=(3.5, 2.5)):  #@save\n",
        "    \"\"\"Set the figure size for matplotlib.\"\"\"\n",
        "    use_svg_display()\n",
        "    d2l.plt.rcParams['figure.figsize'] = figsize"
      ],
      "metadata": {
        "id": "wEoqJOOnq5aE"
      },
      "execution_count": 4,
      "outputs": []
    },
    {
      "cell_type": "code",
      "source": [
        "#@save\n",
        "def set_axes(axes, xlabel, ylabel, xlim, ylim, xscale, yscale, legend):\n",
        "    \"\"\"Set the axes for matplotlib.\"\"\"\n",
        "    axes.set_xlabel(xlabel)\n",
        "    axes.set_ylabel(ylabel)\n",
        "    axes.set_xscale(xscale)\n",
        "    axes.set_yscale(yscale)\n",
        "    axes.set_xlim(xlim)\n",
        "    axes.set_ylim(ylim)\n",
        "    if legend:\n",
        "        axes.legend(legend)\n",
        "    axes.grid()"
      ],
      "metadata": {
        "id": "i3YsNHEmq7vR"
      },
      "execution_count": 5,
      "outputs": []
    },
    {
      "cell_type": "code",
      "source": [
        "#@save\n",
        "def plot(X, Y=None, xlabel=None, ylabel=None, legend=None, xlim=None,\n",
        "         ylim=None, xscale='linear', yscale='linear',\n",
        "         fmts=('-', 'm--', 'g-.', 'r:'), figsize=(3.5, 2.5), axes=None):\n",
        "    \"\"\"Plot data points.\"\"\"\n",
        "    if legend is None:\n",
        "        legend = []\n",
        "\n",
        "    set_figsize(figsize)\n",
        "    axes = axes if axes else d2l.plt.gca()\n",
        "\n",
        "    #Return True if `X` (tensor or list) has 1 axis\n",
        "    def has_one_axis(X):\n",
        "        return (hasattr(X, \"ndim\") and X.ndim == 1 or isinstance(X, list)\n",
        "                and not hasattr(X[0], \"__len__\"))\n",
        "\n",
        "    if has_one_axis(X):\n",
        "        X = [X]\n",
        "    if Y is None:\n",
        "        X, Y = [[]] * len(X), X\n",
        "    elif has_one_axis(Y):\n",
        "        Y = [Y]\n",
        "    if len(X) != len(Y):\n",
        "        X = X * len(Y)\n",
        "    axes.cla()\n",
        "    for x, y, fmt in zip(X, Y, fmts):\n",
        "        if len(x):\n",
        "            axes.plot(x, y, fmt)\n",
        "        else:\n",
        "            axes.plot(y, fmt)\n",
        "    set_axes(axes, xlabel, ylabel, xlim, ylim, xscale, yscale, legend)"
      ],
      "metadata": {
        "id": "vRvAJvi5rYSS"
      },
      "execution_count": 6,
      "outputs": []
    },
    {
      "cell_type": "code",
      "source": [
        "x = np.arange(0,3,0.1)\n",
        "plot(x, [f(x), 2 * x - 3], 'x', 'f(x)', legend=['f(x)', 'Tangent line (x=1)'])"
      ],
      "metadata": {
        "colab": {
          "base_uri": "https://localhost:8080/",
          "height": 261
        },
        "id": "Thr0O2VBras7",
        "outputId": "a2aba984-ddd8-405d-cd7e-d5ce471356d3"
      },
      "execution_count": 8,
      "outputs": [
        {
          "output_type": "display_data",
          "data": {
            "text/plain": [
              "<Figure size 252x180 with 1 Axes>"
            ],
            "image/svg+xml": "<?xml version=\"1.0\" encoding=\"utf-8\" standalone=\"no\"?>\n<!DOCTYPE svg PUBLIC \"-//W3C//DTD SVG 1.1//EN\"\n  \"http://www.w3.org/Graphics/SVG/1.1/DTD/svg11.dtd\">\n<!-- Created with matplotlib (https://matplotlib.org/) -->\n<svg height=\"180.65625pt\" version=\"1.1\" viewBox=\"0 0 243.529359 180.65625\" width=\"243.529359pt\" xmlns=\"http://www.w3.org/2000/svg\" xmlns:xlink=\"http://www.w3.org/1999/xlink\">\n <metadata>\n  <rdf:RDF xmlns:cc=\"http://creativecommons.org/ns#\" xmlns:dc=\"http://purl.org/dc/elements/1.1/\" xmlns:rdf=\"http://www.w3.org/1999/02/22-rdf-syntax-ns#\">\n   <cc:Work>\n    <dc:type rdf:resource=\"http://purl.org/dc/dcmitype/StillImage\"/>\n    <dc:date>2022-01-26T04:38:55.102886</dc:date>\n    <dc:format>image/svg+xml</dc:format>\n    <dc:creator>\n     <cc:Agent>\n      <dc:title>Matplotlib v3.3.3, https://matplotlib.org/</dc:title>\n     </cc:Agent>\n    </dc:creator>\n   </cc:Work>\n  </rdf:RDF>\n </metadata>\n <defs>\n  <style type=\"text/css\">*{stroke-linecap:butt;stroke-linejoin:round;}</style>\n </defs>\n <g id=\"figure_1\">\n  <g id=\"patch_1\">\n   <path d=\"M 0 180.65625 \nL 243.529359 180.65625 \nL 243.529359 0 \nL 0 0 \nz\n\" style=\"fill:none;\"/>\n  </g>\n  <g id=\"axes_1\">\n   <g id=\"patch_2\">\n    <path d=\"M 40.603125 143.1 \nL 235.903125 143.1 \nL 235.903125 7.2 \nL 40.603125 7.2 \nz\n\" style=\"fill:#ffffff;\"/>\n   </g>\n   <g id=\"matplotlib.axis_1\">\n    <g id=\"xtick_1\">\n     <g id=\"line2d_1\">\n      <path clip-path=\"url(#pf9b8b5044b)\" d=\"M 49.480398 143.1 \nL 49.480398 7.2 \n\" style=\"fill:none;stroke:#b0b0b0;stroke-linecap:square;stroke-width:0.8;\"/>\n     </g>\n     <g id=\"line2d_2\">\n      <defs>\n       <path d=\"M 0 0 \nL 0 3.5 \n\" id=\"ma0080f9cd8\" style=\"stroke:#000000;stroke-width:0.8;\"/>\n      </defs>\n      <g>\n       <use style=\"stroke:#000000;stroke-width:0.8;\" x=\"49.480398\" xlink:href=\"#ma0080f9cd8\" y=\"143.1\"/>\n      </g>\n     </g>\n     <g id=\"text_1\">\n      <!-- 0 -->\n      <g transform=\"translate(46.299148 157.698438)scale(0.1 -0.1)\">\n       <defs>\n        <path d=\"M 31.78125 66.40625 \nQ 24.171875 66.40625 20.328125 58.90625 \nQ 16.5 51.421875 16.5 36.375 \nQ 16.5 21.390625 20.328125 13.890625 \nQ 24.171875 6.390625 31.78125 6.390625 \nQ 39.453125 6.390625 43.28125 13.890625 \nQ 47.125 21.390625 47.125 36.375 \nQ 47.125 51.421875 43.28125 58.90625 \nQ 39.453125 66.40625 31.78125 66.40625 \nz\nM 31.78125 74.21875 \nQ 44.046875 74.21875 50.515625 64.515625 \nQ 56.984375 54.828125 56.984375 36.375 \nQ 56.984375 17.96875 50.515625 8.265625 \nQ 44.046875 -1.421875 31.78125 -1.421875 \nQ 19.53125 -1.421875 13.0625 8.265625 \nQ 6.59375 17.96875 6.59375 36.375 \nQ 6.59375 54.828125 13.0625 64.515625 \nQ 19.53125 74.21875 31.78125 74.21875 \nz\n\" id=\"DejaVuSans-48\"/>\n       </defs>\n       <use xlink:href=\"#DejaVuSans-48\"/>\n      </g>\n     </g>\n    </g>\n    <g id=\"xtick_2\">\n     <g id=\"line2d_3\">\n      <path clip-path=\"url(#pf9b8b5044b)\" d=\"M 110.702968 143.1 \nL 110.702968 7.2 \n\" style=\"fill:none;stroke:#b0b0b0;stroke-linecap:square;stroke-width:0.8;\"/>\n     </g>\n     <g id=\"line2d_4\">\n      <g>\n       <use style=\"stroke:#000000;stroke-width:0.8;\" x=\"110.702968\" xlink:href=\"#ma0080f9cd8\" y=\"143.1\"/>\n      </g>\n     </g>\n     <g id=\"text_2\">\n      <!-- 1 -->\n      <g transform=\"translate(107.521718 157.698438)scale(0.1 -0.1)\">\n       <defs>\n        <path d=\"M 12.40625 8.296875 \nL 28.515625 8.296875 \nL 28.515625 63.921875 \nL 10.984375 60.40625 \nL 10.984375 69.390625 \nL 28.421875 72.90625 \nL 38.28125 72.90625 \nL 38.28125 8.296875 \nL 54.390625 8.296875 \nL 54.390625 0 \nL 12.40625 0 \nz\n\" id=\"DejaVuSans-49\"/>\n       </defs>\n       <use xlink:href=\"#DejaVuSans-49\"/>\n      </g>\n     </g>\n    </g>\n    <g id=\"xtick_3\">\n     <g id=\"line2d_5\">\n      <path clip-path=\"url(#pf9b8b5044b)\" d=\"M 171.925539 143.1 \nL 171.925539 7.2 \n\" style=\"fill:none;stroke:#b0b0b0;stroke-linecap:square;stroke-width:0.8;\"/>\n     </g>\n     <g id=\"line2d_6\">\n      <g>\n       <use style=\"stroke:#000000;stroke-width:0.8;\" x=\"171.925539\" xlink:href=\"#ma0080f9cd8\" y=\"143.1\"/>\n      </g>\n     </g>\n     <g id=\"text_3\">\n      <!-- 2 -->\n      <g transform=\"translate(168.744289 157.698438)scale(0.1 -0.1)\">\n       <defs>\n        <path d=\"M 19.1875 8.296875 \nL 53.609375 8.296875 \nL 53.609375 0 \nL 7.328125 0 \nL 7.328125 8.296875 \nQ 12.9375 14.109375 22.625 23.890625 \nQ 32.328125 33.6875 34.8125 36.53125 \nQ 39.546875 41.84375 41.421875 45.53125 \nQ 43.3125 49.21875 43.3125 52.78125 \nQ 43.3125 58.59375 39.234375 62.25 \nQ 35.15625 65.921875 28.609375 65.921875 \nQ 23.96875 65.921875 18.8125 64.3125 \nQ 13.671875 62.703125 7.8125 59.421875 \nL 7.8125 69.390625 \nQ 13.765625 71.78125 18.9375 73 \nQ 24.125 74.21875 28.421875 74.21875 \nQ 39.75 74.21875 46.484375 68.546875 \nQ 53.21875 62.890625 53.21875 53.421875 \nQ 53.21875 48.921875 51.53125 44.890625 \nQ 49.859375 40.875 45.40625 35.40625 \nQ 44.1875 33.984375 37.640625 27.21875 \nQ 31.109375 20.453125 19.1875 8.296875 \nz\n\" id=\"DejaVuSans-50\"/>\n       </defs>\n       <use xlink:href=\"#DejaVuSans-50\"/>\n      </g>\n     </g>\n    </g>\n    <g id=\"xtick_4\">\n     <g id=\"line2d_7\">\n      <path clip-path=\"url(#pf9b8b5044b)\" d=\"M 233.148109 143.1 \nL 233.148109 7.2 \n\" style=\"fill:none;stroke:#b0b0b0;stroke-linecap:square;stroke-width:0.8;\"/>\n     </g>\n     <g id=\"line2d_8\">\n      <g>\n       <use style=\"stroke:#000000;stroke-width:0.8;\" x=\"233.148109\" xlink:href=\"#ma0080f9cd8\" y=\"143.1\"/>\n      </g>\n     </g>\n     <g id=\"text_4\">\n      <!-- 3 -->\n      <g transform=\"translate(229.966859 157.698438)scale(0.1 -0.1)\">\n       <defs>\n        <path d=\"M 40.578125 39.3125 \nQ 47.65625 37.796875 51.625 33 \nQ 55.609375 28.21875 55.609375 21.1875 \nQ 55.609375 10.40625 48.1875 4.484375 \nQ 40.765625 -1.421875 27.09375 -1.421875 \nQ 22.515625 -1.421875 17.65625 -0.515625 \nQ 12.796875 0.390625 7.625 2.203125 \nL 7.625 11.71875 \nQ 11.71875 9.328125 16.59375 8.109375 \nQ 21.484375 6.890625 26.8125 6.890625 \nQ 36.078125 6.890625 40.9375 10.546875 \nQ 45.796875 14.203125 45.796875 21.1875 \nQ 45.796875 27.640625 41.28125 31.265625 \nQ 36.765625 34.90625 28.71875 34.90625 \nL 20.21875 34.90625 \nL 20.21875 43.015625 \nL 29.109375 43.015625 \nQ 36.375 43.015625 40.234375 45.921875 \nQ 44.09375 48.828125 44.09375 54.296875 \nQ 44.09375 59.90625 40.109375 62.90625 \nQ 36.140625 65.921875 28.71875 65.921875 \nQ 24.65625 65.921875 20.015625 65.03125 \nQ 15.375 64.15625 9.8125 62.3125 \nL 9.8125 71.09375 \nQ 15.4375 72.65625 20.34375 73.4375 \nQ 25.25 74.21875 29.59375 74.21875 \nQ 40.828125 74.21875 47.359375 69.109375 \nQ 53.90625 64.015625 53.90625 55.328125 \nQ 53.90625 49.265625 50.4375 45.09375 \nQ 46.96875 40.921875 40.578125 39.3125 \nz\n\" id=\"DejaVuSans-51\"/>\n       </defs>\n       <use xlink:href=\"#DejaVuSans-51\"/>\n      </g>\n     </g>\n    </g>\n    <g id=\"text_5\">\n     <!-- x -->\n     <g transform=\"translate(135.29375 171.376563)scale(0.1 -0.1)\">\n      <defs>\n       <path d=\"M 54.890625 54.6875 \nL 35.109375 28.078125 \nL 55.90625 0 \nL 45.3125 0 \nL 29.390625 21.484375 \nL 13.484375 0 \nL 2.875 0 \nL 24.125 28.609375 \nL 4.6875 54.6875 \nL 15.28125 54.6875 \nL 29.78125 35.203125 \nL 44.28125 54.6875 \nz\n\" id=\"DejaVuSans-120\"/>\n      </defs>\n      <use xlink:href=\"#DejaVuSans-120\"/>\n     </g>\n    </g>\n   </g>\n   <g id=\"matplotlib.axis_2\">\n    <g id=\"ytick_1\">\n     <g id=\"line2d_9\">\n      <path clip-path=\"url(#pf9b8b5044b)\" d=\"M 40.603125 114.635514 \nL 235.903125 114.635514 \n\" style=\"fill:none;stroke:#b0b0b0;stroke-linecap:square;stroke-width:0.8;\"/>\n     </g>\n     <g id=\"line2d_10\">\n      <defs>\n       <path d=\"M 0 0 \nL -3.5 0 \n\" id=\"mfdb20cf1a8\" style=\"stroke:#000000;stroke-width:0.8;\"/>\n      </defs>\n      <g>\n       <use style=\"stroke:#000000;stroke-width:0.8;\" x=\"40.603125\" xlink:href=\"#mfdb20cf1a8\" y=\"114.635514\"/>\n      </g>\n     </g>\n     <g id=\"text_6\">\n      <!-- 0 -->\n      <g transform=\"translate(27.240625 118.434732)scale(0.1 -0.1)\">\n       <use xlink:href=\"#DejaVuSans-48\"/>\n      </g>\n     </g>\n    </g>\n    <g id=\"ytick_2\">\n     <g id=\"line2d_11\">\n      <path clip-path=\"url(#pf9b8b5044b)\" d=\"M 40.603125 77.490157 \nL 235.903125 77.490157 \n\" style=\"fill:none;stroke:#b0b0b0;stroke-linecap:square;stroke-width:0.8;\"/>\n     </g>\n     <g id=\"line2d_12\">\n      <g>\n       <use style=\"stroke:#000000;stroke-width:0.8;\" x=\"40.603125\" xlink:href=\"#mfdb20cf1a8\" y=\"77.490157\"/>\n      </g>\n     </g>\n     <g id=\"text_7\">\n      <!-- 5 -->\n      <g transform=\"translate(27.240625 81.289376)scale(0.1 -0.1)\">\n       <defs>\n        <path d=\"M 10.796875 72.90625 \nL 49.515625 72.90625 \nL 49.515625 64.59375 \nL 19.828125 64.59375 \nL 19.828125 46.734375 \nQ 21.96875 47.46875 24.109375 47.828125 \nQ 26.265625 48.1875 28.421875 48.1875 \nQ 40.625 48.1875 47.75 41.5 \nQ 54.890625 34.8125 54.890625 23.390625 \nQ 54.890625 11.625 47.5625 5.09375 \nQ 40.234375 -1.421875 26.90625 -1.421875 \nQ 22.3125 -1.421875 17.546875 -0.640625 \nQ 12.796875 0.140625 7.71875 1.703125 \nL 7.71875 11.625 \nQ 12.109375 9.234375 16.796875 8.0625 \nQ 21.484375 6.890625 26.703125 6.890625 \nQ 35.15625 6.890625 40.078125 11.328125 \nQ 45.015625 15.765625 45.015625 23.390625 \nQ 45.015625 31 40.078125 35.4375 \nQ 35.15625 39.890625 26.703125 39.890625 \nQ 22.75 39.890625 18.8125 39.015625 \nQ 14.890625 38.140625 10.796875 36.28125 \nz\n\" id=\"DejaVuSans-53\"/>\n       </defs>\n       <use xlink:href=\"#DejaVuSans-53\"/>\n      </g>\n     </g>\n    </g>\n    <g id=\"ytick_3\">\n     <g id=\"line2d_13\">\n      <path clip-path=\"url(#pf9b8b5044b)\" d=\"M 40.603125 40.344801 \nL 235.903125 40.344801 \n\" style=\"fill:none;stroke:#b0b0b0;stroke-linecap:square;stroke-width:0.8;\"/>\n     </g>\n     <g id=\"line2d_14\">\n      <g>\n       <use style=\"stroke:#000000;stroke-width:0.8;\" x=\"40.603125\" xlink:href=\"#mfdb20cf1a8\" y=\"40.344801\"/>\n      </g>\n     </g>\n     <g id=\"text_8\">\n      <!-- 10 -->\n      <g transform=\"translate(20.878125 44.14402)scale(0.1 -0.1)\">\n       <use xlink:href=\"#DejaVuSans-49\"/>\n       <use x=\"63.623047\" xlink:href=\"#DejaVuSans-48\"/>\n      </g>\n     </g>\n    </g>\n    <g id=\"text_9\">\n     <!-- f(x) -->\n     <g transform=\"translate(14.798437 83.771094)rotate(-90)scale(0.1 -0.1)\">\n      <defs>\n       <path d=\"M 37.109375 75.984375 \nL 37.109375 68.5 \nL 28.515625 68.5 \nQ 23.6875 68.5 21.796875 66.546875 \nQ 19.921875 64.59375 19.921875 59.515625 \nL 19.921875 54.6875 \nL 34.71875 54.6875 \nL 34.71875 47.703125 \nL 19.921875 47.703125 \nL 19.921875 0 \nL 10.890625 0 \nL 10.890625 47.703125 \nL 2.296875 47.703125 \nL 2.296875 54.6875 \nL 10.890625 54.6875 \nL 10.890625 58.5 \nQ 10.890625 67.625 15.140625 71.796875 \nQ 19.390625 75.984375 28.609375 75.984375 \nz\n\" id=\"DejaVuSans-102\"/>\n       <path d=\"M 31 75.875 \nQ 24.46875 64.65625 21.28125 53.65625 \nQ 18.109375 42.671875 18.109375 31.390625 \nQ 18.109375 20.125 21.3125 9.0625 \nQ 24.515625 -2 31 -13.1875 \nL 23.1875 -13.1875 \nQ 15.875 -1.703125 12.234375 9.375 \nQ 8.59375 20.453125 8.59375 31.390625 \nQ 8.59375 42.28125 12.203125 53.3125 \nQ 15.828125 64.359375 23.1875 75.875 \nz\n\" id=\"DejaVuSans-40\"/>\n       <path d=\"M 8.015625 75.875 \nL 15.828125 75.875 \nQ 23.140625 64.359375 26.78125 53.3125 \nQ 30.421875 42.28125 30.421875 31.390625 \nQ 30.421875 20.453125 26.78125 9.375 \nQ 23.140625 -1.703125 15.828125 -13.1875 \nL 8.015625 -13.1875 \nQ 14.5 -2 17.703125 9.0625 \nQ 20.90625 20.125 20.90625 31.390625 \nQ 20.90625 42.671875 17.703125 53.65625 \nQ 14.5 64.65625 8.015625 75.875 \nz\n\" id=\"DejaVuSans-41\"/>\n      </defs>\n      <use xlink:href=\"#DejaVuSans-102\"/>\n      <use x=\"35.205078\" xlink:href=\"#DejaVuSans-40\"/>\n      <use x=\"74.21875\" xlink:href=\"#DejaVuSans-120\"/>\n      <use x=\"133.398438\" xlink:href=\"#DejaVuSans-41\"/>\n     </g>\n    </g>\n   </g>\n   <g id=\"line2d_15\">\n    <path clip-path=\"url(#pf9b8b5044b)\" d=\"M 49.480398 114.635514 \nL 55.602655 117.38427 \nL 61.724912 119.687282 \nL 67.847169 121.54455 \nL 73.969426 122.956073 \nL 80.091683 123.921853 \nL 86.21394 124.441888 \nL 92.336197 124.516178 \nL 98.458454 124.144725 \nL 104.580711 123.327527 \nL 110.702968 122.064585 \nL 116.825225 120.355898 \nL 122.947482 118.201468 \nL 129.069739 115.601293 \nL 135.191996 112.555374 \nL 141.314254 109.06371 \nL 147.436511 105.126302 \nL 153.558768 100.74315 \nL 159.681025 95.914254 \nL 165.803282 90.639614 \nL 171.925539 84.919229 \nL 178.047796 78.7531 \nL 184.170053 72.141226 \nL 190.29231 65.083608 \nL 196.414567 57.580247 \nL 202.536824 49.63114 \nL 208.659081 41.23629 \nL 214.781338 32.395695 \nL 220.903595 23.109356 \nL 227.025852 13.377273 \n\" style=\"fill:none;stroke:#1f77b4;stroke-linecap:square;stroke-width:1.5;\"/>\n   </g>\n   <g id=\"line2d_16\">\n    <path clip-path=\"url(#pf9b8b5044b)\" d=\"M 49.480398 136.922727 \nL 55.602655 135.436913 \nL 61.724912 133.951099 \nL 67.847169 132.465285 \nL 73.969426 130.97947 \nL 80.091683 129.493656 \nL 86.21394 128.007842 \nL 92.336197 126.522028 \nL 98.458454 125.036213 \nL 104.580711 123.550399 \nL 110.702968 122.064585 \nL 116.825225 120.578771 \nL 122.947482 119.092956 \nL 129.069739 117.607142 \nL 135.191996 116.121328 \nL 141.314254 114.635514 \nL 147.436511 113.149699 \nL 153.558768 111.663885 \nL 159.681025 110.178071 \nL 165.803282 108.692257 \nL 171.925539 107.206442 \nL 178.047796 105.720628 \nL 184.170053 104.234814 \nL 190.29231 102.749 \nL 196.414567 101.263185 \nL 202.536824 99.777371 \nL 208.659081 98.291557 \nL 214.781338 96.805743 \nL 220.903595 95.319928 \nL 227.025852 93.834114 \n\" style=\"fill:none;stroke:#bf00bf;stroke-dasharray:5.55,2.4;stroke-dashoffset:0;stroke-width:1.5;\"/>\n   </g>\n   <g id=\"patch_3\">\n    <path d=\"M 40.603125 143.1 \nL 40.603125 7.2 \n\" style=\"fill:none;stroke:#000000;stroke-linecap:square;stroke-linejoin:miter;stroke-width:0.8;\"/>\n   </g>\n   <g id=\"patch_4\">\n    <path d=\"M 235.903125 143.1 \nL 235.903125 7.2 \n\" style=\"fill:none;stroke:#000000;stroke-linecap:square;stroke-linejoin:miter;stroke-width:0.8;\"/>\n   </g>\n   <g id=\"patch_5\">\n    <path d=\"M 40.603125 143.1 \nL 235.903125 143.1 \n\" style=\"fill:none;stroke:#000000;stroke-linecap:square;stroke-linejoin:miter;stroke-width:0.8;\"/>\n   </g>\n   <g id=\"patch_6\">\n    <path d=\"M 40.603125 7.2 \nL 235.903125 7.2 \n\" style=\"fill:none;stroke:#000000;stroke-linecap:square;stroke-linejoin:miter;stroke-width:0.8;\"/>\n   </g>\n   <g id=\"legend_1\">\n    <g id=\"patch_7\">\n     <path d=\"M 47.603125 44.55625 \nL 172.153125 44.55625 \nQ 174.153125 44.55625 174.153125 42.55625 \nL 174.153125 14.2 \nQ 174.153125 12.2 172.153125 12.2 \nL 47.603125 12.2 \nQ 45.603125 12.2 45.603125 14.2 \nL 45.603125 42.55625 \nQ 45.603125 44.55625 47.603125 44.55625 \nz\n\" style=\"fill:#ffffff;opacity:0.8;stroke:#cccccc;stroke-linejoin:miter;\"/>\n    </g>\n    <g id=\"line2d_17\">\n     <path d=\"M 49.603125 20.298437 \nL 69.603125 20.298437 \n\" style=\"fill:none;stroke:#1f77b4;stroke-linecap:square;stroke-width:1.5;\"/>\n    </g>\n    <g id=\"line2d_18\"/>\n    <g id=\"text_10\">\n     <!-- f(x) -->\n     <g transform=\"translate(77.603125 23.798437)scale(0.1 -0.1)\">\n      <use xlink:href=\"#DejaVuSans-102\"/>\n      <use x=\"35.205078\" xlink:href=\"#DejaVuSans-40\"/>\n      <use x=\"74.21875\" xlink:href=\"#DejaVuSans-120\"/>\n      <use x=\"133.398438\" xlink:href=\"#DejaVuSans-41\"/>\n     </g>\n    </g>\n    <g id=\"line2d_19\">\n     <path d=\"M 49.603125 34.976562 \nL 69.603125 34.976562 \n\" style=\"fill:none;stroke:#bf00bf;stroke-dasharray:5.55,2.4;stroke-dashoffset:0;stroke-width:1.5;\"/>\n    </g>\n    <g id=\"line2d_20\"/>\n    <g id=\"text_11\">\n     <!-- Tangent line (x=1) -->\n     <g transform=\"translate(77.603125 38.476562)scale(0.1 -0.1)\">\n      <defs>\n       <path d=\"M -0.296875 72.90625 \nL 61.375 72.90625 \nL 61.375 64.59375 \nL 35.5 64.59375 \nL 35.5 0 \nL 25.59375 0 \nL 25.59375 64.59375 \nL -0.296875 64.59375 \nz\n\" id=\"DejaVuSans-84\"/>\n       <path d=\"M 34.28125 27.484375 \nQ 23.390625 27.484375 19.1875 25 \nQ 14.984375 22.515625 14.984375 16.5 \nQ 14.984375 11.71875 18.140625 8.90625 \nQ 21.296875 6.109375 26.703125 6.109375 \nQ 34.1875 6.109375 38.703125 11.40625 \nQ 43.21875 16.703125 43.21875 25.484375 \nL 43.21875 27.484375 \nz\nM 52.203125 31.203125 \nL 52.203125 0 \nL 43.21875 0 \nL 43.21875 8.296875 \nQ 40.140625 3.328125 35.546875 0.953125 \nQ 30.953125 -1.421875 24.3125 -1.421875 \nQ 15.921875 -1.421875 10.953125 3.296875 \nQ 6 8.015625 6 15.921875 \nQ 6 25.140625 12.171875 29.828125 \nQ 18.359375 34.515625 30.609375 34.515625 \nL 43.21875 34.515625 \nL 43.21875 35.40625 \nQ 43.21875 41.609375 39.140625 45 \nQ 35.0625 48.390625 27.6875 48.390625 \nQ 23 48.390625 18.546875 47.265625 \nQ 14.109375 46.140625 10.015625 43.890625 \nL 10.015625 52.203125 \nQ 14.9375 54.109375 19.578125 55.046875 \nQ 24.21875 56 28.609375 56 \nQ 40.484375 56 46.34375 49.84375 \nQ 52.203125 43.703125 52.203125 31.203125 \nz\n\" id=\"DejaVuSans-97\"/>\n       <path d=\"M 54.890625 33.015625 \nL 54.890625 0 \nL 45.90625 0 \nL 45.90625 32.71875 \nQ 45.90625 40.484375 42.875 44.328125 \nQ 39.84375 48.1875 33.796875 48.1875 \nQ 26.515625 48.1875 22.3125 43.546875 \nQ 18.109375 38.921875 18.109375 30.90625 \nL 18.109375 0 \nL 9.078125 0 \nL 9.078125 54.6875 \nL 18.109375 54.6875 \nL 18.109375 46.1875 \nQ 21.34375 51.125 25.703125 53.5625 \nQ 30.078125 56 35.796875 56 \nQ 45.21875 56 50.046875 50.171875 \nQ 54.890625 44.34375 54.890625 33.015625 \nz\n\" id=\"DejaVuSans-110\"/>\n       <path d=\"M 45.40625 27.984375 \nQ 45.40625 37.75 41.375 43.109375 \nQ 37.359375 48.484375 30.078125 48.484375 \nQ 22.859375 48.484375 18.828125 43.109375 \nQ 14.796875 37.75 14.796875 27.984375 \nQ 14.796875 18.265625 18.828125 12.890625 \nQ 22.859375 7.515625 30.078125 7.515625 \nQ 37.359375 7.515625 41.375 12.890625 \nQ 45.40625 18.265625 45.40625 27.984375 \nz\nM 54.390625 6.78125 \nQ 54.390625 -7.171875 48.1875 -13.984375 \nQ 42 -20.796875 29.203125 -20.796875 \nQ 24.46875 -20.796875 20.265625 -20.09375 \nQ 16.0625 -19.390625 12.109375 -17.921875 \nL 12.109375 -9.1875 \nQ 16.0625 -11.328125 19.921875 -12.34375 \nQ 23.78125 -13.375 27.78125 -13.375 \nQ 36.625 -13.375 41.015625 -8.765625 \nQ 45.40625 -4.15625 45.40625 5.171875 \nL 45.40625 9.625 \nQ 42.625 4.78125 38.28125 2.390625 \nQ 33.9375 0 27.875 0 \nQ 17.828125 0 11.671875 7.65625 \nQ 5.515625 15.328125 5.515625 27.984375 \nQ 5.515625 40.671875 11.671875 48.328125 \nQ 17.828125 56 27.875 56 \nQ 33.9375 56 38.28125 53.609375 \nQ 42.625 51.21875 45.40625 46.390625 \nL 45.40625 54.6875 \nL 54.390625 54.6875 \nz\n\" id=\"DejaVuSans-103\"/>\n       <path d=\"M 56.203125 29.59375 \nL 56.203125 25.203125 \nL 14.890625 25.203125 \nQ 15.484375 15.921875 20.484375 11.0625 \nQ 25.484375 6.203125 34.421875 6.203125 \nQ 39.59375 6.203125 44.453125 7.46875 \nQ 49.3125 8.734375 54.109375 11.28125 \nL 54.109375 2.78125 \nQ 49.265625 0.734375 44.1875 -0.34375 \nQ 39.109375 -1.421875 33.890625 -1.421875 \nQ 20.796875 -1.421875 13.15625 6.1875 \nQ 5.515625 13.8125 5.515625 26.8125 \nQ 5.515625 40.234375 12.765625 48.109375 \nQ 20.015625 56 32.328125 56 \nQ 43.359375 56 49.78125 48.890625 \nQ 56.203125 41.796875 56.203125 29.59375 \nz\nM 47.21875 32.234375 \nQ 47.125 39.59375 43.09375 43.984375 \nQ 39.0625 48.390625 32.421875 48.390625 \nQ 24.90625 48.390625 20.390625 44.140625 \nQ 15.875 39.890625 15.1875 32.171875 \nz\n\" id=\"DejaVuSans-101\"/>\n       <path d=\"M 18.3125 70.21875 \nL 18.3125 54.6875 \nL 36.8125 54.6875 \nL 36.8125 47.703125 \nL 18.3125 47.703125 \nL 18.3125 18.015625 \nQ 18.3125 11.328125 20.140625 9.421875 \nQ 21.96875 7.515625 27.59375 7.515625 \nL 36.8125 7.515625 \nL 36.8125 0 \nL 27.59375 0 \nQ 17.1875 0 13.234375 3.875 \nQ 9.28125 7.765625 9.28125 18.015625 \nL 9.28125 47.703125 \nL 2.6875 47.703125 \nL 2.6875 54.6875 \nL 9.28125 54.6875 \nL 9.28125 70.21875 \nz\n\" id=\"DejaVuSans-116\"/>\n       <path id=\"DejaVuSans-32\"/>\n       <path d=\"M 9.421875 75.984375 \nL 18.40625 75.984375 \nL 18.40625 0 \nL 9.421875 0 \nz\n\" id=\"DejaVuSans-108\"/>\n       <path d=\"M 9.421875 54.6875 \nL 18.40625 54.6875 \nL 18.40625 0 \nL 9.421875 0 \nz\nM 9.421875 75.984375 \nL 18.40625 75.984375 \nL 18.40625 64.59375 \nL 9.421875 64.59375 \nz\n\" id=\"DejaVuSans-105\"/>\n       <path d=\"M 10.59375 45.40625 \nL 73.1875 45.40625 \nL 73.1875 37.203125 \nL 10.59375 37.203125 \nz\nM 10.59375 25.484375 \nL 73.1875 25.484375 \nL 73.1875 17.1875 \nL 10.59375 17.1875 \nz\n\" id=\"DejaVuSans-61\"/>\n      </defs>\n      <use xlink:href=\"#DejaVuSans-84\"/>\n      <use x=\"44.583984\" xlink:href=\"#DejaVuSans-97\"/>\n      <use x=\"105.863281\" xlink:href=\"#DejaVuSans-110\"/>\n      <use x=\"169.242188\" xlink:href=\"#DejaVuSans-103\"/>\n      <use x=\"232.71875\" xlink:href=\"#DejaVuSans-101\"/>\n      <use x=\"294.242188\" xlink:href=\"#DejaVuSans-110\"/>\n      <use x=\"357.621094\" xlink:href=\"#DejaVuSans-116\"/>\n      <use x=\"396.830078\" xlink:href=\"#DejaVuSans-32\"/>\n      <use x=\"428.617188\" xlink:href=\"#DejaVuSans-108\"/>\n      <use x=\"456.400391\" xlink:href=\"#DejaVuSans-105\"/>\n      <use x=\"484.183594\" xlink:href=\"#DejaVuSans-110\"/>\n      <use x=\"547.5625\" xlink:href=\"#DejaVuSans-101\"/>\n      <use x=\"609.085938\" xlink:href=\"#DejaVuSans-32\"/>\n      <use x=\"640.873047\" xlink:href=\"#DejaVuSans-40\"/>\n      <use x=\"679.886719\" xlink:href=\"#DejaVuSans-120\"/>\n      <use x=\"739.066406\" xlink:href=\"#DejaVuSans-61\"/>\n      <use x=\"822.855469\" xlink:href=\"#DejaVuSans-49\"/>\n      <use x=\"886.478516\" xlink:href=\"#DejaVuSans-41\"/>\n     </g>\n    </g>\n   </g>\n  </g>\n </g>\n <defs>\n  <clipPath id=\"pf9b8b5044b\">\n   <rect height=\"135.9\" width=\"195.3\" x=\"40.603125\" y=\"7.2\"/>\n  </clipPath>\n </defs>\n</svg>\n"
          },
          "metadata": {
            "needs_background": "light"
          }
        }
      ]
    },
    {
      "cell_type": "markdown",
      "source": [
        "### Summary\n",
        "- Differential calculus and integral calculus are two branches of calculus, where the former can be applied to the ubiquitous optimization problems in deep learning.\n",
        "\n",
        "- A derivative can be interpreted as the instantaneous rate of change of a function with respect to its variable. It is also the slope of the tangent line to the curve of the function.\n",
        "\n",
        "- A gradient is a vector whose components are the partial derivatives of a multivariate function with respect to all its variables.\n",
        "\n",
        "- The chain rule enables us to differentiate composite functions."
      ],
      "metadata": {
        "id": "JKUncIJYrgbX"
      }
    },
    {
      "cell_type": "code",
      "source": [
        ""
      ],
      "metadata": {
        "id": "vLxm_zqzrf8l"
      },
      "execution_count": null,
      "outputs": []
    },
    {
      "cell_type": "markdown",
      "source": [
        "# 2.5 Automatic Differentiation"
      ],
      "metadata": {
        "id": "1JHDEl4isL6y"
      }
    },
    {
      "cell_type": "markdown",
      "source": [
        "### A Simple Example"
      ],
      "metadata": {
        "id": "0mxUgcSdtwGa"
      }
    },
    {
      "cell_type": "markdown",
      "source": [
        " Automatic differentiation enables the system to subsequently backpropagate gradients. Here, backpropagate simply means to trace through the computational graph, filling in the partial derivatives with respect to each parameter."
      ],
      "metadata": {
        "id": "Ee0n5K4KuHF6"
      }
    },
    {
      "cell_type": "code",
      "source": [
        "import torch\n",
        "\n",
        "x = torch.arange(4.0)\n",
        "x"
      ],
      "metadata": {
        "colab": {
          "base_uri": "https://localhost:8080/"
        },
        "id": "4siU0Z9Sturv",
        "outputId": "1a0baaaf-90d2-485f-8387-a7edcfb19e46"
      },
      "execution_count": 15,
      "outputs": [
        {
          "output_type": "execute_result",
          "data": {
            "text/plain": [
              "tensor([0., 1., 2., 3.])"
            ]
          },
          "metadata": {},
          "execution_count": 15
        }
      ]
    },
    {
      "cell_type": "code",
      "source": [
        "x.requires_grad_(True)  #Same as `x = torch.arange(4.0, requires_grad=True)`\n",
        "x.grad  #The default value is None"
      ],
      "metadata": {
        "id": "_QA2dnkAuMFG"
      },
      "execution_count": 16,
      "outputs": []
    },
    {
      "cell_type": "code",
      "source": [
        "torch.dot(x, x)"
      ],
      "metadata": {
        "colab": {
          "base_uri": "https://localhost:8080/"
        },
        "id": "QgKdGNAeu5yM",
        "outputId": "cfdacb4e-8fc9-47c2-e947-7d2fdabf69d2"
      },
      "execution_count": 17,
      "outputs": [
        {
          "output_type": "execute_result",
          "data": {
            "text/plain": [
              "tensor(14., grad_fn=<DotBackward0>)"
            ]
          },
          "metadata": {},
          "execution_count": 17
        }
      ]
    },
    {
      "cell_type": "code",
      "source": [
        "y = 2 * torch.dot(x, x)\n",
        "y"
      ],
      "metadata": {
        "colab": {
          "base_uri": "https://localhost:8080/"
        },
        "id": "Fj1JzMGIuO4n",
        "outputId": "ba7f288e-2bbc-4150-a3f9-83a1a99dfd9b"
      },
      "execution_count": 18,
      "outputs": [
        {
          "output_type": "execute_result",
          "data": {
            "text/plain": [
              "tensor(28., grad_fn=<MulBackward0>)"
            ]
          },
          "metadata": {},
          "execution_count": 18
        }
      ]
    },
    {
      "cell_type": "code",
      "source": [
        "y.backward()\n",
        "x.grad"
      ],
      "metadata": {
        "colab": {
          "base_uri": "https://localhost:8080/"
        },
        "id": "fdFKHEKZuSOS",
        "outputId": "36ce17c5-93d4-4c85-c289-7930f6aff34e"
      },
      "execution_count": 19,
      "outputs": [
        {
          "output_type": "execute_result",
          "data": {
            "text/plain": [
              "tensor([ 0.,  4.,  8., 12.])"
            ]
          },
          "metadata": {},
          "execution_count": 19
        }
      ]
    },
    {
      "cell_type": "code",
      "source": [
        "x.grad == 4 * x"
      ],
      "metadata": {
        "colab": {
          "base_uri": "https://localhost:8080/"
        },
        "id": "oxuAaJkFuT0p",
        "outputId": "8b13c46d-e9ac-40d3-f49c-00a0893051b7"
      },
      "execution_count": 20,
      "outputs": [
        {
          "output_type": "execute_result",
          "data": {
            "text/plain": [
              "tensor([True, True, True, True])"
            ]
          },
          "metadata": {},
          "execution_count": 20
        }
      ]
    },
    {
      "cell_type": "code",
      "source": [
        "#PyTorch accumulates the gradient in default, we need to clear the previous values\n",
        "x.grad.zero_()\n",
        "y = x.sum()\n",
        "y.backward()\n",
        "x.grad"
      ],
      "metadata": {
        "colab": {
          "base_uri": "https://localhost:8080/"
        },
        "id": "NbJTqniiuWZW",
        "outputId": "36495545-770a-40f3-ce61-08efb58e9782"
      },
      "execution_count": 21,
      "outputs": [
        {
          "output_type": "execute_result",
          "data": {
            "text/plain": [
              "tensor([1., 1., 1., 1.])"
            ]
          },
          "metadata": {},
          "execution_count": 21
        }
      ]
    },
    {
      "cell_type": "markdown",
      "source": [
        "### Backward for Non-Scalar Variables"
      ],
      "metadata": {
        "id": "YHdkvabjvNr-"
      }
    },
    {
      "cell_type": "code",
      "source": [
        "#our intent is not to calculate the differentiation matrix but rather the sum of the partial derivatives computed individually for each example in the batch.\n",
        "\n",
        "#Invoking `backward` on a non-scalar requires passing in a `gradient` argument\n",
        "#which specifies the gradient of the differentiated function w.r.t `self`.\n",
        "#In our case, we simply want to sum the partial derivatives, so passing\n",
        "#in a gradient of ones is appropriate\n",
        "x.grad.zero_()\n",
        "y = x * x\n",
        "#y.backward(torch.ones(len(x))) equivalent to the below\n",
        "y.sum().backward()\n",
        "x.grad"
      ],
      "metadata": {
        "colab": {
          "base_uri": "https://localhost:8080/"
        },
        "id": "p_niJ5HvvM2g",
        "outputId": "71f4c3de-a55c-4564-e46b-a1dc417af024"
      },
      "execution_count": 22,
      "outputs": [
        {
          "output_type": "execute_result",
          "data": {
            "text/plain": [
              "tensor([0., 2., 4., 6.])"
            ]
          },
          "metadata": {},
          "execution_count": 22
        }
      ]
    },
    {
      "cell_type": "markdown",
      "source": [
        "### Detaching Computation"
      ],
      "metadata": {
        "id": "YT-yeT_rvR7L"
      }
    },
    {
      "cell_type": "code",
      "source": [
        "x.grad.zero_()\n",
        "y = x * x\n",
        "u = y.detach()\n",
        "z = u * x\n",
        "\n",
        "z.sum().backward()\n",
        "x.grad == u"
      ],
      "metadata": {
        "colab": {
          "base_uri": "https://localhost:8080/"
        },
        "id": "5hMykrPzvRLh",
        "outputId": "6d7d9e0b-78a1-4475-88b0-65b1bc6b222f"
      },
      "execution_count": 23,
      "outputs": [
        {
          "output_type": "execute_result",
          "data": {
            "text/plain": [
              "tensor([True, True, True, True])"
            ]
          },
          "metadata": {},
          "execution_count": 23
        }
      ]
    },
    {
      "cell_type": "code",
      "source": [
        "x.grad.zero_()\n",
        "y.sum().backward()\n",
        "x.grad == 2 * x"
      ],
      "metadata": {
        "colab": {
          "base_uri": "https://localhost:8080/"
        },
        "id": "WAW8vv6SvW0h",
        "outputId": "85444c8f-b278-458e-88f7-106b1f482cba"
      },
      "execution_count": 24,
      "outputs": [
        {
          "output_type": "execute_result",
          "data": {
            "text/plain": [
              "tensor([True, True, True, True])"
            ]
          },
          "metadata": {},
          "execution_count": 24
        }
      ]
    },
    {
      "cell_type": "markdown",
      "source": [
        "### Computing the Gradient of Python Control Flow"
      ],
      "metadata": {
        "id": "grN2y7XYvtaM"
      }
    },
    {
      "cell_type": "code",
      "source": [
        "def f(a):\n",
        "    b = a * 2\n",
        "    while b.norm() < 1000:\n",
        "        b = b * 2\n",
        "    if b.sum() > 0:\n",
        "        c = b\n",
        "    else:\n",
        "        c = 100 * b\n",
        "    return c"
      ],
      "metadata": {
        "id": "sCwbuq-3vvEH"
      },
      "execution_count": 25,
      "outputs": []
    },
    {
      "cell_type": "code",
      "source": [
        "a = torch.randn(size=(), requires_grad=True)\n",
        "d = f(a)\n",
        "d.backward()"
      ],
      "metadata": {
        "id": "osXpd_U-vxiy"
      },
      "execution_count": 26,
      "outputs": []
    },
    {
      "cell_type": "code",
      "source": [
        "a.grad == d / a"
      ],
      "metadata": {
        "colab": {
          "base_uri": "https://localhost:8080/"
        },
        "id": "ci3gNZUKv0Z3",
        "outputId": "15c7f58d-6934-4a56-e26a-738737d151f0"
      },
      "execution_count": 27,
      "outputs": [
        {
          "output_type": "execute_result",
          "data": {
            "text/plain": [
              "tensor(True)"
            ]
          },
          "metadata": {},
          "execution_count": 27
        }
      ]
    },
    {
      "cell_type": "markdown",
      "source": [
        "### Summary\n",
        "- Deep learning frameworks can automate the calculation of derivatives. To use it, we first attach gradients to those variables with respect to which we desire partial derivatives. We then record the computation of our target value, execute its function for backpropagation, and access the resulting gradient."
      ],
      "metadata": {
        "id": "SFVC_3dsv4kr"
      }
    },
    {
      "cell_type": "code",
      "source": [
        ""
      ],
      "metadata": {
        "id": "klkJ3tSOv7Qy"
      },
      "execution_count": null,
      "outputs": []
    },
    {
      "cell_type": "markdown",
      "source": [
        "# 2.6. Probability"
      ],
      "metadata": {
        "id": "2DxdxtErv7it"
      }
    },
    {
      "cell_type": "markdown",
      "source": [
        "machine learning is all about making predictions"
      ],
      "metadata": {
        "id": "BR9JTUdVwoyw"
      }
    },
    {
      "cell_type": "markdown",
      "source": [
        "### Basic Probability Theory"
      ],
      "metadata": {
        "id": "1ThDRatEwKl0"
      }
    },
    {
      "cell_type": "code",
      "source": [
        "%matplotlib inline\n",
        "import torch\n",
        "from torch.distributions import multinomial\n",
        "from d2l import torch as d2l"
      ],
      "metadata": {
        "id": "hnURQRZHwm9v"
      },
      "execution_count": 28,
      "outputs": []
    },
    {
      "cell_type": "code",
      "source": [
        "fair_probs = torch.ones([6]) / 6\n",
        "multinomial.Multinomial(1, fair_probs).sample() #random values each time"
      ],
      "metadata": {
        "colab": {
          "base_uri": "https://localhost:8080/"
        },
        "id": "f_lr-bhcws25",
        "outputId": "149793bc-1b96-4a86-8927-f487af5178fa"
      },
      "execution_count": 29,
      "outputs": [
        {
          "output_type": "execute_result",
          "data": {
            "text/plain": [
              "tensor([0., 1., 0., 0., 0., 0.])"
            ]
          },
          "metadata": {},
          "execution_count": 29
        }
      ]
    },
    {
      "cell_type": "code",
      "source": [
        "multinomial.Multinomial(1, fair_probs).sample()"
      ],
      "metadata": {
        "colab": {
          "base_uri": "https://localhost:8080/"
        },
        "id": "gRrXeoKrww8m",
        "outputId": "42a87728-455e-4e42-9cde-d06427d5afa3"
      },
      "execution_count": 30,
      "outputs": [
        {
          "output_type": "execute_result",
          "data": {
            "text/plain": [
              "tensor([0., 0., 0., 0., 1., 0.])"
            ]
          },
          "metadata": {},
          "execution_count": 30
        }
      ]
    },
    {
      "cell_type": "code",
      "source": [
        "multinomial.Multinomial(10, fair_probs).sample()"
      ],
      "metadata": {
        "colab": {
          "base_uri": "https://localhost:8080/"
        },
        "id": "V9a7GJfAwyFb",
        "outputId": "d5977c04-61bf-48c7-e7f5-e0567be4c372"
      },
      "execution_count": 31,
      "outputs": [
        {
          "output_type": "execute_result",
          "data": {
            "text/plain": [
              "tensor([0., 0., 2., 1., 2., 5.])"
            ]
          },
          "metadata": {},
          "execution_count": 31
        }
      ]
    },
    {
      "cell_type": "code",
      "source": [
        "#Store the results as 32-bit floats for division\n",
        "counts = multinomial.Multinomial(1000, fair_probs).sample() #1000번\n",
        "counts / 1000  #Relative frequency as the estimate"
      ],
      "metadata": {
        "colab": {
          "base_uri": "https://localhost:8080/"
        },
        "id": "t4_4MJpqw6wO",
        "outputId": "5fd60498-cf84-4f2e-9e35-e7440fffc52e"
      },
      "execution_count": 33,
      "outputs": [
        {
          "output_type": "execute_result",
          "data": {
            "text/plain": [
              "tensor([0.1450, 0.1770, 0.1800, 0.1670, 0.1720, 0.1590])"
            ]
          },
          "metadata": {},
          "execution_count": 33
        }
      ]
    },
    {
      "cell_type": "code",
      "source": [
        "counts = multinomial.Multinomial(10, fair_probs).sample((500,))\n",
        "cum_counts = counts.cumsum(dim=0)\n",
        "estimates = cum_counts / cum_counts.sum(dim=1, keepdims=True)\n",
        "\n",
        "d2l.set_figsize((6, 4.5))\n",
        "for i in range(6):\n",
        "    d2l.plt.plot(estimates[:, i].numpy(),\n",
        "                 label=(\"P(die=\" + str(i + 1) + \")\"))\n",
        "d2l.plt.axhline(y=0.167, color='black', linestyle='dashed')\n",
        "d2l.plt.gca().set_xlabel('Groups of experiments')\n",
        "d2l.plt.gca().set_ylabel('Estimated probability')\n",
        "d2l.plt.legend();"
      ],
      "metadata": {
        "colab": {
          "base_uri": "https://localhost:8080/",
          "height": 406
        },
        "id": "NiJR0ELsw8y2",
        "outputId": "b47cdfdc-1530-4969-e0c3-383a3fd64dad"
      },
      "execution_count": 34,
      "outputs": [
        {
          "output_type": "display_data",
          "data": {
            "text/plain": [
              "<Figure size 432x324 with 1 Axes>"
            ],
            "image/svg+xml": "<?xml version=\"1.0\" encoding=\"utf-8\" standalone=\"no\"?>\n<!DOCTYPE svg PUBLIC \"-//W3C//DTD SVG 1.1//EN\"\n  \"http://www.w3.org/Graphics/SVG/1.1/DTD/svg11.dtd\">\n<!-- Created with matplotlib (https://matplotlib.org/) -->\n<svg height=\"289.37625pt\" version=\"1.1\" viewBox=\"0 0 392.14375 289.37625\" width=\"392.14375pt\" xmlns=\"http://www.w3.org/2000/svg\" xmlns:xlink=\"http://www.w3.org/1999/xlink\">\n <metadata>\n  <rdf:RDF xmlns:cc=\"http://creativecommons.org/ns#\" xmlns:dc=\"http://purl.org/dc/elements/1.1/\" xmlns:rdf=\"http://www.w3.org/1999/02/22-rdf-syntax-ns#\">\n   <cc:Work>\n    <dc:type rdf:resource=\"http://purl.org/dc/dcmitype/StillImage\"/>\n    <dc:date>2022-01-26T05:03:19.691926</dc:date>\n    <dc:format>image/svg+xml</dc:format>\n    <dc:creator>\n     <cc:Agent>\n      <dc:title>Matplotlib v3.3.3, https://matplotlib.org/</dc:title>\n     </cc:Agent>\n    </dc:creator>\n   </cc:Work>\n  </rdf:RDF>\n </metadata>\n <defs>\n  <style type=\"text/css\">*{stroke-linecap:butt;stroke-linejoin:round;}</style>\n </defs>\n <g id=\"figure_1\">\n  <g id=\"patch_1\">\n   <path d=\"M 0 289.37625 \nL 392.14375 289.37625 \nL 392.14375 0 \nL 0 0 \nz\n\" style=\"fill:none;\"/>\n  </g>\n  <g id=\"axes_1\">\n   <g id=\"patch_2\">\n    <path d=\"M 50.14375 251.82 \nL 384.94375 251.82 \nL 384.94375 7.2 \nL 50.14375 7.2 \nz\n\" style=\"fill:#ffffff;\"/>\n   </g>\n   <g id=\"matplotlib.axis_1\">\n    <g id=\"xtick_1\">\n     <g id=\"line2d_1\">\n      <defs>\n       <path d=\"M 0 0 \nL 0 3.5 \n\" id=\"m0bffb43721\" style=\"stroke:#000000;stroke-width:0.8;\"/>\n      </defs>\n      <g>\n       <use style=\"stroke:#000000;stroke-width:0.8;\" x=\"65.361932\" xlink:href=\"#m0bffb43721\" y=\"251.82\"/>\n      </g>\n     </g>\n     <g id=\"text_1\">\n      <!-- 0 -->\n      <g transform=\"translate(62.180682 266.418437)scale(0.1 -0.1)\">\n       <defs>\n        <path d=\"M 31.78125 66.40625 \nQ 24.171875 66.40625 20.328125 58.90625 \nQ 16.5 51.421875 16.5 36.375 \nQ 16.5 21.390625 20.328125 13.890625 \nQ 24.171875 6.390625 31.78125 6.390625 \nQ 39.453125 6.390625 43.28125 13.890625 \nQ 47.125 21.390625 47.125 36.375 \nQ 47.125 51.421875 43.28125 58.90625 \nQ 39.453125 66.40625 31.78125 66.40625 \nz\nM 31.78125 74.21875 \nQ 44.046875 74.21875 50.515625 64.515625 \nQ 56.984375 54.828125 56.984375 36.375 \nQ 56.984375 17.96875 50.515625 8.265625 \nQ 44.046875 -1.421875 31.78125 -1.421875 \nQ 19.53125 -1.421875 13.0625 8.265625 \nQ 6.59375 17.96875 6.59375 36.375 \nQ 6.59375 54.828125 13.0625 64.515625 \nQ 19.53125 74.21875 31.78125 74.21875 \nz\n\" id=\"DejaVuSans-48\"/>\n       </defs>\n       <use xlink:href=\"#DejaVuSans-48\"/>\n      </g>\n     </g>\n    </g>\n    <g id=\"xtick_2\">\n     <g id=\"line2d_2\">\n      <g>\n       <use style=\"stroke:#000000;stroke-width:0.8;\" x=\"126.356649\" xlink:href=\"#m0bffb43721\" y=\"251.82\"/>\n      </g>\n     </g>\n     <g id=\"text_2\">\n      <!-- 100 -->\n      <g transform=\"translate(116.812899 266.418437)scale(0.1 -0.1)\">\n       <defs>\n        <path d=\"M 12.40625 8.296875 \nL 28.515625 8.296875 \nL 28.515625 63.921875 \nL 10.984375 60.40625 \nL 10.984375 69.390625 \nL 28.421875 72.90625 \nL 38.28125 72.90625 \nL 38.28125 8.296875 \nL 54.390625 8.296875 \nL 54.390625 0 \nL 12.40625 0 \nz\n\" id=\"DejaVuSans-49\"/>\n       </defs>\n       <use xlink:href=\"#DejaVuSans-49\"/>\n       <use x=\"63.623047\" xlink:href=\"#DejaVuSans-48\"/>\n       <use x=\"127.246094\" xlink:href=\"#DejaVuSans-48\"/>\n      </g>\n     </g>\n    </g>\n    <g id=\"xtick_3\">\n     <g id=\"line2d_3\">\n      <g>\n       <use style=\"stroke:#000000;stroke-width:0.8;\" x=\"187.351365\" xlink:href=\"#m0bffb43721\" y=\"251.82\"/>\n      </g>\n     </g>\n     <g id=\"text_3\">\n      <!-- 200 -->\n      <g transform=\"translate(177.807615 266.418437)scale(0.1 -0.1)\">\n       <defs>\n        <path d=\"M 19.1875 8.296875 \nL 53.609375 8.296875 \nL 53.609375 0 \nL 7.328125 0 \nL 7.328125 8.296875 \nQ 12.9375 14.109375 22.625 23.890625 \nQ 32.328125 33.6875 34.8125 36.53125 \nQ 39.546875 41.84375 41.421875 45.53125 \nQ 43.3125 49.21875 43.3125 52.78125 \nQ 43.3125 58.59375 39.234375 62.25 \nQ 35.15625 65.921875 28.609375 65.921875 \nQ 23.96875 65.921875 18.8125 64.3125 \nQ 13.671875 62.703125 7.8125 59.421875 \nL 7.8125 69.390625 \nQ 13.765625 71.78125 18.9375 73 \nQ 24.125 74.21875 28.421875 74.21875 \nQ 39.75 74.21875 46.484375 68.546875 \nQ 53.21875 62.890625 53.21875 53.421875 \nQ 53.21875 48.921875 51.53125 44.890625 \nQ 49.859375 40.875 45.40625 35.40625 \nQ 44.1875 33.984375 37.640625 27.21875 \nQ 31.109375 20.453125 19.1875 8.296875 \nz\n\" id=\"DejaVuSans-50\"/>\n       </defs>\n       <use xlink:href=\"#DejaVuSans-50\"/>\n       <use x=\"63.623047\" xlink:href=\"#DejaVuSans-48\"/>\n       <use x=\"127.246094\" xlink:href=\"#DejaVuSans-48\"/>\n      </g>\n     </g>\n    </g>\n    <g id=\"xtick_4\">\n     <g id=\"line2d_4\">\n      <g>\n       <use style=\"stroke:#000000;stroke-width:0.8;\" x=\"248.346082\" xlink:href=\"#m0bffb43721\" y=\"251.82\"/>\n      </g>\n     </g>\n     <g id=\"text_4\">\n      <!-- 300 -->\n      <g transform=\"translate(238.802332 266.418437)scale(0.1 -0.1)\">\n       <defs>\n        <path d=\"M 40.578125 39.3125 \nQ 47.65625 37.796875 51.625 33 \nQ 55.609375 28.21875 55.609375 21.1875 \nQ 55.609375 10.40625 48.1875 4.484375 \nQ 40.765625 -1.421875 27.09375 -1.421875 \nQ 22.515625 -1.421875 17.65625 -0.515625 \nQ 12.796875 0.390625 7.625 2.203125 \nL 7.625 11.71875 \nQ 11.71875 9.328125 16.59375 8.109375 \nQ 21.484375 6.890625 26.8125 6.890625 \nQ 36.078125 6.890625 40.9375 10.546875 \nQ 45.796875 14.203125 45.796875 21.1875 \nQ 45.796875 27.640625 41.28125 31.265625 \nQ 36.765625 34.90625 28.71875 34.90625 \nL 20.21875 34.90625 \nL 20.21875 43.015625 \nL 29.109375 43.015625 \nQ 36.375 43.015625 40.234375 45.921875 \nQ 44.09375 48.828125 44.09375 54.296875 \nQ 44.09375 59.90625 40.109375 62.90625 \nQ 36.140625 65.921875 28.71875 65.921875 \nQ 24.65625 65.921875 20.015625 65.03125 \nQ 15.375 64.15625 9.8125 62.3125 \nL 9.8125 71.09375 \nQ 15.4375 72.65625 20.34375 73.4375 \nQ 25.25 74.21875 29.59375 74.21875 \nQ 40.828125 74.21875 47.359375 69.109375 \nQ 53.90625 64.015625 53.90625 55.328125 \nQ 53.90625 49.265625 50.4375 45.09375 \nQ 46.96875 40.921875 40.578125 39.3125 \nz\n\" id=\"DejaVuSans-51\"/>\n       </defs>\n       <use xlink:href=\"#DejaVuSans-51\"/>\n       <use x=\"63.623047\" xlink:href=\"#DejaVuSans-48\"/>\n       <use x=\"127.246094\" xlink:href=\"#DejaVuSans-48\"/>\n      </g>\n     </g>\n    </g>\n    <g id=\"xtick_5\">\n     <g id=\"line2d_5\">\n      <g>\n       <use style=\"stroke:#000000;stroke-width:0.8;\" x=\"309.340799\" xlink:href=\"#m0bffb43721\" y=\"251.82\"/>\n      </g>\n     </g>\n     <g id=\"text_5\">\n      <!-- 400 -->\n      <g transform=\"translate(299.797049 266.418437)scale(0.1 -0.1)\">\n       <defs>\n        <path d=\"M 37.796875 64.3125 \nL 12.890625 25.390625 \nL 37.796875 25.390625 \nz\nM 35.203125 72.90625 \nL 47.609375 72.90625 \nL 47.609375 25.390625 \nL 58.015625 25.390625 \nL 58.015625 17.1875 \nL 47.609375 17.1875 \nL 47.609375 0 \nL 37.796875 0 \nL 37.796875 17.1875 \nL 4.890625 17.1875 \nL 4.890625 26.703125 \nz\n\" id=\"DejaVuSans-52\"/>\n       </defs>\n       <use xlink:href=\"#DejaVuSans-52\"/>\n       <use x=\"63.623047\" xlink:href=\"#DejaVuSans-48\"/>\n       <use x=\"127.246094\" xlink:href=\"#DejaVuSans-48\"/>\n      </g>\n     </g>\n    </g>\n    <g id=\"xtick_6\">\n     <g id=\"line2d_6\">\n      <g>\n       <use style=\"stroke:#000000;stroke-width:0.8;\" x=\"370.335515\" xlink:href=\"#m0bffb43721\" y=\"251.82\"/>\n      </g>\n     </g>\n     <g id=\"text_6\">\n      <!-- 500 -->\n      <g transform=\"translate(360.791765 266.418437)scale(0.1 -0.1)\">\n       <defs>\n        <path d=\"M 10.796875 72.90625 \nL 49.515625 72.90625 \nL 49.515625 64.59375 \nL 19.828125 64.59375 \nL 19.828125 46.734375 \nQ 21.96875 47.46875 24.109375 47.828125 \nQ 26.265625 48.1875 28.421875 48.1875 \nQ 40.625 48.1875 47.75 41.5 \nQ 54.890625 34.8125 54.890625 23.390625 \nQ 54.890625 11.625 47.5625 5.09375 \nQ 40.234375 -1.421875 26.90625 -1.421875 \nQ 22.3125 -1.421875 17.546875 -0.640625 \nQ 12.796875 0.140625 7.71875 1.703125 \nL 7.71875 11.625 \nQ 12.109375 9.234375 16.796875 8.0625 \nQ 21.484375 6.890625 26.703125 6.890625 \nQ 35.15625 6.890625 40.078125 11.328125 \nQ 45.015625 15.765625 45.015625 23.390625 \nQ 45.015625 31 40.078125 35.4375 \nQ 35.15625 39.890625 26.703125 39.890625 \nQ 22.75 39.890625 18.8125 39.015625 \nQ 14.890625 38.140625 10.796875 36.28125 \nz\n\" id=\"DejaVuSans-53\"/>\n       </defs>\n       <use xlink:href=\"#DejaVuSans-53\"/>\n       <use x=\"63.623047\" xlink:href=\"#DejaVuSans-48\"/>\n       <use x=\"127.246094\" xlink:href=\"#DejaVuSans-48\"/>\n      </g>\n     </g>\n    </g>\n    <g id=\"text_7\">\n     <!-- Groups of experiments -->\n     <g transform=\"translate(160.397656 280.096562)scale(0.1 -0.1)\">\n      <defs>\n       <path d=\"M 59.515625 10.40625 \nL 59.515625 29.984375 \nL 43.40625 29.984375 \nL 43.40625 38.09375 \nL 69.28125 38.09375 \nL 69.28125 6.78125 \nQ 63.578125 2.734375 56.6875 0.65625 \nQ 49.8125 -1.421875 42 -1.421875 \nQ 24.90625 -1.421875 15.25 8.5625 \nQ 5.609375 18.5625 5.609375 36.375 \nQ 5.609375 54.25 15.25 64.234375 \nQ 24.90625 74.21875 42 74.21875 \nQ 49.125 74.21875 55.546875 72.453125 \nQ 61.96875 70.703125 67.390625 67.28125 \nL 67.390625 56.78125 \nQ 61.921875 61.421875 55.765625 63.765625 \nQ 49.609375 66.109375 42.828125 66.109375 \nQ 29.4375 66.109375 22.71875 58.640625 \nQ 16.015625 51.171875 16.015625 36.375 \nQ 16.015625 21.625 22.71875 14.15625 \nQ 29.4375 6.6875 42.828125 6.6875 \nQ 48.046875 6.6875 52.140625 7.59375 \nQ 56.25 8.5 59.515625 10.40625 \nz\n\" id=\"DejaVuSans-71\"/>\n       <path d=\"M 41.109375 46.296875 \nQ 39.59375 47.171875 37.8125 47.578125 \nQ 36.03125 48 33.890625 48 \nQ 26.265625 48 22.1875 43.046875 \nQ 18.109375 38.09375 18.109375 28.8125 \nL 18.109375 0 \nL 9.078125 0 \nL 9.078125 54.6875 \nL 18.109375 54.6875 \nL 18.109375 46.1875 \nQ 20.953125 51.171875 25.484375 53.578125 \nQ 30.03125 56 36.53125 56 \nQ 37.453125 56 38.578125 55.875 \nQ 39.703125 55.765625 41.0625 55.515625 \nz\n\" id=\"DejaVuSans-114\"/>\n       <path d=\"M 30.609375 48.390625 \nQ 23.390625 48.390625 19.1875 42.75 \nQ 14.984375 37.109375 14.984375 27.296875 \nQ 14.984375 17.484375 19.15625 11.84375 \nQ 23.34375 6.203125 30.609375 6.203125 \nQ 37.796875 6.203125 41.984375 11.859375 \nQ 46.1875 17.53125 46.1875 27.296875 \nQ 46.1875 37.015625 41.984375 42.703125 \nQ 37.796875 48.390625 30.609375 48.390625 \nz\nM 30.609375 56 \nQ 42.328125 56 49.015625 48.375 \nQ 55.71875 40.765625 55.71875 27.296875 \nQ 55.71875 13.875 49.015625 6.21875 \nQ 42.328125 -1.421875 30.609375 -1.421875 \nQ 18.84375 -1.421875 12.171875 6.21875 \nQ 5.515625 13.875 5.515625 27.296875 \nQ 5.515625 40.765625 12.171875 48.375 \nQ 18.84375 56 30.609375 56 \nz\n\" id=\"DejaVuSans-111\"/>\n       <path d=\"M 8.5 21.578125 \nL 8.5 54.6875 \nL 17.484375 54.6875 \nL 17.484375 21.921875 \nQ 17.484375 14.15625 20.5 10.265625 \nQ 23.53125 6.390625 29.59375 6.390625 \nQ 36.859375 6.390625 41.078125 11.03125 \nQ 45.3125 15.671875 45.3125 23.6875 \nL 45.3125 54.6875 \nL 54.296875 54.6875 \nL 54.296875 0 \nL 45.3125 0 \nL 45.3125 8.40625 \nQ 42.046875 3.421875 37.71875 1 \nQ 33.40625 -1.421875 27.6875 -1.421875 \nQ 18.265625 -1.421875 13.375 4.4375 \nQ 8.5 10.296875 8.5 21.578125 \nz\nM 31.109375 56 \nz\n\" id=\"DejaVuSans-117\"/>\n       <path d=\"M 18.109375 8.203125 \nL 18.109375 -20.796875 \nL 9.078125 -20.796875 \nL 9.078125 54.6875 \nL 18.109375 54.6875 \nL 18.109375 46.390625 \nQ 20.953125 51.265625 25.265625 53.625 \nQ 29.59375 56 35.59375 56 \nQ 45.5625 56 51.78125 48.09375 \nQ 58.015625 40.1875 58.015625 27.296875 \nQ 58.015625 14.40625 51.78125 6.484375 \nQ 45.5625 -1.421875 35.59375 -1.421875 \nQ 29.59375 -1.421875 25.265625 0.953125 \nQ 20.953125 3.328125 18.109375 8.203125 \nz\nM 48.6875 27.296875 \nQ 48.6875 37.203125 44.609375 42.84375 \nQ 40.53125 48.484375 33.40625 48.484375 \nQ 26.265625 48.484375 22.1875 42.84375 \nQ 18.109375 37.203125 18.109375 27.296875 \nQ 18.109375 17.390625 22.1875 11.75 \nQ 26.265625 6.109375 33.40625 6.109375 \nQ 40.53125 6.109375 44.609375 11.75 \nQ 48.6875 17.390625 48.6875 27.296875 \nz\n\" id=\"DejaVuSans-112\"/>\n       <path d=\"M 44.28125 53.078125 \nL 44.28125 44.578125 \nQ 40.484375 46.53125 36.375 47.5 \nQ 32.28125 48.484375 27.875 48.484375 \nQ 21.1875 48.484375 17.84375 46.4375 \nQ 14.5 44.390625 14.5 40.28125 \nQ 14.5 37.15625 16.890625 35.375 \nQ 19.28125 33.59375 26.515625 31.984375 \nL 29.59375 31.296875 \nQ 39.15625 29.25 43.1875 25.515625 \nQ 47.21875 21.78125 47.21875 15.09375 \nQ 47.21875 7.46875 41.1875 3.015625 \nQ 35.15625 -1.421875 24.609375 -1.421875 \nQ 20.21875 -1.421875 15.453125 -0.5625 \nQ 10.6875 0.296875 5.421875 2 \nL 5.421875 11.28125 \nQ 10.40625 8.6875 15.234375 7.390625 \nQ 20.0625 6.109375 24.8125 6.109375 \nQ 31.15625 6.109375 34.5625 8.28125 \nQ 37.984375 10.453125 37.984375 14.40625 \nQ 37.984375 18.0625 35.515625 20.015625 \nQ 33.0625 21.96875 24.703125 23.78125 \nL 21.578125 24.515625 \nQ 13.234375 26.265625 9.515625 29.90625 \nQ 5.8125 33.546875 5.8125 39.890625 \nQ 5.8125 47.609375 11.28125 51.796875 \nQ 16.75 56 26.8125 56 \nQ 31.78125 56 36.171875 55.265625 \nQ 40.578125 54.546875 44.28125 53.078125 \nz\n\" id=\"DejaVuSans-115\"/>\n       <path id=\"DejaVuSans-32\"/>\n       <path d=\"M 37.109375 75.984375 \nL 37.109375 68.5 \nL 28.515625 68.5 \nQ 23.6875 68.5 21.796875 66.546875 \nQ 19.921875 64.59375 19.921875 59.515625 \nL 19.921875 54.6875 \nL 34.71875 54.6875 \nL 34.71875 47.703125 \nL 19.921875 47.703125 \nL 19.921875 0 \nL 10.890625 0 \nL 10.890625 47.703125 \nL 2.296875 47.703125 \nL 2.296875 54.6875 \nL 10.890625 54.6875 \nL 10.890625 58.5 \nQ 10.890625 67.625 15.140625 71.796875 \nQ 19.390625 75.984375 28.609375 75.984375 \nz\n\" id=\"DejaVuSans-102\"/>\n       <path d=\"M 56.203125 29.59375 \nL 56.203125 25.203125 \nL 14.890625 25.203125 \nQ 15.484375 15.921875 20.484375 11.0625 \nQ 25.484375 6.203125 34.421875 6.203125 \nQ 39.59375 6.203125 44.453125 7.46875 \nQ 49.3125 8.734375 54.109375 11.28125 \nL 54.109375 2.78125 \nQ 49.265625 0.734375 44.1875 -0.34375 \nQ 39.109375 -1.421875 33.890625 -1.421875 \nQ 20.796875 -1.421875 13.15625 6.1875 \nQ 5.515625 13.8125 5.515625 26.8125 \nQ 5.515625 40.234375 12.765625 48.109375 \nQ 20.015625 56 32.328125 56 \nQ 43.359375 56 49.78125 48.890625 \nQ 56.203125 41.796875 56.203125 29.59375 \nz\nM 47.21875 32.234375 \nQ 47.125 39.59375 43.09375 43.984375 \nQ 39.0625 48.390625 32.421875 48.390625 \nQ 24.90625 48.390625 20.390625 44.140625 \nQ 15.875 39.890625 15.1875 32.171875 \nz\n\" id=\"DejaVuSans-101\"/>\n       <path d=\"M 54.890625 54.6875 \nL 35.109375 28.078125 \nL 55.90625 0 \nL 45.3125 0 \nL 29.390625 21.484375 \nL 13.484375 0 \nL 2.875 0 \nL 24.125 28.609375 \nL 4.6875 54.6875 \nL 15.28125 54.6875 \nL 29.78125 35.203125 \nL 44.28125 54.6875 \nz\n\" id=\"DejaVuSans-120\"/>\n       <path d=\"M 9.421875 54.6875 \nL 18.40625 54.6875 \nL 18.40625 0 \nL 9.421875 0 \nz\nM 9.421875 75.984375 \nL 18.40625 75.984375 \nL 18.40625 64.59375 \nL 9.421875 64.59375 \nz\n\" id=\"DejaVuSans-105\"/>\n       <path d=\"M 52 44.1875 \nQ 55.375 50.25 60.0625 53.125 \nQ 64.75 56 71.09375 56 \nQ 79.640625 56 84.28125 50.015625 \nQ 88.921875 44.046875 88.921875 33.015625 \nL 88.921875 0 \nL 79.890625 0 \nL 79.890625 32.71875 \nQ 79.890625 40.578125 77.09375 44.375 \nQ 74.3125 48.1875 68.609375 48.1875 \nQ 61.625 48.1875 57.5625 43.546875 \nQ 53.515625 38.921875 53.515625 30.90625 \nL 53.515625 0 \nL 44.484375 0 \nL 44.484375 32.71875 \nQ 44.484375 40.625 41.703125 44.40625 \nQ 38.921875 48.1875 33.109375 48.1875 \nQ 26.21875 48.1875 22.15625 43.53125 \nQ 18.109375 38.875 18.109375 30.90625 \nL 18.109375 0 \nL 9.078125 0 \nL 9.078125 54.6875 \nL 18.109375 54.6875 \nL 18.109375 46.1875 \nQ 21.1875 51.21875 25.484375 53.609375 \nQ 29.78125 56 35.6875 56 \nQ 41.65625 56 45.828125 52.96875 \nQ 50 49.953125 52 44.1875 \nz\n\" id=\"DejaVuSans-109\"/>\n       <path d=\"M 54.890625 33.015625 \nL 54.890625 0 \nL 45.90625 0 \nL 45.90625 32.71875 \nQ 45.90625 40.484375 42.875 44.328125 \nQ 39.84375 48.1875 33.796875 48.1875 \nQ 26.515625 48.1875 22.3125 43.546875 \nQ 18.109375 38.921875 18.109375 30.90625 \nL 18.109375 0 \nL 9.078125 0 \nL 9.078125 54.6875 \nL 18.109375 54.6875 \nL 18.109375 46.1875 \nQ 21.34375 51.125 25.703125 53.5625 \nQ 30.078125 56 35.796875 56 \nQ 45.21875 56 50.046875 50.171875 \nQ 54.890625 44.34375 54.890625 33.015625 \nz\n\" id=\"DejaVuSans-110\"/>\n       <path d=\"M 18.3125 70.21875 \nL 18.3125 54.6875 \nL 36.8125 54.6875 \nL 36.8125 47.703125 \nL 18.3125 47.703125 \nL 18.3125 18.015625 \nQ 18.3125 11.328125 20.140625 9.421875 \nQ 21.96875 7.515625 27.59375 7.515625 \nL 36.8125 7.515625 \nL 36.8125 0 \nL 27.59375 0 \nQ 17.1875 0 13.234375 3.875 \nQ 9.28125 7.765625 9.28125 18.015625 \nL 9.28125 47.703125 \nL 2.6875 47.703125 \nL 2.6875 54.6875 \nL 9.28125 54.6875 \nL 9.28125 70.21875 \nz\n\" id=\"DejaVuSans-116\"/>\n      </defs>\n      <use xlink:href=\"#DejaVuSans-71\"/>\n      <use x=\"77.490234\" xlink:href=\"#DejaVuSans-114\"/>\n      <use x=\"116.353516\" xlink:href=\"#DejaVuSans-111\"/>\n      <use x=\"177.535156\" xlink:href=\"#DejaVuSans-117\"/>\n      <use x=\"240.914062\" xlink:href=\"#DejaVuSans-112\"/>\n      <use x=\"304.390625\" xlink:href=\"#DejaVuSans-115\"/>\n      <use x=\"356.490234\" xlink:href=\"#DejaVuSans-32\"/>\n      <use x=\"388.277344\" xlink:href=\"#DejaVuSans-111\"/>\n      <use x=\"449.458984\" xlink:href=\"#DejaVuSans-102\"/>\n      <use x=\"484.664062\" xlink:href=\"#DejaVuSans-32\"/>\n      <use x=\"516.451172\" xlink:href=\"#DejaVuSans-101\"/>\n      <use x=\"576.224609\" xlink:href=\"#DejaVuSans-120\"/>\n      <use x=\"635.404297\" xlink:href=\"#DejaVuSans-112\"/>\n      <use x=\"698.880859\" xlink:href=\"#DejaVuSans-101\"/>\n      <use x=\"760.404297\" xlink:href=\"#DejaVuSans-114\"/>\n      <use x=\"801.517578\" xlink:href=\"#DejaVuSans-105\"/>\n      <use x=\"829.300781\" xlink:href=\"#DejaVuSans-109\"/>\n      <use x=\"926.712891\" xlink:href=\"#DejaVuSans-101\"/>\n      <use x=\"988.236328\" xlink:href=\"#DejaVuSans-110\"/>\n      <use x=\"1051.615234\" xlink:href=\"#DejaVuSans-116\"/>\n      <use x=\"1090.824219\" xlink:href=\"#DejaVuSans-115\"/>\n     </g>\n    </g>\n   </g>\n   <g id=\"matplotlib.axis_2\">\n    <g id=\"ytick_1\">\n     <g id=\"line2d_7\">\n      <defs>\n       <path d=\"M 0 0 \nL -3.5 0 \n\" id=\"m9ce226699c\" style=\"stroke:#000000;stroke-width:0.8;\"/>\n      </defs>\n      <g>\n       <use style=\"stroke:#000000;stroke-width:0.8;\" x=\"50.14375\" xlink:href=\"#m9ce226699c\" y=\"240.700909\"/>\n      </g>\n     </g>\n     <g id=\"text_8\">\n      <!-- 0.00 -->\n      <g transform=\"translate(20.878125 244.500128)scale(0.1 -0.1)\">\n       <defs>\n        <path d=\"M 10.6875 12.40625 \nL 21 12.40625 \nL 21 0 \nL 10.6875 0 \nz\n\" id=\"DejaVuSans-46\"/>\n       </defs>\n       <use xlink:href=\"#DejaVuSans-48\"/>\n       <use x=\"63.623047\" xlink:href=\"#DejaVuSans-46\"/>\n       <use x=\"95.410156\" xlink:href=\"#DejaVuSans-48\"/>\n       <use x=\"159.033203\" xlink:href=\"#DejaVuSans-48\"/>\n      </g>\n     </g>\n    </g>\n    <g id=\"ytick_2\">\n     <g id=\"line2d_8\">\n      <g>\n       <use style=\"stroke:#000000;stroke-width:0.8;\" x=\"50.14375\" xlink:href=\"#m9ce226699c\" y=\"203.637274\"/>\n      </g>\n     </g>\n     <g id=\"text_9\">\n      <!-- 0.05 -->\n      <g transform=\"translate(20.878125 207.436493)scale(0.1 -0.1)\">\n       <use xlink:href=\"#DejaVuSans-48\"/>\n       <use x=\"63.623047\" xlink:href=\"#DejaVuSans-46\"/>\n       <use x=\"95.410156\" xlink:href=\"#DejaVuSans-48\"/>\n       <use x=\"159.033203\" xlink:href=\"#DejaVuSans-53\"/>\n      </g>\n     </g>\n    </g>\n    <g id=\"ytick_3\">\n     <g id=\"line2d_9\">\n      <g>\n       <use style=\"stroke:#000000;stroke-width:0.8;\" x=\"50.14375\" xlink:href=\"#m9ce226699c\" y=\"166.573639\"/>\n      </g>\n     </g>\n     <g id=\"text_10\">\n      <!-- 0.10 -->\n      <g transform=\"translate(20.878125 170.372858)scale(0.1 -0.1)\">\n       <use xlink:href=\"#DejaVuSans-48\"/>\n       <use x=\"63.623047\" xlink:href=\"#DejaVuSans-46\"/>\n       <use x=\"95.410156\" xlink:href=\"#DejaVuSans-49\"/>\n       <use x=\"159.033203\" xlink:href=\"#DejaVuSans-48\"/>\n      </g>\n     </g>\n    </g>\n    <g id=\"ytick_4\">\n     <g id=\"line2d_10\">\n      <g>\n       <use style=\"stroke:#000000;stroke-width:0.8;\" x=\"50.14375\" xlink:href=\"#m9ce226699c\" y=\"129.510004\"/>\n      </g>\n     </g>\n     <g id=\"text_11\">\n      <!-- 0.15 -->\n      <g transform=\"translate(20.878125 133.309223)scale(0.1 -0.1)\">\n       <use xlink:href=\"#DejaVuSans-48\"/>\n       <use x=\"63.623047\" xlink:href=\"#DejaVuSans-46\"/>\n       <use x=\"95.410156\" xlink:href=\"#DejaVuSans-49\"/>\n       <use x=\"159.033203\" xlink:href=\"#DejaVuSans-53\"/>\n      </g>\n     </g>\n    </g>\n    <g id=\"ytick_5\">\n     <g id=\"line2d_11\">\n      <g>\n       <use style=\"stroke:#000000;stroke-width:0.8;\" x=\"50.14375\" xlink:href=\"#m9ce226699c\" y=\"92.44637\"/>\n      </g>\n     </g>\n     <g id=\"text_12\">\n      <!-- 0.20 -->\n      <g transform=\"translate(20.878125 96.245588)scale(0.1 -0.1)\">\n       <use xlink:href=\"#DejaVuSans-48\"/>\n       <use x=\"63.623047\" xlink:href=\"#DejaVuSans-46\"/>\n       <use x=\"95.410156\" xlink:href=\"#DejaVuSans-50\"/>\n       <use x=\"159.033203\" xlink:href=\"#DejaVuSans-48\"/>\n      </g>\n     </g>\n    </g>\n    <g id=\"ytick_6\">\n     <g id=\"line2d_12\">\n      <g>\n       <use style=\"stroke:#000000;stroke-width:0.8;\" x=\"50.14375\" xlink:href=\"#m9ce226699c\" y=\"55.382735\"/>\n      </g>\n     </g>\n     <g id=\"text_13\">\n      <!-- 0.25 -->\n      <g transform=\"translate(20.878125 59.181953)scale(0.1 -0.1)\">\n       <use xlink:href=\"#DejaVuSans-48\"/>\n       <use x=\"63.623047\" xlink:href=\"#DejaVuSans-46\"/>\n       <use x=\"95.410156\" xlink:href=\"#DejaVuSans-50\"/>\n       <use x=\"159.033203\" xlink:href=\"#DejaVuSans-53\"/>\n      </g>\n     </g>\n    </g>\n    <g id=\"ytick_7\">\n     <g id=\"line2d_13\">\n      <g>\n       <use style=\"stroke:#000000;stroke-width:0.8;\" x=\"50.14375\" xlink:href=\"#m9ce226699c\" y=\"18.3191\"/>\n      </g>\n     </g>\n     <g id=\"text_14\">\n      <!-- 0.30 -->\n      <g transform=\"translate(20.878125 22.118318)scale(0.1 -0.1)\">\n       <use xlink:href=\"#DejaVuSans-48\"/>\n       <use x=\"63.623047\" xlink:href=\"#DejaVuSans-46\"/>\n       <use x=\"95.410156\" xlink:href=\"#DejaVuSans-51\"/>\n       <use x=\"159.033203\" xlink:href=\"#DejaVuSans-48\"/>\n      </g>\n     </g>\n    </g>\n    <g id=\"text_15\">\n     <!-- Estimated probability -->\n     <g transform=\"translate(14.798438 183.033437)rotate(-90)scale(0.1 -0.1)\">\n      <defs>\n       <path d=\"M 9.8125 72.90625 \nL 55.90625 72.90625 \nL 55.90625 64.59375 \nL 19.671875 64.59375 \nL 19.671875 43.015625 \nL 54.390625 43.015625 \nL 54.390625 34.71875 \nL 19.671875 34.71875 \nL 19.671875 8.296875 \nL 56.78125 8.296875 \nL 56.78125 0 \nL 9.8125 0 \nz\n\" id=\"DejaVuSans-69\"/>\n       <path d=\"M 34.28125 27.484375 \nQ 23.390625 27.484375 19.1875 25 \nQ 14.984375 22.515625 14.984375 16.5 \nQ 14.984375 11.71875 18.140625 8.90625 \nQ 21.296875 6.109375 26.703125 6.109375 \nQ 34.1875 6.109375 38.703125 11.40625 \nQ 43.21875 16.703125 43.21875 25.484375 \nL 43.21875 27.484375 \nz\nM 52.203125 31.203125 \nL 52.203125 0 \nL 43.21875 0 \nL 43.21875 8.296875 \nQ 40.140625 3.328125 35.546875 0.953125 \nQ 30.953125 -1.421875 24.3125 -1.421875 \nQ 15.921875 -1.421875 10.953125 3.296875 \nQ 6 8.015625 6 15.921875 \nQ 6 25.140625 12.171875 29.828125 \nQ 18.359375 34.515625 30.609375 34.515625 \nL 43.21875 34.515625 \nL 43.21875 35.40625 \nQ 43.21875 41.609375 39.140625 45 \nQ 35.0625 48.390625 27.6875 48.390625 \nQ 23 48.390625 18.546875 47.265625 \nQ 14.109375 46.140625 10.015625 43.890625 \nL 10.015625 52.203125 \nQ 14.9375 54.109375 19.578125 55.046875 \nQ 24.21875 56 28.609375 56 \nQ 40.484375 56 46.34375 49.84375 \nQ 52.203125 43.703125 52.203125 31.203125 \nz\n\" id=\"DejaVuSans-97\"/>\n       <path d=\"M 45.40625 46.390625 \nL 45.40625 75.984375 \nL 54.390625 75.984375 \nL 54.390625 0 \nL 45.40625 0 \nL 45.40625 8.203125 \nQ 42.578125 3.328125 38.25 0.953125 \nQ 33.9375 -1.421875 27.875 -1.421875 \nQ 17.96875 -1.421875 11.734375 6.484375 \nQ 5.515625 14.40625 5.515625 27.296875 \nQ 5.515625 40.1875 11.734375 48.09375 \nQ 17.96875 56 27.875 56 \nQ 33.9375 56 38.25 53.625 \nQ 42.578125 51.265625 45.40625 46.390625 \nz\nM 14.796875 27.296875 \nQ 14.796875 17.390625 18.875 11.75 \nQ 22.953125 6.109375 30.078125 6.109375 \nQ 37.203125 6.109375 41.296875 11.75 \nQ 45.40625 17.390625 45.40625 27.296875 \nQ 45.40625 37.203125 41.296875 42.84375 \nQ 37.203125 48.484375 30.078125 48.484375 \nQ 22.953125 48.484375 18.875 42.84375 \nQ 14.796875 37.203125 14.796875 27.296875 \nz\n\" id=\"DejaVuSans-100\"/>\n       <path d=\"M 48.6875 27.296875 \nQ 48.6875 37.203125 44.609375 42.84375 \nQ 40.53125 48.484375 33.40625 48.484375 \nQ 26.265625 48.484375 22.1875 42.84375 \nQ 18.109375 37.203125 18.109375 27.296875 \nQ 18.109375 17.390625 22.1875 11.75 \nQ 26.265625 6.109375 33.40625 6.109375 \nQ 40.53125 6.109375 44.609375 11.75 \nQ 48.6875 17.390625 48.6875 27.296875 \nz\nM 18.109375 46.390625 \nQ 20.953125 51.265625 25.265625 53.625 \nQ 29.59375 56 35.59375 56 \nQ 45.5625 56 51.78125 48.09375 \nQ 58.015625 40.1875 58.015625 27.296875 \nQ 58.015625 14.40625 51.78125 6.484375 \nQ 45.5625 -1.421875 35.59375 -1.421875 \nQ 29.59375 -1.421875 25.265625 0.953125 \nQ 20.953125 3.328125 18.109375 8.203125 \nL 18.109375 0 \nL 9.078125 0 \nL 9.078125 75.984375 \nL 18.109375 75.984375 \nz\n\" id=\"DejaVuSans-98\"/>\n       <path d=\"M 9.421875 75.984375 \nL 18.40625 75.984375 \nL 18.40625 0 \nL 9.421875 0 \nz\n\" id=\"DejaVuSans-108\"/>\n       <path d=\"M 32.171875 -5.078125 \nQ 28.375 -14.84375 24.75 -17.8125 \nQ 21.140625 -20.796875 15.09375 -20.796875 \nL 7.90625 -20.796875 \nL 7.90625 -13.28125 \nL 13.1875 -13.28125 \nQ 16.890625 -13.28125 18.9375 -11.515625 \nQ 21 -9.765625 23.484375 -3.21875 \nL 25.09375 0.875 \nL 2.984375 54.6875 \nL 12.5 54.6875 \nL 29.59375 11.921875 \nL 46.6875 54.6875 \nL 56.203125 54.6875 \nz\n\" id=\"DejaVuSans-121\"/>\n      </defs>\n      <use xlink:href=\"#DejaVuSans-69\"/>\n      <use x=\"63.183594\" xlink:href=\"#DejaVuSans-115\"/>\n      <use x=\"115.283203\" xlink:href=\"#DejaVuSans-116\"/>\n      <use x=\"154.492188\" xlink:href=\"#DejaVuSans-105\"/>\n      <use x=\"182.275391\" xlink:href=\"#DejaVuSans-109\"/>\n      <use x=\"279.6875\" xlink:href=\"#DejaVuSans-97\"/>\n      <use x=\"340.966797\" xlink:href=\"#DejaVuSans-116\"/>\n      <use x=\"380.175781\" xlink:href=\"#DejaVuSans-101\"/>\n      <use x=\"441.699219\" xlink:href=\"#DejaVuSans-100\"/>\n      <use x=\"505.175781\" xlink:href=\"#DejaVuSans-32\"/>\n      <use x=\"536.962891\" xlink:href=\"#DejaVuSans-112\"/>\n      <use x=\"600.439453\" xlink:href=\"#DejaVuSans-114\"/>\n      <use x=\"639.302734\" xlink:href=\"#DejaVuSans-111\"/>\n      <use x=\"700.484375\" xlink:href=\"#DejaVuSans-98\"/>\n      <use x=\"763.960938\" xlink:href=\"#DejaVuSans-97\"/>\n      <use x=\"825.240234\" xlink:href=\"#DejaVuSans-98\"/>\n      <use x=\"888.716797\" xlink:href=\"#DejaVuSans-105\"/>\n      <use x=\"916.5\" xlink:href=\"#DejaVuSans-108\"/>\n      <use x=\"944.283203\" xlink:href=\"#DejaVuSans-105\"/>\n      <use x=\"972.066406\" xlink:href=\"#DejaVuSans-116\"/>\n      <use x=\"1011.275391\" xlink:href=\"#DejaVuSans-121\"/>\n     </g>\n    </g>\n   </g>\n   <g id=\"line2d_14\">\n    <path clip-path=\"url(#pe0cb1d40b2)\" d=\"M 65.361932 240.700909 \nL 65.971879 166.573638 \nL 66.581826 191.282727 \nL 67.191773 166.573638 \nL 67.80172 166.573638 \nL 68.411668 154.219094 \nL 69.021615 155.984029 \nL 69.631562 148.041822 \nL 70.241509 158.337275 \nL 70.851456 136.922731 \nL 71.461403 126.140582 \nL 72.071351 135.687278 \nL 72.681298 132.361049 \nL 73.291245 134.804805 \nL 73.901192 127.039093 \nL 74.511139 134.142961 \nL 75.121086 136.050641 \nL 75.731034 133.628181 \nL 76.340981 123.657856 \nL 77.560875 120.685326 \nL 78.170822 112.662898 \nL 78.780769 108.560998 \nL 79.390717 107.889556 \nL 80.610611 112.403708 \nL 81.220558 108.919093 \nL 81.830505 110.978189 \nL 82.440452 115.451383 \nL 83.0504 114.684549 \nL 83.660347 109.184789 \nL 84.270294 110.978189 \nL 84.880241 108.170341 \nL 85.490188 109.888077 \nL 86.100135 107.271818 \nL 86.710083 110.978189 \nL 87.32003 112.480764 \nL 87.929977 115.854976 \nL 89.149871 118.390909 \nL 89.759819 115.950135 \nL 90.979713 114.856941 \nL 91.58966 117.717025 \nL 92.199607 117.155456 \nL 94.029449 120.2441 \nL 94.639396 121.189601 \nL 95.249343 117.649646 \nL 97.079185 116.223045 \nL 97.689132 117.155456 \nL 100.12892 115.451383 \nL 100.738868 116.317862 \nL 101.958762 115.535188 \nL 102.568709 112.771589 \nL 103.178656 112.448963 \nL 103.788603 113.294664 \nL 104.398551 115.254757 \nL 105.008498 116.032316 \nL 105.618445 115.680286 \nL 106.228392 114.248504 \nL 106.838339 116.08115 \nL 107.448286 115.743512 \nL 108.668181 117.155456 \nL 109.278128 116.816979 \nL 109.888075 117.489371 \nL 110.498022 117.155456 \nL 111.107969 117.805701 \nL 111.717917 117.476359 \nL 112.327864 118.105805 \nL 112.937811 116.842682 \nL 113.547758 116.537729 \nL 114.157705 118.070613 \nL 115.987547 117.155456 \nL 116.597494 115.992684 \nL 117.207441 113.994991 \nL 117.817388 113.747311 \nL 118.427335 114.347607 \nL 119.037283 113.26864 \nL 120.257177 116.069342 \nL 121.477071 113.967189 \nL 122.087018 114.526837 \nL 122.696966 114.294411 \nL 123.306913 114.838981 \nL 123.91686 116.136523 \nL 125.136754 115.65794 \nL 126.356649 116.66617 \nL 126.966596 116.428718 \nL 127.576543 117.635242 \nL 128.18649 116.680287 \nL 128.796437 117.155456 \nL 129.406384 116.223045 \nL 130.016332 116.000825 \nL 130.626279 117.155456 \nL 131.236226 115.568635 \nL 131.846173 115.358433 \nL 132.45612 116.487647 \nL 133.066067 116.934838 \nL 134.285962 115.204741 \nL 136.72575 114.433268 \nL 137.335698 114.871422 \nL 138.555592 114.500769 \nL 139.165539 113.712384 \nL 139.775486 112.334175 \nL 140.385433 112.173789 \nL 140.995381 112.608984 \nL 141.605328 112.448963 \nL 142.825222 114.452907 \nL 143.435169 114.856941 \nL 144.045116 115.824975 \nL 144.655064 115.080652 \nL 145.265011 116.032316 \nL 145.874958 116.412326 \nL 147.094852 116.05728 \nL 147.704799 116.428718 \nL 148.924694 116.08115 \nL 149.534641 116.444403 \nL 150.754535 114.001111 \nL 151.97443 113.699637 \nL 153.194324 112.384046 \nL 153.804271 112.247487 \nL 156.24406 115.672918 \nL 158.073901 116.670964 \nL 158.683848 117.476359 \nL 159.903743 118.105805 \nL 161.123637 116.842682 \nL 161.733584 116.689256 \nL 162.343531 117.001024 \nL 162.953479 116.388091 \nL 163.563426 115.325152 \nL 164.173373 115.184792 \nL 166.003214 116.113514 \nL 166.613162 116.859538 \nL 167.223109 116.71423 \nL 167.833056 117.447872 \nL 170.272845 118.583736 \nL 171.492739 119.979354 \nL 173.32258 120.764657 \nL 176.372316 119.99093 \nL 177.592211 118.891771 \nL 178.202158 119.546667 \nL 178.812105 119.401746 \nL 179.422052 118.469776 \nL 180.031999 119.116498 \nL 180.641946 119.366277 \nL 181.251894 119.225333 \nL 181.861841 118.699772 \nL 183.081735 119.193322 \nL 183.691682 118.676024 \nL 184.911577 118.409731 \nL 186.131471 118.893792 \nL 186.741418 118.390909 \nL 187.351365 118.261839 \nL 187.961312 118.867967 \nL 188.57126 118.372661 \nL 189.181207 118.245568 \nL 190.401101 119.434452 \nL 191.011048 119.662184 \nL 191.620995 118.105805 \nL 192.84089 117.155456 \nL 193.450837 116.335723 \nL 194.060784 116.5727 \nL 197.11052 116.016797 \nL 197.720467 116.248704 \nL 199.550309 115.925592 \nL 200.160256 116.153743 \nL 200.770203 115.715014 \nL 201.38015 115.942072 \nL 201.990097 115.837645 \nL 202.600044 116.06214 \nL 203.209992 115.9581 \nL 203.819939 116.180098 \nL 204.429886 115.42906 \nL 205.039833 115.651423 \nL 205.64978 116.192768 \nL 206.259727 116.090417 \nL 206.869675 116.625223 \nL 208.089569 117.050311 \nL 209.309463 116.842682 \nL 211.139305 117.464319 \nL 211.749252 117.975674 \nL 212.969146 117.155456 \nL 213.579093 117.357992 \nL 214.189041 117.256315 \nL 214.798988 116.552796 \nL 215.408935 117.055425 \nL 216.018882 117.255089 \nL 217.238776 116.463601 \nL 217.848724 116.663243 \nL 219.068618 115.885827 \nL 220.898459 115.611139 \nL 221.508407 115.809434 \nL 222.118354 115.431567 \nL 222.728301 115.915231 \nL 223.338248 116.110079 \nL 223.948195 116.019404 \nL 224.558142 116.212363 \nL 225.16809 115.840152 \nL 225.778037 115.751532 \nL 226.387984 115.94332 \nL 226.997931 116.412326 \nL 228.217825 116.233483 \nL 228.827773 116.420621 \nL 229.43772 116.331824 \nL 230.047667 116.517217 \nL 230.657614 116.156195 \nL 232.487456 116.7062 \nL 233.097403 116.618308 \nL 233.70735 116.798654 \nL 234.317297 117.244342 \nL 237.367033 118.115879 \nL 237.97698 118.025502 \nL 238.586927 118.19584 \nL 239.806822 117.499842 \nL 241.026716 117.326456 \nL 241.636663 116.985052 \nL 242.24661 117.155456 \nL 242.856557 116.563123 \nL 243.466505 116.48081 \nL 244.076452 116.146928 \nL 245.296346 116.487647 \nL 245.906293 116.157112 \nL 246.51624 116.32629 \nL 247.126188 116.742265 \nL 250.785871 116.264312 \nL 251.395818 115.70198 \nL 252.005765 115.626228 \nL 252.615712 116.032316 \nL 253.835606 116.358389 \nL 254.445554 115.804806 \nL 255.055501 115.967522 \nL 255.665448 115.655543 \nL 256.275395 116.053778 \nL 256.885342 116.214164 \nL 257.495289 116.608102 \nL 258.105237 116.765726 \nL 258.715184 116.223045 \nL 260.545025 115.308053 \nL 261.76492 115.625488 \nL 262.374867 116.011517 \nL 262.984814 115.710927 \nL 263.594761 116.094328 \nL 264.814655 115.950135 \nL 265.424603 115.653389 \nL 266.03455 116.032316 \nL 267.254444 115.443684 \nL 267.864391 115.597232 \nL 268.474338 115.084043 \nL 269.084286 115.016465 \nL 269.694233 115.390521 \nL 270.914127 115.693386 \nL 271.524074 115.624803 \nL 272.134021 115.774662 \nL 272.743969 115.706244 \nL 273.963863 116.43508 \nL 274.57381 116.58083 \nL 275.183757 116.940592 \nL 275.793704 116.8698 \nL 276.403652 117.013042 \nL 277.623546 116.872263 \nL 278.233493 116.590683 \nL 278.84344 116.521889 \nL 280.063335 115.545516 \nL 280.673282 115.480268 \nL 281.283229 115.206575 \nL 281.893176 115.142642 \nL 282.503123 115.286701 \nL 283.11307 114.808782 \nL 283.723018 114.540015 \nL 284.332965 114.684549 \nL 284.942912 114.622947 \nL 287.382701 115.19227 \nL 289.212542 116.215445 \nL 289.822489 116.351916 \nL 290.432436 116.287298 \nL 291.042384 116.023237 \nL 291.652331 116.159122 \nL 292.872225 116.032316 \nL 293.482172 115.57408 \nL 294.092119 115.906858 \nL 294.702067 116.041252 \nL 295.312014 116.371048 \nL 296.531908 116.635264 \nL 297.141855 115.9881 \nL 297.751802 115.538369 \nL 298.36175 115.671626 \nL 298.971697 115.611139 \nL 299.581644 115.743512 \nL 300.191591 115.491115 \nL 300.801538 115.814658 \nL 301.411485 115.754426 \nL 302.021433 116.075627 \nL 302.63138 116.015041 \nL 303.851274 115.516587 \nL 304.461221 115.646508 \nL 305.071168 115.587623 \nL 305.681116 115.716704 \nL 306.90101 115.599475 \nL 308.730851 115.981782 \nL 309.340799 116.292799 \nL 309.950746 116.417871 \nL 310.560693 116.358389 \nL 311.17064 115.932241 \nL 313.610429 116.428718 \nL 314.830323 116.311732 \nL 315.44027 116.614387 \nL 316.660165 116.138378 \nL 317.270112 116.439256 \nL 317.880059 116.381442 \nL 318.490006 116.502095 \nL 320.319848 116.329858 \nL 320.929795 116.449484 \nL 321.539742 116.216395 \nL 322.149689 116.160072 \nL 322.759636 116.279246 \nL 323.369583 116.5727 \nL 323.979531 116.690349 \nL 325.199425 116.576787 \nL 325.809372 116.693608 \nL 327.029266 116.236057 \nL 328.249161 116.46909 \nL 328.859108 116.756006 \nL 329.469055 116.529191 \nL 330.079002 116.644233 \nL 330.688949 116.588739 \nL 331.298897 116.194237 \nL 331.908844 115.97078 \nL 333.128738 116.537729 \nL 333.738685 115.978833 \nL 334.95858 115.872594 \nL 335.568527 115.652881 \nL 336.178474 115.767305 \nL 337.398368 115.662966 \nL 338.008315 115.776606 \nL 338.618263 116.054828 \nL 339.22821 116.167098 \nL 339.838157 116.443221 \nL 340.448104 116.554132 \nL 341.667998 116.447927 \nL 342.887893 116.992894 \nL 343.49784 117.101386 \nL 344.107787 116.885706 \nL 344.717734 117.155456 \nL 345.327681 116.618308 \nL 345.937629 116.565874 \nL 346.547576 116.834564 \nL 347.157523 116.781886 \nL 348.987365 117.579649 \nL 349.597312 117.684562 \nL 350.207259 117.947419 \nL 350.817206 117.576931 \nL 351.427153 117.365746 \nL 352.0371 117.312837 \nL 353.256995 117.834564 \nL 353.866942 117.624616 \nL 354.476889 117.883729 \nL 355.086836 117.51883 \nL 355.696783 117.310859 \nL 356.306731 117.413928 \nL 356.916678 117.361803 \nL 358.746519 117.668092 \nL 359.356466 117.462408 \nL 359.966414 117.410714 \nL 360.576361 117.512081 \nL 361.186308 117.765561 \nL 361.796255 117.256934 \nL 362.406202 117.357992 \nL 363.016149 117.307049 \nL 363.626097 117.558871 \nL 364.236044 117.658704 \nL 364.845991 117.456786 \nL 365.455938 117.706775 \nL 366.065885 117.805701 \nL 366.675832 117.454963 \nL 367.28578 117.703439 \nL 367.895727 117.801769 \nL 368.505674 118.048555 \nL 369.115621 118.145802 \nL 369.725568 117.797892 \nL 369.725568 117.797892 \n\" style=\"fill:none;stroke:#1f77b4;stroke-linecap:square;stroke-width:1.5;\"/>\n   </g>\n   <g id=\"line2d_15\">\n    <path clip-path=\"url(#pe0cb1d40b2)\" d=\"M 65.361932 18.319091 \nL 65.971879 92.446367 \nL 66.581826 67.737279 \nL 67.191773 73.914557 \nL 67.80172 77.620916 \nL 68.411668 80.091823 \nL 69.021615 71.267149 \nL 69.631562 55.382735 \nL 70.241509 67.737279 \nL 70.851456 77.620916 \nL 72.071351 67.737279 \nL 72.681298 63.935881 \nL 73.901192 67.737279 \nL 75.121086 70.64423 \nL 76.340981 80.742069 \nL 76.950928 81.327276 \nL 77.560875 74.797018 \nL 78.170822 82.338102 \nL 78.780769 82.777593 \nL 80.000664 77.620916 \nL 80.610611 78.191124 \nL 81.830505 84.504166 \nL 82.440452 79.665808 \nL 83.0504 85.033647 \nL 83.660347 85.272767 \nL 84.270294 87.813417 \nL 84.880241 85.707531 \nL 85.490188 88.08594 \nL 87.32003 88.439495 \nL 87.929977 90.495653 \nL 88.539924 94.347066 \nL 89.149871 92.446367 \nL 89.759819 94.254348 \nL 90.369766 97.741172 \nL 91.58966 97.500506 \nL 92.199607 99.035455 \nL 92.809554 94.057832 \nL 93.419502 97.177901 \nL 94.029449 98.623645 \nL 94.639396 96.984776 \nL 95.249343 99.859098 \nL 95.85929 99.713746 \nL 96.469237 100.999513 \nL 97.689132 100.68273 \nL 98.299079 101.880749 \nL 98.909026 101.712278 \nL 99.518973 104.150677 \nL 100.12892 105.226938 \nL 101.348815 104.800912 \nL 102.568709 109.184789 \nL 103.178656 110.095716 \nL 103.788603 112.136421 \nL 104.398551 112.973927 \nL 105.618445 116.786669 \nL 106.838339 116.08115 \nL 107.448286 116.802475 \nL 108.058234 116.459425 \nL 108.668181 114.066822 \nL 109.888075 115.485924 \nL 110.498022 115.178728 \nL 111.107969 113.904261 \nL 111.717917 113.625586 \nL 112.937811 111.212769 \nL 113.547758 111.904779 \nL 114.157705 111.664555 \nL 115.3776 112.987657 \nL 115.987547 112.743124 \nL 116.597494 114.248504 \nL 117.817388 113.747311 \nL 118.427335 110.135835 \nL 119.037283 109.104188 \nL 119.64723 107.271818 \nL 120.257177 107.923489 \nL 120.867124 107.755261 \nL 121.477071 109.184789 \nL 122.696966 108.832394 \nL 124.526807 106.061582 \nL 125.746701 108.754367 \nL 126.356649 107.85897 \nL 127.576543 108.999065 \nL 128.18649 108.839905 \nL 128.796437 109.389744 \nL 129.406384 109.2299 \nL 130.016332 108.380267 \nL 131.236226 110.808172 \nL 132.45612 107.806072 \nL 133.066067 107.668938 \nL 133.676015 106.878222 \nL 134.285962 108.052106 \nL 134.895909 107.916408 \nL 135.505856 108.422075 \nL 136.115803 109.552659 \nL 136.72575 110.035892 \nL 137.945645 109.742736 \nL 138.555592 110.825028 \nL 139.165539 110.066787 \nL 140.385433 110.978189 \nL 141.605328 110.684028 \nL 142.215275 111.707788 \nL 142.825222 112.136421 \nL 143.435169 111.409164 \nL 144.045116 111.263293 \nL 144.655064 111.685509 \nL 145.265011 110.978189 \nL 145.874958 110.838846 \nL 146.484905 111.254777 \nL 147.704799 110.978189 \nL 148.314747 110.301842 \nL 149.534641 111.111512 \nL 150.144588 110.448708 \nL 152.584377 112.007737 \nL 153.804271 111.739766 \nL 155.024165 112.480764 \nL 156.854007 112.082727 \nL 157.463954 111.465862 \nL 158.073901 110.372569 \nL 158.683848 109.774824 \nL 161.123637 109.336128 \nL 161.733584 109.696111 \nL 162.953479 109.481834 \nL 164.173373 110.182338 \nL 164.78332 109.622204 \nL 165.393267 109.967364 \nL 166.613162 108.869773 \nL 167.223109 109.654491 \nL 168.443003 108.579953 \nL 169.05295 108.4856 \nL 169.662897 107.530412 \nL 170.882792 107.357026 \nL 171.492739 106.848244 \nL 172.102686 107.187583 \nL 172.712633 106.685506 \nL 174.542475 107.68364 \nL 175.152422 106.370832 \nL 175.762369 105.887025 \nL 176.372316 105.003448 \nL 176.982263 104.935207 \nL 177.592211 105.669069 \nL 179.422052 106.640958 \nL 180.031999 106.565846 \nL 180.641946 105.711253 \nL 183.081735 105.437747 \nL 183.691682 106.131403 \nL 184.301629 106.43978 \nL 184.911577 107.121308 \nL 185.521524 106.672814 \nL 186.131471 106.601326 \nL 186.741418 106.901187 \nL 187.351365 106.46048 \nL 188.57126 106.322408 \nL 189.791154 105.463838 \nL 190.401101 105.760495 \nL 191.011048 105.696176 \nL 191.620995 106.345228 \nL 192.230943 106.278732 \nL 194.670731 107.411029 \nL 195.280678 108.033881 \nL 195.890626 107.961376 \nL 197.11052 108.501583 \nL 197.720467 108.087906 \nL 198.330414 108.354961 \nL 198.940361 108.282655 \nL 199.550309 107.875572 \nL 201.38015 107.668938 \nL 201.990097 107.930735 \nL 202.600044 107.862217 \nL 203.819939 107.076749 \nL 204.429886 107.336569 \nL 205.039833 107.271818 \nL 205.64978 107.528545 \nL 206.259727 107.144018 \nL 206.869675 107.717219 \nL 208.089569 107.587254 \nL 209.309463 106.208393 \nL 209.91941 106.462027 \nL 210.529358 106.403384 \nL 211.139305 106.654092 \nL 213.579093 106.421179 \nL 214.189041 106.969262 \nL 214.798988 106.608892 \nL 215.408935 106.851668 \nL 216.628829 106.14056 \nL 218.458671 105.977535 \nL 219.068618 106.217052 \nL 219.678565 105.870998 \nL 220.288512 105.818342 \nL 221.508407 106.291148 \nL 222.118354 106.812124 \nL 223.338248 107.271818 \nL 225.778037 107.04719 \nL 226.387984 106.712369 \nL 226.997931 106.658742 \nL 228.827773 107.326937 \nL 229.43772 107.271818 \nL 230.047667 106.94358 \nL 231.267561 107.380432 \nL 231.877508 107.867011 \nL 232.487456 107.810932 \nL 233.097403 107.218113 \nL 234.927244 106.262208 \nL 235.537191 106.477601 \nL 236.147139 106.955267 \nL 237.367033 107.376599 \nL 238.586927 107.271818 \nL 239.196874 107.738361 \nL 239.806822 107.94336 \nL 241.026716 108.862097 \nL 242.24661 108.749274 \nL 242.856557 109.201159 \nL 243.466505 109.396968 \nL 244.076452 109.33932 \nL 244.686399 109.533329 \nL 245.296346 109.976465 \nL 245.906293 109.667856 \nL 247.126188 109.552659 \nL 247.736135 109.742736 \nL 248.346082 109.438998 \nL 249.565976 109.326839 \nL 250.175923 109.758984 \nL 250.785871 109.945261 \nL 251.395818 110.372569 \nL 252.005765 110.072719 \nL 252.615712 110.01549 \nL 253.835606 109.423909 \nL 254.445554 109.607668 \nL 255.665448 109.498005 \nL 256.275395 109.207632 \nL 256.885342 109.389744 \nL 257.495289 109.336128 \nL 258.105237 109.049003 \nL 259.325131 109.40966 \nL 259.935078 109.356651 \nL 261.154972 109.71204 \nL 261.76492 109.658589 \nL 262.984814 110.00883 \nL 265.424603 109.795303 \nL 266.03455 109.518108 \nL 266.644497 109.690478 \nL 267.254444 110.08509 \nL 267.864391 110.032114 \nL 268.474338 110.423346 \nL 269.084286 110.369675 \nL 270.30418 110.703237 \nL 272.134021 109.888077 \nL 272.743969 110.054316 \nL 273.353916 109.569339 \nL 275.183757 109.420441 \nL 275.793704 108.942897 \nL 276.403652 109.108982 \nL 277.013599 109.061098 \nL 277.623546 108.376301 \nL 278.233493 108.330781 \nL 278.84344 108.496723 \nL 279.453387 108.451126 \nL 280.063335 108.615775 \nL 280.673282 108.360693 \nL 281.893176 108.687738 \nL 282.503123 108.434601 \nL 283.11307 108.389943 \nL 283.723018 108.552018 \nL 284.332965 108.095461 \nL 284.942912 108.46279 \nL 285.552859 108.623319 \nL 286.162806 108.374545 \nL 287.382701 108.287261 \nL 288.602595 109.008862 \nL 289.822489 108.919093 \nL 290.432436 109.074916 \nL 291.652331 108.586989 \nL 293.482172 108.457864 \nL 294.092119 108.218125 \nL 294.702067 108.569537 \nL 295.312014 108.526889 \nL 295.921961 108.68005 \nL 296.531908 109.027475 \nL 297.141855 109.178504 \nL 297.751802 109.134707 \nL 298.36175 108.897587 \nL 298.971697 108.854751 \nL 299.581644 109.197205 \nL 300.191591 109.345848 \nL 300.801538 109.302184 \nL 301.411485 109.44979 \nL 302.63138 109.362594 \nL 303.241327 109.698497 \nL 303.851274 109.465386 \nL 304.461221 109.799324 \nL 305.071168 109.56714 \nL 305.681116 109.523797 \nL 306.291063 109.29348 \nL 306.90101 109.437761 \nL 307.510957 109.02257 \nL 308.120904 108.795236 \nL 308.730851 109.125009 \nL 309.340799 109.268274 \nL 309.950746 109.042022 \nL 310.560693 109.184789 \nL 311.17064 109.510321 \nL 311.780587 109.102122 \nL 312.390534 109.426262 \nL 313.000482 109.384542 \nL 313.610429 109.161339 \nL 314.220376 109.48296 \nL 314.830323 109.622204 \nL 315.44027 109.40005 \nL 316.050217 109.358905 \nL 316.660165 109.676925 \nL 317.270112 109.456251 \nL 317.880059 109.41526 \nL 318.490006 109.196277 \nL 319.099953 109.511635 \nL 320.319848 109.784014 \nL 321.539742 109.701645 \nL 322.149689 109.485103 \nL 322.759636 109.444819 \nL 323.369583 108.880245 \nL 323.979531 109.190412 \nL 325.199425 109.45919 \nL 325.809372 108.899851 \nL 326.419319 108.8615 \nL 327.029266 108.995718 \nL 328.249161 108.919093 \nL 328.859108 109.05225 \nL 329.469055 109.013988 \nL 330.079002 109.146306 \nL 331.298897 109.069879 \nL 331.908844 109.201159 \nL 332.518791 109.500711 \nL 333.738685 109.423368 \nL 334.348632 109.720368 \nL 334.95858 109.848709 \nL 336.178474 109.770494 \nL 336.788421 109.897852 \nL 338.618263 109.781253 \nL 339.22821 110.072189 \nL 339.838157 110.033108 \nL 340.448104 110.158191 \nL 341.667998 110.080175 \nL 342.277946 109.715574 \nL 343.49784 109.964415 \nL 344.107787 109.764308 \nL 344.717734 109.726587 \nL 346.547576 110.095716 \nL 347.76747 109.700132 \nL 348.377417 109.663029 \nL 348.987365 109.46701 \nL 349.597312 108.954373 \nL 350.207259 108.60231 \nL 350.817206 108.883978 \nL 352.0371 109.128942 \nL 352.647048 108.622446 \nL 353.256995 108.901685 \nL 354.476889 109.144516 \nL 355.086836 108.797975 \nL 355.696783 108.919093 \nL 357.526625 108.816146 \nL 358.136572 108.628002 \nL 358.746519 108.902005 \nL 359.356466 108.86794 \nL 359.966414 108.987168 \nL 360.576361 108.800218 \nL 361.186308 108.766572 \nL 361.796255 109.037482 \nL 363.016149 109.272802 \nL 364.236044 108.902325 \nL 364.845991 109.170209 \nL 365.455938 109.136287 \nL 366.065885 109.252555 \nL 366.675832 109.518108 \nL 369.115621 109.381261 \nL 369.725568 109.495641 \nL 369.725568 109.495641 \n\" style=\"fill:none;stroke:#ff7f0e;stroke-linecap:square;stroke-width:1.5;\"/>\n   </g>\n   <g id=\"line2d_16\">\n    <path clip-path=\"url(#pe0cb1d40b2)\" d=\"M 65.361932 166.573638 \nL 65.971879 129.51 \nL 66.581826 141.864544 \nL 67.191773 166.573638 \nL 67.80172 151.748187 \nL 68.411668 166.573638 \nL 69.021615 166.573638 \nL 69.631562 157.307733 \nL 70.241509 141.864544 \nL 70.851456 129.51 \nL 71.461403 139.618265 \nL 72.071351 135.687278 \nL 72.681298 143.765243 \nL 73.291245 140.099609 \nL 73.901192 131.980918 \nL 75.121086 127.329786 \nL 75.731034 125.391819 \nL 76.340981 131.460726 \nL 76.950928 129.51 \nL 77.560875 131.274935 \nL 78.170822 129.51 \nL 78.780769 124.675618 \nL 79.390717 126.421367 \nL 80.000664 125.062366 \nL 81.220558 128.13728 \nL 81.830505 129.51 \nL 82.440452 125.67584 \nL 83.0504 129.51 \nL 83.660347 130.705611 \nL 84.270294 124.87705 \nL 84.880241 126.140582 \nL 85.490188 122.969359 \nL 86.100135 124.215195 \nL 86.710083 121.273637 \nL 87.32003 122.497967 \nL 88.539924 120.956854 \nL 89.149871 122.09728 \nL 89.759819 124.990049 \nL 90.369766 124.215195 \nL 91.58966 119.401746 \nL 92.809554 124.675618 \nL 94.029449 120.2441 \nL 94.639396 119.676798 \nL 95.249343 117.649646 \nL 95.85929 114.248504 \nL 97.079185 119.0203 \nL 97.689132 119.900917 \nL 98.299079 118.053967 \nL 98.909026 118.920391 \nL 99.518973 114.554507 \nL 100.12892 111.617212 \nL 100.738868 112.548684 \nL 101.958762 111.889591 \nL 103.178656 113.625586 \nL 103.788603 112.136421 \nL 104.398551 112.973927 \nL 105.618445 112.361159 \nL 106.228392 114.248504 \nL 106.838339 111.783916 \nL 107.448286 110.448708 \nL 108.058234 110.195151 \nL 108.668181 110.978189 \nL 109.278128 112.755208 \nL 109.888075 112.480764 \nL 111.107969 113.904261 \nL 111.717917 112.662898 \nL 112.327864 113.354058 \nL 112.937811 113.089411 \nL 114.767652 115.046145 \nL 115.3776 114.773866 \nL 115.987547 116.272994 \nL 117.207441 117.44278 \nL 117.817388 118.859539 \nL 118.427335 119.401746 \nL 119.037283 119.098869 \nL 119.64723 119.626373 \nL 120.257177 119.327683 \nL 120.867124 120.646963 \nL 121.477071 121.1408 \nL 122.696966 120.536704 \nL 123.306913 121.016258 \nL 123.91686 120.721722 \nL 125.136754 121.648024 \nL 126.356649 124.005501 \nL 127.576543 121.953342 \nL 128.18649 122.382384 \nL 128.796437 123.509224 \nL 129.406384 122.516867 \nL 130.016332 122.928611 \nL 130.626279 121.960003 \nL 132.45612 123.165776 \nL 133.066067 122.891497 \nL 133.676015 123.278068 \nL 134.895909 121.45269 \nL 135.505856 121.202635 \nL 136.115803 121.59042 \nL 137.335698 123.592277 \nL 137.945645 123.332733 \nL 139.165539 125.256805 \nL 139.775486 124.990049 \nL 141.605328 125.98013 \nL 142.215275 125.716091 \nL 142.825222 126.035293 \nL 143.435169 125.200284 \nL 144.045116 123.807903 \nL 144.655064 123.568507 \nL 145.265011 124.455873 \nL 145.874958 124.772546 \nL 146.484905 123.978119 \nL 147.094852 123.744555 \nL 147.704799 124.059471 \nL 148.314747 123.828713 \nL 148.924694 124.13846 \nL 149.534641 123.377171 \nL 150.144588 123.156243 \nL 150.754535 123.464168 \nL 151.364482 123.245725 \nL 151.97443 122.511973 \nL 154.414218 121.693865 \nL 155.634113 122.296282 \nL 156.24406 123.085638 \nL 157.463954 121.707131 \nL 158.073901 122.484867 \nL 159.293796 123.05376 \nL 159.903743 122.857553 \nL 161.123637 123.410927 \nL 161.733584 123.216178 \nL 162.953479 123.754783 \nL 163.563426 123.103941 \nL 164.78332 122.730073 \nL 165.393267 122.09728 \nL 166.003214 121.918658 \nL 166.613162 122.629932 \nL 167.223109 122.891497 \nL 167.833056 123.588599 \nL 169.05295 124.09135 \nL 169.662897 124.769309 \nL 170.272845 124.15399 \nL 170.882792 124.397783 \nL 172.102686 122.349986 \nL 172.712633 122.599832 \nL 173.32258 122.013984 \nL 173.932528 122.262923 \nL 174.542475 121.685459 \nL 175.762369 122.178732 \nL 176.372316 122.826393 \nL 178.202158 122.3364 \nL 178.812105 122.572957 \nL 179.422052 123.201299 \nL 180.641946 123.657856 \nL 181.251894 124.270645 \nL 181.861841 124.104892 \nL 183.081735 123.014315 \nL 183.691682 122.857553 \nL 184.301629 122.324194 \nL 186.131471 122.991274 \nL 186.741418 122.838554 \nL 187.351365 123.056135 \nL 187.961312 122.537633 \nL 193.450837 121.254119 \nL 194.670731 120.287599 \nL 195.280678 120.850273 \nL 195.890626 120.718165 \nL 196.500573 119.900917 \nL 198.330414 119.524829 \nL 198.940361 120.075629 \nL 200.160256 120.494531 \nL 201.38015 120.2441 \nL 201.990097 119.7911 \nL 202.600044 119.998099 \nL 203.209992 120.529833 \nL 203.819939 120.40665 \nL 204.429886 120.608259 \nL 205.039833 120.163521 \nL 205.64978 120.04353 \nL 206.259727 120.563612 \nL 206.869675 120.761078 \nL 207.479622 120.640071 \nL 208.089569 119.889231 \nL 209.309463 120.283191 \nL 209.91941 119.854768 \nL 210.529358 120.360402 \nL 212.359199 120.933293 \nL 212.969146 120.511011 \nL 213.579093 120.699796 \nL 214.189041 120.584477 \nL 214.798988 120.771428 \nL 215.408935 121.256969 \nL 216.628829 121.620962 \nL 217.238776 122.09728 \nL 217.848724 121.683824 \nL 218.458671 121.861949 \nL 219.068618 121.74568 \nL 219.678565 122.214012 \nL 220.898459 122.560575 \nL 221.508407 122.443401 \nL 222.728301 122.784176 \nL 223.338248 122.667488 \nL 223.948195 123.119726 \nL 224.558142 123.285579 \nL 225.778037 124.175088 \nL 226.387984 124.335087 \nL 226.997931 124.215195 \nL 227.607878 123.540958 \nL 228.827773 123.309769 \nL 229.43772 122.646368 \nL 230.047667 122.808465 \nL 231.267561 122.586025 \nL 231.877508 121.934951 \nL 233.70735 121.615583 \nL 234.317297 122.043951 \nL 235.537191 121.832534 \nL 236.147139 121.991759 \nL 236.757086 121.88699 \nL 237.367033 121.521019 \nL 237.97698 121.67966 \nL 238.586927 122.09728 \nL 239.196874 122.252794 \nL 239.806822 122.665499 \nL 241.026716 122.456369 \nL 241.636663 122.09728 \nL 242.856557 122.401913 \nL 243.466505 122.299673 \nL 244.076452 122.45026 \nL 244.686399 122.851113 \nL 245.296346 122.998829 \nL 245.906293 123.395131 \nL 246.51624 123.540019 \nL 247.126188 123.436034 \nL 247.736135 123.579817 \nL 248.956029 123.373636 \nL 249.565976 123.516216 \nL 250.175923 123.414009 \nL 250.785871 123.555517 \nL 251.395818 123.938343 \nL 252.615712 124.215195 \nL 253.225659 124.592178 \nL 253.835606 124.7276 \nL 255.055501 124.520668 \nL 255.665448 124.181362 \nL 256.275395 124.080304 \nL 256.885342 124.215195 \nL 257.495289 123.880087 \nL 258.715184 124.1486 \nL 259.325131 124.513963 \nL 259.935078 124.413755 \nL 260.545025 124.54509 \nL 261.154972 123.754783 \nL 261.76492 124.116843 \nL 262.374867 123.790307 \nL 262.984814 124.150036 \nL 263.594761 124.280167 \nL 264.204708 123.956127 \nL 265.424603 123.764581 \nL 266.03455 123.894303 \nL 266.644497 123.575344 \nL 267.254444 123.704856 \nL 269.694233 123.332733 \nL 272.134021 123.841449 \nL 272.743969 123.749382 \nL 273.353916 124.09135 \nL 273.963863 123.782972 \nL 274.57381 123.691877 \nL 275.183757 123.386449 \nL 275.793704 123.725512 \nL 277.013599 123.119726 \nL 277.623546 123.456634 \nL 278.233493 123.579817 \nL 278.84344 123.491119 \nL 279.453387 123.613518 \nL 280.063335 123.945213 \nL 280.673282 123.646832 \nL 281.283229 123.976561 \nL 281.893176 123.887996 \nL 283.11307 124.126464 \nL 284.332965 124.774092 \nL 284.942912 124.684543 \nL 285.552859 125.005027 \nL 286.162806 124.915335 \nL 287.382701 124.331254 \nL 287.992648 123.434002 \nL 288.602595 123.349567 \nL 289.822489 122.780288 \nL 290.432436 122.898655 \nL 291.042384 123.216178 \nL 291.652331 123.332733 \nL 292.262278 123.647396 \nL 292.872225 123.762173 \nL 293.482172 124.074008 \nL 295.312014 123.822991 \nL 295.921961 123.349026 \nL 297.141855 123.186807 \nL 298.36175 123.413379 \nL 298.971697 123.718807 \nL 300.801538 124.051021 \nL 302.63138 123.807903 \nL 303.241327 124.106869 \nL 303.851274 124.215195 \nL 304.461221 123.379888 \nL 305.071168 123.67765 \nL 305.681116 123.786253 \nL 306.90101 123.628375 \nL 307.510957 123.73627 \nL 308.120904 124.029416 \nL 308.730851 123.95046 \nL 309.340799 123.687039 \nL 310.560693 123.532 \nL 311.17064 123.638537 \nL 311.780587 123.378485 \nL 312.390534 123.302302 \nL 313.000482 122.862225 \nL 313.610429 122.787677 \nL 314.830323 122.278078 \nL 317.880059 122.811757 \nL 318.490006 123.095149 \nL 319.099953 122.666118 \nL 319.7099 122.416482 \nL 322.759636 122.938442 \nL 323.369583 122.691689 \nL 323.979531 122.271694 \nL 324.589478 122.027669 \nL 325.809372 121.889442 \nL 326.419319 121.993604 \nL 327.029266 121.924888 \nL 327.639214 121.684509 \nL 328.249161 121.960003 \nL 328.859108 121.891839 \nL 329.469055 122.165599 \nL 331.908844 122.571146 \nL 332.518791 122.502529 \nL 333.128738 121.928809 \nL 333.738685 122.198128 \nL 334.348632 121.795398 \nL 334.95858 122.063811 \nL 336.178474 122.263851 \nL 336.788421 122.197002 \nL 337.398368 121.798778 \nL 338.618263 121.998221 \nL 339.838157 121.867173 \nL 341.058051 121.410009 \nL 341.667998 121.346208 \nL 342.277946 121.44561 \nL 342.887893 121.056896 \nL 343.49784 120.994288 \nL 344.107787 121.093811 \nL 344.717734 121.354393 \nL 345.327681 121.291542 \nL 345.937629 120.90738 \nL 346.547576 121.16668 \nL 347.157523 120.944538 \nL 347.76747 121.042879 \nL 348.377417 120.981387 \nL 348.987365 121.07922 \nL 349.597312 121.017904 \nL 350.817206 121.212178 \nL 351.427153 121.150973 \nL 352.0371 121.247414 \nL 352.647048 121.186386 \nL 353.256995 121.282352 \nL 353.866942 121.534285 \nL 354.476889 121.473047 \nL 356.306731 121.756108 \nL 357.526625 121.633985 \nL 358.746519 122.128032 \nL 359.356466 122.220054 \nL 359.966414 122.464852 \nL 361.796255 122.279934 \nL 362.406202 122.066893 \nL 363.016149 122.006329 \nL 363.626097 122.09728 \nL 364.236044 122.036893 \nL 364.845991 122.127413 \nL 365.455938 121.766491 \nL 366.065885 121.707131 \nL 367.28578 121.88805 \nL 368.505674 121.472109 \nL 369.115621 121.116842 \nL 369.725568 121.356006 \nL 369.725568 121.356006 \n\" style=\"fill:none;stroke:#2ca02c;stroke-linecap:square;stroke-width:1.5;\"/>\n   </g>\n   <g id=\"line2d_17\">\n    <path clip-path=\"url(#pe0cb1d40b2)\" d=\"M 65.361932 166.573638 \nL 65.971879 92.446367 \nL 66.581826 117.155456 \nL 67.191773 73.914557 \nL 67.80172 92.446367 \nL 68.411668 67.737279 \nL 69.021615 81.856758 \nL 69.631562 92.446367 \nL 70.241509 75.973642 \nL 71.461403 92.446367 \nL 72.071351 92.446367 \nL 72.681298 98.148465 \nL 73.291245 108.330781 \nL 74.511139 115.611139 \nL 75.731034 113.037274 \nL 76.340981 104.150677 \nL 76.950928 110.978189 \nL 77.560875 113.625586 \nL 78.780769 111.783916 \nL 79.390717 107.889556 \nL 80.000664 107.271818 \nL 80.610611 109.552659 \nL 81.830505 108.330781 \nL 82.440452 112.895269 \nL 83.0504 109.742736 \nL 83.660347 113.967189 \nL 84.270294 115.611139 \nL 85.490188 114.248504 \nL 86.100135 117.861439 \nL 86.710083 119.214552 \nL 87.32003 116.487647 \nL 87.929977 119.756416 \nL 89.149871 118.390909 \nL 89.759819 119.566107 \nL 90.369766 122.45026 \nL 90.979713 123.476384 \nL 91.58966 121.086455 \nL 92.199607 117.155456 \nL 93.419502 116.104004 \nL 94.029449 117.155456 \nL 94.639396 116.651192 \nL 95.249343 117.649646 \nL 96.469237 122.382384 \nL 97.079185 120.418922 \nL 97.689132 117.155456 \nL 98.299079 119.401746 \nL 98.909026 117.596692 \nL 100.12892 121.841669 \nL 101.958762 124.041599 \nL 102.568709 122.3364 \nL 103.178656 123.038572 \nL 104.398551 122.09728 \nL 105.008498 119.401746 \nL 105.618445 120.105795 \nL 106.228392 118.608932 \nL 107.448286 117.861439 \nL 108.058234 118.547517 \nL 108.668181 120.2441 \nL 109.278128 119.863306 \nL 109.888075 118.491084 \nL 110.498022 119.132183 \nL 111.107969 117.805701 \nL 111.717917 118.439047 \nL 112.327864 117.155456 \nL 112.937811 118.719324 \nL 113.547758 117.464319 \nL 114.157705 115.325152 \nL 114.767652 115.046145 \nL 115.3776 112.094557 \nL 115.987547 110.978189 \nL 116.597494 110.760167 \nL 117.207441 112.271103 \nL 117.817388 111.191197 \nL 119.037283 112.435741 \nL 119.64723 112.213643 \nL 120.257177 112.811001 \nL 120.867124 112.589653 \nL 121.477071 113.170122 \nL 122.087018 114.526837 \nL 123.91686 113.843929 \nL 124.526807 115.138389 \nL 125.746701 114.684549 \nL 126.356649 113.730433 \nL 126.966596 114.248504 \nL 127.576543 113.317153 \nL 128.18649 113.829238 \nL 128.796437 112.213643 \nL 130.016332 113.229715 \nL 130.626279 113.037274 \nL 131.236226 113.528438 \nL 131.846173 112.662898 \nL 132.45612 113.816392 \nL 133.066067 114.287441 \nL 133.676015 115.40614 \nL 134.285962 115.204741 \nL 136.72575 116.94606 \nL 137.335698 115.494341 \nL 138.555592 113.888145 \nL 139.165539 113.712384 \nL 139.775486 114.142155 \nL 140.385433 113.369389 \nL 140.995381 113.202001 \nL 141.605328 112.448963 \nL 142.215275 112.875144 \nL 142.825222 110.978189 \nL 143.435169 110.834527 \nL 144.045116 111.8335 \nL 145.265011 111.539759 \nL 145.874958 110.281507 \nL 146.484905 109.595219 \nL 147.094852 109.468192 \nL 147.704799 109.888077 \nL 148.314747 109.760774 \nL 148.924694 110.172452 \nL 149.534641 109.511635 \nL 150.144588 110.448708 \nL 150.754535 109.795303 \nL 151.364482 110.195151 \nL 151.97443 109.552659 \nL 152.584377 109.433873 \nL 153.804271 110.216602 \nL 154.414218 109.591452 \nL 155.634113 110.356309 \nL 156.854007 110.1191 \nL 157.463954 110.490505 \nL 158.073901 111.341553 \nL 158.683848 110.737512 \nL 159.293796 110.619509 \nL 161.123637 111.68193 \nL 161.733584 111.560945 \nL 162.953479 112.244339 \nL 163.563426 113.037274 \nL 164.78332 113.69016 \nL 165.393267 112.662898 \nL 166.003214 113.434206 \nL 167.833056 111.745775 \nL 168.443003 110.760167 \nL 169.05295 111.08656 \nL 170.272845 112.584992 \nL 170.882792 112.043239 \nL 171.492739 111.931256 \nL 172.102686 112.241721 \nL 172.712633 112.129882 \nL 173.32258 112.435741 \nL 173.932528 111.90996 \nL 174.542475 111.801821 \nL 175.762369 112.403708 \nL 176.372316 112.294653 \nL 176.982263 112.589653 \nL 177.592211 112.080076 \nL 178.202158 111.177456 \nL 178.812105 111.870095 \nL 179.422052 112.161064 \nL 180.031999 111.664555 \nL 180.641946 111.953546 \nL 181.251894 111.851417 \nL 181.861841 112.522506 \nL 182.471788 112.418487 \nL 183.081735 112.697637 \nL 183.691682 112.593785 \nL 184.301629 113.247388 \nL 184.911577 113.518077 \nL 185.521524 113.411662 \nL 186.131471 112.933808 \nL 186.741418 112.831369 \nL 187.351365 113.098744 \nL 187.961312 113.730433 \nL 188.57126 113.99075 \nL 189.791154 113.057367 \nL 190.401101 112.237634 \nL 192.84089 113.272606 \nL 193.450837 113.1739 \nL 194.060784 113.775445 \nL 195.280678 113.576101 \nL 195.890626 113.82261 \nL 197.11052 114.991988 \nL 197.720467 115.2286 \nL 198.940361 116.369258 \nL 199.550309 116.596427 \nL 200.160256 116.153743 \nL 200.770203 116.712242 \nL 203.819939 117.805701 \nL 205.039833 118.874352 \nL 205.64978 118.118155 \nL 206.259727 118.327009 \nL 206.869675 117.89779 \nL 207.479622 117.789022 \nL 209.309463 118.40655 \nL 209.91941 117.986013 \nL 210.529358 117.258845 \nL 211.749252 117.052928 \nL 212.359199 117.257563 \nL 212.969146 117.765561 \nL 214.189041 117.558871 \nL 214.798988 117.758116 \nL 215.408935 116.75531 \nL 216.018882 116.358389 \nL 217.848724 116.958575 \nL 218.458671 116.567144 \nL 219.678565 116.377222 \nL 220.288512 115.992684 \nL 220.898459 116.190261 \nL 222.118354 116.006204 \nL 223.338248 115.254757 \nL 223.948195 115.167373 \nL 224.558142 114.797725 \nL 225.16809 114.994583 \nL 225.778037 114.909177 \nL 226.387984 114.544687 \nL 228.827773 114.216085 \nL 229.43772 114.684549 \nL 230.047667 114.876028 \nL 230.657614 115.338617 \nL 231.267561 115.526285 \nL 231.877508 115.442061 \nL 233.097403 116.349729 \nL 234.317297 116.177757 \nL 234.927244 116.624085 \nL 235.537191 116.537729 \nL 236.147139 115.924399 \nL 236.757086 115.578289 \nL 237.367033 115.49655 \nL 239.196874 116.032316 \nL 239.806822 116.466704 \nL 240.416769 116.640687 \nL 241.026716 116.300476 \nL 241.636663 116.473829 \nL 242.24661 116.391261 \nL 242.856557 116.816979 \nL 243.466505 116.48081 \nL 244.076452 116.651192 \nL 244.686399 115.81531 \nL 245.296346 115.485924 \nL 245.906293 115.408349 \nL 246.51624 115.828797 \nL 247.126188 115.998516 \nL 248.346082 115.842019 \nL 248.956029 116.255464 \nL 249.565976 116.176884 \nL 250.785871 116.507353 \nL 251.395818 116.428718 \nL 252.005765 116.592064 \nL 252.615712 116.995015 \nL 253.225659 117.155456 \nL 253.835606 117.075749 \nL 254.445554 117.473266 \nL 255.055501 117.393051 \nL 255.665448 117.787001 \nL 256.275395 117.7063 \nL 256.885342 116.920136 \nL 257.495289 116.608102 \nL 258.715184 116.922356 \nL 259.325131 116.380878 \nL 259.935078 116.769382 \nL 260.545025 116.924532 \nL 261.76492 116.772961 \nL 262.374867 116.46909 \nL 262.984814 116.395183 \nL 264.204708 116.70208 \nL 264.814655 116.402131 \nL 265.424603 116.554629 \nL 266.03455 116.481572 \nL 266.644497 116.856865 \nL 267.864391 116.710254 \nL 268.474338 117.081482 \nL 269.084286 116.786669 \nL 269.694233 116.71423 \nL 270.30418 116.862178 \nL 270.914127 117.228568 \nL 271.524074 117.374119 \nL 272.134021 117.300808 \nL 272.743969 117.445298 \nL 274.57381 117.227287 \nL 275.183757 117.585183 \nL 275.793704 117.726768 \nL 276.403652 118.081162 \nL 277.013599 118.007497 \nL 278.84344 117.155456 \nL 279.453387 117.08526 \nL 280.063335 116.805469 \nL 281.283229 117.085856 \nL 282.503123 117.778374 \nL 283.11307 117.914679 \nL 283.723018 117.637253 \nL 286.162806 118.176499 \nL 287.382701 118.03551 \nL 287.992648 118.168126 \nL 288.602595 117.694072 \nL 289.212542 117.424035 \nL 289.822489 117.557237 \nL 291.652331 117.354722 \nL 292.262278 116.890478 \nL 292.872225 117.023326 \nL 293.482172 116.957791 \nL 294.092119 116.695452 \nL 295.312014 116.567144 \nL 295.921961 116.894675 \nL 296.531908 116.440194 \nL 297.751802 117.090771 \nL 298.36175 116.832885 \nL 298.971697 116.769382 \nL 299.581644 116.321132 \nL 300.191591 116.259275 \nL 300.801538 116.006204 \nL 301.411485 115.945474 \nL 302.021433 116.26619 \nL 303.241327 116.523513 \nL 303.851274 116.840296 \nL 304.461221 116.778219 \nL 305.071168 117.092749 \nL 305.681116 117.218019 \nL 306.291063 117.529843 \nL 306.90101 117.466661 \nL 307.510957 117.590043 \nL 308.120904 117.898586 \nL 308.730851 118.020278 \nL 309.340799 117.771647 \nL 310.560693 118.013838 \nL 311.17064 118.317521 \nL 311.780587 118.436672 \nL 312.390534 118.372661 \nL 313.000482 118.491084 \nL 313.610429 118.790624 \nL 314.220376 118.726205 \nL 314.830323 118.842904 \nL 315.44027 119.139396 \nL 316.050217 119.074612 \nL 316.660165 119.189622 \nL 317.270112 119.125026 \nL 318.490006 118.640379 \nL 319.7099 118.869723 \nL 321.539742 118.681436 \nL 322.149689 118.970583 \nL 322.759636 119.083118 \nL 323.369583 119.369956 \nL 323.979531 119.132183 \nL 324.589478 119.243547 \nL 325.199425 119.0072 \nL 325.809372 119.29153 \nL 327.639214 119.620641 \nL 328.249161 119.042955 \nL 328.859108 118.810341 \nL 329.469055 118.920391 \nL 330.079002 118.859539 \nL 330.688949 118.96897 \nL 331.298897 119.247535 \nL 332.518791 119.125434 \nL 333.738685 119.340618 \nL 334.348632 119.615184 \nL 334.95858 119.553858 \nL 335.568527 119.826712 \nL 336.178474 119.765186 \nL 336.788421 119.537731 \nL 337.398368 119.808784 \nL 339.838157 119.566107 \nL 340.448104 119.342109 \nL 342.887893 119.756416 \nL 343.49784 119.53445 \nL 344.107787 119.799009 \nL 344.717734 119.577915 \nL 345.937629 119.78181 \nL 346.547576 119.722638 \nL 347.157523 119.823829 \nL 347.76747 119.764822 \nL 348.377417 119.546667 \nL 348.987365 119.647581 \nL 349.597312 119.906794 \nL 350.207259 119.848118 \nL 350.817206 119.947741 \nL 351.427153 119.731519 \nL 352.647048 119.615902 \nL 353.256995 118.931591 \nL 353.866942 119.188484 \nL 354.476889 119.288239 \nL 355.086836 119.543309 \nL 355.696783 119.4865 \nL 356.306731 119.585018 \nL 356.916678 119.528353 \nL 357.526625 119.163078 \nL 358.136572 118.645195 \nL 358.746519 118.74463 \nL 360.576361 118.123446 \nL 361.186308 118.070613 \nL 361.796255 118.170202 \nL 362.406202 118.117492 \nL 363.016149 118.216584 \nL 363.626097 118.163995 \nL 364.236044 118.413564 \nL 364.845991 118.511441 \nL 365.455938 118.759298 \nL 366.675832 118.652982 \nL 367.28578 118.151789 \nL 368.505674 118.048555 \nL 369.115621 118.145802 \nL 369.725568 118.390909 \nL 369.725568 118.390909 \n\" style=\"fill:none;stroke:#d62728;stroke-linecap:square;stroke-width:1.5;\"/>\n   </g>\n   <g id=\"line2d_18\">\n    <path clip-path=\"url(#pe0cb1d40b2)\" d=\"M 65.361932 18.319091 \nL 65.971879 92.446367 \nL 66.581826 92.446367 \nL 67.191773 110.978189 \nL 67.80172 92.446367 \nL 68.411668 92.446367 \nL 69.021615 81.856758 \nL 69.631562 101.712278 \nL 70.241509 108.919093 \nL 70.851456 114.684549 \nL 71.461403 112.662898 \nL 72.071351 123.332733 \nL 72.681298 120.956854 \nL 73.901192 136.922731 \nL 74.511139 134.142961 \nL 75.121086 136.050641 \nL 75.731034 133.628181 \nL 76.340981 139.263595 \nL 76.950928 133.216371 \nL 77.560875 131.274935 \nL 78.170822 132.879429 \nL 78.780769 137.567321 \nL 80.000664 139.887817 \nL 81.220558 141.864544 \nL 82.440452 143.568628 \nL 83.0504 141.864544 \nL 83.660347 145.052822 \nL 84.880241 146.357113 \nL 85.490188 144.771496 \nL 86.100135 145.394414 \nL 86.710083 141.864544 \nL 87.32003 140.528927 \nL 87.929977 129.51 \nL 88.539924 124.758252 \nL 89.149871 123.95046 \nL 90.369766 115.390521 \nL 90.979713 118.304719 \nL 91.58966 119.401746 \nL 92.809554 124.675618 \nL 93.419502 125.567061 \nL 94.029449 123.332733 \nL 94.639396 125.727998 \nL 95.85929 127.329786 \nL 96.469237 125.233433 \nL 98.909026 128.186302 \nL 99.518973 127.559285 \nL 100.12892 128.231943 \nL 101.958762 126.472001 \nL 103.178656 127.745065 \nL 104.398551 124.378121 \nL 105.008498 123.894303 \nL 105.618445 124.531305 \nL 106.838339 127.898547 \nL 108.668181 126.421367 \nL 110.498022 128.027463 \nL 113.547758 125.80364 \nL 114.767652 124.990049 \nL 116.597494 129.073966 \nL 117.207441 129.51 \nL 117.817388 129.083985 \nL 118.427335 130.352355 \nL 119.037283 130.759338 \nL 119.64723 129.51 \nL 120.257177 127.473537 \nL 120.867124 127.092809 \nL 121.477071 125.9232 \nL 122.696966 125.218421 \nL 123.306913 124.104892 \nL 123.91686 125.306909 \nL 124.526807 124.215195 \nL 125.136754 123.894303 \nL 125.746701 122.09728 \nL 126.356649 122.537633 \nL 128.18649 121.669619 \nL 128.796437 122.09728 \nL 129.406384 123.216178 \nL 131.236226 122.369306 \nL 131.846173 123.445047 \nL 132.45612 122.497967 \nL 133.066067 120.905944 \nL 134.285962 121.707131 \nL 134.895909 122.741859 \nL 137.335698 119.23185 \nL 137.945645 119.626373 \nL 138.555592 118.789122 \nL 139.775486 119.566107 \nL 140.385433 119.3474 \nL 141.605328 120.097014 \nL 142.215275 117.544578 \nL 143.435169 119.453981 \nL 144.045116 119.246231 \nL 144.655064 120.173363 \nL 145.265011 119.963315 \nL 145.874958 120.313766 \nL 146.484905 121.212178 \nL 147.094852 120.999093 \nL 147.704799 119.699044 \nL 148.314747 120.041188 \nL 148.924694 119.304078 \nL 149.534641 120.177439 \nL 150.144588 120.508835 \nL 150.754535 121.361264 \nL 151.364482 120.635608 \nL 153.804271 121.894192 \nL 154.414218 121.693865 \nL 155.634113 118.316295 \nL 156.24406 117.649646 \nL 157.463954 118.293374 \nL 158.073901 117.155456 \nL 158.683848 116.51366 \nL 159.293796 116.836629 \nL 159.903743 116.680287 \nL 160.51369 116.998075 \nL 161.123637 117.781003 \nL 161.733584 117.621667 \nL 162.343531 117.927614 \nL 162.953479 117.76935 \nL 163.563426 118.528187 \nL 164.173373 118.368177 \nL 165.393267 119.851001 \nL 166.613162 119.522797 \nL 167.223109 118.920391 \nL 167.833056 119.202368 \nL 168.443003 119.917066 \nL 169.05295 120.189909 \nL 169.662897 120.028607 \nL 170.272845 119.012215 \nL 170.882792 118.859539 \nL 171.492739 119.555769 \nL 173.32258 119.098869 \nL 174.542475 119.626373 \nL 175.152422 120.295286 \nL 175.762369 120.549561 \nL 176.372316 121.206125 \nL 176.982263 121.45269 \nL 177.592211 122.09728 \nL 178.202158 121.539333 \nL 178.812105 120.59095 \nL 179.422052 120.441246 \nL 180.031999 119.900917 \nL 180.641946 120.536704 \nL 181.251894 120.389629 \nL 181.861841 120.630174 \nL 182.471788 120.484148 \nL 184.301629 121.189601 \nL 184.911577 120.291133 \nL 186.741418 119.873457 \nL 187.961312 120.335836 \nL 188.57126 120.198448 \nL 189.791154 121.374088 \nL 190.401101 121.233662 \nL 191.011048 121.45269 \nL 191.620995 122.026001 \nL 192.230943 122.239153 \nL 193.450837 123.362005 \nL 194.060784 122.516867 \nL 194.670731 122.37569 \nL 195.280678 122.928611 \nL 195.890626 123.131611 \nL 196.500573 123.675916 \nL 197.11052 123.190397 \nL 197.720467 123.049375 \nL 198.330414 122.571146 \nL 198.940361 121.760338 \nL 199.550309 121.963106 \nL 200.160256 121.830148 \nL 200.770203 121.36598 \nL 201.990097 122.426733 \nL 202.600044 121.638083 \nL 203.209992 122.162583 \nL 203.819939 121.707131 \nL 206.259727 121.202635 \nL 206.869675 120.761078 \nL 207.479622 120.956854 \nL 208.089569 120.835538 \nL 209.91941 121.412063 \nL 210.529358 121.290869 \nL 211.139305 120.861827 \nL 211.749252 121.359077 \nL 212.359199 121.545917 \nL 212.969146 121.426169 \nL 213.579093 120.699796 \nL 214.189041 121.189601 \nL 215.408935 121.557084 \nL 216.018882 122.0375 \nL 216.628829 122.216354 \nL 217.238776 121.800766 \nL 217.848724 121.683824 \nL 219.068618 122.038682 \nL 219.678565 121.630329 \nL 220.288512 122.09728 \nL 220.898459 121.691898 \nL 221.508407 121.866533 \nL 222.118354 121.752496 \nL 222.728301 121.353145 \nL 223.338248 121.527073 \nL 223.948195 120.847622 \nL 224.558142 121.022146 \nL 225.16809 120.913499 \nL 225.778037 120.2441 \nL 226.387984 120.139198 \nL 226.997931 119.477741 \nL 228.217825 119.829208 \nL 228.827773 119.72741 \nL 230.047667 120.620199 \nL 231.267561 119.87074 \nL 233.70735 120.545154 \nL 234.317297 120.444085 \nL 234.927244 120.078037 \nL 235.537191 119.979354 \nL 236.147139 119.61757 \nL 236.757086 119.784086 \nL 237.367033 119.68749 \nL 238.586927 118.976128 \nL 239.196874 119.142555 \nL 239.806822 118.791254 \nL 241.026716 118.608932 \nL 241.636663 119.029943 \nL 242.24661 119.193322 \nL 242.856557 118.847864 \nL 243.466505 119.010746 \nL 244.076452 118.668259 \nL 244.686399 118.830654 \nL 245.296346 118.491084 \nL 245.906293 118.652982 \nL 246.51624 118.565035 \nL 247.126188 117.733937 \nL 247.736135 117.402551 \nL 248.956029 117.728182 \nL 249.565976 117.400099 \nL 250.175923 116.830344 \nL 250.785871 116.993436 \nL 252.005765 116.833514 \nL 253.225659 116.195883 \nL 254.445554 116.043152 \nL 255.665448 116.366033 \nL 256.275395 116.28985 \nL 257.495289 116.608102 \nL 258.105237 116.999566 \nL 259.325131 117.310373 \nL 259.935078 117.232677 \nL 261.154972 117.539144 \nL 261.76492 117.231959 \nL 262.374867 117.384248 \nL 262.984814 117.307513 \nL 263.594761 117.003874 \nL 264.204708 116.928773 \nL 265.424603 117.230567 \nL 266.03455 117.155456 \nL 266.644497 117.304762 \nL 267.254444 117.229883 \nL 269.694233 117.81731 \nL 270.30418 117.522067 \nL 271.524074 117.374119 \nL 272.134021 117.082785 \nL 272.743969 117.227916 \nL 273.353916 116.938715 \nL 273.963863 117.083426 \nL 274.57381 117.44278 \nL 275.183757 116.940592 \nL 275.793704 116.8698 \nL 276.403652 116.372174 \nL 277.013599 116.516433 \nL 277.623546 116.872263 \nL 280.673282 117.574258 \nL 281.283229 117.921097 \nL 282.503123 117.778374 \nL 283.11307 117.914679 \nL 283.723018 117.843732 \nL 284.332965 117.979099 \nL 284.942912 117.908372 \nL 285.552859 117.633265 \nL 286.162806 117.563875 \nL 287.382701 118.238598 \nL 287.992648 118.370662 \nL 289.822489 118.159897 \nL 290.432436 118.491084 \nL 291.652331 118.749589 \nL 292.262278 119.076545 \nL 292.872225 119.005333 \nL 294.092119 119.25836 \nL 294.702067 119.187247 \nL 295.312014 118.920391 \nL 295.921961 118.850537 \nL 296.531908 118.585989 \nL 297.751802 118.837227 \nL 298.36175 119.155413 \nL 298.971697 119.278894 \nL 300.191591 119.139871 \nL 300.801538 119.262436 \nL 301.411485 119.193322 \nL 302.021433 118.743448 \nL 302.63138 119.056155 \nL 303.241327 118.608932 \nL 303.851274 118.920391 \nL 304.461221 119.041652 \nL 305.681116 118.531666 \nL 306.291063 118.465789 \nL 306.90101 118.773691 \nL 307.510957 118.521294 \nL 308.120904 118.084376 \nL 308.730851 117.464319 \nL 309.340799 117.401932 \nL 309.950746 117.524254 \nL 310.560693 117.278087 \nL 311.17064 116.849652 \nL 311.780587 117.155456 \nL 312.390534 116.912017 \nL 313.000482 117.03404 \nL 314.220376 116.913806 \nL 315.44027 116.434031 \nL 316.050217 116.375808 \nL 317.880059 116.738675 \nL 319.099953 116.622174 \nL 320.929795 116.978966 \nL 321.539742 116.920699 \nL 322.149689 117.038359 \nL 322.759636 116.804972 \nL 323.369583 116.747522 \nL 324.589478 117.329472 \nL 325.809372 117.559578 \nL 327.029266 117.44278 \nL 328.249161 117.670235 \nL 329.469055 117.553989 \nL 331.908844 118.001665 \nL 332.518791 117.605739 \nL 333.128738 117.548555 \nL 333.738685 117.659731 \nL 334.348632 117.602679 \nL 334.95858 117.713226 \nL 335.568527 117.489371 \nL 336.178474 117.766246 \nL 338.008315 118.093081 \nL 339.22821 116.990729 \nL 340.448104 116.882127 \nL 341.058051 116.991823 \nL 341.667998 116.774485 \nL 342.277946 116.721012 \nL 342.887893 116.505221 \nL 343.49784 116.614774 \nL 344.107787 116.562008 \nL 344.717734 116.347973 \nL 345.327681 116.457161 \nL 345.937629 116.40508 \nL 346.547576 115.871876 \nL 347.157523 115.981373 \nL 348.987365 115.829869 \nL 349.597312 116.097255 \nL 350.207259 116.04672 \nL 351.427153 116.261727 \nL 352.0371 116.211159 \nL 352.647048 116.474912 \nL 353.256995 116.424112 \nL 354.476889 116.011042 \nL 355.696783 116.533852 \nL 356.306731 116.328378 \nL 356.916678 116.588032 \nL 357.526625 116.692161 \nL 358.136572 116.949981 \nL 358.746519 116.437764 \nL 359.356466 116.695044 \nL 359.966414 116.798101 \nL 360.576361 117.053569 \nL 361.186308 117.002935 \nL 361.796255 117.256934 \nL 362.406202 117.20609 \nL 363.626097 117.407588 \nL 364.845991 117.004791 \nL 365.455938 116.954985 \nL 366.065885 116.75531 \nL 367.895727 116.608577 \nL 368.505674 116.41121 \nL 369.725568 116.315355 \nL 369.725568 116.315355 \n\" style=\"fill:none;stroke:#9467bd;stroke-linecap:square;stroke-width:1.5;\"/>\n   </g>\n   <g id=\"line2d_19\">\n    <path clip-path=\"url(#pe0cb1d40b2)\" d=\"M 65.361932 92.446367 \nL 65.971879 129.51 \nL 66.581826 92.446367 \nL 67.191773 110.978189 \nL 67.80172 122.09728 \nL 68.411668 141.864544 \nL 69.021615 145.394414 \nL 69.631562 148.041822 \nL 70.241509 150.100913 \nL 70.851456 159.160913 \nL 71.461403 159.834796 \nL 72.071351 148.041822 \nL 72.681298 143.765243 \nL 73.291245 124.215195 \nL 73.901192 127.039093 \nL 74.511139 120.2441 \nL 75.121086 118.608932 \nL 76.340981 123.657856 \nL 76.950928 125.80364 \nL 77.560875 131.274935 \nL 78.170822 132.879429 \nL 79.390717 141.864544 \nL 80.000664 142.852914 \nL 80.610611 135.212097 \nL 81.220558 133.628181 \nL 81.830505 126.862603 \nL 82.440452 125.67584 \nL 83.660347 118.749589 \nL 84.270294 117.927614 \nL 84.880241 121.648024 \nL 85.490188 122.969359 \nL 86.100135 119.979354 \nL 87.32003 122.497967 \nL 87.929977 125.608571 \nL 89.759819 128.60601 \nL 90.979713 126.924173 \nL 91.58966 127.825291 \nL 92.199607 125.391819 \nL 92.809554 124.675618 \nL 93.419502 122.412716 \nL 94.029449 123.332733 \nL 94.639396 122.702403 \nL 95.85929 124.422835 \nL 96.469237 120.956854 \nL 97.079185 120.418922 \nL 97.689132 121.273637 \nL 98.299079 119.401746 \nL 99.518973 121.056896 \nL 100.12892 120.563612 \nL 100.738868 118.830654 \nL 101.348815 119.626373 \nL 101.958762 117.96559 \nL 102.568709 118.749589 \nL 103.178656 115.978833 \nL 103.788603 116.769382 \nL 104.398551 115.254757 \nL 105.008498 116.032316 \nL 105.618445 113.467531 \nL 106.838339 112.858222 \nL 107.448286 114.684549 \nL 108.668181 114.066822 \nL 109.278128 111.739766 \nL 109.888075 111.479051 \nL 110.498022 110.236915 \nL 112.937811 116.842682 \nL 114.157705 118.070613 \nL 114.767652 117.758116 \nL 115.3776 119.239361 \nL 115.987547 118.037929 \nL 116.597494 115.992684 \nL 117.207441 115.71888 \nL 118.427335 116.874671 \nL 119.64723 119.626373 \nL 120.257177 119.327683 \nL 120.867124 119.841226 \nL 121.477071 119.546667 \nL 122.087018 118.469776 \nL 123.306913 121.016258 \nL 123.91686 119.957516 \nL 124.526807 120.433194 \nL 125.746701 118.390909 \nL 126.356649 118.134038 \nL 128.18649 119.531335 \nL 128.796437 118.56741 \nL 130.016332 119.464718 \nL 130.626279 118.528187 \nL 131.236226 118.288901 \nL 131.846173 119.401746 \nL 132.45612 119.158903 \nL 133.066067 120.2441 \nL 133.676015 119.998099 \nL 134.285962 120.40665 \nL 134.895909 120.163521 \nL 135.505856 120.563612 \nL 136.72575 118.830654 \nL 137.945645 120.861827 \nL 138.555592 120.626982 \nL 140.385433 121.7386 \nL 140.995381 120.911246 \nL 142.215275 121.630329 \nL 142.825222 120.823211 \nL 143.435169 121.17787 \nL 144.655064 120.739218 \nL 145.265011 119.963315 \nL 146.484905 120.658992 \nL 147.094852 121.548181 \nL 147.704799 121.879258 \nL 148.314747 122.746565 \nL 149.534641 122.310597 \nL 150.144588 123.156243 \nL 151.364482 123.767751 \nL 151.97443 124.585462 \nL 153.194324 125.164617 \nL 155.024165 124.501404 \nL 155.634113 124.783768 \nL 156.24406 124.074008 \nL 158.073901 124.907327 \nL 158.683848 125.659238 \nL 159.293796 124.96672 \nL 160.51369 124.552446 \nL 161.123637 123.880087 \nL 161.733584 124.1486 \nL 162.343531 123.02387 \nL 162.953479 123.29436 \nL 164.173373 122.915864 \nL 164.78332 122.278078 \nL 165.393267 122.546536 \nL 166.613162 122.186055 \nL 167.223109 122.45026 \nL 167.833056 121.834102 \nL 168.443003 122.09728 \nL 169.05295 121.056896 \nL 169.662897 120.459582 \nL 170.272845 121.154618 \nL 170.882792 120.989627 \nL 172.712633 121.762238 \nL 173.932528 121.434685 \nL 175.152422 121.933459 \nL 176.372316 121.611198 \nL 176.982263 121.855553 \nL 177.592211 121.696593 \nL 178.202158 122.3364 \nL 179.422052 122.018424 \nL 180.031999 122.254164 \nL 180.641946 121.707131 \nL 181.861841 121.402332 \nL 182.471788 122.020456 \nL 183.691682 121.717138 \nL 184.301629 121.189601 \nL 184.911577 121.043696 \nL 186.131471 121.501281 \nL 186.741418 122.09728 \nL 187.351365 121.949763 \nL 187.961312 121.069775 \nL 189.181207 122.242621 \nL 189.791154 122.09728 \nL 190.401101 122.313182 \nL 191.011048 121.810796 \nL 192.230943 122.239153 \nL 192.84089 121.744289 \nL 194.060784 122.167211 \nL 194.670731 122.7237 \nL 195.280678 121.19667 \nL 195.890626 121.062938 \nL 196.500573 120.587283 \nL 197.11052 120.457594 \nL 197.720467 120.669132 \nL 199.550309 120.286019 \nL 200.160256 120.494531 \nL 200.770203 121.033567 \nL 201.38015 120.2441 \nL 201.990097 119.7911 \nL 202.600044 119.998099 \nL 203.209992 119.223621 \nL 203.819939 119.756416 \nL 205.039833 119.518942 \nL 205.64978 119.722638 \nL 206.259727 119.605066 \nL 206.869675 119.170369 \nL 207.479622 119.056155 \nL 208.089569 119.573795 \nL 210.529358 120.360402 \nL 211.139305 120.2441 \nL 211.749252 119.206003 \nL 212.359199 119.095434 \nL 213.579093 120.092198 \nL 214.189041 119.37423 \nL 214.798988 119.867438 \nL 215.408935 119.456301 \nL 216.018882 119.3474 \nL 217.848724 119.911853 \nL 218.458671 120.391175 \nL 219.068618 120.573708 \nL 219.678565 121.046657 \nL 220.898459 120.823211 \nL 221.508407 120.424368 \nL 223.338248 120.101543 \nL 223.948195 120.563612 \nL 225.16809 120.349787 \nL 227.607878 122.152807 \nL 229.43772 121.822736 \nL 230.047667 121.167266 \nL 230.657614 121.334201 \nL 231.877508 121.123348 \nL 232.487456 120.479951 \nL 233.70735 120.812761 \nL 234.317297 120.444085 \nL 234.927244 120.609419 \nL 235.537191 120.508835 \nL 236.147139 120.672766 \nL 236.757086 120.572669 \nL 237.97698 120.896621 \nL 238.586927 120.536704 \nL 239.196874 119.920115 \nL 240.416769 119.214552 \nL 241.636663 119.541166 \nL 242.24661 119.193322 \nL 242.856557 119.101719 \nL 243.466505 119.263739 \nL 244.076452 119.676798 \nL 245.296346 119.492807 \nL 245.906293 119.651326 \nL 246.51624 119.062539 \nL 247.126188 119.469357 \nL 247.736135 119.626373 \nL 248.346082 120.028607 \nL 248.956029 119.69182 \nL 249.565976 120.091193 \nL 250.175923 120.2441 \nL 250.785871 119.666878 \nL 251.395818 119.577915 \nL 252.005765 119.730999 \nL 252.615712 119.161068 \nL 253.225659 119.074612 \nL 254.445554 119.380074 \nL 255.055501 119.293751 \nL 257.495289 119.892224 \nL 258.105237 119.337967 \nL 258.715184 119.2534 \nL 259.935078 119.549152 \nL 260.545025 119.233794 \nL 261.154972 119.61102 \nL 262.984814 119.360269 \nL 263.594761 119.050334 \nL 264.814655 119.792105 \nL 265.424603 119.934298 \nL 267.864391 119.604105 \nL 268.474338 119.300864 \nL 269.084286 119.663244 \nL 269.694233 119.141009 \nL 270.914127 118.544435 \nL 271.524074 118.686109 \nL 272.134021 119.044977 \nL 272.743969 118.749589 \nL 273.353916 118.889429 \nL 273.963863 118.81234 \nL 274.57381 118.5202 \nL 276.403652 118.935656 \nL 278.233493 119.979354 \nL 278.84344 120.112103 \nL 279.453387 120.454689 \nL 280.063335 120.585328 \nL 280.673282 120.924644 \nL 281.283229 120.217999 \nL 282.503123 119.647129 \nL 283.723018 119.908561 \nL 284.942912 119.345743 \nL 285.552859 118.861892 \nL 286.162806 118.993326 \nL 288.602595 118.703981 \nL 289.212542 119.035499 \nL 289.822489 119.164327 \nL 290.432436 118.691433 \nL 291.042384 118.820492 \nL 292.872225 118.608932 \nL 294.092119 118.864068 \nL 294.702067 118.597367 \nL 295.312014 118.724294 \nL 295.921961 118.65496 \nL 296.531908 118.976128 \nL 297.141855 119.101056 \nL 298.36175 118.961868 \nL 298.971697 118.699772 \nL 299.581644 118.631587 \nL 300.191591 118.755786 \nL 300.801538 118.496264 \nL 301.411485 118.620176 \nL 302.021433 118.552885 \nL 302.63138 118.295882 \nL 303.241327 118.229773 \nL 303.851274 117.97489 \nL 304.461221 118.287178 \nL 305.681116 118.156329 \nL 306.291063 118.278595 \nL 306.90101 118.026817 \nL 307.510957 118.335039 \nL 308.120904 118.270156 \nL 309.340799 118.511066 \nL 309.950746 118.446238 \nL 311.780587 118.802731 \nL 312.390534 118.737814 \nL 313.000482 118.855353 \nL 313.610429 118.790624 \nL 314.220376 118.907445 \nL 314.830323 119.204511 \nL 315.44027 118.95904 \nL 316.050217 119.254538 \nL 316.660165 118.830654 \nL 317.270112 118.587867 \nL 319.099953 118.933093 \nL 319.7099 118.869723 \nL 320.929795 118.390909 \nL 321.539742 118.681436 \nL 322.149689 118.443609 \nL 322.759636 118.38215 \nL 323.369583 118.670645 \nL 323.979531 118.608932 \nL 324.589478 118.373512 \nL 327.029266 118.821884 \nL 327.639214 118.76069 \nL 328.249161 118.871369 \nL 329.469055 118.749589 \nL 330.079002 118.348316 \nL 330.688949 118.118884 \nL 332.518791 117.943454 \nL 333.128738 118.222438 \nL 333.738685 118.332079 \nL 334.348632 118.273514 \nL 334.95858 117.880559 \nL 335.568527 117.990222 \nL 336.178474 117.599664 \nL 337.398368 117.818791 \nL 338.008315 117.596692 \nL 339.22821 118.143825 \nL 339.838157 118.08684 \nL 340.448104 118.358114 \nL 341.058051 118.464552 \nL 341.667998 118.733794 \nL 342.277946 118.676024 \nL 342.887893 118.781059 \nL 343.49784 118.723433 \nL 344.107787 118.827904 \nL 344.717734 118.770433 \nL 345.937629 119.299417 \nL 346.547576 119.241294 \nL 347.157523 119.503621 \nL 347.76747 119.44531 \nL 348.377417 119.546667 \nL 348.987365 119.32944 \nL 349.597312 119.271869 \nL 350.207259 119.372938 \nL 350.817206 119.157478 \nL 351.427153 119.416083 \nL 352.0371 119.358822 \nL 353.256995 119.558453 \nL 354.476889 119.132183 \nL 355.086836 119.23185 \nL 355.696783 119.0203 \nL 356.916678 118.909345 \nL 357.526625 119.163078 \nL 358.136572 119.26164 \nL 358.746519 119.052212 \nL 359.356466 119.150608 \nL 359.966414 118.942272 \nL 360.576361 119.040481 \nL 361.796255 118.931271 \nL 362.406202 119.028894 \nL 363.626097 118.617834 \nL 364.236044 118.715502 \nL 365.455938 118.608932 \nL 366.675832 118.802731 \nL 369.115621 119.779877 \nL 369.725568 119.576954 \nL 369.725568 119.576954 \n\" style=\"fill:none;stroke:#8c564b;stroke-linecap:square;stroke-width:1.5;\"/>\n   </g>\n   <g id=\"line2d_20\">\n    <path clip-path=\"url(#pe0cb1d40b2)\" d=\"M 50.14375 116.908369 \nL 384.94375 116.908369 \n\" style=\"fill:none;stroke:#000000;stroke-dasharray:5.55,2.4;stroke-dashoffset:0;stroke-width:1.5;\"/>\n   </g>\n   <g id=\"patch_3\">\n    <path d=\"M 50.14375 251.82 \nL 50.14375 7.2 \n\" style=\"fill:none;stroke:#000000;stroke-linecap:square;stroke-linejoin:miter;stroke-width:0.8;\"/>\n   </g>\n   <g id=\"patch_4\">\n    <path d=\"M 384.94375 251.82 \nL 384.94375 7.2 \n\" style=\"fill:none;stroke:#000000;stroke-linecap:square;stroke-linejoin:miter;stroke-width:0.8;\"/>\n   </g>\n   <g id=\"patch_5\">\n    <path d=\"M 50.14375 251.82 \nL 384.94375 251.82 \n\" style=\"fill:none;stroke:#000000;stroke-linecap:square;stroke-linejoin:miter;stroke-width:0.8;\"/>\n   </g>\n   <g id=\"patch_6\">\n    <path d=\"M 50.14375 7.2 \nL 384.94375 7.2 \n\" style=\"fill:none;stroke:#000000;stroke-linecap:square;stroke-linejoin:miter;stroke-width:0.8;\"/>\n   </g>\n   <g id=\"legend_1\">\n    <g id=\"patch_7\">\n     <path d=\"M 302.089063 103.26875 \nL 377.94375 103.26875 \nQ 379.94375 103.26875 379.94375 101.26875 \nL 379.94375 14.2 \nQ 379.94375 12.2 377.94375 12.2 \nL 302.089063 12.2 \nQ 300.089063 12.2 300.089063 14.2 \nL 300.089063 101.26875 \nQ 300.089063 103.26875 302.089063 103.26875 \nz\n\" style=\"fill:#ffffff;opacity:0.8;stroke:#cccccc;stroke-linejoin:miter;\"/>\n    </g>\n    <g id=\"line2d_21\">\n     <path d=\"M 304.089063 20.298437 \nL 324.089063 20.298437 \n\" style=\"fill:none;stroke:#1f77b4;stroke-linecap:square;stroke-width:1.5;\"/>\n    </g>\n    <g id=\"line2d_22\"/>\n    <g id=\"text_16\">\n     <!-- P(die=1) -->\n     <g transform=\"translate(332.089063 23.798437)scale(0.1 -0.1)\">\n      <defs>\n       <path d=\"M 19.671875 64.796875 \nL 19.671875 37.40625 \nL 32.078125 37.40625 \nQ 38.96875 37.40625 42.71875 40.96875 \nQ 46.484375 44.53125 46.484375 51.125 \nQ 46.484375 57.671875 42.71875 61.234375 \nQ 38.96875 64.796875 32.078125 64.796875 \nz\nM 9.8125 72.90625 \nL 32.078125 72.90625 \nQ 44.34375 72.90625 50.609375 67.359375 \nQ 56.890625 61.8125 56.890625 51.125 \nQ 56.890625 40.328125 50.609375 34.8125 \nQ 44.34375 29.296875 32.078125 29.296875 \nL 19.671875 29.296875 \nL 19.671875 0 \nL 9.8125 0 \nz\n\" id=\"DejaVuSans-80\"/>\n       <path d=\"M 31 75.875 \nQ 24.46875 64.65625 21.28125 53.65625 \nQ 18.109375 42.671875 18.109375 31.390625 \nQ 18.109375 20.125 21.3125 9.0625 \nQ 24.515625 -2 31 -13.1875 \nL 23.1875 -13.1875 \nQ 15.875 -1.703125 12.234375 9.375 \nQ 8.59375 20.453125 8.59375 31.390625 \nQ 8.59375 42.28125 12.203125 53.3125 \nQ 15.828125 64.359375 23.1875 75.875 \nz\n\" id=\"DejaVuSans-40\"/>\n       <path d=\"M 10.59375 45.40625 \nL 73.1875 45.40625 \nL 73.1875 37.203125 \nL 10.59375 37.203125 \nz\nM 10.59375 25.484375 \nL 73.1875 25.484375 \nL 73.1875 17.1875 \nL 10.59375 17.1875 \nz\n\" id=\"DejaVuSans-61\"/>\n       <path d=\"M 8.015625 75.875 \nL 15.828125 75.875 \nQ 23.140625 64.359375 26.78125 53.3125 \nQ 30.421875 42.28125 30.421875 31.390625 \nQ 30.421875 20.453125 26.78125 9.375 \nQ 23.140625 -1.703125 15.828125 -13.1875 \nL 8.015625 -13.1875 \nQ 14.5 -2 17.703125 9.0625 \nQ 20.90625 20.125 20.90625 31.390625 \nQ 20.90625 42.671875 17.703125 53.65625 \nQ 14.5 64.65625 8.015625 75.875 \nz\n\" id=\"DejaVuSans-41\"/>\n      </defs>\n      <use xlink:href=\"#DejaVuSans-80\"/>\n      <use x=\"60.302734\" xlink:href=\"#DejaVuSans-40\"/>\n      <use x=\"99.316406\" xlink:href=\"#DejaVuSans-100\"/>\n      <use x=\"162.792969\" xlink:href=\"#DejaVuSans-105\"/>\n      <use x=\"190.576172\" xlink:href=\"#DejaVuSans-101\"/>\n      <use x=\"252.099609\" xlink:href=\"#DejaVuSans-61\"/>\n      <use x=\"335.888672\" xlink:href=\"#DejaVuSans-49\"/>\n      <use x=\"399.511719\" xlink:href=\"#DejaVuSans-41\"/>\n     </g>\n    </g>\n    <g id=\"line2d_23\">\n     <path d=\"M 304.089063 34.976562 \nL 324.089063 34.976562 \n\" style=\"fill:none;stroke:#ff7f0e;stroke-linecap:square;stroke-width:1.5;\"/>\n    </g>\n    <g id=\"line2d_24\"/>\n    <g id=\"text_17\">\n     <!-- P(die=2) -->\n     <g transform=\"translate(332.089063 38.476562)scale(0.1 -0.1)\">\n      <use xlink:href=\"#DejaVuSans-80\"/>\n      <use x=\"60.302734\" xlink:href=\"#DejaVuSans-40\"/>\n      <use x=\"99.316406\" xlink:href=\"#DejaVuSans-100\"/>\n      <use x=\"162.792969\" xlink:href=\"#DejaVuSans-105\"/>\n      <use x=\"190.576172\" xlink:href=\"#DejaVuSans-101\"/>\n      <use x=\"252.099609\" xlink:href=\"#DejaVuSans-61\"/>\n      <use x=\"335.888672\" xlink:href=\"#DejaVuSans-50\"/>\n      <use x=\"399.511719\" xlink:href=\"#DejaVuSans-41\"/>\n     </g>\n    </g>\n    <g id=\"line2d_25\">\n     <path d=\"M 304.089063 49.654687 \nL 324.089063 49.654687 \n\" style=\"fill:none;stroke:#2ca02c;stroke-linecap:square;stroke-width:1.5;\"/>\n    </g>\n    <g id=\"line2d_26\"/>\n    <g id=\"text_18\">\n     <!-- P(die=3) -->\n     <g transform=\"translate(332.089063 53.154687)scale(0.1 -0.1)\">\n      <use xlink:href=\"#DejaVuSans-80\"/>\n      <use x=\"60.302734\" xlink:href=\"#DejaVuSans-40\"/>\n      <use x=\"99.316406\" xlink:href=\"#DejaVuSans-100\"/>\n      <use x=\"162.792969\" xlink:href=\"#DejaVuSans-105\"/>\n      <use x=\"190.576172\" xlink:href=\"#DejaVuSans-101\"/>\n      <use x=\"252.099609\" xlink:href=\"#DejaVuSans-61\"/>\n      <use x=\"335.888672\" xlink:href=\"#DejaVuSans-51\"/>\n      <use x=\"399.511719\" xlink:href=\"#DejaVuSans-41\"/>\n     </g>\n    </g>\n    <g id=\"line2d_27\">\n     <path d=\"M 304.089063 64.332812 \nL 324.089063 64.332812 \n\" style=\"fill:none;stroke:#d62728;stroke-linecap:square;stroke-width:1.5;\"/>\n    </g>\n    <g id=\"line2d_28\"/>\n    <g id=\"text_19\">\n     <!-- P(die=4) -->\n     <g transform=\"translate(332.089063 67.832812)scale(0.1 -0.1)\">\n      <use xlink:href=\"#DejaVuSans-80\"/>\n      <use x=\"60.302734\" xlink:href=\"#DejaVuSans-40\"/>\n      <use x=\"99.316406\" xlink:href=\"#DejaVuSans-100\"/>\n      <use x=\"162.792969\" xlink:href=\"#DejaVuSans-105\"/>\n      <use x=\"190.576172\" xlink:href=\"#DejaVuSans-101\"/>\n      <use x=\"252.099609\" xlink:href=\"#DejaVuSans-61\"/>\n      <use x=\"335.888672\" xlink:href=\"#DejaVuSans-52\"/>\n      <use x=\"399.511719\" xlink:href=\"#DejaVuSans-41\"/>\n     </g>\n    </g>\n    <g id=\"line2d_29\">\n     <path d=\"M 304.089063 79.010937 \nL 324.089063 79.010937 \n\" style=\"fill:none;stroke:#9467bd;stroke-linecap:square;stroke-width:1.5;\"/>\n    </g>\n    <g id=\"line2d_30\"/>\n    <g id=\"text_20\">\n     <!-- P(die=5) -->\n     <g transform=\"translate(332.089063 82.510937)scale(0.1 -0.1)\">\n      <use xlink:href=\"#DejaVuSans-80\"/>\n      <use x=\"60.302734\" xlink:href=\"#DejaVuSans-40\"/>\n      <use x=\"99.316406\" xlink:href=\"#DejaVuSans-100\"/>\n      <use x=\"162.792969\" xlink:href=\"#DejaVuSans-105\"/>\n      <use x=\"190.576172\" xlink:href=\"#DejaVuSans-101\"/>\n      <use x=\"252.099609\" xlink:href=\"#DejaVuSans-61\"/>\n      <use x=\"335.888672\" xlink:href=\"#DejaVuSans-53\"/>\n      <use x=\"399.511719\" xlink:href=\"#DejaVuSans-41\"/>\n     </g>\n    </g>\n    <g id=\"line2d_31\">\n     <path d=\"M 304.089063 93.689062 \nL 324.089063 93.689062 \n\" style=\"fill:none;stroke:#8c564b;stroke-linecap:square;stroke-width:1.5;\"/>\n    </g>\n    <g id=\"line2d_32\"/>\n    <g id=\"text_21\">\n     <!-- P(die=6) -->\n     <g transform=\"translate(332.089063 97.189062)scale(0.1 -0.1)\">\n      <defs>\n       <path d=\"M 33.015625 40.375 \nQ 26.375 40.375 22.484375 35.828125 \nQ 18.609375 31.296875 18.609375 23.390625 \nQ 18.609375 15.53125 22.484375 10.953125 \nQ 26.375 6.390625 33.015625 6.390625 \nQ 39.65625 6.390625 43.53125 10.953125 \nQ 47.40625 15.53125 47.40625 23.390625 \nQ 47.40625 31.296875 43.53125 35.828125 \nQ 39.65625 40.375 33.015625 40.375 \nz\nM 52.59375 71.296875 \nL 52.59375 62.3125 \nQ 48.875 64.0625 45.09375 64.984375 \nQ 41.3125 65.921875 37.59375 65.921875 \nQ 27.828125 65.921875 22.671875 59.328125 \nQ 17.53125 52.734375 16.796875 39.40625 \nQ 19.671875 43.65625 24.015625 45.921875 \nQ 28.375 48.1875 33.59375 48.1875 \nQ 44.578125 48.1875 50.953125 41.515625 \nQ 57.328125 34.859375 57.328125 23.390625 \nQ 57.328125 12.15625 50.6875 5.359375 \nQ 44.046875 -1.421875 33.015625 -1.421875 \nQ 20.359375 -1.421875 13.671875 8.265625 \nQ 6.984375 17.96875 6.984375 36.375 \nQ 6.984375 53.65625 15.1875 63.9375 \nQ 23.390625 74.21875 37.203125 74.21875 \nQ 40.921875 74.21875 44.703125 73.484375 \nQ 48.484375 72.75 52.59375 71.296875 \nz\n\" id=\"DejaVuSans-54\"/>\n      </defs>\n      <use xlink:href=\"#DejaVuSans-80\"/>\n      <use x=\"60.302734\" xlink:href=\"#DejaVuSans-40\"/>\n      <use x=\"99.316406\" xlink:href=\"#DejaVuSans-100\"/>\n      <use x=\"162.792969\" xlink:href=\"#DejaVuSans-105\"/>\n      <use x=\"190.576172\" xlink:href=\"#DejaVuSans-101\"/>\n      <use x=\"252.099609\" xlink:href=\"#DejaVuSans-61\"/>\n      <use x=\"335.888672\" xlink:href=\"#DejaVuSans-54\"/>\n      <use x=\"399.511719\" xlink:href=\"#DejaVuSans-41\"/>\n     </g>\n    </g>\n   </g>\n  </g>\n </g>\n <defs>\n  <clipPath id=\"pe0cb1d40b2\">\n   <rect height=\"244.62\" width=\"334.8\" x=\"50.14375\" y=\"7.2\"/>\n  </clipPath>\n </defs>\n</svg>\n"
          },
          "metadata": {
            "needs_background": "light"
          }
        }
      ]
    },
    {
      "cell_type": "markdown",
      "source": [
        "### Summary\n",
        "- We can sample from probability distributions.\n",
        "\n",
        "- We can analyze multiple random variables using joint distribution, conditional distribution, Bayes’ theorem, marginalization, and independence assumptions.\n",
        "\n",
        "- Expectation and variance offer useful measures to summarize key characteristics of probability distributions."
      ],
      "metadata": {
        "id": "Wue7xBZsxNDd"
      }
    },
    {
      "cell_type": "code",
      "source": [
        ""
      ],
      "metadata": {
        "id": "YFTdy2HgxLWX"
      },
      "execution_count": null,
      "outputs": []
    },
    {
      "cell_type": "markdown",
      "source": [
        "# 2.7. Documentation\n",
        "\n",
        "PyTorch  API"
      ],
      "metadata": {
        "id": "Tzu_C5P6xLh9"
      }
    },
    {
      "cell_type": "markdown",
      "source": [
        "### Finding All the Functions and Classes in a Module"
      ],
      "metadata": {
        "id": "BHYQoYe7xaaB"
      }
    },
    {
      "cell_type": "code",
      "source": [
        "import torch\n",
        "\n",
        "print(dir(torch.distributions))"
      ],
      "metadata": {
        "colab": {
          "base_uri": "https://localhost:8080/"
        },
        "id": "opsQ0jyjxZrZ",
        "outputId": "9d1c4108-12e1-47bc-c92f-ca6d62915521"
      },
      "execution_count": 35,
      "outputs": [
        {
          "output_type": "stream",
          "name": "stdout",
          "text": [
            "['AbsTransform', 'AffineTransform', 'Bernoulli', 'Beta', 'Binomial', 'CatTransform', 'Categorical', 'Cauchy', 'Chi2', 'ComposeTransform', 'ContinuousBernoulli', 'CorrCholeskyTransform', 'Dirichlet', 'Distribution', 'ExpTransform', 'Exponential', 'ExponentialFamily', 'FisherSnedecor', 'Gamma', 'Geometric', 'Gumbel', 'HalfCauchy', 'HalfNormal', 'Independent', 'IndependentTransform', 'Kumaraswamy', 'LKJCholesky', 'Laplace', 'LogNormal', 'LogisticNormal', 'LowRankMultivariateNormal', 'LowerCholeskyTransform', 'MixtureSameFamily', 'Multinomial', 'MultivariateNormal', 'NegativeBinomial', 'Normal', 'OneHotCategorical', 'OneHotCategoricalStraightThrough', 'Pareto', 'Poisson', 'PowerTransform', 'RelaxedBernoulli', 'RelaxedOneHotCategorical', 'ReshapeTransform', 'SigmoidTransform', 'SoftmaxTransform', 'StackTransform', 'StickBreakingTransform', 'StudentT', 'TanhTransform', 'Transform', 'TransformedDistribution', 'Uniform', 'VonMises', 'Weibull', '__all__', '__builtins__', '__cached__', '__doc__', '__file__', '__loader__', '__name__', '__package__', '__path__', '__spec__', 'bernoulli', 'beta', 'biject_to', 'binomial', 'categorical', 'cauchy', 'chi2', 'constraint_registry', 'constraints', 'continuous_bernoulli', 'dirichlet', 'distribution', 'exp_family', 'exponential', 'fishersnedecor', 'gamma', 'geometric', 'gumbel', 'half_cauchy', 'half_normal', 'identity_transform', 'independent', 'kl', 'kl_divergence', 'kumaraswamy', 'laplace', 'lkj_cholesky', 'log_normal', 'logistic_normal', 'lowrank_multivariate_normal', 'mixture_same_family', 'multinomial', 'multivariate_normal', 'negative_binomial', 'normal', 'one_hot_categorical', 'pareto', 'poisson', 'register_kl', 'relaxed_bernoulli', 'relaxed_categorical', 'studentT', 'transform_to', 'transformed_distribution', 'transforms', 'uniform', 'utils', 'von_mises', 'weibull']\n"
          ]
        }
      ]
    },
    {
      "cell_type": "markdown",
      "source": [
        "### Finding the Usage of Specific Functions and Classes"
      ],
      "metadata": {
        "id": "2GmNWCZ8xhWZ"
      }
    },
    {
      "cell_type": "code",
      "source": [
        "help(torch.ones)"
      ],
      "metadata": {
        "colab": {
          "base_uri": "https://localhost:8080/"
        },
        "id": "pSSNRsFExhGD",
        "outputId": "08333de3-3d33-41cc-aae5-e78b1477f4a3"
      },
      "execution_count": 36,
      "outputs": [
        {
          "output_type": "stream",
          "name": "stdout",
          "text": [
            "Help on built-in function ones:\n",
            "\n",
            "ones(...)\n",
            "    ones(*size, *, out=None, dtype=None, layout=torch.strided, device=None, requires_grad=False) -> Tensor\n",
            "    \n",
            "    Returns a tensor filled with the scalar value `1`, with the shape defined\n",
            "    by the variable argument :attr:`size`.\n",
            "    \n",
            "    Args:\n",
            "        size (int...): a sequence of integers defining the shape of the output tensor.\n",
            "            Can be a variable number of arguments or a collection like a list or tuple.\n",
            "    \n",
            "    Keyword arguments:\n",
            "        out (Tensor, optional): the output tensor.\n",
            "        dtype (:class:`torch.dtype`, optional): the desired data type of returned tensor.\n",
            "            Default: if ``None``, uses a global default (see :func:`torch.set_default_tensor_type`).\n",
            "        layout (:class:`torch.layout`, optional): the desired layout of returned Tensor.\n",
            "            Default: ``torch.strided``.\n",
            "        device (:class:`torch.device`, optional): the desired device of returned tensor.\n",
            "            Default: if ``None``, uses the current device for the default tensor type\n",
            "            (see :func:`torch.set_default_tensor_type`). :attr:`device` will be the CPU\n",
            "            for CPU tensor types and the current CUDA device for CUDA tensor types.\n",
            "        requires_grad (bool, optional): If autograd should record operations on the\n",
            "            returned tensor. Default: ``False``.\n",
            "    \n",
            "    Example::\n",
            "    \n",
            "        >>> torch.ones(2, 3)\n",
            "        tensor([[ 1.,  1.,  1.],\n",
            "                [ 1.,  1.,  1.]])\n",
            "    \n",
            "        >>> torch.ones(5)\n",
            "        tensor([ 1.,  1.,  1.,  1.,  1.])\n",
            "\n"
          ]
        }
      ]
    },
    {
      "cell_type": "code",
      "source": [
        "torch.ones(4)"
      ],
      "metadata": {
        "colab": {
          "base_uri": "https://localhost:8080/"
        },
        "id": "6Qs6li5axlPc",
        "outputId": "e2ecb5ad-393f-4c24-b379-bc64c0ca7d24"
      },
      "execution_count": 37,
      "outputs": [
        {
          "output_type": "execute_result",
          "data": {
            "text/plain": [
              "tensor([1., 1., 1., 1.])"
            ]
          },
          "metadata": {},
          "execution_count": 37
        }
      ]
    },
    {
      "cell_type": "markdown",
      "source": [
        "### Summary\n",
        "\n",
        "- The official documentation provides plenty of descriptions and examples that are beyond this book.\n",
        "\n",
        "- We can look up documentation for the usage of an API by calling the dir and help functions, or ? and ?? in Jupyter notebooks."
      ],
      "metadata": {
        "id": "Zcs-ZDrLxkYw"
      }
    }
  ]
}