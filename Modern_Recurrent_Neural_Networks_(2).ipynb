{
  "nbformat": 4,
  "nbformat_minor": 0,
  "metadata": {
    "colab": {
      "name": "Modern_Recurrent_Neural_Networks_(2).ipynb",
      "provenance": []
    },
    "kernelspec": {
      "name": "python3",
      "display_name": "Python 3"
    },
    "language_info": {
      "name": "python"
    }
  },
  "cells": [
    {
      "cell_type": "markdown",
      "source": [
        "# 9.5. Machine Translation and the Dataset"
      ],
      "metadata": {
        "id": "AzDXquzfu7bK"
      }
    },
    {
      "cell_type": "code",
      "source": [
        "pip install d2l"
      ],
      "metadata": {
        "id": "DfqJ_tqnvDGg"
      },
      "execution_count": null,
      "outputs": []
    },
    {
      "cell_type": "code",
      "source": [
        "import os\n",
        "import torch\n",
        "from d2l import torch as d2l"
      ],
      "metadata": {
        "id": "_Q1gBmulvCru"
      },
      "execution_count": 3,
      "outputs": []
    },
    {
      "cell_type": "markdown",
      "source": [
        "### Downloading and Preprocessing the Datase"
      ],
      "metadata": {
        "id": "4H29BQcyvCcE"
      }
    },
    {
      "cell_type": "code",
      "source": [
        "#@save\n",
        "d2l.DATA_HUB['fra-eng'] = (d2l.DATA_URL + 'fra-eng.zip',\n",
        "                           '94646ad1522d915e7b0f9296181140edcf86a4f5')"
      ],
      "metadata": {
        "id": "ovDuO1HIvai_"
      },
      "execution_count": 10,
      "outputs": []
    },
    {
      "cell_type": "code",
      "execution_count": 11,
      "metadata": {
        "colab": {
          "base_uri": "https://localhost:8080/"
        },
        "id": "zvwzJTAFuqIn",
        "outputId": "73521b0d-1be7-4a3d-cc67-5318a45673e2"
      },
      "outputs": [
        {
          "output_type": "stream",
          "name": "stdout",
          "text": [
            "Go.\tVa !\n",
            "Hi.\tSalut !\n",
            "Run!\tCours !\n",
            "Run!\tCourez !\n",
            "Who?\tQui ?\n",
            "Wow!\tÇa alors !\n",
            "\n"
          ]
        }
      ],
      "source": [
        "#@save\n",
        "def read_data_nmt():\n",
        "    \"\"\"Load the English-French dataset.\"\"\"\n",
        "    data_dir = d2l.download_extract('fra-eng')\n",
        "    with open(os.path.join(data_dir, 'fra.txt'), 'r') as f:\n",
        "        return f.read()\n",
        "\n",
        "raw_text = read_data_nmt()\n",
        "print(raw_text[:75])"
      ]
    },
    {
      "cell_type": "code",
      "source": [
        "#@save\n",
        "def preprocess_nmt(text):\n",
        "    \"\"\"Preprocess the English-French dataset.\"\"\"\n",
        "    def no_space(char, prev_char):\n",
        "        return char in set(',.!?') and prev_char != ' '\n",
        "\n",
        "    # Replace non-breaking space with space, and convert uppercase letters to\n",
        "    # lowercase ones\n",
        "    text = text.replace('\\u202f', ' ').replace('\\xa0', ' ').lower()\n",
        "    # Insert space between words and punctuation marks\n",
        "    out = [' ' + char if i > 0 and no_space(char, text[i - 1]) else char\n",
        "           for i, char in enumerate(text)]\n",
        "    return ''.join(out)\n",
        "\n",
        "text = preprocess_nmt(raw_text)\n",
        "print(text[:80])"
      ],
      "metadata": {
        "colab": {
          "base_uri": "https://localhost:8080/"
        },
        "id": "TCql3W8pvfR4",
        "outputId": "ab8ee107-70c9-428c-ca86-1212549bf8bf"
      },
      "execution_count": 12,
      "outputs": [
        {
          "output_type": "stream",
          "name": "stdout",
          "text": [
            "go .\tva !\n",
            "hi .\tsalut !\n",
            "run !\tcours !\n",
            "run !\tcourez !\n",
            "who ?\tqui ?\n",
            "wow !\tça alors !\n"
          ]
        }
      ]
    },
    {
      "cell_type": "markdown",
      "source": [
        "### Tokenization"
      ],
      "metadata": {
        "id": "8lhNecjcviWM"
      }
    },
    {
      "cell_type": "code",
      "source": [
        "#@save\n",
        "def tokenize_nmt(text, num_examples=None):\n",
        "    \"\"\"Tokenize the English-French dataset.\"\"\"\n",
        "    source, target = [], []\n",
        "    for i, line in enumerate(text.split('\\n')):\n",
        "        if num_examples and i > num_examples:\n",
        "            break\n",
        "        parts = line.split('\\t')\n",
        "        if len(parts) == 2:\n",
        "            source.append(parts[0].split(' '))\n",
        "            target.append(parts[1].split(' '))\n",
        "    return source, target\n",
        "\n",
        "source, target = tokenize_nmt(text)\n",
        "source[:6], target[:6]"
      ],
      "metadata": {
        "colab": {
          "base_uri": "https://localhost:8080/"
        },
        "id": "n4FisXjLvjCf",
        "outputId": "451f43a4-49a6-44e4-cfe1-370189fc568a"
      },
      "execution_count": 13,
      "outputs": [
        {
          "output_type": "execute_result",
          "data": {
            "text/plain": [
              "([['go', '.'],\n",
              "  ['hi', '.'],\n",
              "  ['run', '!'],\n",
              "  ['run', '!'],\n",
              "  ['who', '?'],\n",
              "  ['wow', '!']],\n",
              " [['va', '!'],\n",
              "  ['salut', '!'],\n",
              "  ['cours', '!'],\n",
              "  ['courez', '!'],\n",
              "  ['qui', '?'],\n",
              "  ['ça', 'alors', '!']])"
            ]
          },
          "metadata": {},
          "execution_count": 13
        }
      ]
    },
    {
      "cell_type": "code",
      "source": [
        "#@save\n",
        "def show_list_len_pair_hist(legend, xlabel, ylabel, xlist, ylist):\n",
        "    \"\"\"Plot the histogram for list length pairs.\"\"\"\n",
        "    d2l.set_figsize()\n",
        "    _, _, patches = d2l.plt.hist(\n",
        "        [[len(l) for l in xlist], [len(l) for l in ylist]])\n",
        "    d2l.plt.xlabel(xlabel)\n",
        "    d2l.plt.ylabel(ylabel)\n",
        "    for patch in patches[1].patches:\n",
        "        patch.set_hatch('/')\n",
        "    d2l.plt.legend(legend)\n",
        "\n",
        "show_list_len_pair_hist(['source', 'target'], '# tokens per sequence',\n",
        "                        'count', source, target);"
      ],
      "metadata": {
        "id": "wbah07AvvlX4"
      },
      "execution_count": null,
      "outputs": []
    },
    {
      "cell_type": "markdown",
      "source": [
        "### Vocabulary"
      ],
      "metadata": {
        "id": "2eSMZrtIvnuR"
      }
    },
    {
      "cell_type": "code",
      "source": [
        "src_vocab = d2l.Vocab(source, min_freq=2,\n",
        "                      reserved_tokens=['<pad>', '<bos>', '<eos>'])\n",
        "len(src_vocab)"
      ],
      "metadata": {
        "colab": {
          "base_uri": "https://localhost:8080/"
        },
        "id": "idbN2M2_vodX",
        "outputId": "4ae134b6-0989-494f-dba6-23dd3c4d2797"
      },
      "execution_count": 16,
      "outputs": [
        {
          "output_type": "execute_result",
          "data": {
            "text/plain": [
              "10012"
            ]
          },
          "metadata": {},
          "execution_count": 16
        }
      ]
    },
    {
      "cell_type": "markdown",
      "source": [
        "### Reading the Dataset"
      ],
      "metadata": {
        "id": "O5jiJBvxwtnv"
      }
    },
    {
      "cell_type": "code",
      "source": [
        "#@save\n",
        "def truncate_pad(line, num_steps, padding_token):\n",
        "    \"\"\"Truncate or pad sequences.\"\"\"\n",
        "    if len(line) > num_steps:\n",
        "        return line[:num_steps]  # Truncate\n",
        "    return line + [padding_token] * (num_steps - len(line))  # Pad\n",
        "\n",
        "truncate_pad(src_vocab[source[0]], 10, src_vocab['<pad>'])"
      ],
      "metadata": {
        "colab": {
          "base_uri": "https://localhost:8080/"
        },
        "id": "YKfi1J0SwuYe",
        "outputId": "a2cfd7d2-48b6-404c-f1ec-b5606bb2bd38"
      },
      "execution_count": 17,
      "outputs": [
        {
          "output_type": "execute_result",
          "data": {
            "text/plain": [
              "[47, 4, 1, 1, 1, 1, 1, 1, 1, 1]"
            ]
          },
          "metadata": {},
          "execution_count": 17
        }
      ]
    },
    {
      "cell_type": "code",
      "source": [
        "#@save\n",
        "def build_array_nmt(lines, vocab, num_steps):\n",
        "    \"\"\"Transform text sequences of machine translation into minibatches.\"\"\"\n",
        "    lines = [vocab[l] for l in lines]\n",
        "    lines = [l + [vocab['<eos>']] for l in lines]\n",
        "    array = torch.tensor([truncate_pad(\n",
        "        l, num_steps, vocab['<pad>']) for l in lines])\n",
        "    valid_len = (array != vocab['<pad>']).type(torch.int32).sum(1)\n",
        "    return array, valid_len"
      ],
      "metadata": {
        "id": "3z8FJ9kZwwvv"
      },
      "execution_count": 18,
      "outputs": []
    },
    {
      "cell_type": "markdown",
      "source": [
        "### Putting All Things Together"
      ],
      "metadata": {
        "id": "Wm-1t85xwydo"
      }
    },
    {
      "cell_type": "code",
      "source": [
        "#@save\n",
        "def load_data_nmt(batch_size, num_steps, num_examples=600):\n",
        "    \"\"\"Return the iterator and the vocabularies of the translation dataset.\"\"\"\n",
        "    text = preprocess_nmt(read_data_nmt())\n",
        "    source, target = tokenize_nmt(text, num_examples)\n",
        "    src_vocab = d2l.Vocab(source, min_freq=2,\n",
        "                          reserved_tokens=['<pad>', '<bos>', '<eos>'])\n",
        "    tgt_vocab = d2l.Vocab(target, min_freq=2,\n",
        "                          reserved_tokens=['<pad>', '<bos>', '<eos>'])\n",
        "    src_array, src_valid_len = build_array_nmt(source, src_vocab, num_steps)\n",
        "    tgt_array, tgt_valid_len = build_array_nmt(target, tgt_vocab, num_steps)\n",
        "    data_arrays = (src_array, src_valid_len, tgt_array, tgt_valid_len)\n",
        "    data_iter = d2l.load_array(data_arrays, batch_size)\n",
        "    return data_iter, src_vocab, tgt_vocab"
      ],
      "metadata": {
        "id": "vEts-vtywzZr"
      },
      "execution_count": 19,
      "outputs": []
    },
    {
      "cell_type": "code",
      "source": [
        "train_iter, src_vocab, tgt_vocab = load_data_nmt(batch_size=2, num_steps=8)\n",
        "for X, X_valid_len, Y, Y_valid_len in train_iter:\n",
        "    print('X:', X.type(torch.int32))\n",
        "    print('valid lengths for X:', X_valid_len)\n",
        "    print('Y:', Y.type(torch.int32))\n",
        "    print('valid lengths for Y:', Y_valid_len)\n",
        "    break"
      ],
      "metadata": {
        "colab": {
          "base_uri": "https://localhost:8080/"
        },
        "id": "MXgDkZiYw1m9",
        "outputId": "07cd8e68-899d-4ea8-fc0b-dca0c0b0e0e4"
      },
      "execution_count": 20,
      "outputs": [
        {
          "output_type": "stream",
          "name": "stdout",
          "text": [
            "X: tensor([[  6, 112,   4,   3,   1,   1,   1,   1],\n",
            "        [ 17,  20,   4,   3,   1,   1,   1,   1]], dtype=torch.int32)\n",
            "valid lengths for X: tensor([4, 4])\n",
            "Y: tensor([[  6,   7,   0,  19,   0,   4,   3,   1],\n",
            "        [ 11,  61, 143,   4,   3,   1,   1,   1]], dtype=torch.int32)\n",
            "valid lengths for Y: tensor([7, 5])\n"
          ]
        }
      ]
    },
    {
      "cell_type": "markdown",
      "source": [
        "### Summary\n",
        "\n",
        "- Machine translation refers to the automatic translation of a sequence from one language to another.\n",
        "\n",
        "- Using word-level tokenization, the vocabulary size will be significantly larger than that using character-level tokenization. To alleviate this, we can treat infrequent tokens as the same unknown token.\n",
        "\n",
        "- We can truncate and pad text sequences so that all of them will have the same length to be loaded in minibatches."
      ],
      "metadata": {
        "id": "NamPpdS1w23m"
      }
    },
    {
      "cell_type": "code",
      "source": [
        ""
      ],
      "metadata": {
        "id": "ZuZKb94_w7bN"
      },
      "execution_count": null,
      "outputs": []
    },
    {
      "cell_type": "markdown",
      "source": [
        "# 9.6. Encoder-Decoder Architecture"
      ],
      "metadata": {
        "id": "jC3YP2Vi6MkR"
      }
    },
    {
      "cell_type": "markdown",
      "source": [
        "### Encoder"
      ],
      "metadata": {
        "id": "u9PelIRT680z"
      }
    },
    {
      "cell_type": "code",
      "source": [
        "from torch import nn"
      ],
      "metadata": {
        "id": "8OCkm5mo67Z6"
      },
      "execution_count": 22,
      "outputs": []
    },
    {
      "cell_type": "code",
      "source": [
        "#@save\n",
        "class Encoder(nn.Module):\n",
        "    \"\"\"The base encoder interface for the encoder-decoder architecture.\"\"\"\n",
        "    def __init__(self, **kwargs):\n",
        "        super(Encoder, self).__init__(**kwargs)\n",
        "\n",
        "    def forward(self, X, *args):\n",
        "        raise NotImplementedError"
      ],
      "metadata": {
        "id": "RD_JBn2X6NSm"
      },
      "execution_count": 23,
      "outputs": []
    },
    {
      "cell_type": "markdown",
      "source": [
        "### Decoder"
      ],
      "metadata": {
        "id": "J14yUX4K6_lY"
      }
    },
    {
      "cell_type": "code",
      "source": [
        "#@save\n",
        "class Decoder(nn.Module):\n",
        "    \"\"\"The base decoder interface for the encoder-decoder architecture.\"\"\"\n",
        "    def __init__(self, **kwargs):\n",
        "        super(Decoder, self).__init__(**kwargs)\n",
        "\n",
        "    def init_state(self, enc_outputs, *args):\n",
        "        raise NotImplementedError\n",
        "\n",
        "    def forward(self, X, state):\n",
        "        raise NotImplementedError"
      ],
      "metadata": {
        "id": "ODhmLm0z7AWE"
      },
      "execution_count": 24,
      "outputs": []
    },
    {
      "cell_type": "markdown",
      "source": [
        "### Putting the Encoder and Decoder Together"
      ],
      "metadata": {
        "id": "lo_151rf7CH0"
      }
    },
    {
      "cell_type": "code",
      "source": [
        "#@save\n",
        "class EncoderDecoder(nn.Module):\n",
        "    \"\"\"The base class for the encoder-decoder architecture.\"\"\"\n",
        "    def __init__(self, encoder, decoder, **kwargs):\n",
        "        super(EncoderDecoder, self).__init__(**kwargs)\n",
        "        self.encoder = encoder\n",
        "        self.decoder = decoder\n",
        "\n",
        "    def forward(self, enc_X, dec_X, *args):\n",
        "        enc_outputs = self.encoder(enc_X, *args)\n",
        "        dec_state = self.decoder.init_state(enc_outputs, *args)\n",
        "        return self.decoder(dec_X, dec_state)"
      ],
      "metadata": {
        "id": "PEI66E1d7DCq"
      },
      "execution_count": 25,
      "outputs": []
    },
    {
      "cell_type": "markdown",
      "source": [
        "### Summary\n",
        "\n",
        "- The encoder-decoder architecture can handle inputs and outputs that are both variable-length sequences, thus is suitable for sequence transduction problems such as machine translation.\n",
        "\n",
        "- The encoder takes a variable-length sequence as the input and transforms it into a state with a fixed shape.\n",
        "\n",
        "- The decoder maps the encoded state of a fixed shape to a variable-length sequence."
      ],
      "metadata": {
        "id": "edoHRkY87FL0"
      }
    },
    {
      "cell_type": "code",
      "source": [
        ""
      ],
      "metadata": {
        "id": "n1lmU3z17IEg"
      },
      "execution_count": null,
      "outputs": []
    },
    {
      "cell_type": "markdown",
      "source": [
        "# 9.7. Sequence to Sequence Learning"
      ],
      "metadata": {
        "id": "Pa8l5Sfo7OA8"
      }
    },
    {
      "cell_type": "code",
      "source": [
        "import collections\n",
        "import math"
      ],
      "metadata": {
        "id": "LbJJBgp07OnS"
      },
      "execution_count": 26,
      "outputs": []
    },
    {
      "cell_type": "markdown",
      "source": [
        "### Encoder"
      ],
      "metadata": {
        "id": "8kWe6qs77StC"
      }
    },
    {
      "cell_type": "code",
      "source": [
        "#@save\n",
        "class Seq2SeqEncoder(d2l.Encoder):\n",
        "    \"\"\"The RNN encoder for sequence to sequence learning.\"\"\"\n",
        "    def __init__(self, vocab_size, embed_size, num_hiddens, num_layers,\n",
        "                 dropout=0, **kwargs):\n",
        "        super(Seq2SeqEncoder, self).__init__(**kwargs)\n",
        "        # Embedding layer\n",
        "        self.embedding = nn.Embedding(vocab_size, embed_size)\n",
        "        self.rnn = nn.GRU(embed_size, num_hiddens, num_layers,\n",
        "                          dropout=dropout)\n",
        "\n",
        "    def forward(self, X, *args):\n",
        "        # The output `X` shape: (`batch_size`, `num_steps`, `embed_size`)\n",
        "        X = self.embedding(X)\n",
        "        # In RNN models, the first axis corresponds to time steps\n",
        "        X = X.permute(1, 0, 2)\n",
        "        # When state is not mentioned, it defaults to zeros\n",
        "        output, state = self.rnn(X)\n",
        "        # `output` shape: (`num_steps`, `batch_size`, `num_hiddens`)\n",
        "        # `state` shape: (`num_layers`, `batch_size`, `num_hiddens`)\n",
        "        return output, state"
      ],
      "metadata": {
        "id": "7ygdfu7P7TXe"
      },
      "execution_count": 27,
      "outputs": []
    },
    {
      "cell_type": "code",
      "source": [
        "encoder = Seq2SeqEncoder(vocab_size=10, embed_size=8, num_hiddens=16,\n",
        "                         num_layers=2)\n",
        "encoder.eval()\n",
        "X = torch.zeros((4, 7), dtype=torch.long)\n",
        "output, state = encoder(X)\n",
        "output.shape"
      ],
      "metadata": {
        "colab": {
          "base_uri": "https://localhost:8080/"
        },
        "id": "iQ9IHnxo7VdQ",
        "outputId": "2bb82b99-f831-4c92-9cd2-5f2fec1b8327"
      },
      "execution_count": 28,
      "outputs": [
        {
          "output_type": "execute_result",
          "data": {
            "text/plain": [
              "torch.Size([7, 4, 16])"
            ]
          },
          "metadata": {},
          "execution_count": 28
        }
      ]
    },
    {
      "cell_type": "code",
      "source": [
        "state.shape"
      ],
      "metadata": {
        "colab": {
          "base_uri": "https://localhost:8080/"
        },
        "id": "86DX5He97WhI",
        "outputId": "6b3b1e1c-5865-4ea7-ae2b-781824b72c84"
      },
      "execution_count": 29,
      "outputs": [
        {
          "output_type": "execute_result",
          "data": {
            "text/plain": [
              "torch.Size([2, 4, 16])"
            ]
          },
          "metadata": {},
          "execution_count": 29
        }
      ]
    },
    {
      "cell_type": "markdown",
      "source": [
        "### Decoder"
      ],
      "metadata": {
        "id": "38X1G-0e7XQf"
      }
    },
    {
      "cell_type": "code",
      "source": [
        "class Seq2SeqDecoder(d2l.Decoder):\n",
        "    \"\"\"The RNN decoder for sequence to sequence learning.\"\"\"\n",
        "    def __init__(self, vocab_size, embed_size, num_hiddens, num_layers,\n",
        "                 dropout=0, **kwargs):\n",
        "        super(Seq2SeqDecoder, self).__init__(**kwargs)\n",
        "        self.embedding = nn.Embedding(vocab_size, embed_size)\n",
        "        self.rnn = nn.GRU(embed_size + num_hiddens, num_hiddens, num_layers,\n",
        "                          dropout=dropout)\n",
        "        self.dense = nn.Linear(num_hiddens, vocab_size)\n",
        "\n",
        "    def init_state(self, enc_outputs, *args):\n",
        "        return enc_outputs[1]\n",
        "\n",
        "    def forward(self, X, state):\n",
        "        # The output `X` shape: (`num_steps`, `batch_size`, `embed_size`)\n",
        "        X = self.embedding(X).permute(1, 0, 2)\n",
        "        # Broadcast `context` so it has the same `num_steps` as `X`\n",
        "        context = state[-1].repeat(X.shape[0], 1, 1)\n",
        "        X_and_context = torch.cat((X, context), 2)\n",
        "        output, state = self.rnn(X_and_context, state)\n",
        "        output = self.dense(output).permute(1, 0, 2)\n",
        "        # `output` shape: (`batch_size`, `num_steps`, `vocab_size`)\n",
        "        # `state` shape: (`num_layers`, `batch_size`, `num_hiddens`)\n",
        "        return output, state"
      ],
      "metadata": {
        "id": "8khNpyxJ7X5W"
      },
      "execution_count": 30,
      "outputs": []
    },
    {
      "cell_type": "code",
      "source": [
        "decoder = Seq2SeqDecoder(vocab_size=10, embed_size=8, num_hiddens=16,\n",
        "                         num_layers=2)\n",
        "decoder.eval()\n",
        "state = decoder.init_state(encoder(X))\n",
        "output, state = decoder(X, state)\n",
        "output.shape, state.shape"
      ],
      "metadata": {
        "colab": {
          "base_uri": "https://localhost:8080/"
        },
        "id": "kZzS31yP7Z5h",
        "outputId": "d28d2c8d-3283-49eb-c903-1cc15f5ee459"
      },
      "execution_count": 31,
      "outputs": [
        {
          "output_type": "execute_result",
          "data": {
            "text/plain": [
              "(torch.Size([4, 7, 10]), torch.Size([2, 4, 16]))"
            ]
          },
          "metadata": {},
          "execution_count": 31
        }
      ]
    },
    {
      "cell_type": "markdown",
      "source": [
        "### Loss Function"
      ],
      "metadata": {
        "id": "EgW9YEyi7c2c"
      }
    },
    {
      "cell_type": "code",
      "source": [
        "#@save\n",
        "def sequence_mask(X, valid_len, value=0):\n",
        "    \"\"\"Mask irrelevant entries in sequences.\"\"\"\n",
        "    maxlen = X.size(1)\n",
        "    mask = torch.arange((maxlen), dtype=torch.float32,\n",
        "                        device=X.device)[None, :] < valid_len[:, None]\n",
        "    X[~mask] = value\n",
        "    return X\n",
        "\n",
        "X = torch.tensor([[1, 2, 3], [4, 5, 6]])\n",
        "sequence_mask(X, torch.tensor([1, 2]))"
      ],
      "metadata": {
        "colab": {
          "base_uri": "https://localhost:8080/"
        },
        "id": "7af_2Z4E7djW",
        "outputId": "f27ec9a4-bc3f-44bc-edc5-f64c30682e72"
      },
      "execution_count": 32,
      "outputs": [
        {
          "output_type": "execute_result",
          "data": {
            "text/plain": [
              "tensor([[1, 0, 0],\n",
              "        [4, 5, 0]])"
            ]
          },
          "metadata": {},
          "execution_count": 32
        }
      ]
    },
    {
      "cell_type": "code",
      "source": [
        "X = torch.ones(2, 3, 4)\n",
        "sequence_mask(X, torch.tensor([1, 2]), value=-1)"
      ],
      "metadata": {
        "colab": {
          "base_uri": "https://localhost:8080/"
        },
        "id": "R44kSBhE7gUB",
        "outputId": "e7239e7c-92b6-46ca-88c6-58bcfb03dd0c"
      },
      "execution_count": 33,
      "outputs": [
        {
          "output_type": "execute_result",
          "data": {
            "text/plain": [
              "tensor([[[ 1.,  1.,  1.,  1.],\n",
              "         [-1., -1., -1., -1.],\n",
              "         [-1., -1., -1., -1.]],\n",
              "\n",
              "        [[ 1.,  1.,  1.,  1.],\n",
              "         [ 1.,  1.,  1.,  1.],\n",
              "         [-1., -1., -1., -1.]]])"
            ]
          },
          "metadata": {},
          "execution_count": 33
        }
      ]
    },
    {
      "cell_type": "code",
      "source": [
        "#@save\n",
        "class MaskedSoftmaxCELoss(nn.CrossEntropyLoss):\n",
        "    \"\"\"The softmax cross-entropy loss with masks.\"\"\"\n",
        "    # `pred` shape: (`batch_size`, `num_steps`, `vocab_size`)\n",
        "    # `label` shape: (`batch_size`, `num_steps`)\n",
        "    # `valid_len` shape: (`batch_size`,)\n",
        "    def forward(self, pred, label, valid_len):\n",
        "        weights = torch.ones_like(label)\n",
        "        weights = sequence_mask(weights, valid_len)\n",
        "        self.reduction='none'\n",
        "        unweighted_loss = super(MaskedSoftmaxCELoss, self).forward(\n",
        "            pred.permute(0, 2, 1), label)\n",
        "        weighted_loss = (unweighted_loss * weights).mean(dim=1)\n",
        "        return weighted_loss"
      ],
      "metadata": {
        "id": "1o1ny3bJ7hf2"
      },
      "execution_count": 34,
      "outputs": []
    },
    {
      "cell_type": "code",
      "source": [
        "loss = MaskedSoftmaxCELoss()\n",
        "loss(torch.ones(3, 4, 10), torch.ones((3, 4), dtype=torch.long),\n",
        "     torch.tensor([4, 2, 0]))"
      ],
      "metadata": {
        "colab": {
          "base_uri": "https://localhost:8080/"
        },
        "id": "ukCi_bUC7ilw",
        "outputId": "ad018c39-5a38-4c8b-b31e-8cccea658a98"
      },
      "execution_count": 35,
      "outputs": [
        {
          "output_type": "execute_result",
          "data": {
            "text/plain": [
              "tensor([2.3026, 1.1513, 0.0000])"
            ]
          },
          "metadata": {},
          "execution_count": 35
        }
      ]
    },
    {
      "cell_type": "markdown",
      "source": [
        "### Training"
      ],
      "metadata": {
        "id": "rAc93_Ba7ji0"
      }
    },
    {
      "cell_type": "code",
      "source": [
        "#@save\n",
        "def train_seq2seq(net, data_iter, lr, num_epochs, tgt_vocab, device):\n",
        "    \"\"\"Train a model for sequence to sequence.\"\"\"\n",
        "    def xavier_init_weights(m):\n",
        "        if type(m) == nn.Linear:\n",
        "            nn.init.xavier_uniform_(m.weight)\n",
        "        if type(m) == nn.GRU:\n",
        "            for param in m._flat_weights_names:\n",
        "                if \"weight\" in param:\n",
        "                    nn.init.xavier_uniform_(m._parameters[param])\n",
        "    net.apply(xavier_init_weights)\n",
        "    net.to(device)\n",
        "    optimizer = torch.optim.Adam(net.parameters(), lr=lr)\n",
        "    loss = MaskedSoftmaxCELoss()\n",
        "    net.train()\n",
        "    animator = d2l.Animator(xlabel='epoch', ylabel='loss',\n",
        "                            xlim=[10, num_epochs])\n",
        "    for epoch in range(num_epochs):\n",
        "        timer = d2l.Timer()\n",
        "        metric = d2l.Accumulator(2)  # Sum of training loss, no. of tokens\n",
        "        for batch in data_iter:\n",
        "            optimizer.zero_grad()\n",
        "            X, X_valid_len, Y, Y_valid_len = [x.to(device) for x in batch]\n",
        "            bos = torch.tensor([tgt_vocab['<bos>']] * Y.shape[0],\n",
        "                               device=device).reshape(-1, 1)\n",
        "            dec_input = torch.cat([bos, Y[:, :-1]], 1)  # Teacher forcing\n",
        "            Y_hat, _ = net(X, dec_input, X_valid_len)\n",
        "            l = loss(Y_hat, Y, Y_valid_len)\n",
        "            l.sum().backward()  # Make the loss scalar for `backward`\n",
        "            d2l.grad_clipping(net, 1)\n",
        "            num_tokens = Y_valid_len.sum()\n",
        "            optimizer.step()\n",
        "            with torch.no_grad():\n",
        "                metric.add(l.sum(), num_tokens)\n",
        "        if (epoch + 1) % 10 == 0:\n",
        "            animator.add(epoch + 1, (metric[0] / metric[1],))\n",
        "    print(f'loss {metric[0] / metric[1]:.3f}, {metric[1] / timer.stop():.1f} '\n",
        "          f'tokens/sec on {str(device)}')"
      ],
      "metadata": {
        "id": "KgdPFBSd7kfp"
      },
      "execution_count": 36,
      "outputs": []
    },
    {
      "cell_type": "code",
      "source": [
        "embed_size, num_hiddens, num_layers, dropout = 32, 32, 2, 0.1\n",
        "batch_size, num_steps = 64, 10\n",
        "lr, num_epochs, device = 0.005, 300, d2l.try_gpu()\n",
        "\n",
        "train_iter, src_vocab, tgt_vocab = d2l.load_data_nmt(batch_size, num_steps)\n",
        "encoder = Seq2SeqEncoder(\n",
        "    len(src_vocab), embed_size, num_hiddens, num_layers, dropout)\n",
        "decoder = Seq2SeqDecoder(\n",
        "    len(tgt_vocab), embed_size, num_hiddens, num_layers, dropout)\n",
        "net = d2l.EncoderDecoder(encoder, decoder)\n",
        "train_seq2seq(net, train_iter, lr, num_epochs, tgt_vocab, device)"
      ],
      "metadata": {
        "id": "tGOYW_Dz7nO4"
      },
      "execution_count": null,
      "outputs": []
    },
    {
      "cell_type": "markdown",
      "source": [
        "### Prediction"
      ],
      "metadata": {
        "id": "vDV5ZiIN7ora"
      }
    },
    {
      "cell_type": "code",
      "source": [
        "#@save\n",
        "def predict_seq2seq(net, src_sentence, src_vocab, tgt_vocab, num_steps,\n",
        "                    device, save_attention_weights=False):\n",
        "    \"\"\"Predict for sequence to sequence.\"\"\"\n",
        "    # Set `net` to eval mode for inference\n",
        "    net.eval()\n",
        "    src_tokens = src_vocab[src_sentence.lower().split(' ')] + [\n",
        "        src_vocab['<eos>']]\n",
        "    enc_valid_len = torch.tensor([len(src_tokens)], device=device)\n",
        "    src_tokens = d2l.truncate_pad(src_tokens, num_steps, src_vocab['<pad>'])\n",
        "    # Add the batch axis\n",
        "    enc_X = torch.unsqueeze(\n",
        "        torch.tensor(src_tokens, dtype=torch.long, device=device), dim=0)\n",
        "    enc_outputs = net.encoder(enc_X, enc_valid_len)\n",
        "    dec_state = net.decoder.init_state(enc_outputs, enc_valid_len)\n",
        "    # Add the batch axis\n",
        "    dec_X = torch.unsqueeze(torch.tensor(\n",
        "        [tgt_vocab['<bos>']], dtype=torch.long, device=device), dim=0)\n",
        "    output_seq, attention_weight_seq = [], []\n",
        "    for _ in range(num_steps):\n",
        "        Y, dec_state = net.decoder(dec_X, dec_state)\n",
        "        # We use the token with the highest prediction likelihood as the input\n",
        "        # of the decoder at the next time step\n",
        "        dec_X = Y.argmax(dim=2)\n",
        "        pred = dec_X.squeeze(dim=0).type(torch.int32).item()\n",
        "        # Save attention weights (to be covered later)\n",
        "        if save_attention_weights:\n",
        "            attention_weight_seq.append(net.decoder.attention_weights)\n",
        "        # Once the end-of-sequence token is predicted, the generation of the\n",
        "        # output sequence is complete\n",
        "        if pred == tgt_vocab['<eos>']:\n",
        "            break\n",
        "        output_seq.append(pred)\n",
        "    return ' '.join(tgt_vocab.to_tokens(output_seq)), attention_weight_seq"
      ],
      "metadata": {
        "id": "mIrvIpMJ7rDR"
      },
      "execution_count": 41,
      "outputs": []
    },
    {
      "cell_type": "markdown",
      "source": [
        "### Evaluation of Predicted Sequences"
      ],
      "metadata": {
        "id": "vjR4BTo28DQn"
      }
    },
    {
      "cell_type": "code",
      "source": [
        "def bleu(pred_seq, label_seq, k):  #@save\n",
        "    \"\"\"Compute the BLEU.\"\"\"\n",
        "    pred_tokens, label_tokens = pred_seq.split(' '), label_seq.split(' ')\n",
        "    len_pred, len_label = len(pred_tokens), len(label_tokens)\n",
        "    score = math.exp(min(0, 1 - len_label / len_pred))\n",
        "    for n in range(1, k + 1):\n",
        "        num_matches, label_subs = 0, collections.defaultdict(int)\n",
        "        for i in range(len_label - n + 1):\n",
        "            label_subs[' '.join(label_tokens[i: i + n])] += 1\n",
        "        for i in range(len_pred - n + 1):\n",
        "            if label_subs[' '.join(pred_tokens[i: i + n])] > 0:\n",
        "                num_matches += 1\n",
        "                label_subs[' '.join(pred_tokens[i: i + n])] -= 1\n",
        "        score *= math.pow(num_matches / (len_pred - n + 1), math.pow(0.5, n))\n",
        "    return score"
      ],
      "metadata": {
        "id": "QTJfFzFS8D-F"
      },
      "execution_count": 39,
      "outputs": []
    },
    {
      "cell_type": "code",
      "source": [
        "engs = ['go .', \"i lost .\", 'he\\'s calm .', 'i\\'m home .']\n",
        "fras = ['va !', 'j\\'ai perdu .', 'il est calme .', 'je suis chez moi .']\n",
        "for eng, fra in zip(engs, fras):\n",
        "    translation, attention_weight_seq = predict_seq2seq(\n",
        "        net, eng, src_vocab, tgt_vocab, num_steps, device)\n",
        "    print(f'{eng} => {translation}, bleu {bleu(translation, fra, k=2):.3f}')"
      ],
      "metadata": {
        "id": "CmORI_d98Hle"
      },
      "execution_count": null,
      "outputs": []
    },
    {
      "cell_type": "markdown",
      "source": [
        "### Summary\n",
        "\n",
        "- Following the design of the encoder-decoder architecture, we can use two RNNs to design a model for sequence to sequence learning.\n",
        "\n",
        "- When implementing the encoder and the decoder, we can use multilayer RNNs.\n",
        "\n",
        "- We can use masks to filter out irrelevant computations, such as when calculating the loss.\n",
        "\n",
        "- In encoder-decoder training, the teacher forcing approach feeds original output sequences (in contrast to predictions) into the decoder.\n",
        "\n",
        "- BLEU is a popular measure for evaluating output sequences by matching -grams between the predicted sequence and the label sequence."
      ],
      "metadata": {
        "id": "S-FWjCkK8IDB"
      }
    },
    {
      "cell_type": "code",
      "source": [
        ""
      ],
      "metadata": {
        "id": "5qKmk3on8M4r"
      },
      "execution_count": null,
      "outputs": []
    },
    {
      "cell_type": "markdown",
      "source": [
        "# 9.8. Beam Search"
      ],
      "metadata": {
        "id": "72QCMOnw8V3j"
      }
    },
    {
      "cell_type": "markdown",
      "source": [
        "### Greedy Search"
      ],
      "metadata": {
        "id": "4RJjhdq48jN_"
      }
    },
    {
      "cell_type": "markdown",
      "source": [
        "![image.png](data:image/png;base64,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)"
      ],
      "metadata": {
        "id": "cCpA8Ift83NK"
      }
    },
    {
      "cell_type": "markdown",
      "source": [
        "![image.png](data:image/png;base64,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)"
      ],
      "metadata": {
        "id": "3djtTpXe87ni"
      }
    },
    {
      "cell_type": "markdown",
      "source": [
        "### Exhaustive Search"
      ],
      "metadata": {
        "id": "DryT5nWa8_qY"
      }
    },
    {
      "cell_type": "markdown",
      "source": [
        "For example, when |Y|=10000 and T′=10 , we will need to evaluate 10000^10=10^40 sequences. This is next to impossible! On the other hand, the computational cost of greedy search is O(|Y|T′) : it is usually significantly smaller than that of exhaustive search. For example, when |Y|=10000 and T′=10 , we only need to evaluate 10000×10=10^5 sequences."
      ],
      "metadata": {
        "id": "dTPrWJdc9I2P"
      }
    },
    {
      "cell_type": "markdown",
      "source": [
        "### Beam Search"
      ],
      "metadata": {
        "id": "Vk31eDso9fvi"
      }
    },
    {
      "cell_type": "markdown",
      "source": [
        "![image.png](data:image/png;base64,iVBORw0KGgoAAAANSUhEUgAAA0UAAAHmCAYAAAC8kCXcAAAgAElEQVR4nOzdf4wk533f+Q9lYuA/FIiAg13AS7FKPheYM0gsDojJf4Iukjt9h+gP+kwEwRGHbpFwwUAOkogcYFgUpyEyNfqRw10QepX84WuZVLUcyoJCW4sEd0jPklt9ggEugQuUXUCm2xaraI4vHCAx144BZWBb98fwW1tdU/1rpn9Ud71fwGJ3Z3q6n5l5quv5Ps/3+T73HB8f/0QAAAAAUFMfW3cDAAAAAGCdCIoAAAAA1BpBEQAAAIBaIygCAAAAUGsERQAAAABqjaAIAAAAQK0RFAEAAACoNYIiAAAAALVGUAQAAACg1giKAAAAANQaQREAAACAWiMoAgAAAFBrBEUAAAAAao2gCAAAAECtERQBAAAAqDWCIgAAAAC1RlAEAAAAoNYIigAAAADUGkERAAAAgFojKAIAAABQawRFAAAAAGqNoAgAAABArREUAQAAAKg1giIAAAAAtUZQBAAAAKDWCIoAAAAA1BpBEQAAAIBaIygCAAAAUGsERQAAAABqjaAIAAAAQK0RFAEAAACotXvX3QAA1RDHsfb39yc+5qWXXtKXvvQldbtdOY6zopZNlqapJK2sPUEQqNVqyff9lbwe5pOmqYIgmPiYvb097e/vq9Vqqd1ur6hl08VxvPR+FYah0jRVmqZZP67KtYzlCMNQg8Fg7Ocdx1Gj0dBgMFC3211hyyZbxfUQx7F6vR7XAyQRFAH4iOu6ajQa2f/DMJTv+yMfM1W5aaRpKs/z1O/3V9KmZrOpOI7VarWW/lo4u3yfjaJIkkaCH9d1JVWnH0vSzs7O0gekzWZTSZKo0+koTdMsQOp0Okt9XayXBT3SyXtmFEUjv3O7Dqp0PVggt8ygKE1TNZtNtdttNRoNhWGoXq9XqUk/rBZBEQBJJzfE/I0yiqJTH5Okfr+/6qatna2ixXG87qZgimKftRnyuvfjOI4Vx7GGw+HIIDgIArXbbQaBWyw/IRDHsaIo4neuk1X/TqeTvTc0Gg01m801twrrxJ4iADOzmTVLWQuCQHEcKwxDeZ6XraTEcaxmsynP8xSG4annCIIge7zNVo+Tf6784/NpUvv7+9mKgLXLHh8EwcjzB0GgMAxHHjMt2Nnf35fjOBoOh3P/zFBNzWYz6zNhGCqKoqwfe56nKIqy/u553ql+JE3uZ0X55yo+3gZivV5v5HrJtyd/3eXbnG9D/hoocl1XnU5nZCBss/BJksz6Y8OWsr4k3e2r+fde+1z+vb7Y3+I4lud52tnZOdVfyxT7t70PR1GkKIqUJMnI8+TbU7y32P3A2jDLvaXb7Y5MltgKMtdDfREUAZhLPoCwm5SkLOUgCAIFQaBGo6FOp6MwDLOvsXS3NE3V7XbVarWyG+A4zWZTjuPo4OBAe3t72eMdx8nS2BqNRjbAs5top9PR3t6e4jge2WNiM6X5Nk+7gXe73Url2uP88v3YBlTWL9vtdjZgazQa6na7I/1GutvPut1uaT8rCsNwpB/bZIJ0ssdJOlm5sVl9G3R2Op2s7+3u7mb9dDAYZG0+ODiQ4zgTB4Flq752HbE/DjbRJJ0EBdafW62WOp2Ooigaee+2dDMThmGWimbpzPn+WhSGocIwzPp3/n3Y9/2sT+7t7clxnOxeY9ejXaN2TSZJkgV29t4/7d6SnyCwr82/NuqH9DkA59Jut0+l3dlNSzqZ/d7f35fv+9kgLJ+6ZDfDSekcjUZDjuPIcRx1u91sRs9uXvb5KIpOpQh1u91sFjJ/s7OBpu/72QB1XOBT9zSTurDfv+u6CsNwpG+32+0sSLFAf5Z+ZuI4zvq4BUc2I13sx2maKo7jkevI9315npc9j6SRa8lePwiCmVIDrc/XLY0Qs+t0OiPv49YnpbvXiPV3C3DsevF9P5sgK+tjdh1YYQPbv5pP7XRdN7s29vf3R65H+7hdp6bdbmf/t2tiWqqg7V+y7y9NU97za4qgCMDC5QeFNsiT7laKK5tRT5Kk9EbUbrcVBIF6vZ4ajcbIjbPInr+Yspf/nD1nsb3TUj2w3cqq0JUVGcmb1s+Kz28z277vq9VqZcF9kc1uDwaDU1XDBoPBSKBUbG9Zm8qePwgCdbtdZsUxVvF9vPh/U1y9zH98XCqaBVKe52XXw6S+aM9TfP7i9ZafoLOAKz+RUMa+xlbHKD5SXwRFAM5lnhm1NE1PVbmTTgZz4waIlmY3GAyyfR/5Gcni8+crLeWfP9/OYpvtxgnkTQq+Z+lneZ1OJyt7bGk9vu+PnUW355v0/GX9eNr1aGlL/X6fgAgLNan/F9keTStiY/s8x/VLS6srXhPTKoGWBU7jWOrcpPLl2G4ERQBWxlLc8iVPrURsGftcu92W7/tZ6pIFRkWNRiMbbOZvzlZe3ORn28v+D0wyaz8zlg5ng658Py5L1cmnEOWfr/j8xcGeTTqMQ0CEZcgH48VKd+MCEvucvbdLkud56vV6pX3TVvOnPX/+erLPjVvx9TzvVPo3k2P1RqEFACtj1a/yG8KDIMj2GhVZEGWVwKTRm579PRgMshvmLM+ff07bhzQtVQowFgzN048tda7Yj/N92Wa17fmtmpY9fzE1rtiPwzDMijYU2R6ifKqQ/SF1FOeVTw+1/jipgE2+Wpw9vvjebp+zg1WTJMmugXxxlDz7mKXCTSqcYPsE81XvrJAE6omgCMDKWKGEfOlW23Q+TqfT0WAw0O7urnZ2dkY2+0p3b2x2syw+v30sL19dbFLKBlCmrB9Lp/tZ3sHBwUz92PZM2DXRbDaz5y8eUpzflzFtj9D+/r6ku1XC8n+YHcd5WVGGfH8srsLkWUEEKylfPDPIJgY8z1OSJPJ9P3v+nZ0d7e7ulj6/Vb2zqqWTColYm4Mg0M7ODvvsoHuOj49/su5GAKifs1T4WURVoHzKBFWGsA7z9ruyx9ugj2pZqJpF9O9Jnyv7mJXszleEXGabsZ1YKQKwFme5AS36psVNEOswb7+b9nj6Mapkkf17XDrqonENQSIoAlBD3ACxDejHwF2zVF8EJiF9DgAAAECtsVIEAAAAoNYIigAAAADUGkERgFJpmmaHPdoZLKtg50uY/FktZexsjHlwLkt9rKsfF89RCcNwYj/Ol5Wf5zWAedk10Ww2p/bLRcq/Vxff58vaWHYO0TRcEzgPgiIAp9j5K3YDcxxHvV5Pnuct/aZjB/nl2zLJYDDQYDCY+fnLDsHEdkrTdGw/XvZAMEmSkX6cP7h1XFvn6ccW5AHzsHOBBoOBGo2G0jRVs9lcSV/Kv1fbAauTRFGkJElmeu40TbPzvICzunfdDQBQLXbeQ7vdHjlc0mbu7LDTVRkOhwt9Ps6jqA/P8+T7/qn+aoPARfetSZbRj4F52Epp8bDqVqulZrOpVqu1soNL7fBWoEoIigCM6PV6kjQSEEnKDoosph+FYag0TbNBWrfbzYKO4gx9mqZqtVojN0NL5UjTVI1G41R7giAYuVnHcTzyXEX555OkRqOhdrstx3EUhqGSJFGSJArDMDsNPf+cjuOo0+mMBE5RFGU/l/zzobqs75UF8NaP8wFyFEUaDAZZv9nb28v6nD220WiM9D3f97OvtxVOmwkv9s0wDNVoNMb247Igx2bvi/0yiqJslj0IguxazbdhXD+277Hs89huURSp0+mcCnx8388OATb2PhrHsVzXPfW+FwSBOp3OyHtt/r1fmvxebZ/L32fy77N7e3un2l98n7Y+bG2VTq6z/P0if38qu2bz7S/em1A/pM8BGBHH8dgbg92EjM08NhqN7CaWT7EbDAYKw1D7+/tqNBpyHOfUvg7LG2+1Wtnj8/JpR7aKJZ3cNIv58JYuZc/XaDQURVE2uLSgy3XdkcGwPacNTvPfg+1HabVa2tvb02AwIG1pAwwGg7Gz3sWAwH7H1o8dx1Gz2cz6gAUb+X5c3Mtm/brVamWfz8sHTJayJJ30uV6vdyqVyPpgo9FQo9FQHMfa3d2VdDKIdV1X0t0+bSmv0t0B5e7ubva8dh2Mu1ax3awfjHtvz6/c5N8DO51O9j6a79P599VWq6UkSUb6U/69utVqlb5XF68fmwCz+0SevU87jpP1X3vO/PlE+aCs2Wxm96dGo3Hqmi3eK+x9APXFShGAEfOkl6Vpqm63mw0+XdeV53lKkmTkOWy2vt1uZ3sn2u12dlM7Pj7OPj9pM/z+/n42qymdpCTZQFA62cdRTPuTlN3obDDpOE42ALAZTwv22u12tg+l0+lkg2t7vOu6K9uYjLOL43jmVCAb/Nnv2Pd9xXE8MkGQpmmWAmf91IIce+xwOMz61qQBVhRF2cqrPV++H1vb8/3YBor5WXL7Wunk2mi321k/9n1/JE0wTVP5vp/NlPu+X7oyi+1kwcos7+3j3keL78uNRiPrbzaRYO/9495Xx7Utn9ZXdv3YvSZ/jdq9JP81tppVvCatvZYabvKrWxz+CoIiACPmySnv9/un0oak0f0ONqNtHMcZ+XzxJmSzkmXiOB5ZqSq21wZ99vWDwWBiAJNfCSgOYO37sfY0m81sxnFVefc4O9d1Z14FscGfrUrm/5hiP7WBl6QsXS3/mEkBh00K5Nkgz/5tgZkN/KYF4hZI5fux4zjZRnX7t60WWT9mEFgP9nueZbJg1vfRfN/JP2fx2jHFe4Gx18k/h6Xm5f9vxRmsYIOtEpWx9++ye4lNdjiOk+07LKbWoZ5InwNwyqQqWPkyqc1mM6tkJE0eCI57neINetpNadLnLe3DZvEtD36ccZWN2u129r10Oh11u92R4OgspWKxWo1GY2Llqnw6TxAE2tnZyfYrWIrcrNI0PTXgGzcAlHRqJVU63a+bzaaazWYWcE3qx+NWAfJfZzP/+X68u7tLP66JSf1ROgkULICY9X102jUy6/2g7HmK/TKKoqxN9tyTgrtxGQ/5tNnhcJhlMYRhKM/zSJ+rOYIiACMsP7xsZjCf2mazdv1+X91udySNbla2aTx/A5wUkDmOc+rzxbLHknR8fDySajGOtdf2mNgfm0mXlG007nQ62U103M8H1WHlhssGOfnUHFvp7Ha7WV+2NM95XstWdcyk85Bc1802lJt8v7aCINaPrU+Ok1+lyvfjfHBv/TXfj6e1E9vDUibH7Ye0AFy6W+Bj1vfRstcqe68e956ZL3xgihMaVlBkOBxm/XvSpIdd/5ZSmn9vtwAxiiK5rqt+v589L0FRvREUARjRbrezm2c+ALJNqjbTZjek/AzkvAUI7LlsQJmfrRzXNssVl8YP6CalxRVvwO12e6Sal22Ctxt6r9cbWRmytCzSLKrN9311Op2RDeL5g1wtRUg6PVM9bz+2tJt8+t2kfmxBVL4fFweM+RSkNE21v79f+lz2uOK1kaapdnd3s35sBUKK/Rj1YRXm8gdiF4t+SCfXQ75/FKu0zcLeV+1rJl0PxetH0kh/zxfuMcXJNLuG7b5U9pxWzCFfYCXfLt7XQVAE4BSbZba0IksryG+ctUHl7u6uPM/Tzs5OlnY0680zvynd87xTm2DL2mUBm7UpvzplX+t5njzP0+7ubtbefIqRpWLYBnvXdbNUQM/zRjas29/2Oc/zSsvaonqsotZgMDjVj22lJN8Hm81mdgDkPKtF+XL11kcm9Q+7jqwfB0Fwaj+F7/sjfc6qctlg1tIDbfO6fa/5fmzPZX+7rptdr9bG4h49bC/HcbJ9oNbXrTBO/uwiW4WZ9D46jfU3ew4rgjDOwcFBdv3s7OyMBCfF68tSXW2fUf5xlt5sq//5a9JWhI0Fbjs7O9rZ2VEcx6eKS6Be7jk+Pv7JuhsBoLrSNFWSJFPzt6XRIgrFf5c9Ns/S1Ozr8is643LOx71G/rnGPUfxY7NUZyo+LzbHLP14Ur+ZpQ8Vn6P49dLp/jXpNcraU3yOsn487/eJ+rF+MqkfLOJ6yH+82H/nuX7ybba+Pct7/7iPTfo+UV8ERQAAAABqjfQ5AAAAALVGUAQAAACg1giKAAAAANQaQREAAACAWiMoAgAAAFBrBEUAAAAAao2gCAAAAECtERQBAAAAqDWCIgAAAAC1RlAEAAAAoNYIigAAAADUGkERAAAAgFojKAIAAABQawRFAAAAAGqNoAgAAABArREUAQAAAKg1giIAAAAAtUZQBAAAAKDWCIoAAAAA1BpBEQAAAIBaIygCAAAAUGsERQAAAABqjaAIAAAAQK0RFAEAAACoNYIiAAAAALVGUAQAAACg1giKAAAAANQaQREAAACAWiMoAgAAAFBrBEUAAAAAao2gCAAAAECtERQBAAAAqDWCIgAAAAC1RlAEAAAAoNYIigAAAADUGkERAAAAgFojKAIAAABQawRFAAAAAGqNoAgAAABArREUAQAAAKg1giIAAAAAtUZQBAAAAKDWCIoAABPFcaxms6koitbdFODM0jRVs9lUEATrbgqACrrn+Pj4J+tuBACguprNppIkkeu66vf7624OcCbWjyVpOByuuTUAqoaVIgDAWFEUKY5jdbvdbEAJbJo4jhXHsdrtttI0XXdzAFQQQREAYKwwDNXpdCSdpB8xoMQm2t/fV7vdVrvdlnQSJAFA3r3rbgAAoJrCMFSapup0OlkwlCSJHMdZc8uA2dlq53A4zPouwT2AIlaKAACnpGmqMAzV7XYlKRtMDgaDdTYLmFsYhmq321kf9n2foAjAKawUAQBOsQpd+QGk7/vrbBIwt7LVTongHsBpVJ8DAIywEtzFNLk0TeX7PhXosBHSNJXneaX92HEcKtABGEFQBAAY0Ww2JelU8BOGoaIoYjCJjWAluIv91YL+4+PjNbUMQBWxpwgAkLFN6Xt7e6c+12g0qECHjWAluG1PXJ7rutljAMAQFAEAMrYpvWz/kA0mOa8IVbe/vy/f9yfugyO4B5BH+hwAAACAWmOlCAAAAECtERQBAAAAqDWCIgAAAAC1RlAEAAAAoNbuXXcDAACLl6ap4jjOSmiXlSYGqi5NUyVJosFgoMFgoL29vYkV5QDgrAiKAGDD5QOgwWBw6vyV4iGsQBUVA6CyfkxABGBZCIoAYMMFQTD2IMpOp8NAEhuBfgxgnX6q0+m8uO5GAADOznEc3XPPPfrwww91586d7OO+75M2h41h/fi+++4bOViVfgxgFVgpAoANl6apXn/9df2X//Jfso85jkPaHDbOtWvX9OGHH458jIAIwCpQfQ4ANlQcx2o2mwqCQJ/4xCf0rW99S47jSGIgic2RpqmazaaazaY+/PBD/dqv/VqWKtfv97M+DQDLRFAEABsoDEM1m03FcaxOp6N3331XP/7xj5WmKRvSsTHCMJTneYrjWO12W8fHx3rwwQezfk0/BrAq9xwfH/9k3Y0AAMwmjmMFQaA0TeX7/qkSxXEcL2wgmaapoiiS4zhyHIcBKhYmjmPt7+8rjmM5jqNut7u0fgwAsyAoAoANkKbpSHWubrerdru98NeIokhvxgN9f1BeBeyTDzh6/DFfnU6HtCacSRAEiqJI0klVuU6ns+YWAQBBEQBUXhRFCoJA0t1KXIsOSPKvceGSq4cffUwXLrl66JGT2fqj9xPdfjvW0fuJbt28ofsfcPXsZ1oMaDGzaaucALBOBEUAUFHTUowWIb8CdeGSq+e+9ooefuSxiV9zdJjo5S88q1s3b+gBx9H1gwNWjTBWcZWTPW8AqoigCAAqKAxDhWEoabkpRjs7O5Kkpz/3op7+7Jdm/rqjw0TXf/ebeu3qi3rAcfSNJQRs2Hz5ftxut6mKCKCyCIoAoEJWmWJk1eu+3Htz6urQOEeHiYInPqUHHEd/NBwuuIXYVKtY5QSAReLwVgCogFUUUsiL41hxHOvKU8+cOSCSTvYfPffVV/Ty888qDEP2GKFyhRTCMFSapiMfa7VaBGkARrBSBABrtopCCnlpmsrzPF245Kr7xrtjH/fkg/eM/N8KMDz31VdGPm57jD78j+/qt77BikBdRVGUBSBVKqSws7Mj3/ezaypN0+wcpHUHbACqg6AIANZkXSlGNpM/KW3u+uuv6uXnn9VzX31FF+53JZ1UoHvt6y/p4iVXX+69OfJ4S6PzfV/9fn/p3wOqo8qFFGzCYTgcjkw0hGGoKIo0JOUTwEdInwOANVhVIYVJJqXN3X77ZIB75aln7n7wEenoT1Ndf/3VU4+/cMnVw488ph+9O37lCdun6oUUBoOBJJWuvBZT6gDU28fW3QAAqJM4juV5nsIwzFZVVh0QvXFjMBrslDh6Pyl9zPXXX9XDj5YHUw89+pj+5L2UwWYNxHGsZrOpMAzlOI76/X7lAiKT35uXpif9MwzDyrYXwHqwUgQAK7DqQgqTvP9eogf/7uTH3Lp5Q1fuf0bXX39VR396EuRcf/1VXfyosEIZO+g1SRLOLdpiVSukMEkcx0rTNGuvWef1B6CaCIoAYMnyhRTa7bY6nc7aggYbHD70i+P3fBwdJpKkW2/d0NH7H/375g1JmrjCdPHSyd6jwWBQmT0lWJyqFlIYx1aFOp2OGo3GyMfyKX8AIBEUAcDSVPGsFgvGrHhCmVtvnQRAX+m9qQuX7j7Oiilc+FmnNDj64KNgilWi7VLlQgqTWHvb7fapPjkYDNTr9QiKAGTYUwQASxAEQXY4aqfT0XA4rMRA0nVPgpzbN+Oxj7EiC/mAyP5/4ZKbfb7IVpWwPcIwlOd5iuNY7XZbx8fHlejHs5hUZIEUTwBFrBQBwALFcawgCCqbYuQ4jj75gKPbb92QPvul0sfceutG6UrQrZs3dHSYjE29s2CpSt8vzqaKq5zziuNYvu+fKvxh12er1VpTywBUEUERACxAVQop2N4l6e4MeX5G3HEcOa6rP/zj8as6R4dJdiZR/mPXX39VV556Zuy+orff/DeSmIXfdJtUSGES2z/ked7Ix61a3qYFeQCWi8NbAeCcqlJIoWwAWNTv9zUYDBSGoZ776iunApxbN2/o21dfOvV1D31UhvvpcatLN2/ohdbj2f8dx1G73Vaj0WDwuSGKhRS63e5K+/EsAb3rujO1aVxZeIJ1AOMQFAHAGVUxxeg73/mO/t2/+3enShDn25emqa7s7urHf3XPqWIKZ/VC63HdunlD3/rWt/TOO+8oiqJsYGoB0qauOGy7qhRS2NnZmfh5ymgDWCaCIgA4g6qkGNkZLGVnsRg7JDbPDt+88tQzY88dmtVrX39Jr1198dTPwUofW7uOj4/P9TpYvDAMR8pTr/NA0+985zt65513svaYqkw4ANhuBEUAMIcqFFKwAGgwGGSz+9LJ4PHJJ5/Uk08+qWazKWlywPbsrwT67V6kpz/34ti0uGksba4s8Mq3l7SlaqnCKmc+kC8GQmZSvwKARSIoAoAZrLuQwqRAqJia5nme0jSdmgZlaXTvpamuPPWMnv7sl+ZKpbMVIulsKVe2B4r0utVa5yrnuJXNeQN6AFg0giIAmGJdhRTGBUK+76vRaIwdMKZpqiRJZgpS0jTVb73a01e//E904ZKbBUeTHB0m+mLrcR0dJufakG/fn60SOI4j3/fVarVIlVqCfD9eZSGFeQJ6O9uL6nAAVo2gCADGWEeKkQ0gywoV2N/LEMexfiUI9F6a6sIlVxcvubpwv6uHftHXhftd3b4Z6/ZbN3Tr5o3saxY1k5+mqeI4Vq/XywbNjuOo0+mwsX4B1lFIYRUBPQAsEkERAJRYZYrRpEBolSWtrR1vxgN9fxCXPsbaZUHastowGAwqd/DtJlplIYV1BfQAsAgERQCQs6pCCsXUMal6Z/vYCo50N7Vt3VhJmM2qVjmrEtADwHkRFAGAVlNIYRMCoaqzPSf83MZb9ion/RjANiIoAlB7y0oxslWNwWBQOoBcVgraNivbq0L1uhPLLKRAIARg2xEUAaitZaQYTSo5TCC0WMXDYR3H0XA4XHOrVm9ZhRTiOCagB1AbBEUAammRKUbzlBzG4uX3PtVtM/8iVzkJ6AHUGUERgFpZVCGFs5YcxmrZKsq2/U7yq5zL6McE9ADqhqAIQC0sopDCuP0srutu3aB7W6RpKs/zJN2toNdoNDZ6RSn/PZ1llZOAHgBOIygCsPXOk2LE2Subb9zhsJu6EmJ7qTqdzszpbAT0ADAZQRGArXXWQgqcvbK9isHBMkqvVwUBPQDMjqAIwFbKlyeeJcWIksP1k6bp1hUOIKAHgLMhKAKwlSzFqNVqjR0IUnIYZZrNppIk2Zh+QEAPAOdHUASgNvKlhgmEME4Yhll6XVXPPiKgB4DFIigCUHm2N8j2Bc2Ds1fOpxgg1Olnlk8/O8vXBkEwts9aWfi8WQsexHGsZrOZta1Ov5OzKvZj3/fnKlSB2Vnfl04OEi6ate+f5xoBzoKgCEDlWTqTpJln7YsluKXNrji2avbzszSyRqORpSRKs/8e6mpan93Z2cl+rtLd4N113dKBZJ5V0/N9n0H9DJrNpuI4VqfTOdWPDw4O+Bku2Fn7fvHxsz4OWJR7190AAJgkiiLFcax+v5/NPs4ijuNs4Mjs4vwsICoOPhzHyQaZ7FUpZ32v2+1ms935gbcN7IorFY1GY6Y+TuW42Vk/7vf7I/3V9315nqcoinhvWKBi3y++T0zq+7b6Oelx7XZbnucpCIK5swaAaT627gYAwCR2HovrutkM+Sza7baOj4/V7/e3ftATx/GpNJPzPp8NbIp832cwMsX+/r7a7XY2GLRZczMYDCSdTsvr9XoL/T1umnmu71nEcZwFPcUA3tIabRUCi2F9f1zQPi4ltdfrlT6++DhLfazzdYLlYaUIQGWFYag0TdXpdLgJTpDfX9LpdM69itDr9eT7/tiVIFYpxrOVzeFwKMdx5DiOBoPBqZ+l7/sjAUD+3KS62t3dzVbVFpHmasHnuP5KP16s/Kq+pNK+n6bpTH1/MBiM/f00Go2R/aHAorCnCEAlpWkqz/NGDtf0PG/mwdLv/M7v6G/+5m905cqVZTd1rX7nd35Hf/AHf6A//POOuOYAACAASURBVMM/zAYaNps6qRz5JJ7nsSJ0RsWfnQWs+X1COzs7pV87y3la0vb27X/xL/6Ffu/3fk8//OEPJd3tx41G40wBjKUi0o9XY5a+73le6QRXu90e+T1Neg+ylNRpe++AebFSBKCSbEDjOM6pWcVZ/Pt//+/1z/7ZP1tK26rmYx/7mP7mb/4m+3/+AM+zrB5t46Gmq2Arm61Wa2wamA0I88F+mqZKkiQbRE4LjP7zf/7Peu655xbY8mrK9+MwDOdePaIfr471/UajMTI5U7wO0jSd2PctCLLnKsN+RiwLQRGAyskXSdjf3x/5XHF/xjgf//jH9fzzz+vP//zPl9HEyvhbf+tv6fd///d1zz33nBqA5Ms1z2NSzn4URer1eup2uww4c6yimeM4I3222F/td5Qf1Fmane/7M238/7M/+7Ot7Nu3bt3Sn/zJn+jdd98d+fh50unG9WMr808/Pr9838/vDSr2fUt5G9f37dooe1z+OWziAVg0giIAlbO/vy/f90+lR4RhOHMu+d7e3jKaVkn5lJRF7Mcom+GVTgaSQRBwJk4JO5OoWK3PzhSyVYtxRRakk0HkLDPgX/ziFxfT6IppNptZQLSI85darZbCMCxdWWg2m/TjBZnW9+3nP2vfH1eMwY4JmLTfETgPgiIAlVLcrJvXaDTGDnLqzM6raTQaC/m5dDodRVGU7eFqNBoaDAaKooi9RiVsZbOsz7quK+lk0GfBpq0Imfz5K3WfAbcSzIsoguD7vsIwzAL5fD8+y0HQOG1SpUrr+8aKLEzr+8XHWZAUhmHpZBmwKBRaALA042b8Jmk2m2MHLGmaand3V91ud+rg39JjGo3GwoKFOikefst5T+NN2/idLxDieV7pYzhUeDls0G2HtXKA82JN6/vNZjN735i17+cPfzWu6/L+g6UjKAKwUPnN0ZYytI7Tx6MoGjkI87wV2YAqYbUUABaLoAjAuUVRlKWlGJuRXecqjVU26vV6IwecnrfUL7BOFvDTjwFgcQiKAJybnbtShUBoElvFssMCpZM2u66rVquVDTKBKkvTVHEcZ8G+qfr1h81gBVUsLY6+hLogKAIwlQUT4zZAV/E8ENtTtLe3V3pTt4FlFVe4gFlN6seki+Is8lUm2cODOiEoAlbI0rmsNOmb8UB/kiYj1cNc161EgFHcGySdDLQODg4q0b5pbHO1VTKadB7JtIEl6UnYBPl0UevTEv0Yo/Ir5hQvAO4iKAJWJAzDrAKSuXDJ1cVLrm7dvDHy8U6ns7YbVVmBAhtIbdrN0w4VtECn0+nMdDbJuDQ7BpbYJJPSRanKWB8WINv7oXEcJ3tPBEBQBCxdmqZ69lcCfX8Q68IlV1eeekYPPeLr4Uceyx5zdHhSfvTWWzd0++1Y119/VQ84jr4xQ+npRbMg4rwHJ1ZJPkd+3oEA+zdQRXEcz7WqTLpofdmeT4nfNzAJQRGwRPlVl6c/96Ke/uyXZvq6177+kl67+qKkxa4a5WeOkySZ6byfbTJPSl0Z9m+gCvLV584y00+66PYZt68zfzjqpq30A6tGUAQsSRzHajabunDJ1XNfe2VkZWgWR4eJrv/uN/Xa1RfPFRiV7Q2SNmt/0KLZoaRpmmabief9OeT3h5Fmh1U7b4CfNy1d1PY8olqKv7d1nQkHbAuCImBJft7z9F6aqvvGu7pwyT3TcxwdJnr5C8/qz/5jole+8X/OvQoRBEE2S2hpE+MqyNWNVaezQaCtmi16YMn+DSxT/hqfdc/cJKSLVtu4SS5bqea9HTg7giJgCZrNpuI41pd7b05dITo6THTrrRu6cL9b+tijw0TBE5/SA46jPxozCzgtdWJb9gYtQ36/ke/7Y0t4z4M0O6xScc/cotJi6cfVsylnwgGbiKAIWDBLm3v4kcf05d6bUx//8vPP6vrrr058/PXXX9XLzz+bpdGVrUqss2LdNrACE4tIR8rLl0m2lD2JNDss3rL6sES66CpZMDruTDhJTHIBS0BQBCyYpbPMkjZ36+YNvdB6XE9/7kVdf/1Vdd94t/RxR4eJ/o//9Wn9f8kf6BOf+MSpvUEcsrcYZy3hPe9rjEuzs5l3Bjw4q2IfPm9a6KTXKabZ2WtUaQUjH8ylaapGo5EFclVh7wn5ogiSNBwOeS8AVoigCFgwz/OUpqmuvTP90nqh9bgu3O/qiV/+jF5oPT7xa/6Xv//f6v0f/QFpEytQVsJ7VQNLidQYnN8y0kLHqVqaXTEwLPPJBxzdc4/0mTVOKEVRNPbaJ+UZWD2CImDBdnZ2dOWpZ/TcV1+Z+DhLifty701dvOQqeOJTE/cgdb/yj3Xtm/9c/X6fgfKKFCt8VXlgOW5fGeotn1J31kqL81h3umj+GAQ7F06SHnrE18VLrj44THT0fqLbb8e69dYNHR0m+nsNX698Y3GphrNqNptKkmRjD8cGtg1BEbBAtp9oljOJgic+pYcffSwLnp588B4999VXspt4kaXadbtdcvdXbBElvOdhA8lJZZKLfcAGWHUts47xVpVSN+61J6WLTkplm2f/TJqm2XU66zEI+WMPHnCcha8a5b/3ZU6oAFgMgiJggSwomhTcSHcPZ83vO3qh9bgeevSxscGUVaGjoMJ6LLqE9zympdk9+OCDeueddxSG4ZkP9MT2W2VKXZl500XnCfTtCIR5Dsk2t27e0MtfeFZHh8m5Jp3s+7Mg1CyyIiCA5SEoAhYoTVN5njf1xvzkg/ecKsJwdJjMVIGOlaL1Wlb541mNS7O7ePGifvqnfzprF8U3MM6qU+rKTEsXbTQaWXAxrT/PcwTCOEeHib7Yelw/fe9PdP0Mq602IZb/PtgXCGwWgiJggSwomhTcWAnu4uff+N1v6tZbN8ZWoLOgiIpE1bDM8sezsv0bV69e1Z07d0Zm36WTAx37/f6ZnttWxozjOCMHAGOz5dPNpNWufI5rTzHN7r777tPly5ez/7fbbXW73ZGvm+UIhKPDJPv3pIqglqL89xq+3jiY77qxogmNRoPJCGBDERQBC/bEblN/+MdpaXBjN92y9Dr73LgKdBZMHR8fL6XdmJ/NZK9yv1FZG4IgUJIkI6XajeM4Z9pnZKthjUYje53iABqbr5hSt47gvihNU/3mb/6mbt68eSrQL/ZnS5sb975pk0l5VoChbDXfUpvzacrFgI0UZmA73bvuBgDb5udcR98fxKWf+/bVl/TwI4+V7je6+NEM5q2bN0pTQG69dWPtgxWMsvQ5W1WJoujkjKoVz7onyclMuAUqtqqT//xZ0oF83x8Z/FkAFgSBhsPhAlqOdfN9X8PhMFs18jxvbSl1xnEcfec73ykN8tM01e7ubrZi+V6aTjwk+/bbJ4UXvpJ7jBVXODpMTlUJvfLLn9Htt27oG7/1W5KUrQYbS+0DsH1YKQIWzErCFstyHx0m+uAw0cVLbmkKx6TP22xnWfoIqmOVJbyXbWdnp3T/mqUrURp+++SLiay7YIfneXJdNwvM8gGaBf29Xk9RFE08361Y5dPYynzZPqQXg7+v//f/+b+z12JvEFAPBEXAEjz7K4F+uxeda+OvsapzDziO/ojZ+Y2w6hLei2aBfdn+Nds3R1C0vYrBfRVS6sr8vOfpx391z9h9mNL4ow7sfbXsPdrOhPvWt76lf/gP/+FS2g6gej627gYAm872WoRhqDAM1Ww29ff/h/9eDzhOVub1PF7+wkk+/DdYIdoY3W5XBwcH8n1fURTJ87xTaThVNul8GNvj4brjN6xjs7XbbQ2HQ7XbbSVJIs/zsiCpSt5LUz386PhJp+uvvypJpY+x1fij90+/Pz+6+0uSpHfeeWcRzQSwIdhTBMyprEpSns2gX7x4Uc1mU19sPa6v9N6cWPWozNFhote+/pJu3byhTqfDrPyGcRxH/X4/28geBMHaU5JmZStck1Rx5QCLZfvlgiDIqi1Wpf/ae+9Dvzj9fbHsvffWzRtjH2/7OweDwRlbB2ATsVIEzMlSS8oConzwYpvU7fyL177+0syvcevmDQVPfErXX3/11GZ3bBbbyG57wYIgULPZrNyse57tKSkThiEBeo1Utf/aSuXRn45vx+2347Hpy7ZCNGkVicAfqBeCImBO7XZb//Sf/tNTA8Oy4KXT6Wg4HOqn7/2JXrv6YhbolM1SHh0munXzhl77+kt6ofW4PvnAyUrDWc+ZQbWUpSRZKeSqsQNgi6y9e3t7a2gV1inff61K3TpT6qx/3n5r/IrPrbdu6ML95Sv0r339JV156pnSVSRLu6PKHFAvFFoA5mR7h6STQMhm1SeVKLaUO/s66WQ2Ml+GO+88h26i+vJVvqT1H5yZZ0UW8pvr0zRVr9dTHMcUWMDI2UZWln4dfWLSmXBSeZGFo8NEL3/hWX1wmIxNa+agbKCeCIqAGVkpYulklvJzn/ucrl69qjRNZx4oWlGGwWCgHyWpvj+I9YDj6B4py9On9Gt9VLGEdxAEiqJo5GNWltjOhgGk9Vepswmq7hvvjj3GYCQgev9kNf7CJVfPfe2Vsal1HJQN1BNBETCFHVhpK0JWYtlm1Jk5x3nZJvaql0AGitI0zfqvtNpVT5uoKp4JJ50ERbffHt33eeGSqws/65Qenm2sVDdnwgH1Q1AETJBPleMmiWUqDi6tyhfBETZBPqVuVaueNmH1B3+c6vNfHb/yM48XWo/r1s0bTHYBNURQBJSoSs486qfY96pSAhmYRX7VcxUHF9thwhcuuRMPcZ3Fa19/Sa9dfVGdToeKn0ANERQBOflUOUncHLE2696vAZzVqlPqLJW5LI1uVrdu3tALrcenFs0BsL0IioCPFKvKUf0NVWBB+qpm3oFFWWVKnRUIuXDJnfuwbFsh+uQDjn7rG2QFAHX1U51O58V1NwJYJ9use+3aNTmOo+9+97usDqEynnzySV2+fFnvvfeerl27pqtXr8pxHN13332677771t08YCzXdfX5z39e0sn7rFXrvHz58sL77pNPPilJ+r/+zTW9df17+su/uDN1j9HRYaLn/sf/Tm8d/J5839e//tff1eXLlxfaLgCbg5Ui1Fbx7CBS5VB169jMDixCMTV5WSl1xde5cMnVw48+pod+8eQ6OfrTVLffujFyNhzv/QAkgiLUVDFVjv0a2CTjSnjbYPDg4ID+jEoqBvbLeO/Nnwf3Rz9K9fvfHy3Nff8Drv6bTzlqNBpUeASQIShCrRTPHKKqHDZVWQnvj3/84/r1X/91Nouj8qbtlbPqi4uQpqkkKUkS3u8BjMWeItRCmqa6evWq/sE/+AdK01SdTkff/e535bqzb8YFquS+++7Tk08+qUajocFgoGvXrumHP/yh/uIv/kJ37txRmqbZPgugaop75a5du6b77rtPly9fVhRFajabchxnIXt8bP8d7/cAJmGlCFuvqqlynued+pjNmALzsKD/e9/7XjYrLrFXApuhWH7+05/+tP7lv/yXkkQqKICVISjC1iqmylXpEEw7V6OYMhKGYRa4AbPyPG8kGDKkiGKTBEGgf/tv/63++q//WpcvX87eu0kFBbAKpM9h64xLlatSqdVr165pMBjo4OBAly9fzv7cuXNH165dy8rYArOw9KD77rtvJDi6c+eOBoOBfumXfony3ai8y5cvy/M8ffDBB1n1OFJBAawKK0XYKrYCI53Mklc19cLaWFwRsjx6VopwHmmaKkkSpWmqwWAg6XRfA6rGDmB1HOfUyiepoACWjaAIW6GYKlf1vTme58l1XbVarexjdm4S6U4A6siq0Q0Gg6ystiEVFMCyERRh4+ULKWzKbOLOzs6p8rPS5rQfAJatbMWzuA8TABaFoAgbK45jNZtNSZs1i2gpfsPhMLu5282/2Wyq2+1WpiAE6m1nZ2fs59rtNil5AICtce+6GwDMa9NS5YpsxjM/2+k4TvZnMBgQFGHt7FDYcSXsOfMFALBNCIqwUTYxVa7ITnAv+3iapmo0GmtoFTDKUjoJ0LHp7AykcVjxBCCRPocNEcexgiBQmqYblSpXZmdnR+12Owt+7GZtZxT1+/11Ng+QNL5CIrBpdnZ25Pt+6Ypno9Eg8AcgiaAIFVeFVDlLI7Ibquu6Z97om6apdnd3T33cdV01Go2NXPnCdrIKiWUrl41GY2MnJVAvZXs4AaAM6XOorHyq3LpWUCwoG8dxHPm+P/NsOqezY1NMSjcixRObwvoxARGAaQiKUDlVS5XrdrtZcFYcKG5akQdgFrY6WtXDj4FZjdvDCQBFpM+hMtI0VRiG2YBsnYUU7CDVwWCgH/zgB/rwww9HPl+FYA1YliAIFEWRjo+P190U4Fw8zxu76klZeQB5rBShEoqpcuPKAC+TBUJRFI2kXDiOoyeffDI7YZ1iCNh2cRwzu46tkKapOp1OaconZeUB5LFShLWywgPrSJWzA1MHg0EWkEnKCjrYZvI0TeV5nqTNLQMOzMOqdY3bO8Q1gE1AkQUA82ClCGthqzKrPnMonxYXx3H28WIglOc4TjbTSLoctp2thkp3DxoGNlHZQdkAMA4rRVi5VafKTQuEmPUGgO3TbDYljT9ri2AJQB5BEVameOZQp9NZ2r6FOI7HpsXZ3wCA7bWzszPx86TVAcgjKMLSrSJVzl7D/jaT0uIAANtp0jlbhoAIQB5BEZbKNrpKJzegRZ57Mi0tzlaFAAAAgEkIirAUxVS5Re3dGVc223VdNRoN9gcBAABgbgRFWLh8IYXzpsrZ2UB2sKshLQ4AAACLQkluLEwcx1m1n/OcOVSHtLj83qc0TdVoNOQ4DgEeAADAGrBShHNbRKpcWVqcpOwAyW1Ii4vjWPv7+yOBXhlKhQMAAKwWQRHO5TypcnUqm20/p4v3u3rokcd04ZKrhx7x9fAjj+noMNEHh4mO3k90++1Yt2/e0AfvJys5wwkAAAAERTijOI4VBIHSNJ05VW5aWtw27g9K01RXdnf1Xprq4Uce03Nfe0UXLrkTv+boMNH13/2mXrv6oh5wHH2GVSMAAIClIijC3NI0led5M6V51WF/0Dj2c5Kkpz/3op7+7Jfm+vpbN2/oN55/Vh+8n6jb7W7VyhkAAECVEBRhblYRbtwgvXhYq6SRdLi6rHo0m03Fcawv997Uw488dqbnODpM9EL7ce187Cd64/rizngCAADAXQRFNZWvEtdoNNTr9SRJrVZr7hWJfCU1ymafsD1Es6wQHR0muvXWDV243y0Nnm7dvKEXWo+r3W6r2+0uq8kAAAC1RUnumrKVnnzAEgSBWq3WTF9f57S4aexMpYcfeWxiQHR0mOiLrcd1dJjowiU3+/vKU8+MfN3DjzymK089oyh6VY1GgzQ6AACABfvYuhuA9bEB9ryV3uI4lud5CsNQSXJSJa3T6ej4+FjD4VCdTqe2AZF0d7Xsf/rc+IDo1s0bCp74lC5ecnXtnZ+o+8a76r7xrq489Yyuv/6qbt28MfJ4C5JsRQ8AAACLQ1CEubmuq06no36/r+FwqH6/X5t9QtPOGMo/ZtI+ope/8KwefuQxfbn3ZvaxC5dcXfnlz+joMNHtm6Ovc+HSSWrdj95NzthyAAAAjEP6HObmOE5tgqC8KIoUBMHUvVJ//ZN7dOWpZ8Y+z/XXX9XRYaKv5AIic+GjlaMyDz36mF67ekNxHNdujxYAAMAyERThzP78z/983U1YKUsTzFfWKytL/v57iR78u+Of5/bbsa489czU84qKHnqEQAgAAGAZCIowt3/1r/6Vnnlm/EpInVhRhSiK5Pu+fuEXfkGS9NAvjg9gbr11Qw8/On+J7osfBVGDwYCVIgAAgAUiKMLcfvSjH+n555/XBx98sO6mrNR//a//Vbdv39aHH36oNE2zj+cr7iXJyZ6foz9Nxz2NJI1dJTo6TPTBYVK6H+mDwyR7PQAAACwOQRHmtre3t+4mrEUURfrt3/7t7P9lqXPm9ls3pDHluC9ecsd+/uUvPKsPDhN133j31OeO3qfIAgAAwDJQfQ6YkeM4WZGJfPnx4mP+XsPPVnXKPPHLn9Gtmzd0/fVXRz5upbif+9orpV93++2TinSkzgEAACwWK0WYW5qm2t3dleu6ajQaY6uwbRvf9zUcDqc+7qfuOfkzzsOPPqanP/eiXn7+Wb329Zf08KOP6dZbJ+cSPffVV8aW8rbHkD4HAACwWARFOBPf9xVFUXYmz7Qy1XXSarUUBIFe+/pL2aGreRcuuXr6s1/ShZ91dPvtOPv/pDLet27e0NFhMtchuwAAAJjNPcfHx+WHomCr7ezsqNvtyvd9OY6jNE3leZ663e7MA+80TRXHsQaDgaIoyj7uOI5831ej0ajlID5NUz37K4H+8I9TPfe18Ss/8wie+JSODhMNh0NWigAAABaMoKimPM+TpCwFzoIaC5SmieNYruuODNDTNFUURRoMBiMrSBYgWQBWBxZkXrjklhZNmMcLrcd16+YN9fv92q/CAQAALANBEeYWx7GazaZ839fe3l7pQN1WkXq9XhYgSfVKs4uiSEEQ6OnPvViaRjeL3/3G/65X/rdfk+/76vf7C24hAAAAJIIinFEQBIrjWGmayvd9dbvdsatA09LsWq3WVgZIaZrqxX8S6rd7kS5ccvWV3ptjzycqOjpM9PIXntWtmzd077336oc//GFtVtkAAABWjaAIZ5amqcIwzAKdTqejdrs9cfCepqmSJNFgMBibZrdt+5DCMFQYhrp4v6snfvmZiatGR4eJbr11Qy8//6wk6cknn9S1a9fkOI4ODg4IjAAAAJaAoAjnFsexgiBQmqbZOT7zFmvIp9nZwH+b0uys+ML3Byff44VLri5ecnXhflcXLrk6OkxGzi1yHCfb32VpeI7jzFQSHAAAAPMhKMLCRFGkMAxnSqkrs+1pdvnv70dJmgVI5gHH0Wc+CiaLh8LaahN7iwAAABaPoAgLl99v1G631el05k77sjQ7W0FK01TS9qXZ2fc5S7BngVG73Va3211B6wAAAOqBoAhLEcex9vf3s5S4/JlIZzGu3LfrutkK0rbvt8nv4eK8IgAAgMUhKMJS5fcbTSrhPY86l/vOr5gBAABgMQiKsBK2wnHW/UbjTNuHtC1pdgAAAFgegiKszFlKeJ/lNcrS7AiQAAAAMA5BEVbuPCW851GXNDsrvkBKHQAAwNkQFGFtzlvCex7nLfdtAVwV7ezscLgrAADAORAUYe0WUcJ7HlYGezAYzJxm12w2lSRJJQMPDncFAAA4H4IiVMKiS3jPY1K570ajoQcffFDvvPOOwjBcarrfedgZRgRGAAAA8yMoQqUso4T3PMal2V28eFEffPCBpLt7kjqdzsraNQsOd8Wy2MTBtuzDQ33Z5FHVJrYArB9BESppWSW852EB0rVr1/SDH/wgOyPI+L6vfr9/pue2AhB5i6iOZ4FRp9OpXNCGzdVsNhXH8bn6PLBu+eqnrKgDKPrYuhsAlOl0Ojo4OFC73VYcx/I8LyvKsCq2x+jOnTtyXffU561dZ2mTVcTLB3phGMrzvJFKefNqt9tqt9sjq1zAecRxrDiO1el0lCTJupsDnIkdCdFut1d6HwGwOVgpQuWVlfBe5X6j3d3d7P+u62avm/973hUez/OyFbD8a4VhqDiOmcVEZTSbTTmOo1arpWazqePj43U3CZhbs9mUdLJf1fM89ft9UkEBjLh33Q0ApvF9X8PhMCvhHQTByvYbLatwQZqmajQap16r1WopiqIsVQlYJ+uL+WuAvolNY6udpH4CmIT0OWyMdrut4XCodrutJEnUbDazFaRNYqltZQPLsjQ9YF3yBwPbyuimXW/A/v6+fN/PMgx839dgMFh3swBUDEERNk63281KdkdRJM/zsqIMm6Qs/c/2bCw6OFr1fixsPusz+RRP3/fpR9gottq5t7c38nGCIgBF7CnCRlt3Ce+zCIJAkkrLZttBrMPhcGF7ptI0led5chynkofPonryfab4cSrQYZN4nnfqY7Y/lb2bAPIIirAVqlDCe1ZlRRaMbQZe9KDTgi0GAphFs9lUkiQ6ODgY+XgURYqiiD6EjWBHFPT7/ZHV9yRJssknADCkz2Er5Et4J0kiz/Mqu9+orMiCpKzyXDHNYxHssNk0TbPACyhjm9JtYiH/p9FoVPKaAoqsmme+Wmlxb9x5jj8AsH0IirA1HMc5td9od3e3UvuNrMiC4zjZTTmKIjWbzWxGc1npf3agq6UcAmXym9KLbLadwSSqzlbGyw6xpqANgDKU5MbWsQHdOkp4T2PBWX61xnEcua67knMz7DylMAzHDhhQX2maam9vb+KgsZiKBFTRpH7sOA79GMAp7CnC1guCQHEcK03TLI2sqvuNVsHSSqTyYg8AAAB1Q1CEWkjTNAuOJGUpdnUOjgAAAHCCoAi1ki/hbeljllIGAACAeiIoQi3ZfqNNKOENnEWapkqSJDukst1u08excejHAFaFoAi1xn6ju8IwZMCxoazCov0pVodbRREP4LzoxwDWiaAItRfHsfb392u93yhNU3meJ8dxdHBwUKvvfRt4nje27DwDSWyKZrM5tty7HSkAAMvyU51O58V1NwJYJ9d1sxWSH/zgB+r1evoP/+E/ZKWy6+C+++6TJF27dk3Xrl3T5z//+TW3CPO4fPmyfN/XD37wA925cyf7OHvmsEkcxyntx5biDADLxOGtwEfa7baGw6E6nY6SJFGz2VSz2cxm4MMwnDgjv+lsJtYq9WEz2EpnEAT6q7/6q2yVz/d9ZtaxMdI0zfqx7fWUTvpxv99fc+sA1AHpc0AJO8sniiJJJwHDxz/+cf36r/+6HMfRcDhccwuXJwzDbH8Rs7PVVSwz/9RTT+kf/aN/pGazyUASGyUIguy99qmnntKnP/1pBUGw9e+1AKqFlSKghOM46na76vf7chxHYRjqN37jNyRp61dS2u22fN/PKvSheoIgkOd5iuM4W+H89re/nQ0kCYiwCcIwGsLQMwAAIABJREFU1M7OjqIoygL5b3/729lqPJMyAFaJlSJgijRNdfXqVX3ve98bSZ3b5o2/tlImMTCpkiiKsoDc933t7e2NFFGw/kmhDFRZ/kgEm4CiHwNYN4IiYIpx+4jKbubAMkwbRAKboKzSJ4VAAFQFQREwRRRFGgwGpedmUMIay7TuQaTt88hjEIt5FfvxqlfZ6ccAZkFQBMwpHxzZKeukmGGRikUU1lH0Io5jNZvNkYCflSrMK19EYV0HZO/s7JT2Y2sPAEgERQBmZPuM1jGoqZMqDCKlu/uXjo+Ps4/li4xQzAGTWBVLqXz/26pYPx4OhyPXkU06UN0OgKH6HICZJEmiKIq0u7u77qZspbJKXN1ud20B6GAwOPXajuNkf4AyURTJ8zyFYZhVQuz3+2tbWRxXtKHRaGztmXMAzoagCFiTnZ2dsX+qWPLbDgNN01Se5627OVujaoNIE8fxqTakaaooitRoNNbUKlSVpVva4avdblfD4XDt/ThN01P7h2zVm31FAPLuXXcDgDqy9KhxKwGu6666STOx/PswDBUEAXupzmHdRRSmsb1zzWZT0slKYZqm6nQ6lWon1mvdRRSmsXaV9eMqtRPA+hEUAWtgaRubOLi0NtvKBgOL+VShiMI0+T1NFrRbBcYoikY+jvqqyv63SWylyFY30zTVYDDIVjzXvZIFoDootACsgaXHVW0wPKv8wL5qKxxVtgmDSKm8yIKkLHWSWfZ6q0oRhWnGFVmQ7q4cUTAEgGGlCFiDOI7lum7p+RmO41RygJFnZZmruPepijZlEGkGg0Fp+yiyUG/5Q4Q3pR9Lp4ssSCdpdFVuO4DVIygC1sDS53q93qnP7e3trbo5Z2JFATBefhC5Sef7jCuyYN8LK4P1UvX9b5OUtdP6cavVWkOLAFQVQRGwYrY6dHBwwKz7ltrkQaR0t8hCvsqgBXb9fp9+WxNVL6IwjbW72I8lbcwEBYDVISgCVmxSSgc227qKKHiel1UstH5V/HvWoMzKKRdtQlonFmcd+9/K+rH9e95+LKk0gKMfAxiHoAhYg01aNZhHHMfq9XqVLSCwTOsqomD706zUcJGl7c3KcZyt7Z+Ybp373yb1Y2n+ogj0YwDzICgCVswGsTbwKNqk9JQyURQpjmMNh8N1N2Ul1l1EwXVd/dzP/ZySJDn1Od/32feFmay7iEKapnrkkUf04x//+FRQ5DgO6cYAlo6S3MAKWXrVJJs+iLUgoYrn7yzSuooopGmqJEk0GAxGAuuLFy/q7/ydv7Ox+z+wHuvc/2bnXuX78d/+239bn/70p0dWXbf5fQRAdbBSBKxQHSq22UDcBjrbNqBZxyDSBo+DwSB7XeluqtuVK1d0/fr17EBdNpFjmnUUUbB+LGkkELJ+/OCDD+rHP/5xNnFEYA9glQiKACxcu93OBkCO42zFwKZYRGHZA7ZpgVD+tfM/a9KMMImVVl/V/rdp/bjdbmevbdcYgT2AdSB9DsBS5IOITStJXbSqIgpl6UT5wgeTgjBL4wPGWdX+N+vHURRl+4Mcx5Hrumo0GvRjAJVEUARgaSwwWvWm7UVZ9iDSBo/5tCLpbiDUaDQ28ueGall2EYVx+9zoxwA2CUERABQss4jCPOlEwHksc//btH5MIARg0xAUAcBHljWIPE86ETCvZRVRKOvH0skqKv0YwKYjKAJQe4seRKZpqjiOs03thll0LNMyiijEcTw2LY6DfgFsE6rPAai1RRVRIC0O67So/W/scwNQVwRFAGppEYNI0omwbosookBADwCkzwGomfMWUSCdCFUQRZF6vZ7iOM7OApun743b5+b7/tacLQYA8yAoAlALZy2iQDoRqiaOYzWbTUmz73/L91/2uQHAaQRFALbaWYookE6EKrNCHraqM+lx9GMAmA1BEYCtNU8RBRtAls2iS6p9OpGlG6La2Oc2Gf0YwDgUWgCwlaw08bjN56QTTVcMFG3PyXnLPGNx0jRVkiSl+9w6nQ79+CNhGGYrZtZ3Dw4O6McAMqwUAag8SxeSNDVlqPh1+ceSTjS7NE21u7srSdnPJo7jbOA9HA7X2bzKm9ZnLZgZx3XdiX0xP8g3BPTlms2mkiTJfjZpmqrX6ylJEgKjJVhU3y97HP0ay0RQBKCy8hvK7SZpA79Z04DGVdlyXZd0ogns597v90c+nqapPM+buVBF3aRpqiAIshWJcX02n9pZZjgcjh2sF6+Lea6HurGAqFhl0vrxeQ9qxl2z9v38cQhlrO+XXSO2Wt3tdpf2faC+SJ8DUEk28Gu329kNMB/gTJsNzw8cpe1OJ1r0PokoihTH8amASNKZypjXhfU53/d1fHws6e6seRAEI3vU4jge6dvzcF1X/X5/634Hi+7HcRxn/bj4s6IfL9Y8fT9N05n7fvH9P0mS7H2dwAiLxkoRgEryPC8b/OVZWte02XE7x6XRaGxlIJTneZ4kLSwFMAgCSQw65jVudc0+ZwNxSdrZ2WG1raCY5nbea9ZWJGyQjuWZ1vfzn/M8b6bVzXGPs9/rpNVU4CxYKQJQOXa46sHBwanPOY4z034WCxC2XZqm8n0/K4gQhuGZDvPMs3LPmN2k1TVpdLCY3weEuxqNhpIkGSnscZ5A31YksFzz9H1p9hXBcY9rNBqSpCRJCIqwUARFACrHBjNVuOHlyxoXTdosPOnrJn3uLF/74YcfZjn89pggCBSGYVaKeZ7BIWWL52c/+1mCSXtsr9dTr9c79flut7vwn/+m9GPXdUf6sVWRdF1XrVaLflxB8/R92yM0re/b48qe03XdkdcFFoWgCEDlLGKlwg5tlc4+6Kuy/GDvzp07+sQnPjH2cfP+LH3f12AwKP2cbaSm+tyoeVYl7GdrM95F0wbytk+j+PqbKP+9/qf/9J/0Mz/zM6WPO2s63bifiwVbVJ87P1utnsWsfd8eV/a7yVe2AxaJoAhAJU06ZDVJkqk3xHFlX22Wsez/kwZH0wZO4z4/7euK7Znna40N8PJfd56KZI7jKI7jUzPtcRwriiKqdZWYFpTkA30rsnDWn6Pruivvx9M+V8V+3Gq1FIbhqUkWW4Gqymr0pltG37fHlZkUMAHnQaEFAJUzbdNukiSsVOTkN6gvYqCXP6PI9321Wq3scFDf98fuHagzG9CX9ctms6k4jrMN/xRZKLeMfhwEQTaJQj9ejkl938pqW1GEWfv+uMdxJACW6WPrbgAAFLVarZGDQo1t6KUq2qhut6vhcKhOp7OQ2VPHcXRwcKB2u50NLKWTIJWBZDn7WRX7rJWFtpnxSXsl6m4Z/dgGz/l+3O126ccLNKnv28qyrT5L0/v+uMdZQOT7PgERloKVIgCVlK+kZtXV5qmqFsdxVpL7LPtqgHkV+6wN7vLpQlEUKQiCsf2RA4WxiRbR9y2ILT4uSZIsRe+sZ3sBsyAoAlBZtq8lTdO5N1rbjdXYzXreSmzAPOzAStuPVexrcRyPLWIhqfRrytgkAcE+qmJRfb/scbNeF8B5EBQB2FpWbKHX62U3bGMDylarxcASGyWO42zfHcE+ACwGQRGA2rDAaDAYnKpy5bquGo3GmUv/AqsURZEGg8FIsG/7cNrtNv0YAOZEUARgK9lgcdLsuT2m1+uVriKxHwmbYFKwTz9GGVtFHwwG7GEDPkJQBGAr2Z6iWYsz5AcJg8FgbJBEihKqzDak20oS/RgmTdPSftHv9wmYAREUAdhSNgCwMrG+76vb7c5c6jc/+06KEjYV++pQVnTG0oU5wBa4i6AIwFbLB0dWwegs6SLT9iO1Wi1SlFB57KvbXlb1rSiKoux4An63wHgERQBqwQ5vjOP4XMFR/vmm7UciRQnLEsexXNc99yw/++o2V1k6nB1WC2B+BEUAasVWjWxWddbDYCeZZT8SKUpYlPzhlnt7ewvrV+yrq740TRWG4cgqn6SFTPQAdUdQBKB2zrvfaJbntxQlO8xQIkUJi2MD4zRNs8HwoveGjNtXJ90dhG9CP7ZgzyZCqt7eSfIFZDbl5w9sCoIiALW1qP1Gs7wOJZM3w6LS0lahmBK6iFXPaa+3KfvqwjA8tdplPvmAI8d19XOus5Rg8qzs/Ug6CX6W/fsEMIqgCEDtLXq/0bTXIkWpeuI41v7+vuI43rh9GfmU0EWvek5SxX11+WtZki5ccnXlqWdO/v2zjo7+NNXtt27og8NER4eJPvmAo2c+s760M1vts7+N4zjqdruVCDCBuiAoAoCPLGO/0TTTUpRm3Y80rvIUpgvDMEul7HQ6G7svIwiCbKXBBtSr6hNV2FeX/z0+/bkX9fRnvzTx8UeHib7YelxHh4kecBxdPzhY6TWUL5VtkzGSNrb/AZuOoAgAcpa932iW15+3ZHKapvI8b+Vt3XT51aFFFy1YlziOFQTByleNihaxr85+L7NoNpuK41gXLrn6Su9NXbjkzvR1R4eJrv/uN/Xa1Rf1gOPoGwtcnckHimXnAdnPaJNWJYFtRlAEACVWtd9olnZMS1H6+Z//eV2/fj1rK3sRpsvP0m/y6tA4lkKWpmnWH9YZLM+7r84C/VnSyGyF6MpTz+i5r75ypvYdHSYKnviUHnAc/dFweKbnkMrLZEsnhz13u90zPy+A5SMoAoAJVrnfaJa2lKUo/czP/IzuvfdeffDBB9ljzzvQtwGssQH1tgRblia5zaXS86tGVdqjYqtGZcGDBUa/8Au/oL/8y7+cOilhwdOFS666b7x7rnZdf/1Vvfz8s/qfW2298o35Apg4jtVsNke+DypNApuFoAgAZlDcb1SFAabNvl+7dk137tw5VWnLcRwdnHGfhO1Pse8xX9L4rM+J9VhF+e7zmLSvLq+s71na3Jd7b+rhRx479TW3bt7Qy194duRjFy+5euKXP5MVYMh7ofW4bt28oX6/X3p959MAix+3AI4gCNhMBEUAMKPifqMqDDBtJcuClqKzrm7l9yjlX2t3d1eu66rf75+77VidYlW2KlfYS9NUv/mbv6mbN2+WBvrWny0FclJRhZeff1bXX391JK3u9tuxrr/+aunXFdPoytLhSIUDthNBEQDMqSr7jawtu7u7kpSdr2NBmv37LOfu7OzslA6cbf/GcDis1GrDOLZKwurWiXWV756HpcRN0u12s/1J3TfeHVtYIXjiU3r40cdO7TV6+flndeutG3rua6+cWmGy1aIiu9bXvT8LwHIQFAHAGVVpv9Ei2Qx8WeBjA9Zx6UVVUfzdDM+xeX4brbN89zT2u8sH+I1GQ5JGAvyf9zy9l6a69s74YcyTD96j5776yqlUOVsRKku7637lH+vaN/+5Ll68qF/91V8lHQ6oiY+tuwEAsKkcx1G/389SacIwlOd5Y/dEbJqyQXKSJGtoyXzyv4dOp0NAVKLb7arf78txHAVBkBVkqIL8dWUFQ3zfPxW4vZempfuCjK32PPzo6b1G5vbN09fqo7u/JEn61V/91ey1AWw/giIAOKd2u62DgwN1Oh2laapms1mpQea8BoPB2IGgfU+uO9s5MKtkP3tLa+z3+1uxcrcsvu9rOByq0+koSRJ5npel1lWdtXHSeURH7ydTH3PhZ08H/hdnPOMIwHYhKAKABbDzgWyQGUWRdnd3s6IMm8RSzsr0er1KpVrlWbqc/R6Y4Z9Np9PJUujCMNTu7u7IWUKb6vbb8diA6NZb41eR7Gs2ITgEsDgERQCwQPngyHXdLJVrk4KjNE2zPRx5cRwrjmPt7e2toVXT7e3tZUEp5uP7/kgqaBAEajb/f/buPzyq6l78/bvXXsdDH6fY61B7iZBDIJYBvjI0lKE5h8Eoo6mkoA1GfgUIxDaKtQFFCCIEKkSPGFOR2G8gSgIokiKQeMBJC0zO4WTwoBMFhhYZSmRypNkcU4Yrh52nfOf+MTPJzGR+5Qc/83k9Tx5lZvbea6299tpr7fVjT7juGwZHD3VcEMHvyKEDEYfO7ftgEyN+PD5so8k/7C7cNSCEuHlJo0gIIa6AG3W+kb+HwN/L0tjY2PYOlgkTJpCdnX3d9sBcrz1YNxL/UNDs7GysVitDhgxpe8fR9WTgwIH85J9M/LUp8hy35qbTDB/dMa+WLJnDkY8P8PjT4Zfx9g+7k7wkRO8ijSIhhLiCbrT5Rv5wDRkyhFtvvZUhQ4a0VYz9w6yuNX8j7XpNwxud/+XE1+tCDH6DBw2kOUKj6I873gGg+b8a+eOOd3h3XSHvritkXto/8scd70R82St4h93B9TlvTghx5ciS3EIIcZVcT+83iqSxsbHDCnNdec/RleJ/TxJww7wr6Ubnn6vV2NjIsmXLrpv39PiXjg+35PaRjw9QsnhO0Gff75/I8DHjI77o1S/3/n/kr67TtLa29niYhRDXL2kUCSHEVXazvt/oSgpNM//CAOLqsFqtbb1FJpOJF1544Zqnf2NjI/c/8ADq5W/xUsX+qKvMxcv/4tbr/T1cQoieJ8PnhBDiKrtR5xtdK+HeOyQV1qsrdPnu62EY6MCBA9m4YQN/dZ3u0CvUFUc+PsCRjw+0vRNJCNG73LJs2bIV1zoQQgjRG917771MmjSJvn37snv3biorK2lsbOTee++lb9++1zp414V58+bxxhtvMHDgQKqqqsjOzr7WQerVTCYTkyZN4vPPP2f37t3s3r2bvn37cu+9916T8Pjn/Wx/twK+9a2I84RiaW46zeqnHuGbC3+Tl/0K0UtJo0gIIa6hvn37YjKZyM7Opm/fvrzxxhvs3r2b8+fPy9Nq4LPPPsNkMlFVVSUT368Tffv2bZtXVFdXR2VlZdsLf69FYz4xMZHPP/+cmvc3dalhdOTjA/x6soFvLvyN2tpayWdC9FIyp0gIIa4jMt9I3GjmzZvXtpS7f67X1V6IIXARk379E7n/0dkxF1RobvIOuzvy8QHuHjCQ8o0yT02I3kwaRUIIcR3yV/AaGxt7zcIC/riKG0/oQgwbNmy4JufSvyIdQL/+iYwYM57ho030S0jk+/0TOXLoAM3/1cjRQwfaXtLqf3GtEKJ3k0aREEJcpwKffgNtvUY3W8MhsHdMltm+sa1atartZa/Xavlu/3Wz31rHv9eFX7xkwMCBfAt6xcMGIUR8pFEkhBDXuRvh/UZdFfhkPzs7+7p4OazonsBeo2vdy+l/71ZjY2NbeGSxDiFEONIoEkKIG8TNNN9I3jt08wscAnqz9nIKIW4e0igSQogbzI0+38hqtTJhwgRAeodudo2NjW1D6sA7XE16aoQQ1yNpFAkhxA3oRp5vNGTIEEDmc/Qm18tCDEIIEYk0ioQQ4gYWbb6R//M//OEPXa6A+udkSONF9AT/kMlruRCDEEKEI40iIYS4CYSbbwTe1cA6U/n09zyFrtx19wDvtveNNzFu3DgZAiW6LLTX6IUXXpBGtxDimrtl2bJlK651IIQQQnRP3759MZlM9O3bl88++4zdu3dz/vx5fvjDH1JRUdH2fSSNjY1MmTKFiooK6urquPT3bzFo6Ejuf3Q29z8yi8t8i8v/51vU/usudu/ezaaKCu69914SExMj7rOiooJnn322LVxCACQmJvKrX/0K8DaQ3njjDRobG7n33nvb8smqVatITEyUfCOEuGqkp0gIIW4yjY2NzJ49G5fLRWNjY9vny5YtC7ta3apVq9p6iKY+vYKp85dH3Hdz02n++MEm3n1jRcR9hvZaffHFFz0RLXETslqt/OY3v2nLK/68NG/ePHmpqhDiqpJGkRBC3GQmTJjQ9m6WUKEvR50wYQJWq5V+/RN5puhtRvx4fFzHCGwcDRw4sG3ekrx3SHRF4IqK99xzD2PGjKGioiJiQ14IIXqaNIqEEOIm45+vEa5hFNiA8fcQ3f/obJ5Z83aXjvXuukLefWMFjz76KP/93/8t7x0SXdbY2MjChQvZvXt322eSl4QQV4s0ioQQ4ibmbxzV1dUBtP03NzeXGTNmMOLH43mpcn+3jlGyZA5/3PEOIL1DouusViuVlZUAbe81guCGvBBCXCnSKBJCiF7IP2zupcr9EYfMLZ15X8Tth48Z3zb3qLnpNAt+Pprb/u9bOHjw36XyKrokcG5bKJmbJoS40qRRJIQQvYx/3k+0RRX+uOMdSpbMYerT4RcoHf5jU1Bj6sjHB1g68z6ZHC+6xT/c02q1UldXR2NjI1ard2l4mV8khLiSvn2tAyCEEOLq8g+hi7bKnF88vwEY8ePxjPjxeP5y+i/dCpvo3fy9jNnZ2W3vwgqcH9fY2Cg9kUKIK0IaRUII0cvsO1AXc5W5o/9p5f5HZ3dqv/0SEjny8YHuBE2IDgYOHCgNISHEFSeNIiGE6GVcX57mnpTojaIjhw7w/f7hGznf759Iv/4dX9rq/8xqtcpqYUIIIW4o0igSQohexL+q1/DR0RstzU2naW46zZGZHRtFkeYiDf+xd591dXXSKBLXjUiLN/jJPCUhBEijSAghehX/MKR+CR17evz8y2tv2PeXsD1CkXy/E78V4mpZtWoVAwcOJDGxY/4cN27cNQiREOJ6JI0iIYToRfwVw6MfWyPOK2r+L+8KYJ1pEIF3yB0g8z/EdcPfMyrvORJCxPJ/XesACCGEuHr8FcOjhyIviNDcdLrTiyyAd3EGQIbOieuGf4lvaRAJIWKRniIhhOhl/mmciRPO0xG/P3LoACPGjI+4klysleukAiquF42NjW1LewshRDTy8lYhhOhlVq1axapVq3ipcn/YBs7P7vlW1O0jzTWal/aPPHT/ODZs2NBjYRWiO4YMGdLWWxQqOztb8qoQoo00ioQQopdpbGxkyJAh9OufyIZ9PfOy1aUz7+PIxweora2V4XPiunHrrbeybNmysAsqJCYmSq+mEKKNDJ8TQoheZuDAgWzYsIF58+bx7rrCsMtrd8aRjw9w5OMDZGdnS4NIXDf8iyxkZ2dL40cIEZMstCCEEL2QyWTin8aZ2PfBOxHnDsWjuek0S2fex90DBspQJHFdqaurA2SOmxAiPtIoEkKIXmjgwIG8vXEDf3Wd5rdL5vDuusJO7+PIxweYl/aPAJRvlAaRuP7IIgtCiHjJnCIhhOjFGhsbuf+BB/iysZF+/RNZXbk/5vuJmptO88cPNvHuGyu4e8BAyjdukGFz4roTbZEFgC+++EJ6kYQQbaRRJIQQvVxjYyPl71Sy5qWVfD8hkeE/Hs/w0Sb6JSQy4sfjaW7yLt/9xw82AbDvg3f4q+s0JpOJ2traaxl0IcJqbGzk9OnIy86DvE9LCBFMGkVCCCEAb0Vyztx5/HudNerv/As1SKVSCCHEzUIaRUIIIYL4hxxZrVbq6urahhiNGzdOGkJCCCFuStIoEkIIIYQQQvRqsvqcEEIIIYQQoleTRpEQQgghhBCiV5NGkRBCCCGEEKJXk0aREEIIIYQQoleTRpEQQgghhBCiV5NGkRBCCCGEEKJXk0aREEIIIYQQoleTRpEQQgghhBCiV5NGkRBCCCGEEKJXk0aREEIIIYQQoleTRpEQQgghhBCiV5NGkRBCCCGEEKJXk0aREEIIIYQQoleTRpEQQgghhBCiV5NGkRBCCCGEEKJXk0aREEIIIYQQoleTRpEQQgghhBCiV5NGkRBCCCGEEKJXk0aREEIIIYQQoleTRpEQQgghhBCiV5NGkRBCCCGEEKJXk0aREEIIIYQQoleTRpEQQgghhBCiV5NGkRBCCCGEEKJXk0aREEIIIYQQoleTRpEQQgghhBCiV5NGkRBCCCGEEKJXk0aREEIIIYQQoleTRpEQQgghhBCiV5NGkRBCCCGEEKJXk0aREEIIIYQQoleTRpEQQgghhBCiV5NGkRA3CNXtxn3xWodCRHXZhaXSinKtwyGEiO6iG7dbvdahEALOWtmyz3WtQyGAb1/rAFwTLU5sf45QbemnxzhICy12quo0ZEzSo+nRg6sox20cOuyCAQbG/JMe3S2xt3KfsmNrsKNo9Bh/YiTpjjiOdNaB7RM7TlWHIcWIYYA2eriO2nH+f9H2qENvTEL9cD6ploc4WDIRXexgiO66aKf0l/MptimQ/lqYdLdTmpwF758gb+Q1CuNNQ6HmmVT2mg+y7uHO5m4XNUtmsT/lf2MClJvuOlFx1taijJiA8a6eLRWjanFiP2zHfvY2kkaMxDAygWgl2XXhohPLfgXDA0Z0VzGpukP5cD6p+cPYdiIPw7UOTEMpyY9xhcLiwrJkFvN/fwbIvz7iK3oBf93PyaW7DBhSDO31OG0Cmr2zWPg/m1j7cEKcu1Nw2J24o/3GV5+9+e5FV06vbBS5aleSXaIwNrlj9kia9irGQWDfmkWBdTmGSXqSeurATVaKlhRQe2k8E1IuUfdWIWsMq9m2LpOIl4GvQrz5az0PTkjifO1GClcbWP3uOjIHRNjmsouaF2ax4PAgZkwcy61fvs78xecxluxkbXqkS8KNY3cp5V/496Fw0naS20aOJeE7/t+Yed6YJBfVVWZ/ez7Fl2ZQcSgPYxyNYXFtuN4vZE2fF9nzWFIPP0i5XjixrFiAJXcnH8zWX5UjuvYsZdYzB9BkZJA5oJXNzy2g4Af5rHsrD0OfqxKErjlloTDfwtxdH5Az9FoH5nrnwrrBAuYcTJHuaT1I+bCI+XUjee0P/8rEATfilXol08uNfUcVzkGZZI687h893DiC6nF6OLiU4qduZ8b7FeSN1ECfJDKfyefAfUXUjFzHxP5x7NPtYPfvyjnu/7dykvoTt2FITeA2/2dpz2McdHXK6ptFL2wUuXE66uGxbWx6JvLzIcMvj3DkKU3PVW5UB6X5uTjNO/nXed7ep8UZw3hkUjHVRzPJGx5uIwXLivlsHrScPRVm79PR3LF8d2QuB44oZA4I1zxRsa3NYs3lJeyrnehrbE1nbN8R5O49xOL0SE8KdJgKNmHy//NsDfPHLWBYwaYOvQ8yNOhqUmg6oYDJKA2i61mLlfKSc8zdYLr+ezG6TE/eviPkaa55kXYrAAAgAElEQVRSRbLFQukzB5hQtofFJm+q5uSaKZqQzfq9GZQ9GucT1WtheB77juRxtZLqxqbgeKUIUq5Oo8h12gIprzHmhmwQwZVNL5UmaxEHNBlkyqiDHuN4fyXFl+ayc1cO+lsA8snc8AiTV2zBtDMHPUD/iTy5aCO579mYsNAYu+6pM7H47bYaW1tP7+K3peezO3pfo0h1UL8VZrwVpf/nogv75wo6vYEEfw3nshvnv1uwfuFG8wMjGQ8loPynE03gb6JwfVhM8XeWs2dewHC8oQbGocDfI2z0pZUtOweT/wdze0Wrj5bbgfORZoNddHLue0+yNntiUO+TRgP0v7NnK2yXFex7Ldi/UtEOMWM2hQxrCfx+oBFTWpShgi1ObH8G/Wgtzkj79P9Gr8H+BwvOvmZy0nyxdLuw/ZsVR7RjBfxG8wMD5ocMHX6jNNRgOdyM+r0EjP9sRh/SglSOW7AedOFGS0KqCfPQ4B+4v7RRZ3XQrGroN9zEOGPsoT5t+9T0Q28ah9E/zFFVcNjtfOEGzjqw2VR090QfOtke/iTMD5g65k23C+sfLDi/jhC+gHyOph+GhyZiaIuid4ilcqeBhFYbFoszOMyKnZq9dm/cU8xMHBm9TzGetIp1PtSzdmpr7TSrdC6/KA4s/2bD9XWY7doO7o+PliSzGVOU4afKf2xnc/J09oXpFVAD0zxCuvRIPAOvnbZrwI3LasHyhRsi5YlAlxUc+6zYGt3QISxunHYHaqIB/V0a3KdsOJrD7MM/BDlm3BRsldWcS5nOxKEdqwCq41O2k8k2U0CA++gZNQ7Kv1Igcv96e3htDrjHiLaxYxjcX1q9eZjw5zdiml9WcDY4UbR6jEP82/iGH6sJ6H+UgLbFif3PKkkGPTqNdyiz/ZwOwwAVW+j1F1BOhpZL7lM2HBeTMAzXtd83/OfbmISWru87LtHK8LZw6HD78ljYY4TeJ0ZrcH2uoDPo0TTZcDQ7cQEct2G7pGuLl/8cuqLtO4yI5akvPzjOAu4vsNtsJPjyclgtTqz7rTi/Jsyx2/OW7oK1rSwMLi/Day/3Ot5D1LMO7Kc1wWmgKjjsMdIrjvtnrH1rWxzYT7v4wg0XTtqx2RLa8m8HUcsJf0Rj3WtC8tYYHYrDG5a2ayZKeAPDFbmMif88Bd7bw5b30a6Fsza21JzDMG0i+g492G5UbQaLf2n2NYi89ClmeOUYLoW28OpTM+g3qRprjhHzlXgI2pN1tptU71to4ZSDQ4xFPzhyzUC1byYr+yNc/ouuxUbx1BSy/6WeZuCM5WnSp+bybHY1zrgOquCwWRlmMgQPxVMUXOgiN02/Vqjndm4LyJTqwY+o0uUwxRSh5O2jZ+K86RjvCvisqZbtuwzk/9TQcz1f7v0UzZnF5mMqfP0ppblp5L7jCDimlZVTU3nWcgY4j70yl9SppdgjLRTQaCE7u4Dctn0eo7wgjfRFNbhCfzMvi5d3WrE2eUfTqg2lzErPYuW+wGOtxNoUmAY1LExPY6kvPM6dz3p/c9b/AxfWVVmkPreXM8B5+xZyU7MobfBPxFVxbJjF5HlbsH8DfF3P6/NSyXrTjv8XSu1SHnlgKXu/Ar5xsmtZSPg7cGFZcj+pv9qO4xvgq70sfSCd3Hcc3n2qLhxHj+FqAc46cRx14LoQ+ZQcWJ3F428fReU8zp0FpKUvpCYgDdTj5eSmZ1FuPw+cYW9o+C7aKZ2awhObHZwHzp/YzvygNHBzqCybpb/K5vFVVs5wHlddMdkP5FJaWUrWtI0cVeF8o4U1j01m4Z7IfYqx0yrW+QDXhwtJ+/lS9n8F0MyB38SfX7JSc9liPw80U/8vWaT/cguOgDnXF6xFzJqzmaMqNB8pJfeBXMqPE4Ebx39aGGbSd6ymN1ay8OdLsZwBvq6n+LHgPNOj8Qy8dlZMZvKqcsoXPcLSP5wBmvm0NJe0eaVB8QyiOiifM5ncSjvngeaDr4eExYklO5v1n3jT0XWwlNLfBfy9tpTs7GxervOHLEbcVCf1bxVReTj8FaJJXcyJE/khTz3duM+C6QfxDOL1hrfgF7OYVXkUlWaOlRcyefJKyt9ZyCMvWDhD+/ktPRpnmt+iQ9u8nYWzC7H4y4/jW5j/6MvUo/NWMhotZGev51CLL9SfrCf7hflkTyvEegbOuw5QnJ1G7ptbKJ36OBuPqfCNE8vqLCYvsbT1xjv3ZJNddih43kCjhexsS9u9p6v7jilWGd5oITu7mMJFj1O4/0z7MVZZ28Pry1NZrx/A9Q2c2V/I47Pns9SXNu7TDhxHnTQDzX924DjqCojrMTZH23cHMcpT3LiOOnCeBVpcHDvqwHE2/MWgNpSSNeYJNn9+HjiPY9v8kPuXN28Vr1nYVhY6a9eQNXkl1pZI4VOx/24W6VNXevPVN3a2zEsla5W17Vp2f7I+6NwC0HKI9bHSK477Z6x9q2cdbfcbd9Mx7/0mXPLELCfivNfMmUzW67461cFiZs1rzxfxhNcrVvkZz3lSsb+ZRWrAvf3lqenkVjray+kY14J6up71r1RiD6xztNFieDSn/YGcP+QnPgX9MBICi7KhBsy67djsUWcKdU1P19luVq2trZ7e9Hdq81RP4v0lnrpz5zznAv/+1v6bQ8WjPYkFtZ5zra2e1tZTnq2zEj2PrKnz/bvV09ra5NmRl+hJzNvhaYrruIc8JYmJnic+aAr6/ELtC57ExJWeugsRtrvQ4CmZnOgZnfOyZ0dtrWdH8ROefzY959n6pwsxj3nhL4c8dXV1npr3VnqeME/1rNx7qnNp9eUOzxOJiZ6Sjzt+1/TBE57E0U97dvwlIF3fm+VJHF3iaWht9bS2nvPUFoz2jP5NnedC23bedJz1XoRwfFziSUyc5Xn7TwFx+LjE80jiaM/LdRcCfvOw5+W6cwHbNnje+mmi55HiQ0HH2vHr0Z7RIefw4X8J+U1eomd08SFPa2ur59zeFzyjR6/01AXkg1ObZ3kSZ231nGpt9bSeq/W8kJjoWbm/Pe0v7F/pGZ34tKemqT0cUzcHxO/kVs+sxNGekk/Dp/G5D5/rkI7eOD/ieeuzkLzmC2e0/BWaBltnJXpGr/GfgwbPW5MTPbMCw/e3Os/K0e3pe/y9pz1TF+7wxre11dPaesFTuywx4FrwhiX4vB73vD090ZMYlHYXPHVrRke5PmKnVczz8bc6z8vTp3pK6gKuhT+97Zma+HB72oXLLxfqPC+PTvQ8sT0wHQ55Xv6p//r0xfHXgengS8s3GiKkf4OnZHSi54W954I+D3edePPMLM/Wkz0dz/Z9tpctIef75FbPrAjXtD8sweXRBU/db0Z7En9d4zuP4csx/28PFT/iSZxc4jn0tzjj1oW/C/tXekaPfsFT+9d4fu8Nb3Ce917HwWHwnt+2ayyeNG9t8tS0lTFhypePSzyJiU94dnwZmBeC0+L4pqmexMTRwWVK3cue0QHbHSoOc5/5uMSTmFjiOdTavX2H/jV98ETAfuMowz8u8SQmPuIp+Tj0GP4y0X9feKHt362trZ5THzwdEg7veQrKl3Hsu0P+jas8jZCmQX/HPVufnup5bnvHfNN+jYcpc31ly9O7wl0frZ7Wz97yPBwSp9a/7PA8PXp0236Dz4Hv78sdnifiSq/o98/49u0t/8Jf4/GWE7HvNd58EZxnL9S/7Hk49JqJEd7YZUzs89R2XfwlUli6UJ+JlHZ/qvPWyzY+53lk9NTgvBCQ/pHvNZH/wqZXUBnRw3W2m/Svl/UU+eYTOYvJTkkhJeCv0Op/fubCeVhhrN7bZeuuLaXAkUN+njGgm1GFyzDMMCjORQcSuDsdLBYrrsvAZTeOD1eSnbsZpo1FH6n75qKK5gd3c9vXDWx/p5z1W+0kZGaSMSh2f49jz+uU/q6U19eWY08w8TNjD4+/T7mPMQGTARMGjQJFQXEDio3dW2GGOXBcbALGCWOxWhuiPKkchX5Q+780IzOYaVao+izwWZGZ8caAXr6jVjY6zMz8uSHoWBOzMlG2WrG7AcVBvXUYGebg30xYspO1pgRUFGx7N8O0BzEGdH0nGB9krPUADWcBjYbbdWBvsOO+7Atf6mIOnliLWQegRauDk4cb2p+uDcik7MTBiPPFbLXb0U2bETSp0htnO9WHHOE2imp8anD8TJPNKDvs3idtR61sbDAzaVxAPuhjYPwkhdJPvMdKenQtm9b4hl36lqtNuMcMLRcIfGBoGBa4kEAS+hTgscC005D0QwPsOROhlyxWWsVxPvoYyX97E3lGDaDidrtx35nASI6hBj3dDMkvX9ipUmYw5b7gdJj7WgUzAoZwGUxjAnp9EkgaCcpXSvin1G4FRQHd98L0PodcJ5rUB5mhs1J/TOnheI4iKWB+geaeUZgxMyk1IJ4DkhgFHGsKfwVq+tyODjv2tqeUGoyLDnLiFXPMcs71YQHztybwWrF/AYQ44tZZTTUULKrmwVW/xtSJoSWjkgPPtZ5R6WCeaOxwfjnR5C2b4kpzHeYFyzHWvs7rq4opVvJ4MTdGT3zKcJIC0iJpqBHI5MHU9q00iUMwYOFMZ9Onp/cddxk+HuPI0GOcwnUO/CMkeCzDV0b69vKj++Kc8xBt3x0C3IPlaRKZazfx0iRvDlHdbtx/T0Bvhub/Ce46CSpzNUkMSYFTfw1/fTnqNnIsfSaZAXGi/0RmPKawuc4efRWxuMRz/+y+mOVEzHuNN1/oQsoGTf8hxLO+QLv4y5ho58n5WRXKtCmMC8w3P5rLqxUzGKqhG/WZjvy96xsrtuMaYcQ4MLTE0NE/GZTzbiJ16HfZFamz3Xx615yitvlEh3kxLcLwubMNHDg4DNOiBMCN/eB2dNO2BV10uJ18atFhnhfvqh46JszJZ+xTBaQNLQDdYDJyp2NIgsGphvBzTppqWPhYJQmvfMAfU7Vtn82/bz7r791HvjF6w8gwbxOb5gEX7RRPy2Lp+8arsGJUMxcuAuec2FCofiyZ4tCfpE/pxP4S6D8UlL9HLh6UxmMoDKP/XSFf9B+Cmb3e8Jx1Uk1/7gupSGnu0vuGGTpwHgRlZxbJJaFHMDMFQGPkycrXUFcsJKUEBhvHk5GVSWbbOPMEMl/ZhnvFs6SNWMDdI82YMqaQMynSHA4Xzp1gKA5trHrjfOyb7heJuv7DQLmECihnTqJgYcG4ZBaE/vAZ//+4sW8oZOnb1ZxksHd1RuUkJD0U+2CdKklipZUS+3wA6qkaitcUU249w90jx5LwnUu4gMwoR/bnF23IOdEOMmL0/iLyxiGNwzYXL9AM8T8gSYFjrSrgvmLxbNOJ8eAa45NUFKusXJhCMYMZOy6DKVmZMeeG0VRDUb4NY/G2gAppfOcwbk01LHxsDe7cMlZHKrs749vRy8+40vwuM/mLdpP23HHyKlZ3cTW822L/pMu6se+/dqcM9zceVVovgnlwTz6QC30Y4NfD5WmLnfLfLGVj9UlIHstgHSgnYFB6HCEMeyyFUw4Fkvt3KCcSBpvBEqFs6ZbY98+uiFVOxL7XePOFIbG7+aJ7ZYz3PPnPizakHqYlyei9I3C0p+ozoJ+5iU0zAdzY38wl6xewszKv44PxpnO4ifee0h09XWe78fWuRpFvPtH0aPOJnEexMIYZgwCcOLaCsSTk4v3iUzbzIGWDwu0hPM3IPDbV5eD+RkWj1cLBItI0+awbFy4sKrb31lD90GqOpAZ8378/w1A42dKJy6VPAkMGQtXVfEedVsdgTDy5ay0ZHR79aDqx2IOK+g3wnci/0PZNAC51/KL1Em3TbzQahgFcjrgXdMlgmr8z7DsCNL4AawZNZHHFRPLdLpyHrGypnE/qphnthdodBnJK/kjOGgXn54ewvLuStLdGsu73azGHNtrQoUsFOtywYsc5bpcv4a8YabU6IIeyQ09iCK0of9sbQdeOhWRZ9JTtPIF/ypr3/QY9EJZQUdMqjvOh2lg/cw3KMxUcLvNPxPW9rykKzT/0I2x+6VZc7ow55b+dt5fZWym/cvHsGg1JDy9m08P5uJuc2PZtYctTqVRm76TiFxHe13bRTmn+ApRntlERFIf4rqm4+I7hmraNitk9/d64MOJOcxcNB+3odFC118Zc40208mCPlOEauAUu9MADnth6sjx1UbUoi49+WMbO4ybfQy/f+8u6HD4td/Yn7KJK6jdRJop2Sw/eS4JELydi32sU78OabjfWeqKM0XD7HURe7Ap6sD4TtFMMk2diLtmI7VQe+tAFegZ1bDxfUVckjjemXjV8znXEyjG9CX2UZSwdDdXtQ9ouulGA74asq+qw10H6KPSdzSm3aNBqtWiaaihYZGfGihwMYe/wTuw7FMyjQioAx+1YMDF2WLjLxY11RTLJJfbgj1vs1O/RkXlvj71tKbbvJzBSZ8XhAq1WG/IXrUoTWll14viP6JOqNXcPxkQd9pBJ8K7DH1Gv8/UgDdIzBgufngwuhBXbFsp3OVDRkTBch/VzF3QIrxYNoH5hoXyDFSeg0SagnzCdl9YswdywGesXgGJjy4Yq7C1AHx1JxonklbxKnlLNR/ZwvQ/eY1psjuBhE6qd+l1g7sJTtPMhlQ+HvQ5Sdeja0ukQzrMd46f1DXdqsFrBNJ7ANTyuyA07ZlrFPh8ct1OqGLhvXODKRCrnYxxaO1jPWBpwnAr8VMXxYTnl1i6+UVyj5bs6OPlVmPPsvhT8BLjFQb0FEvpqr2g8O0/Fuaec8n1OQIO2vx7zzJd4aZEZe4U1woIyKvaylRSTz/J5oUPH4ohbPC46qVoxnwNjKih7qgcXiokmzjR3fVjMmhOZrKtcjrG2gNf39fzkaM13hsFlgvPQ5R5u1IfT5TI8kJY7B+iot4eUcREfTnVHD5anZxs4YIXx95sCVt5SudSt06shYbAJ9tsJHsjnwlZbj87XgxT2oU3c6RX9/tm9ffvFLidi32u8DcQO5yokLLHD2xNljJYk/VhocASXcaqDmg3l3sWaun0tuKiak8ys90PuL5cvcQEt2qBGq0LTCRj23au8XHyPXO83h17UKPLNJ/pJtJexBs8noo+OBD1s3lWNowW4qOD4cCWFrxwLmE/kwlZZTs3x6E89VLcb5ZQdS+VSZj1WyXdXrfW+tMv7LY5d5Wyx+StVOu5OAYvF4j0u4D5ew8rlRdy6MJ+MAeG20aLV6WD/R1h9K+qoZ22ULinENnM1c2MMt+tRGiMP5hrYvqKQquO+Yq/FQc2qLGa944gyTKCK9e/YcavAZQXr2kKKlAym/CTKDW1ABnPnNVO0vLgt3u7jVRSvdZBRkOEdu64x8rMCA5vfXB/0m6KF6zl2qw4NGow/nYvh94UUvu/wzhnyzfvKyi7HoYLmTg2utwtY3/a9ivPwfuyMJ6k/oNOiWgooKrei+IaOuG02bAxjWGK4Rp0G45R8TIHHVBWs64op7Z/P3Ps6/5yovORlao67US+rKLZSil85hjnT5O3FGGBmxrTgdFLP2ij95f0srfX2PA4aMQxqP8La5MbtVnDWFrO0pL5jpay7YqZV7PPBwCSmYGHvfgeK2427yc6WFUspBy5Fu9EPMJMz7STr36ryXVsqinU9hfkfof4/XX02l4RhEti+DNMoOlhM4e9suC7ivQZKStmuz+fBFM2VjWenadBpXGxctr79mr3opOGgHcYlhe0Jc31YwPw372T5i9NJUN3euTdu71y0uOKGEqPsdFGzIpsC95Msz9GDO/AYvjH3ipWiOUVYe3LQezxp3lRD8WobD/5qLoZBZvIXGdi8bD22Hl6pKemH49BZKqm2ea9rd5OV4pdLe/Yg4XS5DA/aSXAeUEFtcVBVsoZwnc+fHnd2o8HUg+XpXYMYpffNAXa7cStOLCVLKT5It3o3Eh6aS45SROFaX7l32Y3j/WKKHRksmeydZaUdrMdEFZt3OVEvg6p0Jr2i3z87s2/7MUfb3NlgcZQTMe81Ggw/zffmi10ub14Kky9ihzeeMia2hAk5zDixvv3eripY1xWywKKiu5P4roWzNrZsqMER9vpPwJhhor6kOGj7qnXF1JsyMAY9pHfxxR4YM8RfS/XW86oarsBqdIF65Hq/OfSeRpF/PlFKlOEX/vlEI/xVAD3TV+Qz9nAhk8ckkzzhWXYrt6NDh3mkb37O0WoWrvqIM1ELczvl6Sk8vvh1rO6x/HrnNl4MXJ5RsbLxuY182rZEpI4JC19jinO997jJyaQ/tx9d7p72YSwdtgHDnDKWD6wld9wIkpOTGTFzI4q5jA+WXf1hHfrZZez8JZTPSyE5OZnkMblsv2UmLz4WbfjLg4y9ZSOPjEgmeWgquXu1LP7t8jBDzwJpMC7cxroUByt98U6ZV85tCytYHdClrp9dxjazM+A31egKKlid7rtZDs2hbMeTUJFLytBkkoemkLvtVmaumO4bGmfi+Q2B348guwzmvvu8730CenKKyzD8aSWpI5JJTh5ByrJPMRS/yvRIb7QfkMnawGOOSGXln8ZT8bu8Ls1PmPGInvrn0hkxdASp2VWwaBurH/ZXBrSYlgWn04hxSzmW8irPT/DmDv20l7z5574UUlJSeaKmH9Pnm8FyNPzSrF0WR1rFPB9m8t7K4cK6yaSmpJDy2OucScsnTwcNzmg9PlpMiypY0rea3DHeY6f+xsmD75aRN7yrDw406FNmoOyx0WE6t3kuD/59I7NGJpM8ZjJrDut57c289h7iKxbPztOmPU9Z4DU7Mpv1l+eybZE5TPmh0GCpRsFK4aPBi9akLKv1zsyKFbcYS3JztoG9OxXYV8jkMSHHSCmg9ixw+QKugy4u9GQDMWaau6gpWYMtdTl5vvlNCZMWs1pfzsJ1th6tQGiMU1g9+zY2Z6cwYugIUmZvp595Rg8eIbKuleEhhuaw9q0MzpVMJmVEMiMmvsxJfSbmoB8ZMC0bi2N5OslDS7FH2FVMPVae6pm+Zjn9a3NJS0khJfUJdn9vOk+mg+XPrq6f3z5GFr+/rr3cG5pCbsVt5Feubp+LNyCD/GUGGp5LZ8TQZEZM7kx6xbh/xrVvHeMencFtG3JJGTqfmjCLcsQuJ2LfazTD87z54pU0RiQnkxwuX8QT3lhlTDzuMPF85RJ0NQH55ssH2fa79rk+sa6F6EtyQ8KjaztsX375SXauzQx+4HTcTh05jE/xB96JbV0RxdaeXSwjnB653m8C32ptbfVc60Bc/1TcbtBqNajWlYwouJ2Kfflcjc4X1e1G/ba/2zlOF924/665Tro9VdxuFc13tGiiTfpuKCX5Mdh2Ig+Df5vODLMBuKy2zdmKvF3sfcdM81jpq7pxq51L/y6d52j70miJePhY6XTRjZueCUtMcaRV9LTpYl4BXzrQM9eJaqc0ayWseC+gB7hzx7pi8eyCmHmoK/vrofwdpKGU1KcusfaKlMdXN82jB6XzZUoPHjy+MjyefWi1aI6WkvroMZbUrWNi4AOvi27ct/RMnuup/Ka63dCteEcQ6x4ST9kUmF6duX/Gs2/Vjfty7PTr9r0mMKxna5g/bi8PheaLOMvpHjnnMe993b8WIqeZim1tGi9/t4wP4l7E60roiev9xtV7eoo6TcX5fhHFB73dvVqtBvXLGgoKPiKjYMpVaRABaLRduMj7XE/jQH3zqDp1cWk6N+/A75Z4tov9m5hpHit9NZ1P/y6d52j7inb4WOnU5yo1iCCutIqeNl3MK+BLhx66TjQGpv/KwOY3q8MvQx7Hsa5YPLsgZh7qyv56PE+5sf5+M/pnrlR5fHXTPKoulCk9ePAulOE+TTUUrbbguuzbx2UXNRWbUUzjGRk6AqBPz+W5nspvmq7GO5ZY95B4yqaI6RUj38azb0186dfte00811ic5XSPnPOY975uXAv+PURKsy+r2bgjg+enXcsGEfREHG9kvWv1uU7RoLn9AjVzUqhKHstgTlLfMpicggryw6x0IoTo3bRpz7PueDYL30yi4motCtCraTGtOIipl968bwh3DGXw/zxN1tCXSUi9k3MH7Vwy5lC2JrMTKzYKcZNrsVH87HZGvVkR/PoXcdXJ8LlYVDeuUw7cWj1Jd/Xe1vMV15NDmYS4Ztw4P3Gh+5G+Vy1jKkRUFxWcJ1zQX0+STsr4HndT3D+vo+GqV1uLA1tLEsZBvS7m1x1pFAkhhBBCCCF6NZlTJIQQQgghhOjVpFEkhBBCCCGE6NWkUSSEEEIIIYTo1aRRJIQQQgghhOjVpFEkhBBCCCGE6NWkUSSEEEIIIYTo1eTlrUIIIa4iN9YV6eSqyzm8xtzl9zm5j1uo2rabjw7aufCDweguXeJO82KWz0nC8XoulpQKXjR1470fx8vJmlTFg7v+lZyhYY6/r4inK4+jnKjnpAJ3jxxLwnd8X37jor5lEDOyn+TXMw2dj6OqYPtwI9U76zjw1e0MToBL3zYwc0k+E6imYI3Kk2XTSfL+GFvJE5R+onDSdhIFHYONg9G1vVPvEq6Dds4AmF9j37qJXX9x6hVKE8e7ubxscfvCGRx+5UQ95+/IYMYzT5IzIemGe4dNp/LpqSoWrqrG5arH3ggMNDA24bb2nSknqT+hAJD37gnyf+Q7RpR0v+Sqx46p63lRiF5EGkVCdJLy4XxSLQ9xsGQiOsD9SQ11fcYxcWjk203oNkL0VmrDFl7fqoC5FTd0vpLmdlK15gkK6hLIKXiesiV6vO+sdON8t4D0cXYUxcDqx7tTfVaoeasIO2C8GP4X2rTFbEpzUD55MkWKmfzfrmPiXf5vVewlj5O1Kgu7exvvPWWIuzKvWIt5tqAUV8piXlrzAS/11/i/oCg3jTWKgvJoBWvbttBgfGYTxqYa5t+3AIt+Lq9W5KAP3OlFO6Wzsyge0r/rDaIrmCb6qWVsetRG0YhsysnkxbfzMbY16tw43y8k+6l0LE9t471n4k/LnmenNDkL3j9B3sgYP+1KPh2Uydq3M5JKNSMAABleSURBVLGXJJP1JkxZVMZLE4KvENeHC8nKVxlyV/tn3nR3UTUnjQLFTF7xOjL7t3+vWIuZn5tFyuHX2FfSjUaxEDc5GT4nRLco2LYtYME2O+4e3rO7oYryHT2/365xYd1QjvXLG23f4vriYMvqYo4BWM6gdHbzFhvF89IpcJpY9/4mFj/sr2gCaEmaOpcZKKAbRlL/aDuKzr2vlDV7vP/vPBsllIqLYw5AP4pBdwV+ocFgMgNwrMSGI66jqjjfX8jk3Cpuzd3JByU5GPsHVJh1JubmGlAUMP8wqePWp49iAfhREh2+7WPA9NNhDPtO15sTVzxNTjk4BPDzYehvCfxCS9Jjy1n+czj25utU3wjlRLfyqQtnA8BY9EkdHxkk/PPPeJDvcmufkC/cThwHAf0o9CH71JnyWb5oGOxZwOaDag9EUIibkzSKhOgWHeY1RziywtTjwxLUpgMUWZu4Pm5hCo5XinB8faPtW1xPlA/XU52YgQmAS53c2kH5L7IpbTCwuPBFzGEbPQncnQI8pA/uKekM1c6W3zZjnOzr0/17lCvwy2NUQ9iGiPrNee//pN8dV++we9/LZL9QDdOWs3q2Pmx5ous/DBjL2KEd9+g8Wg2AeVjAEDPVjXrZ+7/aPlr667pYSl2FNFFOfcoxYOz/SgoTdy16oxmo56PDri5F4erpZj5VHNQfBBhJ0sD2j1W3L801Gm7lTnR3hGx3ysFHEL5RDOgN4wAot9k7GyEheg0ZPiduYG5ctjqsR5tRNf0wPDQRQ9CdVkVpqMVyuBkVLUlmM6YB7bdb9awD+zkdhqHg2GvB/pWKdogZsykh+Kas2KnZa6dZ9e4j+Iajohy34+yjxzhIG+c2Pi1OrPutOL8GzQ8MmB8yeMfRqwoOuxPXyQvg/gK7zUZCogH9Xb6qzmUFuz+8A42Y0vQB8wfCU45bsB504db0Q28ahzE0HU5r0BsDKiOqgsOuoDPo0TTZcDQ7cQEct2G7pPP+tsWJ7c+gH63FGSH9urzvcJG4rODYZ8XW6IbvJWD8ZzP60JqV24X1DxacX2voN9zEOGPIuQxNuzE6FIc3LDoNuE/ZcFxMwjBc116x9MczJFxKQ403b3UIixunzQH3GNFdsGKxOHGHzZ8B5yVM/owrPm4Xtn+z4vhKRfMDPaZ/NpIQtd4b3zWh/76Lur12Lo3IJHOk93v3l+1xCc1DcWmxUvp6P/K2ZuDcWY0VJ01nwXBX7E3B26AqagDdvHymh5nPEmiKsetDrBzvFnFg4nLW/mA91TstWFwKRBhw5DhSB4Q0RABwY60pB3TMmDgm9nAl1c6W325GwcTqHHP0RpTehGFQ6IcuHDYF0DFsUPvR7BvSqR6+jxdNGhSlnqQfdW3g1JVPExXnMQugwzg0bGmJxldbsZ6JfOwgkcpX33fea1qH22rB8oW74298YXYFfR/7sN3Np+qJT72NyvQhJPnDcraGhUvOk//2dJJazuEyd2xUuk7YUADzKH34vH+Lb27SX87hIq4UFKLXkZ4icYNyUbMonbRlezkDnHfu4tnULFZalYDv05j8wn7vBOOvD7DygXQWftj+lNH9yXqy1xZRMGcWm4+p8PWnlOamkftO+8AO9Wg5syZnUVzn4jxnsLzwCAs3NQWEw82hsmyy9zg7sQ2oDaVkjXmCzZ+fB87j2Daf1Kml2C8CqgvHUQfHmtzQ4uLYUQeOs76nhE1WVk5N5VnLGeA89src9u0ipJNlyf2k/mo7jm+Ar/ay9IF0ct9xtPVAuT9ZT3a2BWfgZi2HWJ+9nkMt4D7twHHUSTPQ/GcHjqMu75C+RgvZ2QXktqXfMcoL0khfVIOru/sOpToonzOZ3Eo754Hmg6+Tm5pFaUP7E2v1eDm56VmU288DZ9i7LDgsXLRTOmcyWa/X0wycOVjMrHnzWeoLC4BzTzbZZYeCw9BoCYmDC+uqLFKf8+U9+5aQsDixZGdTvGYhj6+ycobzOGvXkDV5JdaWttBifzOL1HlbsH8DfF3Py1PTya1sPy8x43PWwtKfp7HUlxecO5eSlr6QmuCsFiDOa+KF+eROfpbKfVZOfq0CKo53ckmfWu4Nqy8PBW4Xm4p96+s05+Vg1mnQ+B+PX453ewfVZRZgGDN+aozS4NExYdVhnh/XxR6RszWs32kk/zE92n/o5/3s75F+rOByHCO0IQLg2lVI4e91mArK+PWE2P1E7roqih3Az6dgGhDlhyNyOFwxvWPvgn/oFOPbexcu2vhoq4FRg72pZXjqBPnGmEHp6KqkiRP7LoAH0SdH2LPL28Ohi+NRbtTyFXzXdDGFix6ncP8Z+MaJZXUWk1dZA659BcuSR0grKOfY16Ae28jjU4s4EPXI3c+nzi8OATBsxKC2ho+rbhf2kXrvw7W7JrJuXWZIo0bBcbieSL2IAMpXJ73/cws33GIVQlwt0lMkbkiuHYUsOJHJtl35GPoA5DDFMJ+0gioyDuahP7id7coM1r6fh9H3venuWaSXWZj7cMAk5BNw3/v/ysT+3t+YB+eSttaKY7YePS6qS4o4OamMPYt8w+PmzcCyYjLzW8KFCohrGyfVlTYG/8smXprku7VNG4VmZC7VtukY0gxkzjOgfPgppep9zJjnX5zBjbWsgI9SKti3yHfDnTcFQ24a6/dmUPZox2d/7tpS5teN5LX317bFcbq5lOzHCtkyZlvYFaRCJaTlkJNmR31lM0zOISdogrGWn63YxnTfk+vp5sFkP7aG7Y9OIN8Y+9Ybfd8B8ThYRZEtg4oji/Hudjrjv59G9lYrmSPN6HCwZXkRPLOPTY950yFn2niKJixku80bFtfe9RQ7M6ioXdyWJ578pJjHpzrDHzQC975yCvYagvYzZUQuaW9Wk1HWXllRBs7gg1d8T4JnjuXOtGx22/IwpetQbeuZX6Ljtf3rfOcFpt9fzONT11M7YR0T74odH8feUrYnrGZfie+Y86agz01jTc1cJv6i4+AxNd5rwqFjyv5t7RO1j5dTuBry/7CJzAHe7aanFpG2aDu2B/KJ4zTD8S0UWTNY/m4CoNBvIOCwcEYB4pn7c9xGtQPQjcMYI89qtNouVvrcWN8qpt9T72HUAt/zVS5PNaFg6Nh7ozr5dCfAdzlmKaf8MMB5XIdqsDGRJbv2RF18JfC49oPbATAb9dF7iW7RoA23S//QKQ7w+jOz2HKLd9W2k7rF7OzG3KqrliZfOrApgFlPUuhcGQAUTjm8D7wMibH6OGKVr/7jKwye9gF5I725ZfqYO0nL3o3tKRNmHai2zRT+fhDL95b5yrccco6XkzUpyvCzbudThVP2YwAc21bIrIO3eVftazjDlDfXdvh1m7Z0Dx5yF8h1ygaALrm/LPYjRATSKBI3IAWHzcqwyf4GkVfCQ8vZ+X0FnQqa1Hw2pfq+UN24VdD9vyPBoQbP0Um5jzEBlYaEQaNAUVDcgOqg3qpjxlOB84V0GEYb8M5oDhe0eLZJInPtJjLbgudGJQG9GQ78T5Sx+oqN3VthxvuBTyATME4YS4G1AeXRhJCbnYKtdju6advaKt4AmpEZzDQXs/GQg5yhXZ554TMKfcBQHv++13zmJN/Y3X0H7LfP7eiwYbe7MRq1gAbjooOc8P/gqJWNDWaW/DagwtTHwPhJCtmfOMg3JuCwWdFNe9LXIPDtt/8Q+tOZRpGCbe9mmLYtaD8JxgcZ+8IBGs5mkuAbDjY+NWBojCaJISlQ91fvECfnZ1Uo01YzLvC8/Ggur1Y4vI9xY8bHgFZ7J5yop+HLDBIGaIAEMstOtOWrDmkY7zWR/hCmgHA56jZiT1/CuoAeDE3KeDKUbOzH8zHGWoULhZq3qjE+/55vAr2G233zIS7F2VOknD7mXZxh3LD2IUU9TG3Ywust+bzh78XQaBgGHLtM+Hl9bQsD/JrViwKWFp85hZplWSyY56B5wzpyhsZqorlw1AIMY1Ry1wY1+YdODVtUxgfzvNeds3IW6c3dmFvF1UsT90kH9cCwkfrww7rcDj7dA2DmoZGxqvTxlq/jMY5sD4cmcQgG6nCdA3R4r9H0JZgDhyoONTA+ypG7nU9VJ0f3AExh3fsvYb4DcFtZmbIdvT5KAzviIhV+Duy13rIn02joQsCE6B2kUSRuQC6cO6G/KeTmqNGhN/o/U3F+WEzR6+VYG+/GkJrAbd+4IGKVMVAzFy4Cl1tRMXB3nHMeAGiNc5sWO+W/WcrG6pOQPJbBOlBOwKD0KNv81YkNherHkikO/S59SpgNvOlkKA6tZiTQfygc++ZKLOHg3bcSbSJ2F2iMT1JRrLJyYQrFDGbsuAymZGUy0VdBUs6cRMHCgnHJLAjd+BkAldaL8TxljkXBeRCUnVkkl4R+ZybcWQjkTXPfU+9kbcjcKS1JRu/4JsUWKz6Q8Ohatn1dwLMPjGDBQAPm1J8xJSej47ykNl25JhRcTgX2LCB1T4eQkB8jvuBftayZ77Y8QYOvwnbJN/LOu4pZHM+t/48vP92li7qgiWNDFruHVrA4tbN9Rb5V8VoMLJ3j7bXhskIztK2SF5pzXCe8CwOYR4csiqBJYGJWJgt2llL0SjXmt0OHOoVS8S7D159+0SLXYmHpIjd5ZZGGTsG44e1NIPXiSab8L9+/z9Yw/5fNPLkzpxONpKuXJs7j3n4uw5Dw84nUI/VsBnTTfhb0ECuirpSvABxD9WU19ZICne1V6W4+/cLunU9kNqD3L6SgqpxvW1FOxf7m41Qlbwpaqjv6IhXAlw6sDmDkXB6M+RBDiN5LGkXiBuSbkxCl4q3a1pO9WiH/ncOUDfHdJhpKSX6sE4e5BeACl1p7ehsXVYuy+OiHZew8bvJN7FWoeSaVvdE20+oYjIknd60lo0PFQBPmZqhDl0qYdFJRvwG+02GDHnCl9q0h6eHFbHo4H3eTE9u+LWx5KpXK7J1U/EKPVqsDcig79CSG0Cel39YCivfcdLuxpkWXDKb5O1n7cMeqriauqSy+npKI8zKIIz7esBjmreOPc1SURjuH9mxm5QPrGVmyk7XpHatyXbsmtGjvBOaVcfiXHZ8wa2KdZ9+qZUv2HwzqrXS88wiTVx+L+3zoBo1iGBaOud2oRJgT0WKlyjKezDmdHzynfLie6tRtHAl8B47bysqUXDaHXSXPjdPunTsyamjHfKBe8sWrxR3HkvpJ6KcBWxXOR0kOx66N8Oi6jg2stqFTUxh2T/vH+pl7eNGXIR01G1GnvdGpXqOrlyb+Xgwzo+4Jd+5cVL9TDroMluTGWITC9/sula+hvg18o0bOb2F0N5+6HL4ev8AeM52J5RW+93m1WKnaOoaM2sCCxo3jP6MtUqFie6+YegzkP58ZoSdJCAGy0IK4ISWh/wlYPncGD+E4a2PLhhocF8HxSSlKyn2YhrTfPNqWg43XHXeSpKvH/ufgW7gapTIb1zZnGzhghfH3mwJWOlK5FKv29P0ERuqsOFyg1WpD/sLdfnUkDNdhsTmCKyGqnfpdYPb1mmj+oR8dlkeOewJ8aOXIieM/wPQDXQ/s20/Fuaec8n1OQIO2vx7zzJd4aZEZe4UVJ6C5ezAmDuE8G5ouWrR9ALTc2Z+OaRESFs13hkHo0KDLgeH3pqn1cxd0OAfxzmXRkqQfCw2O4IF7qoOaDeVYm+KJj4Lt3XKqGtxwiwbdICMTn1rHq08pVO+3h33/T9euCQ0Jg03wH05c4eIbo4LlXbXsyaAGEYBO5/3AcjrONxUNNZIxEqi0Ygu7qIiLmjXl6J6f3vlKn39VvGkhK4Fptb4KuJOmDotXOH1D3saFWRjAja3Wuzy2aZo5joaIFsO4GeiwYzkUfiin2lDKy46Z5JnDNAn8Q6cCexcA+vjOT1MNG9/WM+W+TvSSXs00OXuKTx1A6liGduhhV7G/uZACq4H83y7vkI/C6mr5GkL3AxP8h6PD4NqoC8l3K5+6cTo69viBxle+q9i3bsSR/bOgobvt6R5+kQrXhwUs3AAZ/7KWvB/19IsjhLi5SKNI3IA0GDMWY6hcz3qr4q3Atjioem0h60/ciq4PJCVPgT17sRxXcLvduBq2sHJFOZ16N4rGyIO5BravKKTquBv1sor7eBXFr0SaUBTnNncNYpQeLBYrLrcbt+LEUrKU4oN0fHJ++CgON97Ke8i+8cW7ZlUWswJWkwtKpyn5mH5fSOH7DtyXAVXBuq6Y0v75zL3PW73RDtZjoorNu5yol0FVHFSVrAk7berT486QhkQV69+x41aBywrWtYUUKRlM+UlCD+y7PR46jYuNy9a3x/uik4aDdhiX5H2iOsDMjGnNFC0vxupbqU89a6P0l/eztNYNaDD8NB/D7wsp3OVqzzMhYUn64Th0lkqqbb5z12Sl+OXS4DT96VzvfvxpetmN48OVZGWX44izIyphQg4zTqxnfdB5KWSBRUV3Zzzx0aFVP6Jg9cb271ts2A7CsOTQuWW+uHXxmki4bwYzlCIK11pRVAAVxVZK7oSlWCIuOALuT0opXK1jSnqUZkFAflf2FTFrtTXCC131TC9cjkm3mdxnyrEHHFc9a6P0mUK+ePjVDpU+R+UsZlVGeXXqZRc1awrY/JCZcO0N3xE6ptBxOxaFjnM4LivYfreQgq0KhpnrWP5zX0NEsVI0pwhrhDagNi2P1TMN1C9/lpV7XO3Xsi9vzd+m48UXJpIQpsHnH7IWbj6O+0sLxfkLsE3KwD/aOHo6c/XSxL8np++ls8ND3q/T4qBm9RPM36olv2Jd8LmNlp6dKV+jCMz3rovARRfWtUWURt2qa/nUy8mnWyG0xw/wvkqgsoD5JVqmh15PXzrDL1KhKtg2zGdWvosHiytYPik43V0Ht7Blnyv83DAheikZPiduTENzKHsXChanMiIXQMfY2Uuo+LVveMWEPMpmL6VgUiqFgM6Yw/L5eRx4rgHnl2CItuxtAP3stZT911IKJqVQAOiMeeTPMVN9pDvb6Jm+Zjmf/iqXtA0Ad2Ne9jxPptdT+GcXKgloAN1PpjCjTy65KeWYiw+y7mEd+tll7LylkGfnpVCgtMf7xccivJtiQCZrd6gULs4l5QVvDeJuUz4Vv8trX6RiQAb5yw7w9HPpjHgO0I0lJzcT887AZ6QGTMvGsnl5OsnL89l2Ig/vYKoHGXvLRh4ZYfEu8zzQxOLfLsd8V0/su5027XnKmgqC4j04Yy7blvgnc2sxLdvGurWFrBw3whsW7sa86FVW+8bea4bnsfat8yxdlhYxLBrjFFbPbqAgO8U7b2ugmeVZM6AhIDBDcyjboQlKU50xhyUrpqOPd5zNHSaer1xC8YqA85K+mG2/y/HtI3Z89LPXUtYc/L1p3mu8Oi18I0Tb1WviDhMvvr+OohUrSR3hPRIDzSwuWu2dCB7qiyrmLy3F0uD9rX32SnTvv4jpDuCijeKnSqk94X0izu8W8tPP9ExfUob5f1zU//VCxCTTDJ1OWY2BqrL1vD5zIycZjCHxTvqNfJDMFWXBvSQ+qrue+rDVPjfWtU/z8v/f3v2ERBGGcRz/RYFRUAhtJ0/d8pTQIQjcEIqoiC4hRNEf6GBpFnvoHxF10C5ikCVRhET/tBLCIOkgrBAWBHqIOmSHYA7BBMEryo4kddjRVtudeWdddWu+n/PMO8/7zM4wz84779s7pFFXklKqX39H3Yf8SQp6U7r6ZETZKNO6cKRefdtP6MYuR01tr5VxhrIf1A9eV9PRh36bGTmOVLV5m873tGj7ppy1rqbG5LxxNFbwLWlCyUv3NVD7UJ1dKe1q/q51dRuVSFRp2+4GdbQm/rq+v/Q06uqrMbl+LmdmK5uOxhnS8FdJqtG5KzmTsxTM8+LmxKTb1dQ1MhO/+tt1+IMf/7grd2WNavc1qPv0FlXNnZEuMJ9299dQlUmdvXtZqVPHVXc7287+a8d0UMGLn0b+nZq02pvvaWTc8XP7ZwbBbF9djb4dlSspcaDjz5Ttn5+psaVPrjOUjWj4ni4e7ZvZx81s0JYde3XjXVLVlXN77Orjy1u6MrZWyboq1iwCfMsmJyd/LXUQwHx4xsirWKO8I8g8I+NVFBheFukg0dux2MczRlodNAzJkzHK04YnYzxVBO7797G8FdPDr/KY8mTG8x0rx4SRWe7n2v8eJVvE+PEUGkIWte2wfhQ63zPHCoglN9ZvL9VY26+dgx3akzt0x/J8h+bUxoSRUdh5seiP7W9hPtfEhJH5WYLrKY/hm1vVmGnTQCpofZcost+RvEgO5J2uflGNdGrryYzaBiynMF9Apc/zErDMZ/j91U6p2gFQ3nhThH9e4LokQQ/P0Q4SvR2LfSryLjoya4v865Io+oNp6PothdZAybVq7oxplvHMq+05R7LqR9AWFrmzPN/Fr4mTI6zfpejPrM3ncU1YnqPIfqT17FG1zjwu4YP6pz49fX9MDa1L/T+4Ufr5A1U3dy95QbQgeV509vkMv7/aKVU7AMobb4oAFGfWm6J/VKE3RVh8U/JnbyzzNotRLnFI5RVLsf6HPgAoOxRFAIpjMySu7IUM+wMAALFAUQQAAAAg1piSGwAAAECsURQBAAAAiDWKIgAAAACxRlEEAAAAINYoigAAAADEGkURAAAAgFijKAIAAAAQaxRFAAAAAGKNoggAAABArFEUAQAAAIg1iiIAAAAAsUZRBAAAACDWfgPK2Oqzl9grhAAAAABJRU5ErkJggg==)"
      ],
      "metadata": {
        "id": "nEKVXVSG9dm9"
      }
    },
    {
      "cell_type": "markdown",
      "source": [
        "### Summary\n",
        "\n",
        "- Sequence searching strategies include greedy search, exhaustive search, and beam search.\n",
        "\n",
        "- Beam search provides a tradeoff between accuracy versus computational cost via its flexible choice of the beam size."
      ],
      "metadata": {
        "id": "CO6kHZ3C8fkD"
      }
    },
    {
      "cell_type": "code",
      "source": [
        ""
      ],
      "metadata": {
        "id": "YsSSiMel8WbH"
      },
      "execution_count": null,
      "outputs": []
    }
  ]
}